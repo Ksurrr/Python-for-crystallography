{
 "cells": [
  {
   "cell_type": "markdown",
   "metadata": {},
   "source": [
    "# Занятие 1. Введение в Python\n",
    "\n",
    "# Содержание\n",
    "\n",
    "- [Особенности Python](#Особенности-Python)\n",
    "- [Простейшие вычисления в Python](#Простейшие-вычисления-в-Python)\n",
    "    - [Модуль math](#Модуль-math)\n",
    "    - [Задача 1](#Задача-1)\n",
    "    - [Имена переменных](#Имена-переменных)\n",
    "    - [Типы переменных](#Типы-переменных)\n",
    "    - [Списки](#Списки)\n",
    "- [Векторы и матрицы в библиотеке NumPy](#Векторы-и-матрицы-в-библиотеке-NumPy)\n",
    "    - [Заполнение массивов np.array](#Заполнение-массивов-np.array)\n",
    "    - [Обращение к элементам массива](#Обращение-к-элементам-массива)\n",
    "    - [Поэлементные операции с векторами и матрицами](#Поэлементные-операции-с-векторами-и-матрицами)\n",
    "    - [Константы](#Константы)\n",
    "    - [Скалярное произведение векторов](#Скалярное-произведение-векторов)\n",
    "    - [Векторное произведение](#Векторное-произведение)\n",
    "    - [Задача 2](#Задача-2)\n",
    "- [Библиотека Matplotlib](#Библиотека-Matplotlib)\n",
    "    - [Функции plot и subplot](#Функции-plot-и-subplot)\n",
    "    - [Задача 3](#Задача-3)"
   ]
  },
  {
   "cell_type": "markdown",
   "metadata": {},
   "source": [
    "# Особенности Python\n",
    "\n",
    "Python - интерпертируемый язык программирования. Интерпретатор исполняет код строка за строкой, в отличие от компилируемых языков программирования, таких как C++"
   ]
  },
  {
   "cell_type": "code",
   "execution_count": null,
   "metadata": {},
   "outputs": [
    {
     "name": "stdout",
     "output_type": "stream",
     "text": [
      "5\n",
      "hello\n"
     ]
    },
    {
     "ename": "TypeError",
     "evalue": "unsupported operand type(s) for +: 'int' and 'str'",
     "output_type": "error",
     "traceback": [
      "\u001b[0;31m---------------------------------------------------------------------------\u001b[0m",
      "\u001b[0;31mTypeError\u001b[0m                                 Traceback (most recent call last)",
      "Input \u001b[0;32mIn [1]\u001b[0m, in \u001b[0;36m<cell line: 5>\u001b[0;34m()\u001b[0m\n\u001b[1;32m      3\u001b[0m \u001b[38;5;28mprint\u001b[39m(a)\n\u001b[1;32m      4\u001b[0m \u001b[38;5;28mprint\u001b[39m(b)\n\u001b[0;32m----> 5\u001b[0m \u001b[38;5;28mprint\u001b[39m(\u001b[43ma\u001b[49m\u001b[43m \u001b[49m\u001b[38;5;241;43m+\u001b[39;49m\u001b[43m \u001b[49m\u001b[43mb\u001b[49m)\n",
      "\u001b[0;31mTypeError\u001b[0m: unsupported operand type(s) for +: 'int' and 'str'"
     ]
    }
   ],
   "source": [
    "a = 5\n",
    "b = \"hello\"\n",
    "print(a)\n",
    "print(b)\n",
    "print(a + b)"
   ]
  },
  {
   "cell_type": "markdown",
   "metadata": {},
   "source": [
    "# Простейшие вычисления в Python\n",
    "\n",
    "Jupiter Notebook выводит результат последнего вычисления или переменную в последней строчке:"
   ]
  },
  {
   "cell_type": "markdown",
   "metadata": {},
   "source": [
    "Комментарий"
   ]
  },
  {
   "cell_type": "code",
   "execution_count": 39,
   "metadata": {},
   "outputs": [
    {
     "data": {
      "text/plain": [
       "202"
      ]
     },
     "execution_count": 39,
     "metadata": {},
     "output_type": "execute_result"
    }
   ],
   "source": [
    "2 + 200"
   ]
  },
  {
   "cell_type": "code",
   "execution_count": 6,
   "metadata": {},
   "outputs": [
    {
     "data": {
      "text/plain": [
       "0.75"
      ]
     },
     "execution_count": 6,
     "metadata": {},
     "output_type": "execute_result"
    }
   ],
   "source": [
    "a = 3\n",
    "b = 4\n",
    "c = a / b\n",
    "c  # в Jupiter Notebook такая запись позволяет вывести на экран значение переменной"
   ]
  },
  {
   "cell_type": "markdown",
   "metadata": {},
   "source": [
    "В языке Python над числами можно совершать четыре основные операции **(+, −, \\*, /)**.  Возведение в степень: ******\n",
    "\n",
    "В выражениях можно использовать скобки, они определяют порядок действий."
   ]
  },
  {
   "cell_type": "markdown",
   "metadata": {},
   "source": [
    "Если хотим вывести результат сразу нескольких вычислений, можем использовать функцию print. Комментарии начинаются с символа **#**"
   ]
  },
  {
   "cell_type": "code",
   "execution_count": 161,
   "metadata": {},
   "outputs": [
    {
     "name": "stdout",
     "output_type": "stream",
     "text": [
      "11\n",
      "8\n"
     ]
    }
   ],
   "source": [
    "# Simple calculation\n",
    "c = (2 + 2) * 2\n",
    "print(c + 3)\n",
    "\n",
    "# Exponentiation\n",
    "print(2 ** 3)"
   ]
  },
  {
   "cell_type": "markdown",
   "metadata": {},
   "source": [
    "### Модуль math"
   ]
  },
  {
   "cell_type": "markdown",
   "metadata": {},
   "source": [
    "В Python модулем называется библиотека функций, которую можно подключать к своим программам.\n",
    "\n",
    "Модуль math – обширный функционал для проведения вычислений с вещественными числами (числами с плавающей точкой). Для работы с комплексными числами модуль cmath.\n",
    "\n",
    "Функции модуля math на русском языке: https://pythonworld.ru/moduli/modul-math.html\n",
    "\n",
    "Для использования этих функций в начале программы необходимо подключить модуль, что делается командой **import**:"
   ]
  },
  {
   "cell_type": "code",
   "execution_count": 40,
   "metadata": {},
   "outputs": [
    {
     "name": "stdout",
     "output_type": "stream",
     "text": [
      "3.141592653589793\n",
      "2.718281828459045\n"
     ]
    }
   ],
   "source": [
    "import math\n",
    "\n",
    "print(math.pi)\n",
    "print(math.e)"
   ]
  },
  {
   "cell_type": "code",
   "execution_count": 70,
   "metadata": {},
   "outputs": [
    {
     "name": "stdout",
     "output_type": "stream",
     "text": [
      "sqrt(9) = 3.0\n"
     ]
    }
   ],
   "source": [
    "# Квадратный корень\n",
    "print(\"sqrt(9) =\", math.sqrt(9))"
   ]
  },
  {
   "cell_type": "code",
   "execution_count": 73,
   "metadata": {},
   "outputs": [
    {
     "name": "stdout",
     "output_type": "stream",
     "text": [
      "x =  1.2246467991473532e-16\n",
      "y =  -1.0\n"
     ]
    }
   ],
   "source": [
    "# Тригонометрические функции\n",
    "\n",
    "x = math.sin(math.pi)\n",
    "print(\"x = \", x)\n",
    "y = math.cos(math.pi)\n",
    "print(\"y = \", y)"
   ]
  },
  {
   "cell_type": "code",
   "execution_count": 10,
   "metadata": {},
   "outputs": [
    {
     "name": "stdout",
     "output_type": "stream",
     "text": [
      "x =  1.2246467991473532e-16\n",
      "y =  -1.0\n"
     ]
    }
   ],
   "source": [
    "# Подключаем сразу все функции модуля math\n",
    "\n",
    "from math import *\n",
    "\n",
    "x = sin(pi)\n",
    "print(\"x = \", x)\n",
    "y = cos(pi)\n",
    "print(\"y = \", y)"
   ]
  },
  {
   "cell_type": "markdown",
   "metadata": {},
   "source": [
    "# <font color='green'>Задача 1<font>"
   ]
  },
  {
   "cell_type": "markdown",
   "metadata": {},
   "source": [
    "Напишите программу определяющую площадь круга и длину окружности по заданному радиусу R."
   ]
  },
  {
   "cell_type": "code",
   "execution_count": null,
   "metadata": {
    "tags": []
   },
   "outputs": [],
   "source": [
    "import math\n",
    "\n",
    "R = 554.6\n",
    "S = \n",
    "L ="
   ]
  },
  {
   "cell_type": "markdown",
   "metadata": {},
   "source": [
    "### Имена переменных"
   ]
  },
  {
   "cell_type": "markdown",
   "metadata": {},
   "source": [
    "Имена переменных могут состоять из букв, цифр и подчеркиваний, при этом начинается имя с буквы или подчеркивания. Регистр символов в именах переменных имеет значение. Максимальная длина для имени переменной - 15 символов. \n",
    "\n",
    "Имена не могут совпадать с зарезервированными словами Python. Список зарезервированный слов: \n",
    "\n",
    "**False; True; None; and; with; as; assert; break; class; continue; def; del; elif; else; except; finally; try; for; from; global; if; import; in; is; lambda; nonlocal; not; or; pass; raise; return; while; yield**.\n",
    "\n",
    "Прежде чем использовать переменную, необходимо присвоить ей значение. Присваивание записывается как:"
   ]
  },
  {
   "cell_type": "code",
   "execution_count": 74,
   "metadata": {},
   "outputs": [],
   "source": [
    "X = 4\n",
    "name = \"scan500\""
   ]
  },
  {
   "cell_type": "markdown",
   "metadata": {},
   "source": [
    "### Типы переменных"
   ]
  },
  {
   "cell_type": "markdown",
   "metadata": {},
   "source": [
    "Целые числа в Python представлены типом данных int (сокращение int происходит от слова integer)."
   ]
  },
  {
   "cell_type": "code",
   "execution_count": 82,
   "metadata": {},
   "outputs": [
    {
     "name": "stdout",
     "output_type": "stream",
     "text": [
      "z1 = 4.0\n",
      "z2 = 4\n"
     ]
    }
   ],
   "source": [
    "x, y = 12, 3\n",
    "print(\"z1 =\", x / y)  # обычное деление\n",
    "print(\"z2 =\", x // y)  # целочисленное деление"
   ]
  },
  {
   "cell_type": "markdown",
   "metadata": {},
   "source": [
    "Дробные (вещественные) числа в информатике называют числами с плавающей точкой. Для представления чисел с плавающей точкой в Python используется тип данных float."
   ]
  },
  {
   "cell_type": "code",
   "execution_count": 84,
   "metadata": {},
   "outputs": [
    {
     "name": "stdout",
     "output_type": "stream",
     "text": [
      "pi = 3.141592653589793\n"
     ]
    }
   ],
   "source": [
    "import math\n",
    "\n",
    "print(\"pi =\", math.pi)"
   ]
  },
  {
   "cell_type": "code",
   "execution_count": 36,
   "metadata": {},
   "outputs": [
    {
     "data": {
      "text/plain": [
       "0.30000000000000004"
      ]
     },
     "execution_count": 36,
     "metadata": {},
     "output_type": "execute_result"
    }
   ],
   "source": [
    "0.1 + 0.2"
   ]
  },
  {
   "cell_type": "markdown",
   "metadata": {},
   "source": [
    "Для создания строковой переменной, мы должны заключить необходимый текст в кавычки. В Python можно использовать как одинарные кавычки, так и двойные:"
   ]
  },
  {
   "cell_type": "code",
   "execution_count": 135,
   "metadata": {},
   "outputs": [
    {
     "name": "stdout",
     "output_type": "stream",
     "text": [
      "data_ scan230\n",
      "data_scan230\n"
     ]
    }
   ],
   "source": [
    "root = \"data_\"\n",
    "file = \"scan230\"\n",
    "print(root, file)  # печать через пробел\n",
    "print(root + file)  # сложение строк"
   ]
  },
  {
   "cell_type": "markdown",
   "metadata": {},
   "source": [
    "### Списки"
   ]
  },
  {
   "cell_type": "markdown",
   "metadata": {},
   "source": [
    "Список представляет собой последовательность элементов, пронумерованных от 0."
   ]
  },
  {
   "cell_type": "code",
   "execution_count": 164,
   "metadata": {},
   "outputs": [
    {
     "name": "stdout",
     "output_type": "stream",
     "text": [
      "[2, 4, 6, 8, 10]\n",
      "['Python', 'C#', 'C++', 'Java']\n"
     ]
    }
   ],
   "source": [
    "numbers = [2, 4, 6, 8, 10]\n",
    "languages = [\"Python\", \"C#\", \"C++\", \"Java\"]\n",
    "\n",
    "print(numbers)\n",
    "print(languages)"
   ]
  },
  {
   "cell_type": "markdown",
   "metadata": {},
   "source": [
    "Обращение к элементам списков:"
   ]
  },
  {
   "cell_type": "code",
   "execution_count": 42,
   "metadata": {},
   "outputs": [
    {
     "name": "stdout",
     "output_type": "stream",
     "text": [
      "1\n",
      "2\n",
      "[2, 3, 4]\n",
      "5\n",
      "4\n"
     ]
    }
   ],
   "source": [
    "x = [1, 2, 3, 4, 5]\n",
    "x[0] = x[0]\n",
    "print(x[0])\n",
    "print(x[1])\n",
    "print(x[1:4])  # срез\n",
    "print(x[-1])\n",
    "print(x[-2])"
   ]
  },
  {
   "cell_type": "code",
   "execution_count": null,
   "metadata": {},
   "outputs": [],
   "source": [
    "Мы можем применять операторы + и * для списков:"
   ]
  },
  {
   "cell_type": "code",
   "execution_count": 90,
   "metadata": {},
   "outputs": [
    {
     "name": "stdout",
     "output_type": "stream",
     "text": [
      "[1, 2, 3, 4, 5, 6, 7, 8]\n",
      "[7, 8, 7, 8, 7, 8]\n",
      "[0, 0, 0, 0, 0, 0, 0, 0, 0, 0]\n"
     ]
    }
   ],
   "source": [
    "print([1, 2, 3, 4] + [5, 6, 7, 8])\n",
    "print([7, 8] * 3)\n",
    "print([0] * 10)"
   ]
  },
  {
   "cell_type": "markdown",
   "metadata": {},
   "source": [
    "# Векторы и матрицы в библиотеке NumPy"
   ]
  },
  {
   "cell_type": "markdown",
   "metadata": {},
   "source": [
    "NumPy — библиотека Python, реализующая множество математических операций для работы с векторами, матрицами и массивами. \n",
    "Документация:  https://docs.scipy.org/doc/numpy/"
   ]
  },
  {
   "cell_type": "markdown",
   "metadata": {},
   "source": [
    "Чтобы начать работать с numpy его необходимо импортировать. Для Numpy очень распространено использование \"алиаса\" np, т.е. сокращённой записи под которой импортируется данный пакет:"
   ]
  },
  {
   "cell_type": "code",
   "execution_count": 3,
   "metadata": {},
   "outputs": [],
   "source": [
    "import numpy as np"
   ]
  },
  {
   "cell_type": "markdown",
   "metadata": {},
   "source": [
    "Для создании вектора используется функция **array()**, создающая объект типа ndarray. Чтобы создать вектор-строку\n",
    "пишем:"
   ]
  },
  {
   "cell_type": "code",
   "execution_count": 137,
   "metadata": {},
   "outputs": [
    {
     "name": "stdout",
     "output_type": "stream",
     "text": [
      "[1 0 3]\n"
     ]
    },
    {
     "data": {
      "text/plain": [
       "array([1, 0, 3])"
      ]
     },
     "execution_count": 137,
     "metadata": {},
     "output_type": "execute_result"
    }
   ],
   "source": [
    "D = np.array([1, 0, 3])\n",
    "print(D)\n",
    "D"
   ]
  },
  {
   "cell_type": "markdown",
   "metadata": {},
   "source": [
    "Если объединить несколько векторов в одну общую структуру, то получится матрица. Это означает, что если передать в numpy.array список списков, или любую иную вложенную структуру, то вы получите матрицу. \n",
    "\n",
    "Создадим матрицу и посмотрим на её параметры:"
   ]
  },
  {
   "cell_type": "code",
   "execution_count": 139,
   "metadata": {},
   "outputs": [
    {
     "data": {
      "text/plain": [
       "array([[1, 2, 3],\n",
       "       [4, 5, 6],\n",
       "       [7, 8, 9]])"
      ]
     },
     "execution_count": 139,
     "metadata": {},
     "output_type": "execute_result"
    }
   ],
   "source": [
    "mat = np.array([[1, 2, 3], [4, 5, 6], [7, 8, 9]])\n",
    "mat"
   ]
  },
  {
   "cell_type": "code",
   "execution_count": 140,
   "metadata": {},
   "outputs": [
    {
     "name": "stdout",
     "output_type": "stream",
     "text": [
      "mat = [[1 2 3]\n",
      " [4 5 6]\n",
      " [7 8 9]]\n",
      "mat shape - (3, 3)\n",
      "mat dim - 2\n",
      "mat size - 9\n",
      "mat reshape (1,9) - [[1 2 3 4 5 6 7 8 9]]\n"
     ]
    }
   ],
   "source": [
    "print(\"mat =\", mat)\n",
    "print(\"mat shape -\", mat.shape)\n",
    "print(\"mat dim -\", mat.ndim)\n",
    "print(\"mat size -\", mat.size)\n",
    "print(\"mat reshape (1,9) -\", mat.reshape(1, 9))"
   ]
  },
  {
   "cell_type": "markdown",
   "metadata": {},
   "source": [
    "### Заполнение массивов np.array"
   ]
  },
  {
   "cell_type": "markdown",
   "metadata": {},
   "source": [
    "С помощью функции **arrange** можно заполнять массив последовательными числами:"
   ]
  },
  {
   "cell_type": "code",
   "execution_count": 19,
   "metadata": {},
   "outputs": [
    {
     "data": {
      "text/plain": [
       "array([0, 1, 2, 3, 4])"
      ]
     },
     "execution_count": 19,
     "metadata": {},
     "output_type": "execute_result"
    }
   ],
   "source": [
    "np.arange(5)"
   ]
  },
  {
   "cell_type": "code",
   "execution_count": 141,
   "metadata": {},
   "outputs": [
    {
     "data": {
      "text/plain": [
       "array([2, 3, 4, 5, 6, 7, 8, 9])"
      ]
     },
     "execution_count": 141,
     "metadata": {},
     "output_type": "execute_result"
    }
   ],
   "source": [
    "np.arange(2, 10)"
   ]
  },
  {
   "cell_type": "markdown",
   "metadata": {},
   "source": [
    "Можно задать первое число, последнее и шаг:"
   ]
  },
  {
   "cell_type": "code",
   "execution_count": 20,
   "metadata": {},
   "outputs": [
    {
     "data": {
      "text/plain": [
       "array([0. , 0.4, 0.8, 1.2, 1.6, 2. , 2.4, 2.8])"
      ]
     },
     "execution_count": 20,
     "metadata": {},
     "output_type": "execute_result"
    }
   ],
   "source": [
    "np.arange(0, 3, 0.4)"
   ]
  },
  {
   "cell_type": "markdown",
   "metadata": {},
   "source": [
    "Однако, в таком случае нам неизвестно число элементов маcсива. Чтобы создать массив заданного размера из чисел лежащих в определенном диапазоне, можно воспользоваться функцией **linspace**:"
   ]
  },
  {
   "cell_type": "code",
   "execution_count": 21,
   "metadata": {},
   "outputs": [
    {
     "data": {
      "text/plain": [
       "array([1. , 1.2, 1.4, 1.6, 1.8, 2. ])"
      ]
     },
     "execution_count": 21,
     "metadata": {},
     "output_type": "execute_result"
    }
   ],
   "source": [
    "np.linspace(1, 2, 6)  # 6 чисел от 1 до 2 включительно"
   ]
  },
  {
   "cell_type": "markdown",
   "metadata": {},
   "source": [
    "Функция **zeros()** создает массив из нулей, а функция **ones()** — массив из единиц:"
   ]
  },
  {
   "cell_type": "code",
   "execution_count": 145,
   "metadata": {},
   "outputs": [
    {
     "name": "stdout",
     "output_type": "stream",
     "text": [
      "Zeros vector = [0. 0. 0. 0.]\n",
      "Ones vector = [1. 1. 1. 1.]\n"
     ]
    }
   ],
   "source": [
    "print(\"Zeros vector =\", np.zeros(4))\n",
    "print(\"Ones vector =\", np.ones(4))"
   ]
  },
  {
   "cell_type": "markdown",
   "metadata": {},
   "source": [
    "Для создания массивов со случайными элементами служит модуль **numpy.random**:"
   ]
  },
  {
   "cell_type": "code",
   "execution_count": 27,
   "metadata": {},
   "outputs": [
    {
     "data": {
      "text/plain": [
       "array([[0.4640419 , 0.45933821, 0.08410836],\n",
       "       [0.89114034, 0.55968485, 0.50869641]])"
      ]
     },
     "execution_count": 27,
     "metadata": {},
     "output_type": "execute_result"
    }
   ],
   "source": [
    "np.random.sample((2, 3))"
   ]
  },
  {
   "cell_type": "markdown",
   "metadata": {},
   "source": [
    "С помощью функции **randint** или **random_integers** можно создать массив из целых чисел. Аргументы: low, high, size: от какого, до какого числа (randint не включает в себя это число, а random_integers включает), и size - размеры массива."
   ]
  },
  {
   "cell_type": "code",
   "execution_count": 28,
   "metadata": {},
   "outputs": [
    {
     "data": {
      "text/plain": [
       "array([[1, 2, 2],\n",
       "       [3, 2, 3],\n",
       "       [1, 2, 1]])"
      ]
     },
     "execution_count": 28,
     "metadata": {},
     "output_type": "execute_result"
    }
   ],
   "source": [
    "np.random.randint(1, 4, (3, 3))"
   ]
  },
  {
   "cell_type": "markdown",
   "metadata": {},
   "source": [
    "### Обращение к элементам массива"
   ]
  },
  {
   "cell_type": "markdown",
   "metadata": {},
   "source": [
    "Важно помнить, что элементы отсчитываются по смещению от начала, поэтому первому элементу соответствует 0. Чтобы извлечь элемент вектора, нужно указать его в квадратных скобках:\n"
   ]
  },
  {
   "cell_type": "code",
   "execution_count": 146,
   "metadata": {},
   "outputs": [
    {
     "name": "stdout",
     "output_type": "stream",
     "text": [
      "a = [10 11 12 13 14 15]\n",
      "a[0] = 10\n",
      "a[1] = 11\n",
      "a[-1] = 15\n",
      "a[-2] = 14\n"
     ]
    }
   ],
   "source": [
    "a = np.arange(10, 16)\n",
    "print(\"a =\", a)\n",
    "print(\"a[0] =\", a[0])\n",
    "print(\"a[1] =\", a[1])\n",
    "print(\"a[-1] =\", a[-1])\n",
    "print(\"a[-2] =\", a[-2])"
   ]
  },
  {
   "cell_type": "markdown",
   "metadata": {},
   "source": [
    "Чтобы обратиться к элементу матрицы, нужно указать номер строки и номер столбца. Создадим сначала квадратную матрицу 5 × 5. Чтобы увидеть элемент из пятой строки и третьего столбца, записываем:"
   ]
  },
  {
   "cell_type": "code",
   "execution_count": 14,
   "metadata": {},
   "outputs": [
    {
     "name": "stdout",
     "output_type": "stream",
     "text": [
      "[[1 4 0 1 0]\n",
      " [1 1 3 4 6]\n",
      " [9 4 1 1 2]\n",
      " [3 9 7 1 4]\n",
      " [0 9 4 9 4]]\n"
     ]
    },
    {
     "data": {
      "text/plain": [
       "4"
      ]
     },
     "execution_count": 14,
     "metadata": {},
     "output_type": "execute_result"
    }
   ],
   "source": [
    "import numpy as np\n",
    "\n",
    "M = np.random.randint(0, 10, [5, 5])\n",
    "print(M)\n",
    "M[4, 2]"
   ]
  },
  {
   "cell_type": "markdown",
   "metadata": {},
   "source": [
    "Чтобы обратиться к строке матрицы:"
   ]
  },
  {
   "cell_type": "code",
   "execution_count": 25,
   "metadata": {},
   "outputs": [
    {
     "name": "stdout",
     "output_type": "stream",
     "text": [
      "[7 8 9]\n"
     ]
    }
   ],
   "source": [
    "matrix = np.array([[1, 2, 3], [4, 5, 6], [7, 8, 9]])\n",
    "print(matrix[2])"
   ]
  },
  {
   "cell_type": "markdown",
   "metadata": {},
   "source": [
    "Чтобы обратиться к столбцу матрицы:"
   ]
  },
  {
   "cell_type": "code",
   "execution_count": 26,
   "metadata": {},
   "outputs": [
    {
     "name": "stdout",
     "output_type": "stream",
     "text": [
      "[3 6 9]\n"
     ]
    }
   ],
   "source": [
    "print(matrix[:, 2])"
   ]
  },
  {
   "cell_type": "markdown",
   "metadata": {},
   "source": [
    "Направления в расположении элементов матрицы называются axis и они нумеруются, начиная с нуля. В двумерных матрицах 0 – ось строк, 1 – ось столбцов.\n",
    "<img src=\"axis0.png\" width=400>"
   ]
  },
  {
   "cell_type": "markdown",
   "metadata": {},
   "source": [
    "Чтобы удалить из матрицы первую, а затем вторую строку:"
   ]
  },
  {
   "cell_type": "code",
   "execution_count": 23,
   "metadata": {},
   "outputs": [
    {
     "name": "stdout",
     "output_type": "stream",
     "text": [
      "[[1 2 3]\n",
      " [4 5 6]\n",
      " [7 8 9]]\n",
      "\n",
      "[[1 2 3]\n",
      " [7 8 9]]\n",
      "\n",
      "[[1 2 3]\n",
      " [4 5 6]]\n"
     ]
    }
   ],
   "source": [
    "matrix = np.array([[1, 2, 3], [4, 5, 6], [7, 8, 9]])\n",
    "print(matrix)\n",
    "print()  # печатает пустую строку\n",
    "\n",
    "matrix_2 = np.delete(matrix, 1, axis=0)\n",
    "print(matrix_2)\n",
    "print()\n",
    "\n",
    "matrix_3 = np.delete(matrix, 2, axis=0)\n",
    "print(matrix_3)"
   ]
  },
  {
   "cell_type": "markdown",
   "metadata": {},
   "source": [
    "Чтобы удалить первый столбец:"
   ]
  },
  {
   "cell_type": "code",
   "execution_count": 24,
   "metadata": {},
   "outputs": [
    {
     "name": "stdout",
     "output_type": "stream",
     "text": [
      "[[1 3]\n",
      " [4 6]\n",
      " [7 9]]\n"
     ]
    }
   ],
   "source": [
    "matrix_4 = np.delete(matrix, 1, axis=1)\n",
    "print(matrix_4)"
   ]
  },
  {
   "cell_type": "markdown",
   "metadata": {},
   "source": [
    "### Поэлементные операции с векторами и матрицами"
   ]
  },
  {
   "cell_type": "markdown",
   "metadata": {},
   "source": [
    "С матрицами и векторами можно выполнять операции поэлементного сложения, умножения, возведения в степень и т.п.:"
   ]
  },
  {
   "cell_type": "code",
   "execution_count": 147,
   "metadata": {},
   "outputs": [
    {
     "name": "stdout",
     "output_type": "stream",
     "text": [
      "arr1 = [1 2 3 4 5 6]\n",
      "arr2 = [5 4 3 2 1 0]\n"
     ]
    }
   ],
   "source": [
    "arr1 = np.arange(1, 7)\n",
    "arr2 = np.array([5, 4, 3, 2, 1, 0])\n",
    "print(\"arr1 =\", arr1)\n",
    "print(\"arr2 =\", arr2)"
   ]
  },
  {
   "cell_type": "code",
   "execution_count": 149,
   "metadata": {},
   "outputs": [
    {
     "name": "stdout",
     "output_type": "stream",
     "text": [
      "arr1 + arr2 = [6 6 6 6 6 6]\n",
      "arr1 * arr2 = [5 8 9 8 5 0]\n",
      "arr1 ** 2 = [ 1  4  9 16 25 36]\n"
     ]
    }
   ],
   "source": [
    "print(\"arr1 + arr2 =\", arr1 + arr2)\n",
    "print(\"arr1 * arr2 =\", arr1 * arr2)\n",
    "print(\"arr1 ** 2 =\", arr1 ** 2)"
   ]
  },
  {
   "cell_type": "markdown",
   "metadata": {},
   "source": [
    "Также к матрицам можнo применять операции sin, log и т.д.:"
   ]
  },
  {
   "cell_type": "code",
   "execution_count": 36,
   "metadata": {},
   "outputs": [
    {
     "name": "stdout",
     "output_type": "stream",
     "text": [
      "[[0 7 9 5 6]\n",
      " [8 3 4 4 5]\n",
      " [9 4 4 3 1]\n",
      " [6 1 3 0 7]\n",
      " [9 6 9 3 3]]\n",
      "[[ 0.          0.6569866   0.41211849 -0.95892427 -0.2794155 ]\n",
      " [ 0.98935825  0.14112001 -0.7568025  -0.7568025  -0.95892427]\n",
      " [ 0.41211849 -0.7568025  -0.7568025   0.14112001  0.84147098]\n",
      " [-0.2794155   0.84147098  0.14112001  0.          0.6569866 ]\n",
      " [ 0.41211849 -0.2794155   0.41211849  0.14112001  0.14112001]]\n"
     ]
    }
   ],
   "source": [
    "M = np.random.randint(0, 10, [5, 5])  # матрица 5х5 из случайных чисел от 0 до 9\n",
    "print(M)\n",
    "print(np.sin(M))"
   ]
  },
  {
   "cell_type": "markdown",
   "metadata": {},
   "source": [
    "### Константы"
   ]
  },
  {
   "cell_type": "markdown",
   "metadata": {},
   "source": [
    "В библиотеке NumPy есть математические константы, такие же, как в math:"
   ]
  },
  {
   "cell_type": "code",
   "execution_count": 57,
   "metadata": {},
   "outputs": [
    {
     "data": {
      "text/plain": [
       "3.141592653589793"
      ]
     },
     "execution_count": 57,
     "metadata": {},
     "output_type": "execute_result"
    }
   ],
   "source": [
    "np.pi"
   ]
  },
  {
   "cell_type": "code",
   "execution_count": 58,
   "metadata": {},
   "outputs": [
    {
     "data": {
      "text/plain": [
       "2.718281828459045"
      ]
     },
     "execution_count": 58,
     "metadata": {},
     "output_type": "execute_result"
    }
   ],
   "source": [
    "np.e"
   ]
  },
  {
   "cell_type": "markdown",
   "metadata": {},
   "source": [
    "### Скалярное произведение векторов"
   ]
  },
  {
   "cell_type": "markdown",
   "metadata": {},
   "source": [
    "$\\vec{a} \\cdot \\vec{b} = \\sum_{i=1}^{n} a_i b_i $"
   ]
  },
  {
   "cell_type": "code",
   "execution_count": 98,
   "metadata": {},
   "outputs": [
    {
     "data": {
      "text/plain": [
       "2"
      ]
     },
     "execution_count": 98,
     "metadata": {},
     "output_type": "execute_result"
    }
   ],
   "source": [
    "np.dot([1, 0], [2, 3])"
   ]
  },
  {
   "cell_type": "code",
   "execution_count": 99,
   "metadata": {},
   "outputs": [
    {
     "data": {
      "text/plain": [
       "(-13+0j)"
      ]
     },
     "execution_count": 99,
     "metadata": {},
     "output_type": "execute_result"
    }
   ],
   "source": [
    "np.dot([2j, 3j], [2j, 3j])"
   ]
  },
  {
   "cell_type": "markdown",
   "metadata": {},
   "source": [
    "### Векторное произведение "
   ]
  },
  {
   "cell_type": "markdown",
   "metadata": {},
   "source": [
    "$\\vec{a} \\times \\vec{b} = \\begin{vmatrix}\n",
    "\\vec{i} & \\vec{j} & \\vec{k}\\\\\n",
    "a_x & a_y & a_z\\\\\n",
    "b_x & b_y & b_z\\\\\n",
    "\\end{vmatrix} =\n",
    "\\begin{vmatrix}\n",
    "a_y & a_z\\\\\n",
    "b_y & b_z\\\\\n",
    "\\end{vmatrix} \\vec{i} + \n",
    "\\begin{vmatrix}\n",
    "a_x & a_z\\\\\n",
    "b_x & b_z\\\\\n",
    "\\end{vmatrix} \\vec{j} +\n",
    "\\begin{vmatrix}\n",
    "a_x & a_y\\\\\n",
    "b_x & b_y\\\\\n",
    "\\end{vmatrix} \\vec{k}\n",
    "$"
   ]
  },
  {
   "cell_type": "code",
   "execution_count": 101,
   "metadata": {},
   "outputs": [
    {
     "data": {
      "text/plain": [
       "array([-3,  6, -3])"
      ]
     },
     "execution_count": 101,
     "metadata": {},
     "output_type": "execute_result"
    }
   ],
   "source": [
    "x = [1, 2, 3]\n",
    "y = [4, 5, 6]\n",
    "np.cross(x, y)"
   ]
  },
  {
   "cell_type": "markdown",
   "metadata": {},
   "source": [
    "# <font color='green'>Задача 2<font>"
   ]
  },
  {
   "cell_type": "markdown",
   "metadata": {},
   "source": [
    "Векторы прямой и обратной решетки кристалла связаны соотношениями:\n",
    "\n",
    "$ a^* = 2\\pi \\frac{\\mathbf{b}\\times \\mathbf{c}}{\\mathbf{a}\\cdot(\\mathbf{b}\\times \\mathbf{c})}, b^* = 2\\pi \\frac{\\mathbf{c}\\times \\mathbf{a}}{\\mathbf{b}\\cdot(\\mathbf{c}\\times \\mathbf{a})}, c^* = 2\\pi \\frac{\\mathbf{a}\\times \\mathbf{b}}{\\mathbf{c}\\cdot(\\mathbf{a}\\times \\mathbf{b})}.   $ \n",
    "\n",
    "Вычислите вектора обратной решетки, если известны вектора прямой решетки:"
   ]
  },
  {
   "cell_type": "code",
   "execution_count": null,
   "metadata": {},
   "outputs": [],
   "source": [
    "a = [2, 0, 0]\n",
    "b = [0.75, 1.3, 0]\n",
    "c = [1, 0.25, 1]\n",
    "\n",
    "a1 = \n",
    "b1 = \n",
    "c1 ="
   ]
  },
  {
   "cell_type": "markdown",
   "metadata": {},
   "source": [
    "# Библиотека Matplotlib"
   ]
  },
  {
   "cell_type": "markdown",
   "metadata": {},
   "source": [
    "Библиотека Matplotlib создана по подобию Matlab предназначена для построения различных графиков. \n",
    "\n",
    "Источники:\n",
    "\n",
    "Matplotlib Tutorial: https://www.tutorialspoint.com/matplotlib/index.htm.\n",
    "\n",
    "Matplotlib Userguide: https://matplotlib.org/stable/index.html\n",
    "\n",
    "Учебник на русском языке Павел Шабанов ”Научная графика в Python”: https://pythonworld.ru/novosti-mira-py\n",
    "scientific-graphics-in-python.html.\n",
    "\n",
    "Видео про возможности библиотеки: https://www.youtube.com/watch?v=RAXDcUrFD2o.\n",
    "\n",
    "Уроки по matplotlib, включая построение 3d графиков: https://devpractice.ru/matplotlib-lessons/. \n",
    "\n",
    "Пример использования Matplotlib:"
   ]
  },
  {
   "cell_type": "code",
   "execution_count": 4,
   "metadata": {},
   "outputs": [
    {
     "data": {
      "image/png": "[encoded data removed]",
      "text/plain": [
       "<Figure size 432x288 with 1 Axes>"
      ]
     },
     "metadata": {
      "needs_background": "light"
     },
     "output_type": "display_data"
    }
   ],
   "source": [
    "import matplotlib.pyplot as plt\n",
    "import numpy as np\n",
    "\n",
    "x = np.random.randn(10000)\n",
    "plt.hist(x, 100)\n",
    "plt.title(r\"Normal distribution with $\\mu=0, \\sigma=1$\")\n",
    "plt.savefig(\"matplotlib_histogram.png\")\n",
    "\n",
    "plt.show()"
   ]
  },
  {
   "cell_type": "markdown",
   "metadata": {},
   "source": [
    "Главный объект в Matplotlib – это окно **Figure**, внутри которого создаются графики Axes. Сами графики Axes могут\n",
    "содержать оси, линии, подписи и т.д. Иерархия графических объектов в Matplotlib (Источник https://ajaytech.co/matplotlib/):\n",
    "\n",
    "<img src=\"matplotlib-object-oriented-hierarchy.png\" width=700>"
   ]
  },
  {
   "cell_type": "markdown",
   "metadata": {},
   "source": [
    "### Функции plot и subplot"
   ]
  },
  {
   "cell_type": "markdown",
   "metadata": {},
   "source": [
    "Импортируем библиотеку и ее подмодуль pyplot, ответственный за плоские графики:"
   ]
  },
  {
   "cell_type": "code",
   "execution_count": 45,
   "metadata": {},
   "outputs": [
    {
     "data": {
      "image/png": "[encoded data removed]",
      "text/plain": [
       "<Figure size 432x288 with 1 Axes>"
      ]
     },
     "metadata": {
      "needs_background": "light"
     },
     "output_type": "display_data"
    }
   ],
   "source": [
    "import matplotlib.pyplot as plt\n",
    "\n",
    "x = [-3, -2, -1, 0, 1, 2, 3]\n",
    "y = [9, 4, 1, 0, 1, 4, 9]\n",
    "plt.plot(x, y)\n",
    "plt.show()  # чтобы не выводить идентификатор объекта"
   ]
  },
  {
   "cell_type": "markdown",
   "metadata": {},
   "source": [
    "Чтобы построить несколько кривых на одном графике:"
   ]
  },
  {
   "cell_type": "code",
   "execution_count": 5,
   "metadata": {},
   "outputs": [
    {
     "data": {
      "image/png": "[encoded data removed]",
      "text/plain": [
       "<Figure size 432x288 with 1 Axes>"
      ]
     },
     "metadata": {
      "needs_background": "light"
     },
     "output_type": "display_data"
    }
   ],
   "source": [
    "x = [-3, -2, -1, 0, 1, 2, 3]\n",
    "y = [9, 4, 1, 0, 1, 4, 9]\n",
    "abs_x = [3, 2, 1, 0, 1, 2, 3]\n",
    "plt.plot(x, y)\n",
    "plt.plot(x, abs_x)\n",
    "\n",
    "# подписи по осям\n",
    "plt.xlabel(\"x\")\n",
    "plt.ylabel(\"y\")\n",
    "\n",
    "# заголовок\n",
    "plt.title(\"Заголовок\")\n",
    "\n",
    "# сохранение картинки\n",
    "plt.savefig(\"fig.svg\")"
   ]
  },
  {
   "cell_type": "markdown",
   "metadata": {},
   "source": [
    "Строим сразу несколько графиков. Одновременно переводим x и y в массивы, с которыми можно выполнять операции из библиотеки numpy."
   ]
  },
  {
   "cell_type": "code",
   "execution_count": 6,
   "metadata": {},
   "outputs": [
    {
     "data": {
      "text/plain": [
       "<Figure size 576x576 with 0 Axes>"
      ]
     },
     "metadata": {},
     "output_type": "display_data"
    }
   ],
   "source": [
    "import matplotlib.pyplot as plt\n",
    "import numpy as np\n",
    "\n",
    "# Задаем область определения\n",
    "x = np.linspace(-3, 3, 100)\n",
    "\n",
    "# Создаем графическое окно заданного размера:\n",
    "figure = plt.figure(figsize=(8, 8))"
   ]
  },
  {
   "cell_type": "code",
   "execution_count": 7,
   "metadata": {},
   "outputs": [
    {
     "data": {
      "image/png": "[encoded data removed]",
      "text/plain": [
       "<Figure size 576x576 with 4 Axes>"
      ]
     },
     "metadata": {
      "needs_background": "light"
     },
     "output_type": "display_data"
    }
   ],
   "source": [
    "import matplotlib.pyplot as plt\n",
    "import numpy as np\n",
    "\n",
    "# Задаем область определения\n",
    "x = np.linspace(-3, 3, 100)\n",
    "\n",
    "# Создаем графическое окно заданного размера:\n",
    "figure = plt.figure(figsize=(8, 8))\n",
    "\n",
    "# Добавляем на графическое окно координатные оси\n",
    "ax1 = figure.add_subplot(2, 2, 1)  # матрица из графиков 2х2 и номер графика на ней\n",
    "ax2 = figure.add_subplot(2, 2, 2)\n",
    "ax3 = figure.add_subplot(2, 2, 3)\n",
    "ax4 = figure.add_subplot(2, 2, 4)"
   ]
  },
  {
   "cell_type": "code",
   "execution_count": 8,
   "metadata": {},
   "outputs": [
    {
     "data": {
      "image/png": "[encoded data removed]",
      "text/plain": [
       "<Figure size 576x576 with 4 Axes>"
      ]
     },
     "metadata": {
      "needs_background": "light"
     },
     "output_type": "display_data"
    }
   ],
   "source": [
    "import matplotlib.pyplot as plt\n",
    "import numpy as np\n",
    "\n",
    "# Задаем область определения\n",
    "x = np.linspace(-3, 3, 100)\n",
    "\n",
    "# Создаем графическое окно заданного размера:\n",
    "figure = plt.figure(figsize=(8, 8))\n",
    "\n",
    "# Добавляем на графическое окно координатные оси\n",
    "ax1 = figure.add_subplot(2, 2, 1)  # матрица из графиков 2х2 и номер графика на ней\n",
    "ax2 = figure.add_subplot(2, 2, 2)\n",
    "ax3 = figure.add_subplot(2, 2, 3)\n",
    "ax4 = figure.add_subplot(2, 2, 4)\n",
    "\n",
    "# В созданных осях строим графики\n",
    "ax1.plot(x, x + 5)\n",
    "ax2.plot(x, x * x, \"tab:orange\")\n",
    "ax3.plot(x, np.sin(x), \"tab:green\")\n",
    "ax4.plot(x, np.cos(x), \"tab:red\")\n",
    "ax4.plot(x, np.sin(x))\n",
    "plt.show()"
   ]
  },
  {
   "cell_type": "code",
   "execution_count": 9,
   "metadata": {},
   "outputs": [
    {
     "data": {
      "text/plain": [
       "Text(0.5, 1.0, 'y = sin(x), y = cos(x)')"
      ]
     },
     "execution_count": 9,
     "metadata": {},
     "output_type": "execute_result"
    },
    {
     "data": {
      "image/png": "[encoded data removed]",
      "text/plain": [
       "<Figure size 576x576 with 4 Axes>"
      ]
     },
     "metadata": {
      "needs_background": "light"
     },
     "output_type": "display_data"
    }
   ],
   "source": [
    "import matplotlib.pyplot as plt\n",
    "import numpy as np\n",
    "\n",
    "# Задаем область определения\n",
    "x = np.linspace(-3, 3, 100)\n",
    "\n",
    "# Создаем графическое окно заданного размера:\n",
    "figure = plt.figure(figsize=(8, 8))\n",
    "\n",
    "# Добавляем на графическое окно координатные оси\n",
    "ax1 = figure.add_subplot(2, 2, 1)  # матрица из графиков 2х2 и номер графика на ней\n",
    "ax2 = figure.add_subplot(2, 2, 2)\n",
    "ax3 = figure.add_subplot(2, 2, 3)\n",
    "ax4 = figure.add_subplot(2, 2, 4)\n",
    "\n",
    "# В созданных осях строим графики\n",
    "ax1.plot(x, x + 5)\n",
    "ax2.plot(x, x * x, \"orange\")\n",
    "ax3.plot(x, np.sin(x), \"green\")\n",
    "ax4.plot(x, np.cos(x), \"red\")\n",
    "ax4.plot(x, np.sin(x))\n",
    "\n",
    "# Подписи по осям\n",
    "ax3.set_ylabel(\"y\", fontsize=14)\n",
    "ax1.set_ylabel(\"y\", fontsize=14)\n",
    "ax3.set_xlabel(\"x\", fontsize=14)\n",
    "ax4.set_xlabel(\"x\", fontsize=14)\n",
    "\n",
    "# заголовки\n",
    "ax1.set_title(\"$y = x$\", fontsize=14)\n",
    "ax2.set_title(\"$y = x^2$\", fontsize=14)\n",
    "ax3.set_title(\"y = sin(x)\", fontsize=14)\n",
    "ax4.set_title(\"y = sin(x), y = cos(x)\", fontsize=14)"
   ]
  },
  {
   "cell_type": "markdown",
   "metadata": {},
   "source": [
    "## <font color='green'>Задача 3<font>"
   ]
  },
  {
   "cell_type": "markdown",
   "metadata": {},
   "source": [
    "Напишите код, который создаёт графическое окно и строит в нем четыре графика – арксинус, арккосинус, гиперболические синус, гипреболический косинус,  на интервале от -1 до 1."
   ]
  }
 ],
 "metadata": {
  "kernelspec": {
   "display_name": "Python 3 (ipykernel)",
   "language": "python",
   "name": "python3"
  },
  "language_info": {
   "codemirror_mode": {
    "name": "ipython",
    "version": 3
   },
   "file_extension": ".py",
   "mimetype": "text/x-python",
   "name": "python",
   "nbconvert_exporter": "python",
   "pygments_lexer": "ipython3",
   "version": "3.9.12"
  }
 },
 "nbformat": 4,
 "nbformat_minor": 4
}
