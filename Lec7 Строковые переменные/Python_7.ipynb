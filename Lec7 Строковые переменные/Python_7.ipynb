{
 "cells": [
  {
   "cell_type": "markdown",
   "id": "6ddcd696",
   "metadata": {},
   "source": [
    "# Строковые переменные\n",
    "\n",
    "## Содержание\n",
    "\n",
    "- [Разбор данных](#Разбор-данных)\n",
    "- [Строковые переменные](#Строковые-переменные)\n",
    "    - [Основные операции со строками](#Основные-операции-со-строками)\n",
    "    - [Преобразование типов переменных](#Преобразование-типов-переменных)\n",
    "    - [Превращение строки в список, split()](#Превращение-строки-в-список,-split())\n",
    "    - [Задача 1](#Задача-1)\n",
    "- [Проверка файлов на существование](#Проверка-файлов-на-существование)\n",
    "- [Условные операторы](#Условные-операторы)\n",
    "    - [Задача 2](#Задача-2)\n",
    "- [Задача 3](#Задача-3)"
   ]
  },
  {
   "cell_type": "markdown",
   "id": "d873bed2",
   "metadata": {
    "tags": []
   },
   "source": [
    "## Разбор данных\n",
    "\n",
    "Изучим данные в папке scans."
   ]
  },
  {
   "cell_type": "code",
   "execution_count": 1,
   "id": "0cf22b28",
   "metadata": {
    "tags": []
   },
   "outputs": [
    {
     "data": {
      "text/html": [
       "<div>\n",
       "<style scoped>\n",
       "    .dataframe tbody tr th:only-of-type {\n",
       "        vertical-align: middle;\n",
       "    }\n",
       "\n",
       "    .dataframe tbody tr th {\n",
       "        vertical-align: top;\n",
       "    }\n",
       "\n",
       "    .dataframe thead th {\n",
       "        text-align: right;\n",
       "    }\n",
       "</style>\n",
       "<table border=\"1\" class=\"dataframe\">\n",
       "  <thead>\n",
       "    <tr style=\"text-align: right;\">\n",
       "      <th></th>\n",
       "      <th>theta</th>\n",
       "      <th>Epoch</th>\n",
       "      <th>Ene</th>\n",
       "      <th>I0</th>\n",
       "      <th>I04</th>\n",
       "      <th>If4</th>\n",
       "      <th>If4dI0</th>\n",
       "      <th>If3</th>\n",
       "      <th>If3dI0</th>\n",
       "      <th>Seconds</th>\n",
       "      <th>Ihor3</th>\n",
       "      <th>nan</th>\n",
       "    </tr>\n",
       "  </thead>\n",
       "  <tbody>\n",
       "    <tr>\n",
       "      <th>0</th>\n",
       "      <td>12.864625</td>\n",
       "      <td>92085</td>\n",
       "      <td>8984.858855</td>\n",
       "      <td>78652</td>\n",
       "      <td>-1</td>\n",
       "      <td>338</td>\n",
       "      <td>0.004297</td>\n",
       "      <td>184859</td>\n",
       "      <td>2.350341</td>\n",
       "      <td>0.506</td>\n",
       "      <td>0</td>\n",
       "      <td>NaN</td>\n",
       "    </tr>\n",
       "    <tr>\n",
       "      <th>1</th>\n",
       "      <td>12.864375</td>\n",
       "      <td>92085</td>\n",
       "      <td>8984.858855</td>\n",
       "      <td>78667</td>\n",
       "      <td>2</td>\n",
       "      <td>351</td>\n",
       "      <td>0.004462</td>\n",
       "      <td>181513</td>\n",
       "      <td>2.307359</td>\n",
       "      <td>0.506</td>\n",
       "      <td>0</td>\n",
       "      <td>NaN</td>\n",
       "    </tr>\n",
       "    <tr>\n",
       "      <th>2</th>\n",
       "      <td>12.864250</td>\n",
       "      <td>92086</td>\n",
       "      <td>8984.858855</td>\n",
       "      <td>78693</td>\n",
       "      <td>-3</td>\n",
       "      <td>259</td>\n",
       "      <td>0.003291</td>\n",
       "      <td>179673</td>\n",
       "      <td>2.283215</td>\n",
       "      <td>0.505</td>\n",
       "      <td>0</td>\n",
       "      <td>NaN</td>\n",
       "    </tr>\n",
       "    <tr>\n",
       "      <th>3</th>\n",
       "      <td>12.864000</td>\n",
       "      <td>92087</td>\n",
       "      <td>8984.858855</td>\n",
       "      <td>78681</td>\n",
       "      <td>0</td>\n",
       "      <td>326</td>\n",
       "      <td>0.004143</td>\n",
       "      <td>177011</td>\n",
       "      <td>2.249730</td>\n",
       "      <td>0.506</td>\n",
       "      <td>0</td>\n",
       "      <td>NaN</td>\n",
       "    </tr>\n",
       "  </tbody>\n",
       "</table>\n",
       "</div>"
      ],
      "text/plain": [
       "       theta  Epoch          Ene     I0  I04  If4    If4dI0     If3    If3dI0  \\\n",
       "0  12.864625  92085  8984.858855  78652   -1  338  0.004297  184859  2.350341   \n",
       "1  12.864375  92085  8984.858855  78667    2  351  0.004462  181513  2.307359   \n",
       "2  12.864250  92086  8984.858855  78693   -3  259  0.003291  179673  2.283215   \n",
       "3  12.864000  92087  8984.858855  78681    0  326  0.004143  177011  2.249730   \n",
       "\n",
       "   Seconds  Ihor3  nan  \n",
       "0    0.506      0  NaN  \n",
       "1    0.506      0  NaN  \n",
       "2    0.505      0  NaN  \n",
       "3    0.506      0  NaN  "
      ]
     },
     "execution_count": 1,
     "metadata": {},
     "output_type": "execute_result"
    }
   ],
   "source": [
    "import matplotlib.pyplot as plt\n",
    "import numpy as np\n",
    "import pandas as pd\n",
    "\n",
    "s = \"theta  Epoch  Ene  I0  I04  If4  If4dI0  If3  If3dI0  Seconds  Ihor3 nan\"\n",
    "column_names = s.split()\n",
    "column_names\n",
    "df = pd.read_csv(\n",
    "    \"scans/scan511_mono050918.dat\", sep=\" \", skiprows=1, names=column_names\n",
    ")\n",
    "df.head(4)"
   ]
  },
  {
   "cell_type": "markdown",
   "id": "fa974a28",
   "metadata": {},
   "source": [
    "## Строковые переменные\n",
    "\n",
    "### Основные операции со строками\n",
    "\n",
    "Строки в Python используются когда нужно работать с текстовыми данными.\n",
    "\n",
    "Для создания строк, мы используем парные кавычки '' или \"\":"
   ]
  },
  {
   "cell_type": "code",
   "execution_count": 2,
   "id": "7bd2da17",
   "metadata": {},
   "outputs": [
    {
     "name": "stdout",
     "output_type": "stream",
     "text": [
      "scan 500\n"
     ]
    }
   ],
   "source": [
    "s1, s2 = \"scan\", \"500\"\n",
    "print(s1, s2)"
   ]
  },
  {
   "cell_type": "markdown",
   "id": "94fe1584",
   "metadata": {},
   "source": [
    "Для определения длины строки (количества символов), мы используем встроенную функцию len():"
   ]
  },
  {
   "cell_type": "code",
   "execution_count": 3,
   "id": "0bafed35",
   "metadata": {},
   "outputs": [
    {
     "data": {
      "text/plain": [
       "4"
      ]
     },
     "execution_count": 3,
     "metadata": {},
     "output_type": "execute_result"
    }
   ],
   "source": [
    "len(s1)"
   ]
  },
  {
   "cell_type": "markdown",
   "id": "bffef221",
   "metadata": {},
   "source": [
    "Операторы + и * можно использовать для строк. Оператор + сцепляет две и более строк. Это называется конкатенацией строк. Оператор * повторяет строку указанное количество раз. "
   ]
  },
  {
   "cell_type": "code",
   "execution_count": 4,
   "id": "f7659f95",
   "metadata": {},
   "outputs": [
    {
     "name": "stdout",
     "output_type": "stream",
     "text": [
      "scan.csv\n",
      "HiHiHiHi\n"
     ]
    }
   ],
   "source": [
    "filename = \"scan\" + \".csv\"\n",
    "print(filename)\n",
    "\n",
    "print(\"Hi\" * 4)"
   ]
  },
  {
   "cell_type": "markdown",
   "id": "1d24dcce",
   "metadata": {},
   "source": [
    "Для обращения к символу в строке используем квадратные скобки\n",
    "\n",
    "<img src = 'индексы строк.png' width = 300>"
   ]
  },
  {
   "cell_type": "code",
   "execution_count": null,
   "id": "12c0953d",
   "metadata": {},
   "outputs": [],
   "source": [
    "filename[0]"
   ]
  },
  {
   "cell_type": "code",
   "execution_count": null,
   "id": "3e9b5b25",
   "metadata": {},
   "outputs": [],
   "source": [
    "filename[-1]"
   ]
  },
  {
   "cell_type": "markdown",
   "id": "044c91ae",
   "metadata": {},
   "source": [
    "### Преобразование типов переменных\n",
    "\n",
    "Преобразование строки в число:"
   ]
  },
  {
   "cell_type": "code",
   "execution_count": null,
   "id": "442a4e95",
   "metadata": {},
   "outputs": [],
   "source": [
    "s = \"42\"\n",
    "num = int(s)\n",
    "num"
   ]
  },
  {
   "cell_type": "code",
   "execution_count": null,
   "id": "93c43a18",
   "metadata": {},
   "outputs": [],
   "source": [
    "s = \"42\"\n",
    "num = float(s)\n",
    "num"
   ]
  },
  {
   "cell_type": "markdown",
   "id": "afe40805",
   "metadata": {},
   "source": [
    "Преобразование числа в строку:"
   ]
  },
  {
   "cell_type": "code",
   "execution_count": null,
   "id": "3efe9b60",
   "metadata": {},
   "outputs": [],
   "source": [
    "s = str(42)\n",
    "s"
   ]
  },
  {
   "cell_type": "markdown",
   "id": "946fcfe7",
   "metadata": {},
   "source": [
    "### Превращение строки в список, split()\n",
    "\n",
    "Для строк существует множество методов, которые позволяют менять регистр символов, выполнять поиск и замену символов, удалять лишние пробелы, классифицировать содержимое строки и т.д. \n",
    "\n",
    "Нам сегодня пригодится метод **split()** превращающий строку в список."
   ]
  },
  {
   "cell_type": "code",
   "execution_count": 5,
   "id": "9022dfb0",
   "metadata": {},
   "outputs": [
    {
     "name": "stdout",
     "output_type": "stream",
     "text": [
      "['Simple', 'is', 'better', 'than', 'complex']\n"
     ]
    }
   ],
   "source": [
    "s = \"Simple is better than complex\"\n",
    "words = s.split()\n",
    "print(words)"
   ]
  },
  {
   "cell_type": "markdown",
   "id": "049473ca",
   "metadata": {},
   "source": [
    "### Задача 1\n",
    "\n",
    "Создайте цикл, который генерирует и выводит на печать имена файлов 'scans/scan511_mono050918.dat' в заданном диапазоне номеров. Диапазон номеров задается в переменной scans = range(511, 521)."
   ]
  },
  {
   "cell_type": "markdown",
   "id": "1be8eb0e",
   "metadata": {},
   "source": [
    "## Проверка файлов на существование\n",
    "\n",
    "Возможность проверять, существует ли файл на диске или нет, очень важна для большинства программ Python. Часто, перед тем как вы их загрузите данные из файла, бывает нужно убедиться в том, что файл с данными доступен.\n",
    "\n",
    "Вызов **os.path.exists()** возвращает **True** или **False** для файлов и папок.\n",
    "\n",
    "**Логический тип (bool)** - тип данных с двумя возможными значениями: True (истина) и False (ложь).\n",
    "\n",
    "Другие возможности модуля os.path: https://pythonworld.ru/moduli/modul-os-path.html"
   ]
  },
  {
   "cell_type": "code",
   "execution_count": 2,
   "id": "1bad7b59",
   "metadata": {},
   "outputs": [
    {
     "data": {
      "text/plain": [
       "True"
      ]
     },
     "execution_count": 2,
     "metadata": {},
     "output_type": "execute_result"
    }
   ],
   "source": [
    "import os.path\n",
    "\n",
    "file_exists = os.path.exists(\"scan.csv\")\n",
    "file_exists"
   ]
  },
  {
   "cell_type": "code",
   "execution_count": 7,
   "id": "2546e3ea",
   "metadata": {},
   "outputs": [
    {
     "data": {
      "text/plain": [
       "False"
      ]
     },
     "execution_count": 7,
     "metadata": {},
     "output_type": "execute_result"
    }
   ],
   "source": [
    "file_exists = os.path.exists(\"scan1.csv\")\n",
    "file_exists"
   ]
  },
  {
   "cell_type": "code",
   "execution_count": 8,
   "id": "236a2891",
   "metadata": {},
   "outputs": [
    {
     "name": "stdout",
     "output_type": "stream",
     "text": [
      "True\n",
      "False\n"
     ]
    }
   ],
   "source": [
    "x = 10\n",
    "М = x > 5\n",
    "L = x > 20\n",
    "print(М)\n",
    "print(L)"
   ]
  },
  {
   "cell_type": "markdown",
   "id": "9a4ff7a8",
   "metadata": {},
   "source": [
    "## Условные операторы\n",
    "\n",
    "Рассмотрим код. Программа просит пользователя ввести число и проверяет результат ввода. Если число меньше 18, то выводит пользователю текст 'Доступ запрещен', если больше или равно 18, то 'Доступ разрешен':"
   ]
  },
  {
   "cell_type": "code",
   "execution_count": 11,
   "id": "4fe5978b",
   "metadata": {},
   "outputs": [
    {
     "name": "stdout",
     "output_type": "stream",
     "text": [
      "Введите число:\n"
     ]
    },
    {
     "name": "stdin",
     "output_type": "stream",
     "text": [
      " 9\n"
     ]
    },
    {
     "name": "stdout",
     "output_type": "stream",
     "text": [
      "Доступ запрещен\n"
     ]
    }
   ],
   "source": [
    "print(\"Введите число:\")\n",
    "x = int(input())\n",
    "\n",
    "if x < 18:\n",
    "    print(\"Доступ запрещен\")\n",
    "else:\n",
    "    print(\"Доступ разрешен\")"
   ]
  },
  {
   "cell_type": "markdown",
   "id": "3639be39",
   "metadata": {},
   "source": [
    "Двоеточие (:) в конце строки с инструкцией if сообщает интерпретатору Python, что дальше находится блок команд. В блок команд входят все строки с отступом под строкой с инструкцией if, вплоть до следующей строки без отступа.\n",
    "\n",
    "Для того, чтобы обеспечить возможность выполнять что-либо, если условие оказалось ложным, мы используем ключевое слово else."
   ]
  },
  {
   "cell_type": "code",
   "execution_count": 12,
   "id": "7b4e0917",
   "metadata": {},
   "outputs": [
    {
     "name": "stdout",
     "output_type": "stream",
     "text": [
      "ответ на главный вопрос жизни, вселенной и всего такого\n"
     ]
    },
    {
     "name": "stdin",
     "output_type": "stream",
     "text": [
      " 41\n"
     ]
    },
    {
     "name": "stdout",
     "output_type": "stream",
     "text": [
      "Ошибка\n"
     ]
    }
   ],
   "source": [
    "print(\"ответ на главный вопрос жизни, вселенной и всего такого\")\n",
    "x = input()\n",
    "\n",
    "if x == \"42\":\n",
    "    print(\"Верно\")\n",
    "else:\n",
    "    print(\"Ошибка\")"
   ]
  },
  {
   "cell_type": "markdown",
   "id": "433103f9",
   "metadata": {},
   "source": [
    "При использовании логических операций необязательно указывать что переменная тождественно равна True:"
   ]
  },
  {
   "cell_type": "code",
   "execution_count": 3,
   "id": "79b34668",
   "metadata": {},
   "outputs": [
    {
     "data": {
      "text/html": [
       "<div>\n",
       "<style scoped>\n",
       "    .dataframe tbody tr th:only-of-type {\n",
       "        vertical-align: middle;\n",
       "    }\n",
       "\n",
       "    .dataframe tbody tr th {\n",
       "        vertical-align: top;\n",
       "    }\n",
       "\n",
       "    .dataframe thead th {\n",
       "        text-align: right;\n",
       "    }\n",
       "</style>\n",
       "<table border=\"1\" class=\"dataframe\">\n",
       "  <thead>\n",
       "    <tr style=\"text-align: right;\">\n",
       "      <th></th>\n",
       "      <th>Pt_No</th>\n",
       "      <th>omega</th>\n",
       "      <th>eh_c01</th>\n",
       "      <th>eh_t01</th>\n",
       "      <th>sl_mon_b_vol</th>\n",
       "      <th>sl_mon_t_vol</th>\n",
       "      <th>lmbd_countsroi1</th>\n",
       "      <th>lmbd_countsroi1_atten</th>\n",
       "      <th>lmbd_countsroi2</th>\n",
       "      <th>lmbd_countsroi2_atten</th>\n",
       "      <th>lmbd_countsroi3</th>\n",
       "      <th>lmbd_countsroi3_atten</th>\n",
       "      <th>dt</th>\n",
       "    </tr>\n",
       "  </thead>\n",
       "  <tbody>\n",
       "    <tr>\n",
       "      <th>0</th>\n",
       "      <td>0</td>\n",
       "      <td>45.461578</td>\n",
       "      <td>15219.0</td>\n",
       "      <td>1.2</td>\n",
       "      <td>0.035312</td>\n",
       "      <td>0.034375</td>\n",
       "      <td>9691.0</td>\n",
       "      <td>9691.0</td>\n",
       "      <td>33221.0</td>\n",
       "      <td>33221.0</td>\n",
       "      <td>80032.0</td>\n",
       "      <td>80032.0</td>\n",
       "      <td>1.225516</td>\n",
       "    </tr>\n",
       "    <tr>\n",
       "      <th>1</th>\n",
       "      <td>1</td>\n",
       "      <td>45.462575</td>\n",
       "      <td>14980.0</td>\n",
       "      <td>1.2</td>\n",
       "      <td>0.034844</td>\n",
       "      <td>0.036016</td>\n",
       "      <td>10638.0</td>\n",
       "      <td>10638.0</td>\n",
       "      <td>35458.0</td>\n",
       "      <td>35458.0</td>\n",
       "      <td>80609.0</td>\n",
       "      <td>80609.0</td>\n",
       "      <td>2.472386</td>\n",
       "    </tr>\n",
       "  </tbody>\n",
       "</table>\n",
       "</div>"
      ],
      "text/plain": [
       "   Pt_No      omega   eh_c01   eh_t01   sl_mon_b_vol   sl_mon_t_vol  \\\n",
       "0      0  45.461578  15219.0      1.2       0.035312       0.034375   \n",
       "1      1  45.462575  14980.0      1.2       0.034844       0.036016   \n",
       "\n",
       "    lmbd_countsroi1   lmbd_countsroi1_atten   lmbd_countsroi2  \\\n",
       "0            9691.0                  9691.0           33221.0   \n",
       "1           10638.0                 10638.0           35458.0   \n",
       "\n",
       "    lmbd_countsroi2_atten   lmbd_countsroi3   lmbd_countsroi3_atten        dt  \n",
       "0                 33221.0           80032.0                 80032.0  1.225516  \n",
       "1                 35458.0           80609.0                 80609.0  2.472386  "
      ]
     },
     "execution_count": 3,
     "metadata": {},
     "output_type": "execute_result"
    }
   ],
   "source": [
    "import pandas as pd\n",
    "\n",
    "file_exists = os.path.exists(\"scan.csv\")\n",
    "\n",
    "if file_exists:\n",
    "    df = pd.read_csv(\"scan.csv\")\n",
    "\n",
    "df.head(2)"
   ]
  },
  {
   "cell_type": "markdown",
   "id": "1f1cda2d",
   "metadata": {
    "tags": []
   },
   "source": [
    "### Задача 2\n",
    "\n",
    "Напишите программу, которая перебирает файлы из папке scans в диапазоне scans = range(560, 580) и выводит имена отсутствующих файлов."
   ]
  },
  {
   "cell_type": "markdown",
   "id": "6a413d30",
   "metadata": {},
   "source": [
    "## Задача 3\n",
    "\n",
    "Рассмотрим содержимое папки scans. В ней находится 61 файл, каждый из них содержит экспериментальные данные из 11 столбцов и 102 строк. Данные были получены при измерении «запрещённого» рефлекса в метаборате меди на линии ID12 синхротрона ESRF в Гренобле (Франция).\n",
    "\n",
    "Напишите скрипт, который последовательно считывает данные из каждого файла и помещает на один график кривые, используя первые столбцы как значения по оси абсцисс, а седьмые столбцы – как значения по оси ординат."
   ]
  }
 ],
 "metadata": {
  "kernelspec": {
   "display_name": "Python 3 (ipykernel)",
   "language": "python",
   "name": "python3"
  },
  "language_info": {
   "codemirror_mode": {
    "name": "ipython",
    "version": 3
   },
   "file_extension": ".py",
   "mimetype": "text/x-python",
   "name": "python",
   "nbconvert_exporter": "python",
   "pygments_lexer": "ipython3",
   "version": "3.9.12"
  }
 },
 "nbformat": 4,
 "nbformat_minor": 5
}
