{
 "cells": [
  {
   "cell_type": "markdown",
   "id": "1e0cf0a3-9f92-4bff-b23c-5a1032e347a9",
   "metadata": {},
   "source": [
    "## Строковые переменные\n",
    "\n",
    "### Основные операции со строками\n",
    "\n",
    "Строки в Python используются когда надо работать с текстовыми данными.\n",
    "\n",
    "Для создания строк, мы используем парные кавычки '' или \"\":"
   ]
  },
  {
   "cell_type": "code",
   "execution_count": 2,
   "id": "e1034a73-ba9d-4778-ae71-34fba49dffc2",
   "metadata": {},
   "outputs": [
    {
     "name": "stdout",
     "output_type": "stream",
     "text": [
      "scan 500\n"
     ]
    }
   ],
   "source": [
    "s1, s2 = 'scan', '500'\n",
    "print(s1, s2)"
   ]
  },
  {
   "cell_type": "markdown",
   "id": "d88d49e1-3cb5-4470-87bc-07c1189aa08d",
   "metadata": {},
   "source": [
    "Для определения длины строки (количества символов), мы используем встроенную функцию len():"
   ]
  },
  {
   "cell_type": "code",
   "execution_count": 3,
   "id": "e60a63e3-8b66-49da-b3f3-cecf0a6a5987",
   "metadata": {},
   "outputs": [
    {
     "data": {
      "text/plain": [
       "4"
      ]
     },
     "execution_count": 3,
     "metadata": {},
     "output_type": "execute_result"
    }
   ],
   "source": [
    "len(s1)"
   ]
  },
  {
   "cell_type": "markdown",
   "id": "e70377b2-e485-4ad6-b709-d9df25d7a6fd",
   "metadata": {},
   "source": [
    "Операторы + и * можно использовать для строк. Оператор + сцепляет две и более строк. Это называется конкатенацией строк. Оператор * повторяет строку указанное количество раз. "
   ]
  },
  {
   "cell_type": "code",
   "execution_count": 5,
   "id": "8a6d52ea-6910-42c7-b1f7-e39efbe42017",
   "metadata": {},
   "outputs": [
    {
     "name": "stdout",
     "output_type": "stream",
     "text": [
      "scan.csv\n",
      "HiHiHiHi\n"
     ]
    }
   ],
   "source": [
    "filename = 'scan' + '.csv'\n",
    "print(filename)\n",
    "\n",
    "print('Hi'* 4)"
   ]
  },
  {
   "cell_type": "markdown",
   "id": "68393103-af31-49f9-a7fc-41109e79be20",
   "metadata": {},
   "source": [
    "Для обращения к символу в строке используем квадратные скобки\n",
    "\n",
    "<img src = 'индексы строк.png' width = 300>"
   ]
  },
  {
   "cell_type": "code",
   "execution_count": 7,
   "id": "a7be8d8d-951b-48eb-ba6b-f174b056907f",
   "metadata": {},
   "outputs": [
    {
     "data": {
      "text/plain": [
       "'s'"
      ]
     },
     "execution_count": 7,
     "metadata": {},
     "output_type": "execute_result"
    }
   ],
   "source": [
    "filename[0]"
   ]
  },
  {
   "cell_type": "code",
   "execution_count": 8,
   "id": "c806b447-0ba9-4522-ad23-91197330180f",
   "metadata": {},
   "outputs": [
    {
     "data": {
      "text/plain": [
       "'v'"
      ]
     },
     "execution_count": 8,
     "metadata": {},
     "output_type": "execute_result"
    }
   ],
   "source": [
    "filename[-1]"
   ]
  },
  {
   "cell_type": "markdown",
   "id": "75979afe-a764-4fa3-a6c4-33116a54f5eb",
   "metadata": {},
   "source": [
    "### Преобразование типов переменных\n",
    "\n",
    "Преобразование строки в число:"
   ]
  },
  {
   "cell_type": "code",
   "execution_count": 12,
   "id": "64b96ef9-c55f-4141-a1a7-d6a94e190329",
   "metadata": {},
   "outputs": [
    {
     "data": {
      "text/plain": [
       "42"
      ]
     },
     "execution_count": 12,
     "metadata": {},
     "output_type": "execute_result"
    }
   ],
   "source": [
    "s = '42'\n",
    "num = int(s)\n",
    "num"
   ]
  },
  {
   "cell_type": "code",
   "execution_count": 13,
   "id": "0da6cb19-0bca-4762-8c73-c258e63bc2be",
   "metadata": {},
   "outputs": [
    {
     "data": {
      "text/plain": [
       "42.0"
      ]
     },
     "execution_count": 13,
     "metadata": {},
     "output_type": "execute_result"
    }
   ],
   "source": [
    "s = '42'\n",
    "num = float(s)\n",
    "num"
   ]
  },
  {
   "cell_type": "markdown",
   "id": "55c6c0f7-d79b-43b8-92e2-cca70071301d",
   "metadata": {},
   "source": [
    "Преобразование числа в строку:"
   ]
  },
  {
   "cell_type": "code",
   "execution_count": 15,
   "id": "d2daff35-1450-48b0-a205-1899cbafef08",
   "metadata": {},
   "outputs": [
    {
     "data": {
      "text/plain": [
       "'42'"
      ]
     },
     "execution_count": 15,
     "metadata": {},
     "output_type": "execute_result"
    }
   ],
   "source": [
    "s = str(42)\n",
    "s"
   ]
  },
  {
   "cell_type": "markdown",
   "id": "2eb70f77-ca3c-4b7a-83a4-56cbb1309348",
   "metadata": {},
   "source": [
    "### Превращение строки в список, split()\n",
    "\n",
    "Для строк существует множество методов, которые позволяют менять регистр символов, выполнять поиск и замену символов, удалять лишние пробелы, классифицировать содержимое строки и т.д. \n",
    "\n",
    "Нам сегодня пригодится метод **split()** превращающий строку в список."
   ]
  },
  {
   "cell_type": "code",
   "execution_count": 9,
   "id": "bac8f9ae-e542-405f-ab20-06e1ad039b6f",
   "metadata": {},
   "outputs": [
    {
     "name": "stdout",
     "output_type": "stream",
     "text": [
      "['Simple', 'is', 'better', 'than', 'complex']\n"
     ]
    }
   ],
   "source": [
    "s = 'Simple is better than complex'\n",
    "words = s.split()\n",
    "print(words)"
   ]
  },
  {
   "cell_type": "markdown",
   "id": "92edd580-3027-4400-bb65-e29a1ebae181",
   "metadata": {},
   "source": [
    "### Задача\n",
    "\n",
    "Превратите шапку файла в список.\n",
    "\n",
    "Создайте цикл, который печатает имена файлов 'scans/scan511_mono.dat' в заданном диапазоне номеров. Диапазон номеров задается в переменной scans = range(511, 521)."
   ]
  },
  {
   "cell_type": "markdown",
   "id": "93683788-1123-4838-8481-cad6945bb5de",
   "metadata": {},
   "source": [
    "## Проверка на существование"
   ]
  }
 ],
 "metadata": {
  "kernelspec": {
   "display_name": "Python 3 (ipykernel)",
   "language": "python",
   "name": "python3"
  },
  "language_info": {
   "codemirror_mode": {
    "name": "ipython",
    "version": 3
   },
   "file_extension": ".py",
   "mimetype": "text/x-python",
   "name": "python",
   "nbconvert_exporter": "python",
   "pygments_lexer": "ipython3",
   "version": "3.9.0"
  }
 },
 "nbformat": 4,
 "nbformat_minor": 5
}
