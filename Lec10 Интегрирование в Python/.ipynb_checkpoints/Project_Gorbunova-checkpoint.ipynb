{
 "cells": [
  {
   "cell_type": "code",
   "execution_count": 1,
   "id": "ed16996d-95ff-4abc-85e5-e1f3b23efd4e",
   "metadata": {},
   "outputs": [],
   "source": [
    "import pandas as pd\n",
    "import numpy as np\n",
    "import matplotlib.pyplot as plt\n",
    "import os.path\n",
    "from scipy.optimize import curve_fit\n",
    "\n",
    "import sympy as smp # бибилиотека для аналитичекой работы с функциями\n",
    "from scipy.integrate import quad # функция для численного интегрирования\n",
    "from scipy.integrate import cumulative_trapezoid # функция для интегрирования данных\n",
    "\n",
    "scans = range(15049, 15316)\n",
    "#fig, ax = plt.subplots()\n",
    "#plt.xlabel('Energy', labelpad=10, fontsize=18, fontstyle='italic')\n",
    "#plt.ylabel('Intensity', labelpad=10, fontsize=18, fontstyle='italic')\n",
    "Intensity = np.array([])\n",
    "Intensity_sum = []\n",
    "energy = []\n",
    "\n",
    "# Создаем список заголовков столбцов\n",
    "list = ['Pt_No', 'omega', 'eh_c01', 'eh_t01', 'sl_mon_b_vol', 'sl_mon_t_vol', \n",
    "        'lmbd_countsroi1', 'Intensity', 'lmbd_countsroi2', \n",
    "        'lmbd_countsroi2_atten', 'lmbd_countsroi3', 'lmbd_countsroi3_atten', 'dt']\n",
    "    \n",
    "for i in scans:\n",
    "    i = str(i)\n",
    "    filename_i = 'scan' + i + '.dat'\n",
    "    file_exists = os.path.exists(filename_i)\n",
    "    if file_exists == True:\n",
    "        file = open(filename_i, 'r')\n",
    "        content = file.readlines()\n",
    "        for line in content:\n",
    "            if line.startswith('#P10') == True:\n",
    "                energy.append(float(line[6:10]))\n",
    "                break\n",
    "        file.close()\n",
    "        \n"
   ]
  },
  {
   "cell_type": "code",
   "execution_count": 2,
   "id": "e3ec19f1-7b49-431c-b058-8afc86b267f7",
   "metadata": {},
   "outputs": [],
   "source": [
    "# Функция для вычисления Лоренца по параметрам amp, mean, и sigma\n",
    "def Lorentzian(x, amp, cen, wid):\n",
    "    return (amp*wid**2/((x-cen)**2+wid**2))"
   ]
  },
  {
   "cell_type": "code",
   "execution_count": 3,
   "id": "72ab88e6-5575-4dfb-a84d-0f6f07b64503",
   "metadata": {},
   "outputs": [
    {
     "ename": "AttributeError",
     "evalue": "'numpy.ndarray' object has no attribute 'append'",
     "output_type": "error",
     "traceback": [
      "\u001b[1;31m---------------------------------------------------------------------------\u001b[0m",
      "\u001b[1;31mAttributeError\u001b[0m                            Traceback (most recent call last)",
      "\u001b[1;32m~\\AppData\\Local\\Temp\\ipykernel_15412\\1529755295.py\u001b[0m in \u001b[0;36m<module>\u001b[1;34m\u001b[0m\n\u001b[0;32m     20\u001b[0m \u001b[1;33m\u001b[0m\u001b[0m\n\u001b[0;32m     21\u001b[0m \u001b[1;33m\u001b[0m\u001b[0m\n\u001b[1;32m---> 22\u001b[1;33m         \u001b[0mIntensity\u001b[0m\u001b[1;33m.\u001b[0m\u001b[0mappend\u001b[0m\u001b[1;33m(\u001b[0m\u001b[0mv\u001b[0m\u001b[1;33m)\u001b[0m\u001b[1;33m\u001b[0m\u001b[1;33m\u001b[0m\u001b[0m\n\u001b[0m\u001b[0;32m     23\u001b[0m         \u001b[0mIntensity_sum\u001b[0m\u001b[1;33m.\u001b[0m\u001b[0mappend\u001b[0m\u001b[1;33m(\u001b[0m\u001b[0mfloat\u001b[0m\u001b[1;33m(\u001b[0m\u001b[0msum\u001b[0m\u001b[1;33m(\u001b[0m\u001b[0mdf\u001b[0m\u001b[1;33m[\u001b[0m\u001b[1;34m'lmbd_countsroi1'\u001b[0m\u001b[1;33m]\u001b[0m\u001b[1;33m)\u001b[0m\u001b[1;33m)\u001b[0m\u001b[1;33m)\u001b[0m\u001b[1;33m\u001b[0m\u001b[1;33m\u001b[0m\u001b[0m\n\u001b[0;32m     24\u001b[0m      \u001b[1;31m#   print(Intensity)\u001b[0m\u001b[1;33m\u001b[0m\u001b[1;33m\u001b[0m\u001b[0m\n",
      "\u001b[1;31mAttributeError\u001b[0m: 'numpy.ndarray' object has no attribute 'append'"
     ]
    }
   ],
   "source": [
    "# Загружаем данные, пропуская лишние строки и присоединяя заголовки из списка\n",
    "for i in scans:\n",
    "    i = str(i)\n",
    "    filename_i = 'C:/Users/gorbu/Files_Python/Занятие 8/scan' + i + '.dat'\n",
    "    file_exists = os.path.exists(filename_i)\n",
    "    if file_exists == True:\n",
    "        df = pd.read_csv(filename_i, sep = ' ', skiprows = 28, names = list)\n",
    "        \n",
    "        x = np.array(df['omega'])\n",
    "        y = np.array(df['lmbd_countsroi1'])\n",
    "        \n",
    "        amp = max(y)\n",
    "        mean = sum(x * y) / sum(y)\n",
    "        sigma = np.sqrt(sum(y * (x - mean)**2) / sum(y))\n",
    "        \n",
    "        # Аппроксимируем наши данные лоренцом\n",
    "        pars, cov = curve_fit(f=Lorentzian, xdata=x, ydata=y, p0=[amp, mean, sigma], bounds=(-np.inf, np.inf))\n",
    "\n",
    "        v, err = quad(Lorentzian, x[0], x[-1], args = (amp, mean, sigma))\n",
    "        \n",
    "\n",
    "        Intensity.append(v)\n",
    "        Intensity_sum.append(float(sum(df['lmbd_countsroi1'])))\n",
    "     #   print(Intensity)\n",
    "        "
   ]
  },
  {
   "cell_type": "code",
   "execution_count": null,
   "id": "cab89827-f3ef-4753-8cb4-aeb6a06cedba",
   "metadata": {},
   "outputs": [],
   "source": [
    "plt.plot(energy, Intensity*1000, label = 'Lor') \n",
    "plt.plot(energy,Intensity_sum, label = 'Sum') \n",
    "plt.legend()"
   ]
  },
  {
   "cell_type": "code",
   "execution_count": null,
   "id": "7e78087a-f82b-40ad-9efc-d357d81ab7ec",
   "metadata": {},
   "outputs": [],
   "source": []
  }
 ],
 "metadata": {
  "kernelspec": {
   "display_name": "Python 3 (ipykernel)",
   "language": "python",
   "name": "python3"
  },
  "language_info": {
   "codemirror_mode": {
    "name": "ipython",
    "version": 3
   },
   "file_extension": ".py",
   "mimetype": "text/x-python",
   "name": "python",
   "nbconvert_exporter": "python",
   "pygments_lexer": "ipython3",
   "version": "3.9.13"
  }
 },
 "nbformat": 4,
 "nbformat_minor": 5
}
