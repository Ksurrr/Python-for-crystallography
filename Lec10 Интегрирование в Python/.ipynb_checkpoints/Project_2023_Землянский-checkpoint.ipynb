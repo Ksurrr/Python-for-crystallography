{
 "cells": [
  {
   "cell_type": "markdown",
   "metadata": {},
   "source": [
    "## Проект\n",
    "\n",
    "1. Запишите группы данных из файла teo2b2_energy_no-acoust.spec в отдельные файлы и сложите их в папку scans.\n",
    "\n",
    "2. Создайте функцию data_approx, которая принимает: имя файла с данными, имена столбцов с данными x и y, название аппроксимирующей функции; и возвращает: параметры аппроксимирующей функции, x[0] и x[-1].\n",
    "\n",
    "3. Создайте функцию data_integral, которая принимает: x[0], x[-1], функцию для интегрирования и параметры этой функции, возвращает значение интеграла.\n",
    "\n",
    "4. Создайте функцию, extract_energy которая принимает имя файла, и возвращает значение энергии. Из строки, начинающейся с \"#P10\" извлекает значение энергии для данного скана (выглядит как 4928.421875) и записывает в список Energy;\n",
    "\n",
    "Для каждого файла в папке scans, пользуясь созданными функциями: вычислите интеграл от аппроксимирующей функции для столбца 'lmbd_countsroi1', запишите результат в список Intensity, постройте график Intensity(Energy)."
   ]
  },
  {
   "cell_type": "code",
   "execution_count": 15,
   "metadata": {
    "tags": []
   },
   "outputs": [],
   "source": [
    "## Список импортируемых библиотек\n",
    "import os\n",
    "import numpy as np\n",
    "import matplotlib.pyplot as plt\n",
    "import pandas as pd\n",
    "from scipy.optimize import curve_fit \n",
    "from scipy.integrate import quad"
   ]
  },
  {
   "cell_type": "code",
   "execution_count": 2,
   "metadata": {},
   "outputs": [],
   "source": [
    "## 1) Запишите группы данных из файла \n",
    "# в отдельные файлы и сложите их в папку scans.\n",
    "\n",
    "data_file = 'teo2b2_energy_no-acoust.spec'\n",
    "with open(data_file, 'r', encoding='utf-8') as file:\n",
    "    for line in file:\n",
    "        line = line.strip() \n",
    "        if not line: \n",
    "            continue\n",
    "        if line.startswith('#S'):\n",
    "            scan_number = line.split()[1] \n",
    "            current_file = open(f'scan{scan_number}.dat', 'w') \n",
    "            current_file.write(line + '\\n') \n",
    "        elif line.startswith('#C Acquisition ended'): \n",
    "            current_file.write(line + '\\n')\n",
    "            current_file.close() \n",
    "        else: \n",
    "                current_file.write(line + '\\n')\n",
    "# "
   ]
  },
  {
   "cell_type": "markdown",
   "metadata": {},
   "source": [
    "Получившие файлы сложите в папку scans и закомментируйте предыдущую ячейку (ctr+/)"
   ]
  },
  {
   "cell_type": "code",
   "execution_count": 96,
   "metadata": {},
   "outputs": [
    {
     "name": "stdout",
     "output_type": "stream",
     "text": [
      "[14.75125313 14.75227188 14.75333437 14.7543625  14.75542813 14.7564875\n",
      " 14.75757813 14.75868125 14.759775   14.76087187 14.76192813 14.7629875\n",
      " 14.7640875  14.76509688 14.76616563 14.76731875 14.76841563 14.7695125\n",
      " 14.77060312 14.77170625 14.77272813 14.77381563 14.77483438 14.77585625\n",
      " 14.776925   14.77799688 14.77905625 14.78010938 14.78117188 14.782225\n",
      " 14.78332188 14.78442812 14.78552813 14.78660313 14.78770313 14.78884375\n",
      " 14.7899375  14.79095313 14.79209063 14.79322813 14.79432187 14.79541875\n",
      " 14.79651875 14.79762188 14.79871875 14.79972813 14.80064063]\n",
      "[   73.    65.    90.    90.   114.   121.   172.   195.   202.   277.\n",
      "   279.   395.   448.   544.   735.   953.  1252.  1910.  3772.  5044.\n",
      "  5536.  6696. 10473. 13747. 13556.  9985.  6467.  4122.  2752.  1942.\n",
      "  1481.  1143.   908.   688.   597.   500.   395.   367.   292.   257.\n",
      "   218.   197.   171.   142.   166.   116.   123.]\n"
     ]
    },
    {
     "data": {
      "text/plain": [
       "(14.751253125000003,\n",
       " 14.800640625000009,\n",
       " array([1.16060751e+02, 1.47762613e+01, 2.62390621e-03]))"
      ]
     },
     "execution_count": 96,
     "metadata": {},
     "output_type": "execute_result"
    }
   ],
   "source": [
    "# 2) Для данных из каждого файла аппроксимируйте зависимость lmbd_countsroi1(omega) функцией Лоренца.\n",
    "# Создаем функцию, которая принимает имя файла, названия столбцов x и y, название аппроксимирующей функции.\n",
    "# А возвращает пределы интегрирования и параметры аппроксимирующей функции.\n",
    "\n",
    "cols = 'Pt_No  omega  eh_c01  eh_t01  sl_mon_b_vol  sl_mon_t_vol \\\n",
    "lmbd_countsroi1  lmbd_countsroi1_atten  lmbd_countsroi2  lmbd_countsroi2_atten  \\\n",
    "lmbd_countsroi3  lmbd_countsroi3_atten  dt'.split()\n",
    "\n",
    "data = pd.read_csv(filename, sep=\" \", skiprows=28, skipfooter=1, engine=\"python\", names=cols)\n",
    "x = np.array(data['omega'])\n",
    "y = np.array(data['lmbd_countsroi1'])\n",
    "print(x)\n",
    "print(y)\n",
    "def lorentzian(x, amp, cen, wid):\n",
    "    return amp / (np.pi * wid) * wid ** 2 / ((x - cen) ** 2 + wid ** 2)\n",
    "\n",
    "amp = max(y)\n",
    "cen = sum(x * y)/sum(y)\n",
    "wid = np.sqrt(sum(y * (x - cen)**2) / sum(y))\n",
    "\n",
    "def data_approx(filename, xname, yname, approx_func):\n",
    "    x_first = x[0]\n",
    "    x_last = x[-1]\n",
    "    return(x_first, x_last, pars)\n",
    "    pass\n",
    "\n",
    "\n",
    "pars, cov = curve_fit(f=lorentzian, xdata=x, ydata=y, p0=[amp, cen, wid], bounds=(-np.inf, np.inf)) \n",
    "\n",
    "# Аргументы для тестирования функции:\n",
    "xname = \"omega\"\n",
    "yname = \"lmbd_countsroi1\"\n",
    "#filename = \"scan15048.dat\"\n",
    "approx_func = lorentzian\n",
    "data_approx(filename, xname, yname, approx_func)"
   ]
  },
  {
   "cell_type": "code",
   "execution_count": 74,
   "metadata": {},
   "outputs": [
    {
     "data": {
      "text/plain": [
       "21169.545671053274"
      ]
     },
     "execution_count": 74,
     "metadata": {},
     "output_type": "execute_result"
    }
   ],
   "source": [
    "# 4) Вычисляет интеграл под аппроксимирующей кривой, полученное значение записывает в список Intensity;\n",
    "# Cоздаем функцию, которая принимает:\n",
    "# - пределы интегрирования,\n",
    "# - функцию которую интегрируем,\n",
    "# - параметры апроксимирующей кривой\n",
    "# и возвращает определенный интеграл.\n",
    "\n",
    "\n",
    "def data_integral(x_first, x_last, func, pars):\n",
    "    local_intensity = quad(lorentzian, x[0], x[-1], args=(amp, cen, wid))[0]\n",
    "    return(local_intensity)\n",
    "    pass\n",
    "\n",
    "data_integral(x_first, x_last, approx_func, pars)"
   ]
  },
  {
   "cell_type": "code",
   "execution_count": 59,
   "metadata": {},
   "outputs": [
    {
     "data": {
      "text/plain": [
       "[4928.98388671875]"
      ]
     },
     "execution_count": 59,
     "metadata": {},
     "output_type": "execute_result"
    }
   ],
   "source": [
    "# 5) из строки, начинающейся с \"#P10\" извлекает значение энергии для данного скана (выглядит как 4928.421875) и записывает в список Energy;\n",
    "# создаем соответствующую функцию\n",
    "\n",
    "\n",
    "def extract_energy(filename):\n",
    "    local_energy = []\n",
    "    if os.path.exists(filename) == True:\n",
    "        with open(filename) as file:\n",
    "            for line in file:\n",
    "                if line.startswith(\"#P10\"):\n",
    "                    local_energy.append(float(line.split()[1]))\n",
    "                else:\n",
    "                    continue\n",
    "    return(local_energy)\n",
    "    pass\n",
    "\n",
    "\n",
    "extract_energy(filename)"
   ]
  },
  {
   "cell_type": "code",
   "execution_count": 97,
   "metadata": {},
   "outputs": [
    {
     "data": {
      "text/plain": [
       "[<matplotlib.lines.Line2D at 0x22995751940>]"
      ]
     },
     "execution_count": 97,
     "metadata": {},
     "output_type": "execute_result"
    },
    {
     "data": {
      "image/png": "[encoded data removed]",
      "text/plain": [
       "<Figure size 640x480 with 1 Axes>"
      ]
     },
     "metadata": {},
     "output_type": "display_data"
    }
   ],
   "source": [
    "# Последовательно считывайте данные из файлов в диапазоне 15049-15309,\n",
    "# извлекая значения local_intensity и local_energy и записывая их в списки Intensity и Energy\n",
    "# Постройте график Intensity(Energy)\n",
    "\n",
    "# Задаем диапазон номеров сканов, которые хотим построить\n",
    "scanrange = range(15049, 15310)\n",
    "\n",
    "xname = \"omega\"\n",
    "yname = \"lmbd_countsroi1\"\n",
    "approx_func = lorentzian\n",
    "\n",
    "Intensity = []\n",
    "Energy = []\n",
    "\n",
    "for i in scanrange:\n",
    "    filename = \"scan\" + str(i) + \".dat\"\n",
    "    file_exists = os.path.exists(filename)\n",
    "    if file_exists:\n",
    "        data = pd.read_csv(filename, sep=\" \", skiprows=28, skipfooter=1, engine=\"python\", names=cols)\n",
    "        x = np.array(data['omega'])\n",
    "        y = np.array(data['lmbd_countsroi1'])\n",
    "        amp = max(y)\n",
    "        cen = sum(x * y)/sum(y)\n",
    "        wid = np.sqrt(sum(y * (x - cen)**2) / sum(y))\n",
    "        x_first, x_last, pars = data_approx(filename, xname, yname, approx_func)\n",
    "        local_intensity = data_integral(x_first, x_last, approx_func, pars)\n",
    "        local_energy = extract_energy(filename)\n",
    "        Intensity.append(local_intensity)\n",
    "        Energy.append(local_energy)\n",
    "    else:\n",
    "        continue\n",
    "        \n",
    "plt.plot(Energy, Intensity)"
   ]
  },
  {
   "cell_type": "code",
   "execution_count": null,
   "metadata": {},
   "outputs": [],
   "source": []
  }
 ],
 "metadata": {
  "kernelspec": {
   "display_name": "Python 3 (ipykernel)",
   "language": "python",
   "name": "python3"
  },
  "language_info": {
   "codemirror_mode": {
    "name": "ipython",
    "version": 3
   },
   "file_extension": ".py",
   "mimetype": "text/x-python",
   "name": "python",
   "nbconvert_exporter": "python",
   "pygments_lexer": "ipython3",
   "version": "3.9.13"
  }
 },
 "nbformat": 4,
 "nbformat_minor": 4
}
