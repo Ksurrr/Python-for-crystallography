{
 "cells": [
  {
   "cell_type": "code",
   "execution_count": null,
   "metadata": {},
   "outputs": [],
   "source": []
  },
  {
   "cell_type": "markdown",
   "metadata": {},
   "source": [
    "## Задача 8.5\n",
    "\n",
    "Запишете группы данных из файла teo2b2_energy_no-acoust.spec в отдельные файлы и сложите из в папку scans.\n",
    "\n",
    "Последовательно считывайте данные из файлов в диапазоне 15049-15309, при этом:\n",
    "\n",
    "1) Для данных из каждого файла апроксимируйте зависимость lmbd_countsroi1(omega) функцией Лоренца.\n",
    "\n",
    "2) вычислите интеграл под аппроксимирующей кривой, полученное значение запишите в список Intensity; \n",
    "\n",
    "5) из строки, начинающейся с \"#P10\" извлеките значение энергии для данного скана (выглядит как 4928.421875) и запишите в список Energy;\n",
    "\n",
    "Постройте график Intensity(Energy)."
   ]
  },
  {
   "cell_type": "code",
   "execution_count": 1,
   "metadata": {},
   "outputs": [],
   "source": [
    "import numpy as np\n",
    "import scipy as sp\n",
    "import sympy as smp # бибилиотека для аналитичекой работы с функциями\n",
    "import matplotlib.pyplot as plt\n",
    "from scipy.optimize import curve_fit\n",
    "import os.path\n",
    "import pandas as pd\n",
    "from scipy.integrate import quad # функция для численного интегрирования\n",
    "from scipy.integrate import cumulative_trapezoid # функция для интегрирования данных"
   ]
  },
  {
   "cell_type": "code",
   "execution_count": 2,
   "metadata": {
    "jupyter": {
     "source_hidden": true
    }
   },
   "outputs": [],
   "source": [
    "# ## 1) Запишете группы данных из файла teo2b2_energy_no-acoust.spec в отдельные файлы и сложите из в папку scans.\n",
    "\n",
    "# with open('teo2b2_energy_no-acoust.spec', 'r', encoding='utf-8') as file:\n",
    "#     for line in file:\n",
    "#         # В случае начала скана создаем файл и записываем строку\n",
    "#         if line[0:2] == '#S':\n",
    "#             filename = 'scan' + line[3:8] + '.txt'\n",
    "#             f = open(filename, \"a\")\n",
    "#             f.write(line)\n",
    "            \n",
    "#         # В случае конца скана закрываем файл для записи    \n",
    "#         elif line[0:20] == '#C Acquisition ended':\n",
    "#             f.close()\n",
    "        \n",
    "#         # Пустые строки пропускаем    \n",
    "#         elif line == '\\n':\n",
    "#             continue\n",
    "        \n",
    "#         # Остальные строки записываем в файл?\n",
    "#         else:\n",
    "#             f.write(line) "
   ]
  },
  {
   "cell_type": "code",
   "execution_count": null,
   "metadata": {},
   "outputs": [],
   "source": []
  },
  {
   "cell_type": "code",
   "execution_count": 7,
   "metadata": {},
   "outputs": [],
   "source": [
    "# 3) Для данных из каждого файла апроксимируйте зависимость lmbd_countsroi1(omega) функцией Лоренца.\n",
    "# Создаем функцию, которая принимает имя файла, названия столбцов x и y, название апроксимирующей функции.\n",
    "# А возвращает пределы интегрирования и параметры апроксимируюущей функции.\n",
    "\n",
    "def Lorentzian(x, amp, cen, wid):\n",
    "    return (amp*wid**2/((x-cen)**2+wid**2))\n",
    "\n",
    "def data_approx(filename, xname, yname, approx_func):\n",
    "    # Считываем данные из файла\n",
    "    cols = 'Pt_No  omega  eh_c01  eh_t01  sl_mon_b_vol  sl_mon_t_vol \\\n",
    "    lmbd_countsroi1  lmbd_countsroi1_atten  lmbd_countsroi2  lmbd_countsroi2_atten  \\\n",
    "    lmbd_countsroi3  lmbd_countsroi3_atten  dt'.split()\n",
    "\n",
    "    data = pd.read_csv(filename, sep = ' ', skiprows = 28, names = cols)\n",
    "    x = np.array(data['omega'])\n",
    "    y = np.array(data['lmbd_countsroi1'])\n",
    "       \n",
    "    # приблизительно оцениваем начальные параметры\n",
    "    amp = max(y)\n",
    "    cen = sum(x * y) / sum(y)\n",
    "    mean = sum(x * y) / sum(y)\n",
    "    wid = np.sqrt(sum(y * (x - mean)**2) / sum(y))\n",
    "    \n",
    "    # Аппроксимируем данные\n",
    "    pars, cov = curve_fit(f=approx_func, xdata=x, ydata=y, p0=[amp, cen, wid], bounds=(-np.inf, np.inf))\n",
    "    return(x[0], x[-1], pars)\n",
    "\n",
    "# Аргументы для тестирования:\n",
    "#xname = 'omega'\n",
    "#yname = 'lmbd_countsroi1'\n",
    "#filename = 'scans/scan13555.txt'\n",
    "#approx_func = Lorentzian\n",
    "#x_first, x_last, pars = data_approx(filename, xname, yname, approx_func)"
   ]
  },
  {
   "cell_type": "code",
   "execution_count": 4,
   "metadata": {},
   "outputs": [],
   "source": [
    "# 4) Вычисляет интеграл под аппроксимирующей кривой, полученное значение записывает в список Intensity;\n",
    "# Cоздаем функцию, которая принимает:\n",
    "# - пределы интегрирования,\n",
    "# - функцию которую интегрируем,\n",
    "# - параметры апроксимирующей кривой \n",
    "# и возвращает определенный интеграл.\n",
    "\n",
    "def data_integral(x_first, x_last, func, pars):\n",
    "    local_intensity, err = quad(func, x_first, x_last, args = tuple(pars))\n",
    "    return(local_intensity)\n",
    "\n",
    "#data_integral(x_first, x_last, approx_func, pars)"
   ]
  },
  {
   "cell_type": "code",
   "execution_count": 5,
   "metadata": {},
   "outputs": [],
   "source": [
    "# 5) из строки, начинающейся с \"#P10\" извлекает значение энергии для данного скана (выглядит как 4928.421875) и записывает в список Energy;\n",
    "# создаем соответствующую функцию\n",
    "\n",
    "def extract_energy(filename):\n",
    "    with open(filename, 'r') as file:\n",
    "        content = file.readlines()\n",
    "    s = content[25]\n",
    "    list = s.split()\n",
    "    local_energy = float(list[1])\n",
    "    return(local_energy)\n",
    "\n",
    "#extract_energy(filename)"
   ]
  },
  {
   "cell_type": "code",
   "execution_count": 10,
   "metadata": {},
   "outputs": [
    {
     "data": {
      "text/plain": [
       "[<matplotlib.lines.Line2D at 0x7fe8e8911d60>]"
      ]
     },
     "execution_count": 10,
     "metadata": {},
     "output_type": "execute_result"
    },
    {
     "data": {
      "image/png": "[encoded data removed]",
      "text/plain": [
       "<Figure size 432x288 with 1 Axes>"
      ]
     },
     "metadata": {
      "needs_background": "light"
     },
     "output_type": "display_data"
    }
   ],
   "source": [
    "# Последовательно считывайте данные из файлов в диапазоне 15049-15309,\n",
    "# извлекая значения local_intensity и local_energy\n",
    "# Постройте график Intensity(Energy)\n",
    "\n",
    "# Задаем дипапазон номеров сканов, которые хотим построить\n",
    "scanrange = range(13535, 13595) \n",
    "\n",
    "xname = 'omega'\n",
    "yname = 'lmbd_countsroi1'\n",
    "approx_func = Lorentzian\n",
    "\n",
    "Intensity = []\n",
    "Energy = []\n",
    "\n",
    "for i in scanrange:\n",
    "    filename = 'scans/scan' + str(i) + '.txt'\n",
    "    file_exists = os.path.exists(filename)\n",
    "    if file_exists:\n",
    "        #print(filename)\n",
    "        x_first, x_last, pars = data_approx(filename, xname, yname, approx_func)\n",
    "        #print(pars)\n",
    "        local_intensity = data_integral(x_first, x_last, approx_func, pars)\n",
    "        #print(local_intensity)\n",
    "        local_energy = extract_energy(filename)\n",
    "        Intensity.append(local_intensity)\n",
    "        Energy.append(local_energy)\n",
    "\n",
    "        \n",
    "plt.plot(Energy, Intensity)"
   ]
  },
  {
   "cell_type": "code",
   "execution_count": null,
   "metadata": {},
   "outputs": [],
   "source": []
  }
 ],
 "metadata": {
  "kernelspec": {
   "display_name": "Python 3",
   "language": "python",
   "name": "python3"
  },
  "language_info": {
   "codemirror_mode": {
    "name": "ipython",
    "version": 3
   },
   "file_extension": ".py",
   "mimetype": "text/x-python",
   "name": "python",
   "nbconvert_exporter": "python",
   "pygments_lexer": "ipython3",
   "version": "3.8.5"
  }
 },
 "nbformat": 4,
 "nbformat_minor": 4
}
