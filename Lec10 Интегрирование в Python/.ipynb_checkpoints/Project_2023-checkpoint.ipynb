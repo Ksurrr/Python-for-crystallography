{
 "cells": [
  {
   "cell_type": "code",
   "execution_count": null,
   "metadata": {},
   "outputs": [],
   "source": []
  },
  {
   "cell_type": "markdown",
   "metadata": {},
   "source": [
    "## Проект\n",
    "\n",
    "1. Запишите группы данных из файла teo2b2_energy_no-acoust.spec в отдельные файлы и сложите их в папку scans.\n",
    "\n",
    "2. Создайте функцию data_approx, которая принимает: имя файла с данными, имена столбцов с данными x и y, название аппроксимирующей функции; и возвращает: параметры апроксимирующей функции, x[0] и x[-1].\n",
    "\n",
    "3. Создайте функцию data_integral, которая которая принимает: x[0], x[-1], функцию для интегрирования и параметры этой функции, возвращает значение интеграла.\n",
    "\n",
    "4. Создайте функцию, extract_energy которая принимает имя файла, и возвращает значение энергии. Из строки, начинающейся с \"#P10\" извлекает значение энергии для данного скана (выглядит как 4928.421875) и записывает в список Energy;\n",
    "\n",
    "Для каждого файла в папке scans, пользуясь созданными функциями: вычислите интеграл от аппроксимирующей функции для столбца 'lmbd_countsroi1', запишите результат в список Intensity, постройте график Intensity(Energy)."
   ]
  },
  {
   "cell_type": "code",
   "execution_count": 1,
   "metadata": {
    "tags": []
   },
   "outputs": [],
   "source": [
    "## Список импортируемых библиотек"
   ]
  },
  {
   "cell_type": "code",
   "execution_count": 2,
   "metadata": {},
   "outputs": [],
   "source": [
    "## 1) Запишете группы данных из файла teo2b2_energy_no-acoust.spec в отдельные файлы и сложите их в папку scans.\n",
    "\n",
    "with open('teo2b2_energy_no-acoust.spec', 'r', encoding='utf-8') as file:\n"
   ]
  },
  {
   "cell_type": "markdown",
   "metadata": {},
   "source": [
    "Получившие файлы сложите в папку scans и закомментируйте предыдущую ячейку (ctr+/)"
   ]
  },
  {
   "cell_type": "code",
   "execution_count": 3,
   "metadata": {},
   "outputs": [],
   "source": [
    "# 2) Для данных из каждого файла аппроксимируйте зависимость lmbd_countsroi1(omega) функцией Лоренца.\n",
    "# Создаем функцию, которая принимает имя файла, названия столбцов x и y, название аппроксимирующей функции.\n",
    "# А возвращает пределы интегрирования и параметры аппроксимирующей функции.\n",
    "\n",
    "def lorentzian(x, amp, cen, wid):\n",
    "    return (amp * wid**2 / ((x-cen)**2 + wid**2))\n",
    "\n",
    "def data_approx(filename, xname, yname, approx_func):\n",
    "    #return(x_first, x_last, pars)\n",
    "    pass\n",
    "\n",
    "# Аргументы для тестирования функции:\n",
    "xname = 'omega'\n",
    "yname = 'lmbd_countsroi1'\n",
    "filename = 'scans/scan13555.txt'\n",
    "approx_func = lorentzian\n",
    "data_approx(filename, xname, yname, approx_func)"
   ]
  },
  {
   "cell_type": "code",
   "execution_count": 4,
   "metadata": {},
   "outputs": [],
   "source": [
    "# 4) Вычисляет интеграл под аппроксимирующей кривой, полученное значение записывает в список Intensity;\n",
    "# Cоздаем функцию, которая принимает:\n",
    "# - пределы интегрирования,\n",
    "# - функцию которую интегрируем,\n",
    "# - параметры апроксимирующей кривой \n",
    "# и возвращает определенный интеграл.\n",
    "\n",
    "def data_integral(x_first, x_last, func, pars):\n",
    "    #return(local_intensity)\n",
    "    pass\n",
    "\n",
    "#data_integral(x_first, x_last, approx_func, pars)"
   ]
  },
  {
   "cell_type": "code",
   "execution_count": 5,
   "metadata": {},
   "outputs": [],
   "source": [
    "# 5) из строки, начинающейся с \"#P10\" извлекает значение энергии для данного скана (выглядит как 4928.421875) и записывает в список Energy;\n",
    "# создаем соответствующую функцию\n",
    "\n",
    "def extract_energy(filename):\n",
    "    #return(local_energy)\n",
    "    pass\n",
    "\n",
    "#extract_energy(filename)"
   ]
  },
  {
   "cell_type": "code",
   "execution_count": 4,
   "metadata": {},
   "outputs": [
    {
     "ename": "NameError",
     "evalue": "name 'os' is not defined",
     "output_type": "error",
     "traceback": [
      "\u001b[0;31m---------------------------------------------------------------------------\u001b[0m",
      "\u001b[0;31mNameError\u001b[0m                                 Traceback (most recent call last)",
      "\u001b[0;32m/var/folders/rx/dxflms6s17j87b5_bsjhzcfr0000gn/T/ipykernel_38016/1389745764.py\u001b[0m in \u001b[0;36m<module>\u001b[0;34m\u001b[0m\n\u001b[1;32m     15\u001b[0m \u001b[0;32mfor\u001b[0m \u001b[0mi\u001b[0m \u001b[0;32min\u001b[0m \u001b[0mscanrange\u001b[0m\u001b[0;34m:\u001b[0m\u001b[0;34m\u001b[0m\u001b[0;34m\u001b[0m\u001b[0m\n\u001b[1;32m     16\u001b[0m     \u001b[0mfilename\u001b[0m \u001b[0;34m=\u001b[0m \u001b[0;34m'scans/scan'\u001b[0m \u001b[0;34m+\u001b[0m \u001b[0mstr\u001b[0m\u001b[0;34m(\u001b[0m\u001b[0mi\u001b[0m\u001b[0;34m)\u001b[0m \u001b[0;34m+\u001b[0m \u001b[0;34m'.txt'\u001b[0m\u001b[0;34m\u001b[0m\u001b[0;34m\u001b[0m\u001b[0m\n\u001b[0;32m---> 17\u001b[0;31m     \u001b[0mfile_exists\u001b[0m \u001b[0;34m=\u001b[0m \u001b[0mos\u001b[0m\u001b[0;34m.\u001b[0m\u001b[0mpath\u001b[0m\u001b[0;34m.\u001b[0m\u001b[0mexists\u001b[0m\u001b[0;34m(\u001b[0m\u001b[0mfilename\u001b[0m\u001b[0;34m)\u001b[0m\u001b[0;34m\u001b[0m\u001b[0;34m\u001b[0m\u001b[0m\n\u001b[0m\u001b[1;32m     18\u001b[0m     \u001b[0;32mif\u001b[0m \u001b[0mfile_exists\u001b[0m\u001b[0;34m:\u001b[0m\u001b[0;34m\u001b[0m\u001b[0;34m\u001b[0m\u001b[0m\n\u001b[1;32m     19\u001b[0m         \u001b[0mx_first\u001b[0m\u001b[0;34m,\u001b[0m \u001b[0mx_last\u001b[0m\u001b[0;34m,\u001b[0m \u001b[0mpars\u001b[0m \u001b[0;34m=\u001b[0m \u001b[0mdata_approx\u001b[0m\u001b[0;34m(\u001b[0m\u001b[0mfilename\u001b[0m\u001b[0;34m,\u001b[0m \u001b[0mxname\u001b[0m\u001b[0;34m,\u001b[0m \u001b[0myname\u001b[0m\u001b[0;34m,\u001b[0m \u001b[0mapprox_func\u001b[0m\u001b[0;34m)\u001b[0m\u001b[0;34m\u001b[0m\u001b[0;34m\u001b[0m\u001b[0m\n",
      "\u001b[0;31mNameError\u001b[0m: name 'os' is not defined"
     ]
    }
   ],
   "source": [
    "# Последовательно считывайте данные из файлов в диапазоне 15049-15309,\n",
    "# извлекая значения local_intensity и local_energy и записывая их в списки Intensity и Energy\n",
    "# Постройте график Intensity(Energy)\n",
    "\n",
    "# Задаем диапазон номеров сканов, которые хотим построить\n",
    "scanrange = range(13535, 13595) \n",
    "\n",
    "xname = 'omega'\n",
    "yname = 'lmbd_countsroi1'\n",
    "approx_func = lorentzian\n",
    "\n",
    "Intensity = []\n",
    "Energy = []\n",
    "\n",
    "for i in scanrange:\n",
    "    filename = 'scans/scan' + str(i) + '.txt'\n",
    "    file_exists = os.path.exists(filename)\n",
    "    if file_exists:\n",
    "        x_first, x_last, pars = data_approx(filename, xname, yname, approx_func)\n",
    "        local_intensity = data_integral(x_first, x_last, approx_func, pars)\n",
    "        local_energy = extract_energy(filename)\n"
   ]
  },
  {
   "cell_type": "code",
   "execution_count": null,
   "metadata": {},
   "outputs": [],
   "source": []
  }
 ],
 "metadata": {
  "kernelspec": {
   "display_name": "Python 3 (ipykernel)",
   "language": "python",
   "name": "python3"
  },
  "language_info": {
   "codemirror_mode": {
    "name": "ipython",
    "version": 3
   },
   "file_extension": ".py",
   "mimetype": "text/x-python",
   "name": "python",
   "nbconvert_exporter": "python",
   "pygments_lexer": "ipython3",
   "version": "3.9.7"
  }
 },
 "nbformat": 4,
 "nbformat_minor": 4
}
