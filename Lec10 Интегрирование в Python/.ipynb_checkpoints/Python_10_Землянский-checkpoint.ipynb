{
 "cells": [
  {
   "cell_type": "markdown",
   "id": "3b5f00ab",
   "metadata": {},
   "source": [
    "# Интегрирование в Python\n",
    "\n",
    "- [Аналитическое решение неопределённых интегралов](#Аналитическое-решение-неопределённых-интегралов)\n",
    "    - [Пример 1](#Пример-1)\n",
    "    - [Пример 2](#Пример-2)\n",
    "    - [Пример 3](#Пример-3)\n",
    "    - [Задача 1](#Задача-1)\n",
    "- [Численное интегрирование функций](#Численное-интегрирование-функций)\n",
    "    - [Функция quad](#Функция-quad)\n",
    "    - [Численное интегрирование функций с особыми точками](#Численное-интегрирование-функций-с-особыми-точками)\n",
    "    - [Задача 2](#Задача-2)\n",
    "- [Интегрирование данных](#Интегрирование-данных)\n",
    "- [Задача 3](#Задача-3)\n",
    "\n",
    "Необходимые файлы:\n",
    "- spectr.csv\n",
    "- teo2b2_energy_no-acoust.spec\n",
    "- trapezoidal_rule.png\n",
    "\n"
   ]
  },
  {
   "cell_type": "code",
   "execution_count": 4,
   "id": "2a88b122",
   "metadata": {},
   "outputs": [],
   "source": [
    "import matplotlib.pyplot as plt\n",
    "import numpy as np\n",
    "import pandas as pd\n",
    "import sympy as smp  # бибилиотека для аналитичекой работы с функциями\n",
    "from scipy.integrate import cumulative_trapezoid  # функция для интегрирования данных\n",
    "from scipy.integrate import quad  # функция для численного интегрирования\n",
    "from scipy.optimize import curve_fit"
   ]
  },
  {
   "cell_type": "code",
   "execution_count": null,
   "id": "e1a40d1d-8d62-4b67-a321-607258b2d29f",
   "metadata": {},
   "outputs": [],
   "source": []
  },
  {
   "cell_type": "markdown",
   "id": "e14d822c",
   "metadata": {},
   "source": [
    "## Аналитическое решение неопределённых интегралов\n",
    "\n",
    "Для работы с символьными выражениями в Python создана библиотека **sympy**. Документация к ней находится по ссылке: https://docs.sympy.org/latest/index.html"
   ]
  },
  {
   "cell_type": "markdown",
   "id": "e3d79412",
   "metadata": {},
   "source": [
    "Если нам известно, как в явном виде записывается функция $f(x) = ...$ то возможны два случая:\n",
    "\n",
    "1) Для функции существует превообразная и интеграл $\\int f(x) = F(x)$ можно найти аналитически.\n",
    "\n",
    "2) Первообразной не существует, но в заданных пределах можно получить численное значение интеграла.\n",
    "\n",
    "Рассмотрим как с помошью Python брать интегралы аналитически."
   ]
  },
  {
   "cell_type": "markdown",
   "id": "51b3559a",
   "metadata": {},
   "source": [
    "### Пример 1\n",
    "\n",
    "$ \\int \\sin^3 (x) e^{-5x}dx$:"
   ]
  },
  {
   "cell_type": "code",
   "execution_count": null,
   "id": "66255f12",
   "metadata": {},
   "outputs": [],
   "source": [
    "# Определяем символы в sympy\n",
    "\n",
    "x = smp.symbols(\"x\", real=True)\n",
    "x"
   ]
  },
  {
   "cell_type": "code",
   "execution_count": null,
   "id": "69a2209b",
   "metadata": {},
   "outputs": [],
   "source": [
    "smp.sin(x ** 2)"
   ]
  },
  {
   "cell_type": "code",
   "execution_count": null,
   "id": "52d58a00",
   "metadata": {},
   "outputs": [],
   "source": [
    "# перед математическими функциями добавляем smp, как до этого np и math\n",
    "\n",
    "f = smp.sin(x) ** 3 * smp.exp(-5 * x)\n",
    "f"
   ]
  },
  {
   "cell_type": "markdown",
   "id": "9a311db6",
   "metadata": {},
   "source": [
    "Для интегрирования пользуемся функцией **integrate** с обязательными параметрами в виде интегрируемой функции и переменной интегрирования:"
   ]
  },
  {
   "cell_type": "code",
   "execution_count": null,
   "id": "ffce21bb",
   "metadata": {},
   "outputs": [],
   "source": [
    "x = smp.symbols(\"x\", real=True)\n",
    "f = smp.sin(x) ** 3 * smp.exp(-5 * x)\n",
    "F = smp.integrate(f, x).simplify()\n",
    "F"
   ]
  },
  {
   "cell_type": "markdown",
   "id": "f17f3083",
   "metadata": {},
   "source": [
    "### Пример 2\n",
    "\n",
    "$ \\int cos(bx) e^{-ax}dx$"
   ]
  },
  {
   "cell_type": "code",
   "execution_count": null,
   "id": "e84f16b0",
   "metadata": {},
   "outputs": [],
   "source": [
    "a, b = smp.symbols(\"a b\")\n",
    "f = smp.cos(b * x) * smp.exp(-a * x)\n",
    "smp.integrate(f, x)"
   ]
  },
  {
   "cell_type": "markdown",
   "id": "bb848a13",
   "metadata": {},
   "source": [
    "Если вам заранее известно, что параметры действительные и положительные, или наоборот, стоит указывать это сразу:"
   ]
  },
  {
   "cell_type": "code",
   "execution_count": null,
   "id": "a662b4e2",
   "metadata": {},
   "outputs": [],
   "source": [
    "a, b = smp.symbols(\"a b\", real=True, positive=True)\n",
    "f = smp.cos(b * x) * smp.exp(-a * x)\n",
    "F = smp.integrate(f, x)\n",
    "F"
   ]
  },
  {
   "cell_type": "markdown",
   "id": "53e2b4fa",
   "metadata": {},
   "source": [
    "Еще одна полезная опция для громоздких выражений **simplify**:"
   ]
  },
  {
   "cell_type": "code",
   "execution_count": null,
   "id": "7987189b",
   "metadata": {},
   "outputs": [],
   "source": [
    "a, b = smp.symbols(\"a b\", real=True, positive=True)\n",
    "f = smp.cos(b * x) * smp.exp(-a * x)\n",
    "F = smp.integrate(f, x).simplify()\n",
    "F"
   ]
  },
  {
   "cell_type": "markdown",
   "id": "250b183a",
   "metadata": {},
   "source": [
    "### Пример 3\n",
    "\n",
    "$ \\int \\frac{(1 + \\sqrt{x})^{1/3}}{\\sqrt x} dx $\n",
    "\n",
    "При работе с рациональными дробями в sympy, следует явно их указывать с помощью функции **Rational**, чтобы избежать вычисления дроби и работы с полученным результатом в формате float:"
   ]
  },
  {
   "cell_type": "code",
   "execution_count": null,
   "id": "5617197f",
   "metadata": {},
   "outputs": [],
   "source": [
    "f = (1 + smp.sqrt(x)) ** smp.Rational(1, 3) / smp.sqrt(x)\n",
    "smp.integrate(f, x).simplify()"
   ]
  },
  {
   "cell_type": "markdown",
   "id": "9456ee50",
   "metadata": {},
   "source": [
    "### Задача 1\n",
    "\n",
    "Пользуясь документацией вычислите определенный интеграл:\n",
    "\n",
    "$ \\int^{\\infty}_{0} \\frac{16 \\arctan(x)}{1 + x^2}dx $"
   ]
  },
  {
   "cell_type": "markdown",
   "id": "aa8cb090",
   "metadata": {},
   "source": [
    "## Численное интегрирование функций\n",
    "\n",
    "Если интеграл не имеет аналитического решения, или аналитическая запись вам не нужна, а нужно только быстро получить значение определенного интеграла, можно воспользоваться функцией **quad**\n",
    "\n",
    "### Функция quad\n",
    "\n",
    "Вычислим помощью функции **scipy.integrate.quad** интеграл\n",
    "\n",
    "$I(f) =  \\int_{1}^{2} (x + 1) \\,dx $.\n",
    "\n",
    "Обязательные аргументы функции **quad** - функция для интегрирования и пределы интегрирования."
   ]
  },
  {
   "cell_type": "code",
   "execution_count": null,
   "id": "d5833b59",
   "metadata": {
    "tags": []
   },
   "outputs": [],
   "source": [
    "def f(x):\n",
    "    return x + 1\n",
    "\n",
    "\n",
    "v, err = quad(f, 1, 2)\n",
    "print(v)"
   ]
  },
  {
   "cell_type": "markdown",
   "id": "f8cd5ad8",
   "metadata": {},
   "source": [
    "Если мы интегрируем функцию с параметрами, например\n",
    "\n",
    "$I(f) =  \\int_{1}^{2} (a x + b) \\,dx $,\n",
    "\n",
    "то параметры можно указать в качестве необязательного аргумента **quad**, при этом список аргументов представляет из себя кортеж:"
   ]
  },
  {
   "cell_type": "code",
   "execution_count": null,
   "id": "9be22eb6",
   "metadata": {},
   "outputs": [],
   "source": [
    "def f(x, a, b):\n",
    "    return a * x + b\n",
    "\n",
    "\n",
    "v, err = quad(f, 1, 2, args=(-1, 1))\n",
    "print(v)"
   ]
  },
  {
   "cell_type": "markdown",
   "id": "e1f4657b",
   "metadata": {},
   "source": [
    " Если вы получили параметры в виде списка (например при аппроксимации), то их нужно сначала преобразовать в кортеж с помощью встроенной функции **tuple**:\n",
    " \n",
    "**args = tuple(pars)** "
   ]
  },
  {
   "cell_type": "markdown",
   "id": "909294c6",
   "metadata": {},
   "source": [
    "### Численное интегрирование функций с особыми точками\n",
    "\n",
    "Рассмотрим функцию с особой точкой в нуле:\n",
    "\n",
    "$I(f) =  \\int_{-1}^{1} \\frac{1}{\\sqrt{|x|}} \\,dx $.\n",
    "\n",
    "Если проинтегрировать ее так же, как предыдущие функции, получим значение интеграла бесконечность  и сообщение об ошибке деления на ноль:\n",
    "    "
   ]
  },
  {
   "cell_type": "code",
   "execution_count": null,
   "id": "c51d981d",
   "metadata": {},
   "outputs": [],
   "source": [
    "def f(x):\n",
    "    return 1 / np.sqrt(abs(x))\n",
    "\n",
    "\n",
    "v, err = quad(f, -1, 1)\n",
    "print(v)"
   ]
  },
  {
   "cell_type": "markdown",
   "id": "cf772188",
   "metadata": {},
   "source": [
    "Функция **quad** позволяет указывать особые точки в виде списка:"
   ]
  },
  {
   "cell_type": "code",
   "execution_count": null,
   "id": "c6d34760",
   "metadata": {},
   "outputs": [],
   "source": [
    "def f(x):\n",
    "    return 1 / np.sqrt(abs(x))\n",
    "\n",
    "\n",
    "v, err = quad(f, -1, 1, points=[0])\n",
    "print(v)"
   ]
  },
  {
   "cell_type": "markdown",
   "id": "777b8276",
   "metadata": {},
   "source": [
    "### Задача 2\n",
    "\n",
    "Аппроксимируйте данные данные из файла scan55555.txt спомощью функции Лоренца и вычислите интеграл от получившейся кривой."
   ]
  },
  {
   "cell_type": "code",
   "execution_count": 2,
   "id": "c17945bd",
   "metadata": {},
   "outputs": [
    {
     "name": "stdout",
     "output_type": "stream",
     "text": [
      "163388.41055804442\n",
      "2.9736646463710513e-05\n"
     ]
    },
    {
     "data": {
      "image/png": "[encoded data removed]",
      "text/plain": [
       "<Figure size 640x480 with 1 Axes>"
      ]
     },
     "metadata": {},
     "output_type": "display_data"
    }
   ],
   "source": [
    "import matplotlib.pyplot as plt\n",
    "import numpy as np\n",
    "import pandas as pd\n",
    "import scipy as sp\n",
    "import sympy as smp  # бибилиотека для аналитичекой работы с функциями\n",
    "from scipy.integrate import cumulative_trapezoid  # функция для интегрирования данных\n",
    "from scipy.integrate import quad  # функция для численного интегрирования\n",
    "from scipy.optimize import curve_fit\n",
    "\n",
    "cols = \"Pt_No  omega  eh_c01  eh_t01  sl_mon_b_vol  sl_mon_t_vol \\\n",
    "lmbd_countsroi1  lmbd_countsroi1_atten  lmbd_countsroi2  lmbd_countsroi2_atten  \\\n",
    "lmbd_countsroi3  lmbd_countsroi3_atten  dt\".split()\n",
    "\n",
    "data = pd.read_csv(\"scan13555.txt\", sep=\" \", skiprows=28, names=cols)\n",
    "data.head(4)\n",
    "\n",
    "x = np.array(data[\"omega\"])\n",
    "y = np.array(data[\"lmbd_countsroi1\"])\n",
    "x_new = np.linspace(x[0], x[-1], 200)\n",
    "\n",
    "\n",
    "def Lorentz(x, ampl, x0, gamma):\n",
    "    return ampl / (np.pi * gamma) * gamma ** 2 / ((x - x0) ** 2 + gamma ** 2)\n",
    "\n",
    "\n",
    "ampl = max(y)\n",
    "x0 = sum(x * y) / sum(y)\n",
    "gamma = np.sqrt(sum(y * (x - x0) ** 2) / sum(y))\n",
    "\n",
    "pars, cov = curve_fit(\n",
    "    f=Lorentz, xdata=x, ydata=y, p0=[ampl, x0, gamma], bounds=(-np.inf, np.inf)\n",
    ")\n",
    "\n",
    "plt.plot(x, y, \"ro\")\n",
    "plt.plot(x_new, Lorentz(x_new, *pars))\n",
    "\n",
    "v, err = quad(Lorentz, x[0], x[-1], args=(ampl, x0, gamma))\n",
    "print(v)\n",
    "print(err)"
   ]
  },
  {
   "cell_type": "markdown",
   "id": "f959bb55",
   "metadata": {},
   "source": [
    "## Интегрирование данных"
   ]
  },
  {
   "cell_type": "markdown",
   "id": "2508b37f",
   "metadata": {},
   "source": [
    "Если вы имеете дело с данными, для которых не можете подобрать апроксимирующую функцию, можно воспользоваться интегрированием по методу трапеций.\n",
    "\n",
    "<img src = 'trapezoidal_rule.png' width = 200>\n",
    "\n",
    "Для этого можно использовать функцию **numpy.trapz** или scipy.integrate.trapz, они работают одинакого.\n",
    "\n",
    "Загрузим данные из файла:"
   ]
  },
  {
   "cell_type": "code",
   "execution_count": null,
   "id": "ee54ab4a",
   "metadata": {},
   "outputs": [],
   "source": [
    "data = pd.read_csv(\"spectr.csv\")\n",
    "data.head(4)"
   ]
  },
  {
   "cell_type": "code",
   "execution_count": null,
   "id": "ba08739b",
   "metadata": {},
   "outputs": [],
   "source": [
    "x = np.array(data[\"Energy\"])\n",
    "y = np.array(data[\"Intensity\"])\n",
    "\n",
    "plt.plot(x, y, \"bo-\")\n",
    "plt.xlabel(\"Energy\")\n",
    "plt.ylabel(\"Intensity\")"
   ]
  },
  {
   "cell_type": "markdown",
   "id": "0915aa11",
   "metadata": {},
   "source": [
    "Функция **numpy.trapz** принимает один обязательный аргумент - значения y. Если доступны данные по x, записываем функцию в виде: \n",
    "\n",
    "**numpy.trapz(y, x=xdata)**\n",
    "\n",
    "Дополнительные параметры в описании: https://numpy.org/doc/stable/reference/generated/numpy.trapz.html"
   ]
  },
  {
   "cell_type": "code",
   "execution_count": null,
   "id": "a181ce47",
   "metadata": {},
   "outputs": [],
   "source": [
    "Int = np.trapz(y, x=x)\n",
    "Int"
   ]
  },
  {
   "cell_type": "markdown",
   "id": "e850dfa3",
   "metadata": {},
   "source": [
    "Для визуализации интеграла от данных используется **cumulative_trapezoid**"
   ]
  },
  {
   "cell_type": "code",
   "execution_count": null,
   "id": "9eb16c4e",
   "metadata": {},
   "outputs": [],
   "source": [
    "integral = cumulative_trapezoid(y, x, initial=0)\n",
    "\n",
    "plt.plot(x, y, label=\"data\")\n",
    "plt.plot(x, integral, label=\"Integral\")\n",
    "plt.xlabel(\"Energy\")\n",
    "plt.ylabel(\"Intensity\")\n",
    "plt.legend()\n",
    "plt.show()"
   ]
  },
  {
   "cell_type": "markdown",
   "id": "ca88874b-fd33-4bfa-8e54-987818a7318f",
   "metadata": {},
   "source": [
    "## Задача 3\n",
    "\n",
    "Запишете группы данных из файла teo2b2_energy_no-acoust.spec в отдельные файлы и сложите из в папку scans.\n",
    "\n",
    "Последовательно считывайте данные из файлов в диапазоне 15049-15309, при этом:\n",
    "\n",
    "1) Для данных из каждого файла аппроксимируйте зависимость lmbd_countsroi1(omega) функцией Лоренца.\n",
    "\n",
    "2) вычислите интеграл под аппроксимирующей кривой, полученное значение запишите в список Intensity; \n",
    "\n",
    "5) из строки, начинающейся с \"#P10\" извлеките значение энергии для данного скана (выглядит как 4928.421875) и запишите в список Energy;\n",
    "\n",
    "Постройте график Intensity(Energy)."
   ]
  },
  {
   "cell_type": "code",
   "execution_count": 8,
   "id": "cad850fa-7fef-4d77-8706-db93a7752fed",
   "metadata": {},
   "outputs": [
    {
     "data": {
      "text/plain": [
       "[<matplotlib.lines.Line2D at 0x7fbdbaed31f0>]"
      ]
     },
     "execution_count": 8,
     "metadata": {},
     "output_type": "execute_result"
    },
    {
     "data": {
      "image/png": "[encoded data removed]",
      "text/plain": [
       "<Figure size 432x288 with 1 Axes>"
      ]
     },
     "metadata": {
      "needs_background": "light"
     },
     "output_type": "display_data"
    }
   ],
   "source": [
    "import os\n",
    "\n",
    "import matplotlib.pyplot as plt\n",
    "import numpy as np\n",
    "import pandas as pd\n",
    "import scipy as sp\n",
    "import sympy as smp  # бибилиотека для аналитичекой работы с функциями\n",
    "from scipy.integrate import cumulative_trapezoid  # функция для интегрирования данных\n",
    "from scipy.integrate import quad  # функция для численного интегрирования\n",
    "from scipy.optimize import curve_fit\n",
    "\n",
    "\n",
    "def Lorentz(x, ampl, x0, gamma):\n",
    "    return ampl / (np.pi * gamma) * gamma ** 2 / ((x - x0) ** 2 + gamma ** 2)\n",
    "\n",
    "\n",
    "Intensity = []\n",
    "Energy = []\n",
    "\n",
    "#!!! Здесь вы еще не определили переменную data\n",
    "# x = np.array(data['omega'])\n",
    "# y = np.array(data['lmbd_countsroi1'])\n",
    "# x_new = np.linspace(x[0], x[-1], 200)\n",
    "\n",
    "#!!! Эта строка была пропущена\n",
    "cols = \"Pt_No  omega  eh_c01  eh_t01  sl_mon_b_vol  sl_mon_t_vol \\\n",
    "lmbd_countsroi1  lmbd_countsroi1_atten  lmbd_countsroi2  lmbd_countsroi2_atten  \\\n",
    "lmbd_countsroi3  lmbd_countsroi3_atten  dt\".split()\n",
    "\n",
    "\n",
    "for i in range(15049, 15310):\n",
    "    # if os.path.exists('scan' + str(i) + '.dat') == True:\n",
    "    #!!!Вы трижды конструировали одно и то же имя файла, лучше ввести переменную\n",
    "    filename = \"scans/scan\" + str(i) + \".txt\"\n",
    "    if os.path.exists(filename) == True:\n",
    "        with open(filename) as file:\n",
    "            for line in file:\n",
    "                if line.startswith(\"#P10\"):\n",
    "                    Energy.append(float(line.split()[1]))\n",
    "                else:\n",
    "                    continue\n",
    "    #!!! Здесь у вас не было указателя на имена столбцов,\n",
    "    # а загружались данные из предыдущих задач\n",
    "    data = pd.read_csv(filename, sep=\" \", skiprows=28, names=cols)\n",
    "    x = np.array(data[\"omega\"])\n",
    "    y = np.array(data[\"lmbd_countsroi1\"])\n",
    "    ampl = max(y)\n",
    "    x0 = sum(x * y) / sum(y)\n",
    "    gamma = np.sqrt(sum(y * (x - x0) ** 2) / sum(y))\n",
    "    pars, cov = curve_fit(f=Lorentz, \n",
    "                          xdata=x, \n",
    "                          ydata=y, \n",
    "                          p0=[ampl, x0, gamma], \n",
    "                          bounds=(-np.inf, np.inf)\n",
    "                         )\n",
    "    val, err = quad(Lorentz, x[0], x[-1], args=(ampl, x0, gamma))\n",
    "    Intensity.append(val)\n",
    "\n",
    "plt.plot(Energy, Intensity)"
   ]
  },
  {
   "cell_type": "code",
   "execution_count": null,
   "id": "c57c2cf7-3dd4-4fd4-8a33-dc3c4e5379f6",
   "metadata": {},
   "outputs": [],
   "source": []
  },
  {
   "cell_type": "code",
   "execution_count": null,
   "id": "6e043b30-c115-4194-9423-8ccb9d7aff8c",
   "metadata": {},
   "outputs": [],
   "source": []
  }
 ],
 "metadata": {
  "kernelspec": {
   "display_name": "Python 3 (ipykernel)",
   "language": "python",
   "name": "python3"
  },
  "language_info": {
   "codemirror_mode": {
    "name": "ipython",
    "version": 3
   },
   "file_extension": ".py",
   "mimetype": "text/x-python",
   "name": "python",
   "nbconvert_exporter": "python",
   "pygments_lexer": "ipython3",
   "version": "3.9.7"
  }
 },
 "nbformat": 4,
 "nbformat_minor": 5
}
