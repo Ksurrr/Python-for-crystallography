{
 "cells": [
  {
   "cell_type": "markdown",
   "id": "6e8f864e-a09e-48cc-b7b6-7201a16a3ccf",
   "metadata": {},
   "source": [
    "# Анимация в Matplotlib\n",
    "\n",
    "## Содержание\n",
    "\n",
    "- [PEP8](#PEP8)\n",
    "- [Функция FuncAnimation](#Функция-FuncAnimation)\n",
    "- [Задача 1](#Задача-1)\n",
    "- [Задача 2](#Задача-2)\n",
    "- [Задача 3](#Задача-3)\n",
    "\n",
    "Необходимые файлы:\n",
    "- sincos.gif\n",
    "- jupyterlab-code-formatter-icon.png"
   ]
  },
  {
   "attachments": {
    "c746148c-8b2f-442c-9e48-6116086bb8bd.png": {
     "image/png": "[encoded data removed]"
    }
   },
   "cell_type": "markdown",
   "id": "7f407a84-3528-4fa5-af66-c487ba62e646",
   "metadata": {},
   "source": [
    "## PEP8\n",
    "\n",
    "PEP8 - это перечень принципов написания красивого и лаконичного программного кода на языке Python. Ознакомиться с основными принципами на на русском языке можно по ссылке: https://letpy.com/python-guide/pep8/\n",
    "\n",
    "Полный список на английском здесь: https://peps.python.org/pep-0008/\n",
    "\n",
    "Как сказал создатель Python, Гвидо Ван Россум: «Код читается гораздо чаще, чем пишется», поэтому важно сразу делать код читаемым и соблюдать общие правила, которые позволят другим людям читать и понимать ваш код.\n",
    "\n",
    "Для JupiterLab существует плагин, который автоматически форматирует код по правилам из PEP8. Для его установки запустите в Anaconda командную строку Qt console, и введите команду:\n",
    "\n",
    "pip install jupyterlab-code-formatter\n",
    "\n",
    "Затем перезапустите JupiterLab. В строке утилит над блокнотом должна появиться иконка\n",
    "\n",
    "![jupyterlab-code-formatter-icon.png](attachment:c746148c-8b2f-442c-9e48-6116086bb8bd.png)\n",
    "\n",
    "Нажатие на неё отформатирует ваш код для лучшей читаемости."
   ]
  },
  {
   "cell_type": "markdown",
   "id": "52aca6f4-3d34-42d2-ab6f-b5239938a450",
   "metadata": {},
   "source": [
    "## Функция FuncAnimation\n",
    "\n",
    "По умолчанию Jupyter отображает графики как статические изображения PNG, которые не могут быть анимированы. **matplotlib.widgets** - это набор интерактивных графических инструментов, он позволяет создавать кнопки редактирования параметров графика. При запуске по умолчанию дает небольшой набор инструментов и позволяет запускать анимацию.\n",
    "\n",
    "Для создания анимированного графика необходимо:\n",
    "\n",
    "1) создать графический объект figure и в нем координатные оси с помощью subplots. К созданному графическому объекту дальше сможет обращаться функция **matplotlib.animation.FuncAnimation**\n",
    "\n",
    "2) Задать пределы по осям с помощью функции **ax.axis([x_first, x_last, y_first, y_last])**\n",
    "\n",
    "2) В окне figure нужно поместить пустую линию **line, = ax.plot([], [])**, так как сама функция анимации ничего не создает, а только изменяет существующее.\n",
    "\n",
    "3) Возпользоваться вункцией **matplotlib.animation.FuncAnimation**.\n",
    "\n",
    "Описание функции **matplotlib.animation.FuncAnimation** находится по ссылке: https://matplotlib.org/3.5.0/api/_as_gen/matplotlib.animation.FuncAnimation.html\n",
    "\n",
    "Обязательные аргументы **matplotlib.animation.FuncAnimation**:\n",
    "\n",
    "- **fig** - графический объект, на котором будет создана анимация.\n",
    "\n",
    "- **animate** - функция, которая генерирует кадры. Её аргумент (i) отвечает за количество кадров.\n",
    "\n",
    "Дополнительные аргументы:\n",
    "\n",
    "- **frames** - количество кадров;\n",
    "\n",
    "- **interval** - время между сменой кадров в миллисекундах;\n",
    "\n",
    "- **Blit = True** - при создании нового кадра перерисовывает только части картинки, которые не были нарисованы раньше. Экономит время при создании сложных анимаций.\n",
    "\n",
    "- **repeat = False** - прекращает анимацию после отрисовки всех кадров. По умолчанию анимация запускается по кругу."
   ]
  },
  {
   "cell_type": "code",
   "execution_count": null,
   "id": "8bfcc81e-2634-45b3-a0b9-16039c203c27",
   "metadata": {},
   "outputs": [],
   "source": [
    "from IPython.display import HTML\n",
    "import numpy as np\n",
    "import matplotlib.animation\n",
    "import matplotlib.pyplot as plt\n",
    "%matplotlib widget\n",
    "# %matplotlib notebook\n",
    "# %matplotlib inline\n",
    "\n",
    "\n",
    "# Создаем вектора, содержащие точки линии, которую нужно построить\n",
    "x = np.linspace(0, 2*np.pi)\n",
    "y = np.sin(x)\n",
    "\n",
    "# Создаем графическое окно\n",
    "fig, ax = plt.subplots()\n",
    "# Задаем пределы по осям\n",
    "ax.axis([0, 2 * np.pi, -1, 1])\n",
    "\n",
    "# рисуем пустую линию, которую будем изменять в дальнейшем\n",
    "# ax.plot возвращает кортеж данных, выражение \"l,\" распаковывает кортеж\n",
    "line, = ax.plot([], [])\n",
    "\n",
    "# Создаем функцию, которая генерирует кадр, изменяя линию l\n",
    "\n",
    "\n",
    "def animate(i):\n",
    "    line.set_data(x[:i], y[:i])\n",
    "\n",
    "\n",
    "# Запускаем анимацию\n",
    "ani = matplotlib.animation.FuncAnimation(\n",
    "    fig, animate, frames=len(x) + 1, repeat=False)\n",
    "\n",
    "# Записать видео в файл\n",
    "# ani.save('sin.mp4')\n",
    "#ani.save('sin.gif', writer='imagemagick')\n",
    "\n",
    "# Создать интерактивное окно с другими опциями\n",
    "HTML(ani.to_jshtml())\n",
    "\n",
    "#from IPython.display import HTML\n",
    "# HTML(ani.to_html5_video())"
   ]
  },
  {
   "cell_type": "markdown",
   "id": "41d4e7a5-b5ab-4762-8d1b-f3c62e17967d",
   "metadata": {},
   "source": [
    "## Задача 1\n",
    "\n",
    "Измените приведенный код так, чтобы на анимации строились одновременно синус и косинус, как в sincos.gif."
   ]
  },
  {
   "cell_type": "code",
   "execution_count": null,
   "id": "437733a0-084f-41f1-aafe-5a1af1a5a64d",
   "metadata": {},
   "outputs": [],
   "source": [
    "import numpy as np\n",
    "import matplotlib.animation\n",
    "import matplotlib.pyplot as plt\n",
    "%matplotlib widget\n",
    "# %matplotlib notebook\n",
    "# %matplotlib inline\n",
    "\n",
    "\n",
    "x = np.linspace(0, 2*np.pi)\n",
    "y = np.sin(x)\n",
    "\n",
    "fig, ax = plt.subplots()\n",
    "ax.axis([0, 2*np.pi, -1, 1])\n",
    "line, = ax.plot([], [])\n",
    "\n",
    "\n",
    "def animate(i):\n",
    "    line.set_data(x[:i], y[:i])\n",
    "\n",
    "\n",
    "ani = matplotlib.animation.FuncAnimation(\n",
    "    fig, animate, frames=len(x) + 1, repeat=False)\n",
    "\n",
    "# Создать интерактивное окно с другими опциями\n",
    "#from IPython.display import HTML\n",
    "# HTML(ani.to_jshtml())"
   ]
  },
  {
   "cell_type": "markdown",
   "id": "47768c98-4cfe-4ab2-a3af-735e1f41a09e",
   "metadata": {},
   "source": [
    "## Задача 2\n",
    "\n",
    "Создайте анимацию, которая повторяет анимацию из ролика 'sincos.gif':\n",
    "кривые синус и косинус, изначально построены на всей области определения, и движутся вправо."
   ]
  },
  {
   "cell_type": "code",
   "execution_count": null,
   "id": "2f40b9ee-18e4-4cc4-9d5c-2f32859c94bd",
   "metadata": {},
   "outputs": [],
   "source": [
    "import numpy as np\n",
    "import matplotlib.animation\n",
    "import matplotlib.pyplot as plt\n",
    "%matplotlib widget\n",
    "\n",
    "\n",
    "fig, ax = plt.subplots()\n",
    "ax.axis([0, 2*np.pi, -1, 1])\n",
    "line1, = ax.plot([], [])\n",
    "line2, = ax.plot([], [])\n",
    "\n",
    "x = np.linspace(0, 2*np.pi)\n",
    "\n",
    "\n",
    "def animate(i):\n",
    "    pass\n",
    "\n",
    "\n",
    "ani = matplotlib.animation.FuncAnimation(\n",
    "    fig, animate, frames=len(x) + 1, repeat=False)"
   ]
  },
  {
   "cell_type": "markdown",
   "id": "cdb8c211-5e04-4ad8-961f-15ba9eb5791b",
   "metadata": {},
   "source": [
    "## Задача 3\n",
    "\n",
    "Создайте анимацию, которая строит один за другим графики lmbd_countsroi1(omega) из файлов scan в диапазоне от 13535 до 13595"
   ]
  },
  {
   "cell_type": "code",
   "execution_count": null,
   "id": "ab02277f-0928-4cac-970c-a928fb82acb6",
   "metadata": {
    "tags": []
   },
   "outputs": [],
   "source": [
    "import numpy as np\n",
    "import matplotlib.pyplot as plt\n",
    "import matplotlib.animation\n",
    "import pandas as pd\n",
    "\n",
    "# Задаем дипапазон номеров сканов, которые хотим построить\n",
    "scanrange = range(13535, 13595)\n",
    "\n",
    "xname = 'omega'\n",
    "yname = 'lmbd_countsroi1'\n",
    "\n",
    "fig, ax = plt.subplots()\n",
    "ax.axis()\n",
    "line, = ax.plot([], [], 'o-')\n",
    "\n",
    "\n",
    "def animate(i):\n",
    "    #"
   ]
  }
 ],
 "metadata": {
  "kernelspec": {
   "display_name": "Python 3 (ipykernel)",
   "language": "python",
   "name": "python3"
  },
  "language_info": {
   "codemirror_mode": {
    "name": "ipython",
    "version": 3
   },
   "file_extension": ".py",
   "mimetype": "text/x-python",
   "name": "python",
   "nbconvert_exporter": "python",
   "pygments_lexer": "ipython3",
   "version": "3.9.7"
  }
 },
 "nbformat": 4,
 "nbformat_minor": 5
}
