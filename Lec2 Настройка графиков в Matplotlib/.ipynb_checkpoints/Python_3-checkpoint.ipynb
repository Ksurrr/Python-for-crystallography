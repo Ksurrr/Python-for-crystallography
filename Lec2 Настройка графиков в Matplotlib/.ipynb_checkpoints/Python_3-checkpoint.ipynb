{
 "cells": [
  {
   "cell_type": "markdown",
   "id": "ca89668d-e3ee-432d-a27e-0473866d705d",
   "metadata": {},
   "source": [
    "# Содержание\n",
    "\n",
    "- [Функции и методы](#Функции-и-методы)\n",
    "    - [Функции и методы при работе со списками](#Функции-и-методы-при-работе-со-списками)\n",
    "    - [Функции и методы при работе с графиками](#Функции-и-методы-при-работе-с-графиками)"
   ]
  },
  {
   "cell_type": "code",
   "execution_count": null,
   "id": "cfcb6d4a-c30e-463d-b629-d1023580a977",
   "metadata": {},
   "outputs": [],
   "source": []
  }
 ],
 "metadata": {
  "kernelspec": {
   "display_name": "Python 3 (ipykernel)",
   "language": "python",
   "name": "python3"
  },
  "language_info": {
   "codemirror_mode": {
    "name": "ipython",
    "version": 3
   },
   "file_extension": ".py",
   "mimetype": "text/x-python",
   "name": "python",
   "nbconvert_exporter": "python",
   "pygments_lexer": "ipython3",
   "version": "3.9.0"
  }
 },
 "nbformat": 4,
 "nbformat_minor": 5
}
