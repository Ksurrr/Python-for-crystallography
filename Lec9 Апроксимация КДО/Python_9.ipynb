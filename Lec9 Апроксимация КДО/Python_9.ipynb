{
 "cells": [
  {
   "cell_type": "markdown",
   "metadata": {},
   "source": [
    "# Занятие 9. Аппроксимация в Python\n",
    "\n",
    "## Содержание\n",
    "\n",
    "- [Полиномы](#Полиномы)\n",
    "- [Апроксимация полиномом](#Апроксимация-полиномом)\n",
    "    - [Задача 1](#Задача-1)\n",
    "- [Аппроксимация функцией](#Аппроксимация-функцией)\n",
    "- [Аппроксимация КДО](#Аппроксимация-КДО)\n",
    "    - [Аппроксимация КДО функцией Гаусса](#Аппроксимация-КДО-функцией-Гаусса)\n",
    "    - [Аппроксимация КДО функцией Лоренца](#Аппроксимация-КДО-функцией-Лоренца)\n",
    "    - [Задача 2](#Задача-2)\n",
    "\n",
    "\n",
    "Необходимые файлы:\n",
    "- scan13555.txt\n",
    "- b2eed6.gif\n",
    "- 600px-Cauchy_pdf.svg.png"
   ]
  },
  {
   "cell_type": "markdown",
   "metadata": {},
   "source": [
    "## Полиномы\n",
    "\n",
    "Полином задается вектором из его коэффициентов, начиная с коэффициента при старшей степени. Например для определения полинома\n",
    "\n",
    "$P = x^7 + 1.7 x^5 - 4x^3 + x^2 - 0.1x +4$"
   ]
  },
  {
   "cell_type": "code",
   "execution_count": 1,
   "metadata": {},
   "outputs": [
    {
     "data": {
      "text/plain": [
       "3.6"
      ]
     },
     "execution_count": 1,
     "metadata": {},
     "output_type": "execute_result"
    }
   ],
   "source": [
    "import matplotlib.pyplot as plt\n",
    "import numpy as np\n",
    "\n",
    "P = [1, 0, 1.7, 0, -4, 1, -0.1, 4]\n",
    "\n",
    "# Вычислим значение полинома в точке 1:\n",
    "np.polyval(P, 1)"
   ]
  },
  {
   "cell_type": "code",
   "execution_count": 2,
   "metadata": {},
   "outputs": [
    {
     "data": {
      "image/png": "[encoded data removed]",
      "text/plain": [
       "<Figure size 432x288 with 1 Axes>"
      ]
     },
     "metadata": {
      "needs_background": "light"
     },
     "output_type": "display_data"
    }
   ],
   "source": [
    "# Вычислим значение полинома на диапазоне значений:\n",
    "\n",
    "x = np.linspace(-1.2, 1.2, 100)\n",
    "y = np.polyval(P, x)\n",
    "\n",
    "plt.plot(x, y)\n",
    "plt.xlabel(\"x\")\n",
    "plt.ylabel(\"y\")\n",
    "plt.title(\"$y(x) = x^7 + 1.7 x^5 - 4x^3 + x^2 - 0.1x +4$\")\n",
    "plt.show()"
   ]
  },
  {
   "cell_type": "markdown",
   "metadata": {},
   "source": [
    "## Аппроксимация полиномом\n",
    "\n",
    "При аппроксимации табличные данные моделируют кривой, которая не обязана проходить через все узловые точки, а должна как бы сгладить все случайные помехи табличной функции. Один из самых популярных методов аппроксимации – это метод наименьших квадратов (МНК). В этом методе аппроксимирующую кривую проводят так, чтобы её отклонения от табличных данных по всем узловым точкам были минимальными."
   ]
  },
  {
   "cell_type": "markdown",
   "metadata": {},
   "source": [
    "Создадим модель датасета на основе синуса. Это будут данные, которые мы будем пробовать апроксимировать полиномами."
   ]
  },
  {
   "cell_type": "code",
   "execution_count": 4,
   "metadata": {},
   "outputs": [
    {
     "data": {
      "image/png": "[encoded data removed]",
      "text/plain": [
       "<Figure size 432x288 with 1 Axes>"
      ]
     },
     "metadata": {
      "needs_background": "light"
     },
     "output_type": "display_data"
    }
   ],
   "source": [
    "import matplotlib.pyplot as plt\n",
    "import numpy as np\n",
    "\n",
    "# Моделируем экспериментальные данные синусом\n",
    "x = [-np.pi, -1, 0, 2, 3, np.pi]\n",
    "y = np.sin(x)\n",
    "\n",
    "plt.plot(x, y, \"o\")\n",
    "plt.show()"
   ]
  },
  {
   "cell_type": "markdown",
   "metadata": {},
   "source": [
    "Чтобы найти коэффициенты апроксимирующего полинома, используем функцию **np.polifit**, которая принимает в качестве аргументов данные в виде векторов x и y, и степень полинома. Результатом работы функции является вектор-строка длиной n+1, содержащая коэффициенты полинома в порядке уменьшения степеней.  Степень полинома не может быть больше числа точек в датасете. \n",
    "\n",
    "Для примера выполним аппроксимацию полиномом первой степени."
   ]
  },
  {
   "cell_type": "code",
   "execution_count": 7,
   "metadata": {},
   "outputs": [
    {
     "name": "stdout",
     "output_type": "stream",
     "text": [
      " \n",
      "0.09475 x - 0.02834\n"
     ]
    },
    {
     "data": {
      "image/png": "[encoded data removed]",
      "text/plain": [
       "<Figure size 432x288 with 1 Axes>"
      ]
     },
     "metadata": {
      "needs_background": "light"
     },
     "output_type": "display_data"
    }
   ],
   "source": [
    "# Находим коэффициенты аппроксимирующего полинома\n",
    "P = np.polyfit(x, y, 1)\n",
    "\n",
    "# Записываем аппроксимирующую функцию\n",
    "f = np.poly1d(P)\n",
    "print(f)\n",
    "\n",
    "plt.plot(x, y, \"bo\")\n",
    "\n",
    "# Вычисляем аппроксимирующую функцию на множестве значений\n",
    "x_new = np.linspace(-np.pi, np.pi, 100)\n",
    "plt.plot(x_new, f(x_new), \"r\")\n",
    "plt.show()"
   ]
  },
  {
   "cell_type": "markdown",
   "metadata": {},
   "source": [
    "## Задача 1\n",
    "\n",
    "Выполните аппроксимацию табличных данных: \n",
    "\n",
    "x = [0, 0.1 , 0.2, 0.3, 0.5];\n",
    "\n",
    "y = [3, 4.5, 1.7, 0.7, -1].\n",
    "\n",
    "• Применяя метод наименьших квадратов, многочленами 1-й, 2-й, 3-й и 4-й степени.\n",
    "\n",
    "• Постройте на одном графике экспериментальные точки и кривые всех рассчитанных апроксимирующих многочленов.\n",
    "\n",
    "• На графике подпишите оси и создайте легенду"
   ]
  },
  {
   "cell_type": "markdown",
   "metadata": {},
   "source": [
    "## Аппроксимация функцией\n",
    "\n",
    "Полезный блог:\n",
    "\n",
    "http://emilygraceripka.com/blog/14\n",
    "\n",
    "http://emilygraceripka.com/blog/16"
   ]
  },
  {
   "cell_type": "markdown",
   "metadata": {},
   "source": [
    "Сначала импортируем соответствующие модули Python, которые будут использоваться:"
   ]
  },
  {
   "cell_type": "code",
   "execution_count": 14,
   "metadata": {},
   "outputs": [],
   "source": [
    "import matplotlib.pyplot as plt\n",
    "import numpy as np\n",
    "from scipy.optimize import curve_fit"
   ]
  },
  {
   "cell_type": "markdown",
   "metadata": {},
   "source": [
    "Теперь рассмотрим набор x, y - данных. Эти данные имеют одну независимую переменную (значения x) и одну зависимую переменную (значения y). Преобразуем данные в массивы numpy, чтобы использовать возможности numpy при оценке данных. Часто бывает очень полезно взглянуть на график данных, когда решается, какая функция лучше подходит для аппроксимации."
   ]
  },
  {
   "cell_type": "code",
   "execution_count": 15,
   "metadata": {},
   "outputs": [
    {
     "data": {
      "image/png": "[encoded data removed]",
      "text/plain": [
       "<Figure size 432x288 with 1 Axes>"
      ]
     },
     "metadata": {
      "needs_background": "light"
     },
     "output_type": "display_data"
    }
   ],
   "source": [
    "# X = [19.362, 19.376, 19.38, 19.387, 19.389, 19.394, 19.395, 19.397, 19.406, 19.414, 19.422]\n",
    "# Y = [2267, 2371, 2419, 3618, 3860, 3023, 2873, 2575, 2415, 2325, 2274]\n",
    "\n",
    "X = [\n",
    "    -10.0,\n",
    "    -9.0,\n",
    "    -8.0,\n",
    "    -7.0,\n",
    "    -6.0,\n",
    "    -5.0,\n",
    "    -4.0,\n",
    "    -3.0,\n",
    "    -2.0,\n",
    "    -1.0,\n",
    "    0.0,\n",
    "    1.0,\n",
    "    2.0,\n",
    "    3.0,\n",
    "    4.0,\n",
    "    5.0,\n",
    "    6.0,\n",
    "    7.0,\n",
    "    8.0,\n",
    "    9.0,\n",
    "    10.0,\n",
    "]\n",
    "Y = [\n",
    "    1.2,\n",
    "    4.2,\n",
    "    6.7,\n",
    "    8.3,\n",
    "    10.6,\n",
    "    11.7,\n",
    "    13.5,\n",
    "    14.5,\n",
    "    15.7,\n",
    "    16.1,\n",
    "    16.6,\n",
    "    16.0,\n",
    "    15.4,\n",
    "    14.4,\n",
    "    14.2,\n",
    "    12.7,\n",
    "    10.3,\n",
    "    8.6,\n",
    "    6.1,\n",
    "    3.9,\n",
    "    2.1,\n",
    "]\n",
    "\n",
    "xdata = np.array(X)\n",
    "ydata = np.array(Y)\n",
    "\n",
    "plt.plot(xdata, ydata, \"o\")\n",
    "plt.show()"
   ]
  },
  {
   "cell_type": "markdown",
   "metadata": {},
   "source": [
    "Такая кривая достаточно хорошо описывается нормальным распределением или функцией Гаусса:\n",
    "\n",
    "$y = A e^{-Bx^2}$\n",
    "\n",
    "Наша цель — найти значения A и B, которые лучше всего соответствуют данным. Во-первых, нужно написать функцию на Python для функции Гаусса. Функция должна принимать в качестве входных данных независимую переменную (значения x) и все подходящие параметры."
   ]
  },
  {
   "cell_type": "code",
   "execution_count": 16,
   "metadata": {},
   "outputs": [],
   "source": [
    "# Define the Gaussian function\n",
    "def Gauss(x, A, B):\n",
    "    y = A * np.exp(-1 * B * x ** 2)\n",
    "    return y"
   ]
  },
  {
   "cell_type": "markdown",
   "metadata": {},
   "source": [
    "Чтобы аппроксимировать данные, будем использовать функцию **curve_fit** из модуля Python **scipy.optimize**. Он использует нелинейный метод наименьших квадратов. Больше информации о curve_fit в онлайн документации: https://docs.scipy.org/doc/scipy/reference/generated/scipy.optimize.curve_fit.html.\n",
    "\n",
    "Функция **curve_fit** принимает три обязательных параметра: \n",
    "\n",
    "- аппроксимирующая функция;\n",
    "\n",
    "- данные x и y.\n",
    "\n",
    "Необязательные параметры:\n",
    "\n",
    "- **p0** — массив стартовых параметров функции для фитирования;\n",
    "\n",
    "- **bounds** — ограничения на параметры для фитирования (-∞ to ∞).\n",
    "\n",
    "На выходе у **curve_fit**:\n",
    "\n",
    "- массив оптимальных значений параметров аппроксимирующей функции;\n",
    "\n",
    "- матрица предполагаемой ковариации параметров, из которой можно вычислить стандартную ошибку для параметров."
   ]
  },
  {
   "cell_type": "code",
   "execution_count": 17,
   "metadata": {},
   "outputs": [
    {
     "name": "stderr",
     "output_type": "stream",
     "text": [
      "/var/folders/mw/ghg5tdk92fb16x1cw0x26m400000gp/T/ipykernel_1150/3526111182.py:3: RuntimeWarning: overflow encountered in exp\n",
      "  y = A * np.exp(-1 * B * x ** 2)\n"
     ]
    },
    {
     "data": {
      "text/plain": [
       "array([1.69342863e+01, 1.57396009e-02])"
      ]
     },
     "execution_count": 17,
     "metadata": {},
     "output_type": "execute_result"
    }
   ],
   "source": [
    "parameters, covariance = curve_fit(Gauss, xdata, ydata)\n",
    "parameters"
   ]
  },
  {
   "cell_type": "markdown",
   "metadata": {},
   "source": [
    "Это предупреждение можно игнорировать. Подробное описание по ссылке: https://www.statology.org/runtimewarning-overflow-encountered-in-exp/\n",
    "\n",
    "Вычисленные оптимальные значения A и B теперь сохраняются спискe parameters."
   ]
  },
  {
   "cell_type": "code",
   "execution_count": 18,
   "metadata": {},
   "outputs": [
    {
     "name": "stdout",
     "output_type": "stream",
     "text": [
      "16.934286340519687\n",
      "0.015739600927241554\n"
     ]
    }
   ],
   "source": [
    "fit_A = parameters[0]\n",
    "fit_B = parameters[1]\n",
    "print(fit_A)\n",
    "print(fit_B)"
   ]
  },
  {
   "cell_type": "markdown",
   "metadata": {},
   "source": [
    "Теперь мы хотим увидеть, насколько хорошо вычисленная аппроксимирующая кривая соответствует данным. Для этого вычислим значения y, используя функцию с параметрами A и B, а затем построим график для сравнения этих рассчитанных значений с данными."
   ]
  },
  {
   "cell_type": "code",
   "execution_count": 20,
   "metadata": {},
   "outputs": [
    {
     "data": {
      "image/png": "[encoded data removed]",
      "text/plain": [
       "<Figure size 432x288 with 1 Axes>"
      ]
     },
     "metadata": {
      "needs_background": "light"
     },
     "output_type": "display_data"
    }
   ],
   "source": [
    "fit_y = Gauss(xdata, fit_A, fit_B)\n",
    "plt.plot(xdata, ydata, \"o\", label=\"data\")\n",
    "plt.plot(xdata, fit_y, \"-\", label=\"fit\")\n",
    "plt.legend()\n",
    "plt.show()"
   ]
  },
  {
   "cell_type": "markdown",
   "metadata": {},
   "source": [
    "Больше примеров аппроксимации с помощью curve_fit:\n",
    "    \n",
    "https://education.molssi.org/python-data-analysis/03-data-fitting/index.html \n",
    "    \n",
    "http://emilygraceripka.com/blog/14        "
   ]
  },
  {
   "cell_type": "markdown",
   "metadata": {},
   "source": [
    "## Аппроксимация КДО"
   ]
  },
  {
   "cell_type": "markdown",
   "metadata": {},
   "source": [
    "Из всего многообразия библиотеки **scipy**, для аппроксимации кривых дифракционного отражения мы будем пользоваться только функцией **curve_fit**, поэтому для краткости записи можем импортировать её одну."
   ]
  },
  {
   "cell_type": "code",
   "execution_count": 21,
   "metadata": {},
   "outputs": [],
   "source": [
    "import matplotlib.pyplot as plt\n",
    "import numpy as np\n",
    "import pandas as pd\n",
    "from scipy.optimize import curve_fit"
   ]
  },
  {
   "cell_type": "markdown",
   "metadata": {},
   "source": [
    "Загружаем данные из уже знакомого датасета:"
   ]
  },
  {
   "cell_type": "code",
   "execution_count": 22,
   "metadata": {},
   "outputs": [
    {
     "data": {
      "text/html": [
       "<div>\n",
       "<style scoped>\n",
       "    .dataframe tbody tr th:only-of-type {\n",
       "        vertical-align: middle;\n",
       "    }\n",
       "\n",
       "    .dataframe tbody tr th {\n",
       "        vertical-align: top;\n",
       "    }\n",
       "\n",
       "    .dataframe thead th {\n",
       "        text-align: right;\n",
       "    }\n",
       "</style>\n",
       "<table border=\"1\" class=\"dataframe\">\n",
       "  <thead>\n",
       "    <tr style=\"text-align: right;\">\n",
       "      <th></th>\n",
       "      <th>Pt_No</th>\n",
       "      <th>omega</th>\n",
       "      <th>eh_c01</th>\n",
       "      <th>eh_t01</th>\n",
       "      <th>sl_mon_b_vol</th>\n",
       "      <th>sl_mon_t_vol</th>\n",
       "      <th>lmbd_countsroi1</th>\n",
       "      <th>lmbd_countsroi1_atten</th>\n",
       "      <th>lmbd_countsroi2</th>\n",
       "      <th>lmbd_countsroi2_atten</th>\n",
       "      <th>lmbd_countsroi3</th>\n",
       "      <th>lmbd_countsroi3_atten</th>\n",
       "      <th>dt</th>\n",
       "    </tr>\n",
       "  </thead>\n",
       "  <tbody>\n",
       "    <tr>\n",
       "      <th>0</th>\n",
       "      <td>0</td>\n",
       "      <td>14.903406</td>\n",
       "      <td>7314.0</td>\n",
       "      <td>0.5</td>\n",
       "      <td>0.032109</td>\n",
       "      <td>0.031172</td>\n",
       "      <td>1474.0</td>\n",
       "      <td>1474.0</td>\n",
       "      <td>5742.0</td>\n",
       "      <td>5742.0</td>\n",
       "      <td>240.0</td>\n",
       "      <td>240.0</td>\n",
       "      <td>0.534496</td>\n",
       "    </tr>\n",
       "    <tr>\n",
       "      <th>1</th>\n",
       "      <td>1</td>\n",
       "      <td>14.904444</td>\n",
       "      <td>7310.0</td>\n",
       "      <td>0.5</td>\n",
       "      <td>0.034141</td>\n",
       "      <td>0.032266</td>\n",
       "      <td>1719.0</td>\n",
       "      <td>1719.0</td>\n",
       "      <td>6008.0</td>\n",
       "      <td>6008.0</td>\n",
       "      <td>207.0</td>\n",
       "      <td>207.0</td>\n",
       "      <td>1.129613</td>\n",
       "    </tr>\n",
       "    <tr>\n",
       "      <th>2</th>\n",
       "      <td>2</td>\n",
       "      <td>14.905534</td>\n",
       "      <td>7352.0</td>\n",
       "      <td>0.5</td>\n",
       "      <td>0.032266</td>\n",
       "      <td>0.033438</td>\n",
       "      <td>2151.0</td>\n",
       "      <td>2151.0</td>\n",
       "      <td>6719.0</td>\n",
       "      <td>6719.0</td>\n",
       "      <td>192.0</td>\n",
       "      <td>192.0</td>\n",
       "      <td>1.669109</td>\n",
       "    </tr>\n",
       "    <tr>\n",
       "      <th>3</th>\n",
       "      <td>3</td>\n",
       "      <td>14.906531</td>\n",
       "      <td>7155.0</td>\n",
       "      <td>0.5</td>\n",
       "      <td>0.034609</td>\n",
       "      <td>0.034453</td>\n",
       "      <td>2766.0</td>\n",
       "      <td>2766.0</td>\n",
       "      <td>7675.0</td>\n",
       "      <td>7675.0</td>\n",
       "      <td>207.0</td>\n",
       "      <td>207.0</td>\n",
       "      <td>2.244905</td>\n",
       "    </tr>\n",
       "  </tbody>\n",
       "</table>\n",
       "</div>"
      ],
      "text/plain": [
       "   Pt_No      omega  eh_c01  eh_t01  sl_mon_b_vol  sl_mon_t_vol  \\\n",
       "0      0  14.903406  7314.0     0.5      0.032109      0.031172   \n",
       "1      1  14.904444  7310.0     0.5      0.034141      0.032266   \n",
       "2      2  14.905534  7352.0     0.5      0.032266      0.033438   \n",
       "3      3  14.906531  7155.0     0.5      0.034609      0.034453   \n",
       "\n",
       "   lmbd_countsroi1  lmbd_countsroi1_atten  lmbd_countsroi2  \\\n",
       "0           1474.0                 1474.0           5742.0   \n",
       "1           1719.0                 1719.0           6008.0   \n",
       "2           2151.0                 2151.0           6719.0   \n",
       "3           2766.0                 2766.0           7675.0   \n",
       "\n",
       "   lmbd_countsroi2_atten  lmbd_countsroi3  lmbd_countsroi3_atten        dt  \n",
       "0                 5742.0            240.0                  240.0  0.534496  \n",
       "1                 6008.0            207.0                  207.0  1.129613  \n",
       "2                 6719.0            192.0                  192.0  1.669109  \n",
       "3                 7675.0            207.0                  207.0  2.244905  "
      ]
     },
     "execution_count": 22,
     "metadata": {},
     "output_type": "execute_result"
    }
   ],
   "source": [
    "cols = \"Pt_No  omega  eh_c01  eh_t01  sl_mon_b_vol  sl_mon_t_vol \\\n",
    "lmbd_countsroi1  lmbd_countsroi1_atten  lmbd_countsroi2  lmbd_countsroi2_atten  \\\n",
    "lmbd_countsroi3  lmbd_countsroi3_atten  dt\".split()\n",
    "\n",
    "data = pd.read_csv(\"scan13555.txt\", sep=\" \", skiprows=28, names=cols)\n",
    "data.head(4)"
   ]
  },
  {
   "cell_type": "markdown",
   "metadata": {},
   "source": [
    "Перед аппроксимацией всегда стоит сперва посмотреть на что похожи данные, заодно преобразуем их в np.array для удобства рассчетов:"
   ]
  },
  {
   "cell_type": "code",
   "execution_count": 23,
   "metadata": {},
   "outputs": [
    {
     "name": "stdout",
     "output_type": "stream",
     "text": [
      "[14.90340625 14.90444375 14.90553438 14.90653125 14.90773125 14.90894063\n",
      " 14.9100625  14.9111625  14.91234688 14.91354688 14.9146625  14.91576563\n",
      " 14.91686563 14.9179625  14.91908438 14.920125   14.92123125 14.92223125\n",
      " 14.92345625 14.92485    14.92604688 14.92725313 14.92836875 14.92946875\n",
      " 14.93065625 14.93176563 14.93288125 14.934075   14.93518125 14.93636875\n",
      " 14.93745938 14.9386625  14.9396625  14.94076875 14.941875   14.94289063]\n",
      "14.942890625000013\n"
     ]
    },
    {
     "data": {
      "text/plain": [
       "[<matplotlib.lines.Line2D at 0x7fc4c95b3460>]"
      ]
     },
     "execution_count": 23,
     "metadata": {},
     "output_type": "execute_result"
    },
    {
     "data": {
      "image/png": "[encoded data removed]",
      "text/plain": [
       "<Figure size 432x288 with 1 Axes>"
      ]
     },
     "metadata": {
      "needs_background": "light"
     },
     "output_type": "display_data"
    }
   ],
   "source": [
    "x = np.array(data[\"omega\"])\n",
    "print(x)\n",
    "y = np.array(data[\"lmbd_countsroi1\"])\n",
    "print(x[-1])\n",
    "\n",
    "plt.plot(x, y, \"ro\")"
   ]
  },
  {
   "cell_type": "markdown",
   "metadata": {},
   "source": [
    "### Аппроксимация КДО функцией Гаусса"
   ]
  },
  {
   "cell_type": "code",
   "execution_count": 24,
   "metadata": {},
   "outputs": [
    {
     "name": "stderr",
     "output_type": "stream",
     "text": [
      "/Users/ksurrr/opt/anaconda3/lib/python3.9/site-packages/scipy/optimize/minpack.py:833: OptimizeWarning: Covariance of the parameters could not be estimated\n",
      "  warnings.warn('Covariance of the parameters could not be estimated',\n"
     ]
    },
    {
     "data": {
      "text/plain": [
       "<matplotlib.legend.Legend at 0x7fc4ca3c1160>"
      ]
     },
     "execution_count": 24,
     "metadata": {},
     "output_type": "execute_result"
    },
    {
     "data": {
      "image/png": "[encoded data removed]",
      "text/plain": [
       "<Figure size 432x288 with 1 Axes>"
      ]
     },
     "metadata": {
      "needs_background": "light"
     },
     "output_type": "display_data"
    }
   ],
   "source": [
    "# Define the Gaussian function\n",
    "def Gauss(x, A, B):\n",
    "    y = A * np.exp(-1 * B * x ** 2)\n",
    "    return y\n",
    "\n",
    "\n",
    "parameters, covariance = curve_fit(Gauss, x, y)\n",
    "\n",
    "fit_A = parameters[0]\n",
    "fit_B = parameters[1]\n",
    "\n",
    "fit_y = Gauss(x, fit_A, fit_B)\n",
    "plt.plot(x, y, \"o\", label=\"data\")\n",
    "plt.plot(x, fit_y, \"-\", label=\"fit\")\n",
    "plt.legend()"
   ]
  },
  {
   "cell_type": "markdown",
   "metadata": {},
   "source": [
    "Видим, что в данном случае параметры по умолчанию не дают приемлимого результата, нужно аккуратней расписать вид нормального распределения и добавить в **curve_fit** необязательные аргументы.\n",
    "\n",
    "$f(x) = \\frac{1}{ \\sigma \\sqrt{2 \\pi}} e^{ \\frac{1}{2} (\\frac{x - \\mu}{\\sigma})^2} $\n",
    "\n",
    "- $\\frac{1}{ \\sigma \\sqrt{2 \\pi}}$ - амплитуда;\n",
    "\n",
    "- $\\sigma$ - стандартное отклонение;\n",
    "\n",
    "- $\\mu$ - среднее значение.\n",
    "\n",
    "<img src ='b2eed6.gif'>"
   ]
  },
  {
   "cell_type": "code",
   "execution_count": 25,
   "metadata": {},
   "outputs": [
    {
     "name": "stdout",
     "output_type": "stream",
     "text": [
      "amp = 193539.0\n",
      "mu = 14.921852912825681\n",
      "sigma = 0.004909870308001063\n"
     ]
    }
   ],
   "source": [
    "# Функция для вычисления гауссианы по парметрам amp, mean, и sigma\n",
    "def gaussian(x, amp, mean, sigma):\n",
    "    return amp * np.exp(-np.power(x - mean, 2) / (2 * np.power(sigma, 2)))\n",
    "\n",
    "\n",
    "# приближенная оценка amp, mean, standard deviation\n",
    "amp = max(y)\n",
    "mean = sum(x * y) / sum(y)\n",
    "sigma = np.sqrt(sum(y * (x - mean) ** 2) / sum(y))\n",
    "\n",
    "print(\"amp =\", amp)\n",
    "print(\"mu =\", mean)\n",
    "print(\"sigma =\", sigma)"
   ]
  },
  {
   "cell_type": "markdown",
   "metadata": {},
   "source": [
    "### Функция curve_fit\n",
    "\n",
    "Для аппроксимации используем функцию **curve_fit**.\n",
    "\n",
    "Принимает аргументы:\n",
    "\n",
    "- **f** — аппроксимирующая функция;\n",
    "\n",
    "- **xdata** — вектор данных по х;\n",
    "\n",
    "- **ydata** — вектор данных по у;\n",
    "\n",
    "- **p0** — массив стартовых параметров для фитирования;\n",
    "\n",
    "- **bounds** — ограничения на параметры для фитирования (-∞ to ∞).\n",
    "\n",
    "Возвращает:\n",
    "\n",
    "- **pars** — массив оптимизированных параметров;\n",
    "\n",
    "- **cov** — матрица ковариаций, которую можно использовать для определения стандартных отклонений подгоночных параметров."
   ]
  },
  {
   "cell_type": "code",
   "execution_count": 26,
   "metadata": {},
   "outputs": [
    {
     "data": {
      "text/plain": [
       "array([1.79430559e+05, 1.49215138e+01, 2.49942796e-03])"
      ]
     },
     "execution_count": 26,
     "metadata": {},
     "output_type": "execute_result"
    }
   ],
   "source": [
    "# Аппроксимируем наши данные гауссианой\n",
    "pars, cov = curve_fit(\n",
    "    f=gaussian, xdata=x, ydata=y, p0=[amp, mean, sigma], bounds=(-np.inf, np.inf)\n",
    ")\n",
    "pars"
   ]
  },
  {
   "cell_type": "code",
   "execution_count": 28,
   "metadata": {},
   "outputs": [
    {
     "data": {
      "image/png": "[encoded data removed]",
      "text/plain": [
       "<Figure size 432x288 with 1 Axes>"
      ]
     },
     "metadata": {
      "needs_background": "light"
     },
     "output_type": "display_data"
    }
   ],
   "source": [
    "# Создаем массив на котором будем вычислять аппроксимирующую функцию\n",
    "x_new = np.linspace(x[0], x[-1], 200)\n",
    "\n",
    "plt.plot(x, y, \"ro\")\n",
    "# Запись *pars распаковывает массив, записывая его элементы через запятую\n",
    "plt.plot(x_new, gaussian(x_new, *pars))\n",
    "plt.show()"
   ]
  },
  {
   "cell_type": "markdown",
   "metadata": {
    "tags": []
   },
   "source": [
    "### Аппроксимация КДО функцией Лоренца\n",
    "\n",
    "Распределение Лоренца или Коши-Лоренца лучше подходит для аппроксимации кривых дифракционного отражения. Оно записывается как:\n",
    "\n",
    "$ f(x, x_0, \\gamma) = \\frac{1}{\\pi \\gamma} \\frac{\\gamma^2}{(x - x_0)^2 + \\gamma^2}$,\n",
    "\n",
    "- $x_0$ - центр кривой,\n",
    "\n",
    "- $\\gamma$ - полуширина кривой.\n",
    "\n",
    "<img src = '600px-Cauchy_pdf.svg.png' width = 300>"
   ]
  },
  {
   "cell_type": "markdown",
   "metadata": {},
   "source": [
    "## Задача 2\n",
    "\n",
    "Аппроксимируйте кривую дифракционного отражения из scan13555.dat с помощью распределения Лоренца. Оценку амплитуды, положения центра кривой и полуширины кривой можно взять из нормального распределения для тех же данных."
   ]
  },
  {
   "cell_type": "code",
   "execution_count": 29,
   "metadata": {},
   "outputs": [],
   "source": [
    "# Функция для вычисления Лоренца по параметрам amp, mean, и sigma\n",
    "def Lorentzian(x, amp, cen, wid):\n",
    "    return amp * wid ** 2 / ((x - cen) ** 2 + wid ** 2)"
   ]
  }
 ],
 "metadata": {
  "kernelspec": {
   "display_name": "Python 3 (ipykernel)",
   "language": "python",
   "name": "python3"
  },
  "language_info": {
   "codemirror_mode": {
    "name": "ipython",
    "version": 3
   },
   "file_extension": ".py",
   "mimetype": "text/x-python",
   "name": "python",
   "nbconvert_exporter": "python",
   "pygments_lexer": "ipython3",
   "version": "3.9.12"
  }
 },
 "nbformat": 4,
 "nbformat_minor": 4
}
