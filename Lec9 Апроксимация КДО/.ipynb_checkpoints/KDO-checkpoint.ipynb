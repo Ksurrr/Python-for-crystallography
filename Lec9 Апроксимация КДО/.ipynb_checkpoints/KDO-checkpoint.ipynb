{
 "cells": [
  {
   "cell_type": "markdown",
   "id": "7ea93483-1396-4869-8368-0a5d3dc090c6",
   "metadata": {},
   "source": [
    "## Аппроксимация КДО"
   ]
  },
  {
   "cell_type": "markdown",
   "id": "732d655e-2728-4176-aca2-f4327f80a24b",
   "metadata": {},
   "source": [
    "Источники: https://medium.com/the-researchers-guide/finding-the-best-distribution-that-fits-your-data-using-pythons-fitter-library-319a5a0972e9\n",
    "\n",
    "https://towardsdatascience.com/basic-curve-fitting-of-scientific-data-with-python-9592244a2509\n",
    "\n",
    "https://scipython.com/book/chapter-8-scipy/examples/the-voigt-profile/\n",
    "\n"
   ]
  },
  {
   "cell_type": "markdown",
   "id": "1fca4a07-2074-4c87-8cef-7bd1c8dbb840",
   "metadata": {},
   "source": [
    "Из всего многообразия библиотеки **scipy**, для аппроксимации кривых дифракционного отражения мы будем пользоваться только функцией **curve_fit**, поэтому для краткости записи можем импортировать её одну."
   ]
  },
  {
   "cell_type": "code",
   "execution_count": 41,
   "id": "c771c82d-c8a9-4984-be6e-945357f389ed",
   "metadata": {},
   "outputs": [],
   "source": [
    "import pandas as pd\n",
    "import numpy as np\n",
    "import matplotlib.pyplot as plt\n",
    "from scipy.optimize import curve_fit "
   ]
  },
  {
   "cell_type": "markdown",
   "id": "31f46a40-5757-4478-9f7b-15c9fc17563c",
   "metadata": {},
   "source": [
    "Загружаем данные из уже знакомого датасета:"
   ]
  },
  {
   "cell_type": "code",
   "execution_count": 40,
   "id": "7eeced70-bc0f-407a-9d32-95b8f1f89e60",
   "metadata": {},
   "outputs": [
    {
     "data": {
      "text/html": [
       "<div>\n",
       "<style scoped>\n",
       "    .dataframe tbody tr th:only-of-type {\n",
       "        vertical-align: middle;\n",
       "    }\n",
       "\n",
       "    .dataframe tbody tr th {\n",
       "        vertical-align: top;\n",
       "    }\n",
       "\n",
       "    .dataframe thead th {\n",
       "        text-align: right;\n",
       "    }\n",
       "</style>\n",
       "<table border=\"1\" class=\"dataframe\">\n",
       "  <thead>\n",
       "    <tr style=\"text-align: right;\">\n",
       "      <th></th>\n",
       "      <th>Pt_No</th>\n",
       "      <th>omega</th>\n",
       "      <th>eh_c01</th>\n",
       "      <th>eh_t01</th>\n",
       "      <th>sl_mon_b_vol</th>\n",
       "      <th>sl_mon_t_vol</th>\n",
       "      <th>lmbd_countsroi1</th>\n",
       "      <th>lmbd_countsroi1_atten</th>\n",
       "      <th>lmbd_countsroi2</th>\n",
       "      <th>lmbd_countsroi2_atten</th>\n",
       "      <th>lmbd_countsroi3</th>\n",
       "      <th>lmbd_countsroi3_atten</th>\n",
       "      <th>dt</th>\n",
       "    </tr>\n",
       "  </thead>\n",
       "  <tbody>\n",
       "    <tr>\n",
       "      <th>0</th>\n",
       "      <td>0</td>\n",
       "      <td>14.903406</td>\n",
       "      <td>7314.0</td>\n",
       "      <td>0.5</td>\n",
       "      <td>0.032109</td>\n",
       "      <td>0.031172</td>\n",
       "      <td>1474.0</td>\n",
       "      <td>1474.0</td>\n",
       "      <td>5742.0</td>\n",
       "      <td>5742.0</td>\n",
       "      <td>240.0</td>\n",
       "      <td>240.0</td>\n",
       "      <td>0.534496</td>\n",
       "    </tr>\n",
       "    <tr>\n",
       "      <th>1</th>\n",
       "      <td>1</td>\n",
       "      <td>14.904444</td>\n",
       "      <td>7310.0</td>\n",
       "      <td>0.5</td>\n",
       "      <td>0.034141</td>\n",
       "      <td>0.032266</td>\n",
       "      <td>1719.0</td>\n",
       "      <td>1719.0</td>\n",
       "      <td>6008.0</td>\n",
       "      <td>6008.0</td>\n",
       "      <td>207.0</td>\n",
       "      <td>207.0</td>\n",
       "      <td>1.129613</td>\n",
       "    </tr>\n",
       "    <tr>\n",
       "      <th>2</th>\n",
       "      <td>2</td>\n",
       "      <td>14.905534</td>\n",
       "      <td>7352.0</td>\n",
       "      <td>0.5</td>\n",
       "      <td>0.032266</td>\n",
       "      <td>0.033438</td>\n",
       "      <td>2151.0</td>\n",
       "      <td>2151.0</td>\n",
       "      <td>6719.0</td>\n",
       "      <td>6719.0</td>\n",
       "      <td>192.0</td>\n",
       "      <td>192.0</td>\n",
       "      <td>1.669109</td>\n",
       "    </tr>\n",
       "    <tr>\n",
       "      <th>3</th>\n",
       "      <td>3</td>\n",
       "      <td>14.906531</td>\n",
       "      <td>7155.0</td>\n",
       "      <td>0.5</td>\n",
       "      <td>0.034609</td>\n",
       "      <td>0.034453</td>\n",
       "      <td>2766.0</td>\n",
       "      <td>2766.0</td>\n",
       "      <td>7675.0</td>\n",
       "      <td>7675.0</td>\n",
       "      <td>207.0</td>\n",
       "      <td>207.0</td>\n",
       "      <td>2.244905</td>\n",
       "    </tr>\n",
       "  </tbody>\n",
       "</table>\n",
       "</div>"
      ],
      "text/plain": [
       "   Pt_No      omega  eh_c01  eh_t01  sl_mon_b_vol  sl_mon_t_vol  \\\n",
       "0      0  14.903406  7314.0     0.5      0.032109      0.031172   \n",
       "1      1  14.904444  7310.0     0.5      0.034141      0.032266   \n",
       "2      2  14.905534  7352.0     0.5      0.032266      0.033438   \n",
       "3      3  14.906531  7155.0     0.5      0.034609      0.034453   \n",
       "\n",
       "   lmbd_countsroi1  lmbd_countsroi1_atten  lmbd_countsroi2  \\\n",
       "0           1474.0                 1474.0           5742.0   \n",
       "1           1719.0                 1719.0           6008.0   \n",
       "2           2151.0                 2151.0           6719.0   \n",
       "3           2766.0                 2766.0           7675.0   \n",
       "\n",
       "   lmbd_countsroi2_atten  lmbd_countsroi3  lmbd_countsroi3_atten        dt  \n",
       "0                 5742.0            240.0                  240.0  0.534496  \n",
       "1                 6008.0            207.0                  207.0  1.129613  \n",
       "2                 6719.0            192.0                  192.0  1.669109  \n",
       "3                 7675.0            207.0                  207.0  2.244905  "
      ]
     },
     "execution_count": 40,
     "metadata": {},
     "output_type": "execute_result"
    }
   ],
   "source": [
    "cols = 'Pt_No  omega  eh_c01  eh_t01  sl_mon_b_vol  sl_mon_t_vol \\\n",
    "lmbd_countsroi1  lmbd_countsroi1_atten  lmbd_countsroi2  lmbd_countsroi2_atten  \\\n",
    "lmbd_countsroi3  lmbd_countsroi3_atten  dt'.split()\n",
    "\n",
    "data = pd.read_csv('scan13555.txt', sep = ' ', skiprows = 1, names = cols)\n",
    "data.head(4)"
   ]
  },
  {
   "cell_type": "markdown",
   "id": "4c70c643-460f-40ae-8ca0-b0fe8aa2c80e",
   "metadata": {},
   "source": [
    "Перед аппроксимацией всегда стоит сперва посмотреть на что похожи наши данные, заодно преобразуем их в np.array для удобства рассчетов:"
   ]
  },
  {
   "cell_type": "code",
   "execution_count": 42,
   "id": "2032bbfb-f4e2-4b32-8cc2-b4a4497226ce",
   "metadata": {},
   "outputs": [
    {
     "name": "stdout",
     "output_type": "stream",
     "text": [
      "14.942890625000013\n"
     ]
    },
    {
     "data": {
      "text/plain": [
       "[<matplotlib.lines.Line2D at 0x7ff9752595b0>]"
      ]
     },
     "execution_count": 42,
     "metadata": {},
     "output_type": "execute_result"
    },
    {
     "data": {
      "image/png": "[encoded data removed]",
      "text/plain": [
       "<Figure size 432x288 with 1 Axes>"
      ]
     },
     "metadata": {
      "needs_background": "light"
     },
     "output_type": "display_data"
    }
   ],
   "source": [
    "x = np.array(data['omega'])\n",
    "y = np.array(data['lmbd_countsroi1'])\n",
    "print(x[-1])\n",
    "\n",
    "plt.plot(x, y, 'ro')"
   ]
  },
  {
   "cell_type": "markdown",
   "id": "16bf9f94-a633-4913-a1aa-e7fbff43ed03",
   "metadata": {},
   "source": [
    "В принципе, отдаленно напоминает нормальное распределение, поэтому начнем с него:\n",
    "\n",
    "$f(x) = \\frac{1}{ \\sigma \\sqrt{2 \\pi}} e^{ \\frac{1}{2} (\\frac{x - \\mu}{\\sigma})^2} $\n",
    "\n",
    "- $\\frac{1}{ \\sigma \\sqrt{2 \\pi}}$ - амплитуда;\n",
    "\n",
    "- $\\sigma$ - стандартное отклонение;\n",
    "\n",
    "- $\\mu$ - среднее значение.\n",
    "\n",
    "<img src ='b2eed6.gif'>"
   ]
  },
  {
   "cell_type": "code",
   "execution_count": 45,
   "id": "3a0001cf-586f-4596-80fd-cf5d1acbdf68",
   "metadata": {},
   "outputs": [
    {
     "name": "stdout",
     "output_type": "stream",
     "text": [
      "amp = 193539.0\n",
      "mu = 14.921852912825681\n",
      "sigma = 0.004909870308001063\n"
     ]
    }
   ],
   "source": [
    "# Функция для вычисления гауссианы по парметрам amp, mean, и sigma\n",
    "def gaussian(x, amp, mean, sigma):\n",
    "    return amp*np.exp(-np.power(x - mean, 2)/(2*np.power(sigma, 2)))\n",
    "\n",
    "#estimate amp, mean and standard deviation\n",
    "amp = max(y)\n",
    "mean = sum(x * y) / sum(y)\n",
    "sigma = np.sqrt(sum(y * (x - mean)**2) / sum(y))\n",
    "\n",
    "print('amp =', amp)\n",
    "print('mu =', mean)\n",
    "print('sigma =', sigma)\n"
   ]
  },
  {
   "cell_type": "markdown",
   "id": "a8b829d3-8020-4237-a5a2-e879ae96c584",
   "metadata": {},
   "source": [
    "### Функция curve_fit\n",
    "\n",
    "Для аппроксимации используем функцию **curve_fit**.\n",
    "\n",
    "Принимает аргументы:\n",
    "\n",
    "- **f** — аппроксимирующая функция;\n",
    "\n",
    "- **xdata** — вектор данных по х;\n",
    "\n",
    "- **ydata** — вектор данных по у;\n",
    "\n",
    "- **p0** — массив стартовых параметров для фитирования;\n",
    "\n",
    "- **bounds** — ограничения на параметры для фитирования (-∞ to ∞).\n",
    "\n",
    "Возвращает:\n",
    "\n",
    "- **pars** — массив оптимизированных параметров;\n",
    "\n",
    "- **cov** — матрица ковариаций, которую можно использовать для определения стандартных отклонений подгоночных параметров."
   ]
  },
  {
   "cell_type": "code",
   "execution_count": 48,
   "id": "ecfd1c69-7a94-42c2-bc16-1fa4ff001fe1",
   "metadata": {},
   "outputs": [
    {
     "data": {
      "text/plain": [
       "array([1.79430559e+05, 1.49215138e+01, 2.49942796e-03])"
      ]
     },
     "execution_count": 48,
     "metadata": {},
     "output_type": "execute_result"
    }
   ],
   "source": [
    "# Аппроксимируем наши данные гауссианой\n",
    "pars, cov = curve_fit(f=gaussian, xdata=x, ydata=y, p0=[amp, mean, sigma], bounds=(-np.inf, np.inf))\n",
    "pars"
   ]
  },
  {
   "cell_type": "code",
   "execution_count": 49,
   "id": "44ef86bd-f2b4-4643-903f-06d6704de814",
   "metadata": {},
   "outputs": [
    {
     "data": {
      "text/plain": [
       "[<matplotlib.lines.Line2D at 0x7ff97535d490>]"
      ]
     },
     "execution_count": 49,
     "metadata": {},
     "output_type": "execute_result"
    },
    {
     "data": {
      "image/png": "[encoded data removed]",
      "text/plain": [
       "<Figure size 432x288 with 1 Axes>"
      ]
     },
     "metadata": {
      "needs_background": "light"
     },
     "output_type": "display_data"
    }
   ],
   "source": [
    "# Создаем массив на котором будем вычислять аппроксимирующую функцию\n",
    "x_new = np.linspace(x[0], x[-1], 200)\n",
    "\n",
    "plt.plot(x, y, 'ro')\n",
    "plt.plot(x_new , gaussian(x_new, *pars))\n",
    "# Запись *pars распаковывает массив, записывая его элементы через запятую"
   ]
  },
  {
   "cell_type": "markdown",
   "id": "dba19a31-86d6-47b8-a56f-ad9223d260c6",
   "metadata": {},
   "source": [
    "### Распределение Лоренца\n",
    "\n",
    "Распределение Лоренца или Коши-Лоренца лучше подходит для аппроксимации кривых дифракционного отражения. Оно записывается как:\n",
    "\n",
    "$ f(x, x_0, \\gamma) = \\frac{1}{\\pi \\gamma} \\frac{\\gamma^2}{(x - x_0)^2 + \\gamma^2}$,\n",
    "\n",
    "- $x_0$ - центр кривой,\n",
    "\n",
    "- $\\gamma$ - полуширина кривой.\n",
    "\n",
    "<img src = '600px-Cauchy_pdf.svg.png' width = 300>"
   ]
  },
  {
   "cell_type": "code",
   "execution_count": 23,
   "id": "786c1096-e11f-459a-81b4-06f6d4246e66",
   "metadata": {},
   "outputs": [
    {
     "data": {
      "text/plain": [
       "array([1.98301528e+05, 1.49214781e+01, 2.32448926e-03])"
      ]
     },
     "execution_count": 23,
     "metadata": {},
     "output_type": "execute_result"
    }
   ],
   "source": [
    "def Lorentzian(x, amp, cen, wid):\n",
    "    return (amp*wid**2/((x-cen)**2+wid**2))\n",
    "\n",
    "x = data['omega']\n",
    "y = data['lmbd_countsroi1']\n",
    "\n",
    "# начальные параметры\n",
    "amp = max(y)\n",
    "cen = sum(x * y) / sum(y)\n",
    "wid = np.sqrt(sum(y * (x - mean)**2) / sum(y))\n",
    "\n",
    "pars, cov = curve_fit(f=Lorentzian, xdata=x, ydata=y, p0=[amp, cen, wid], bounds=(-np.inf, np.inf))\n",
    "pars"
   ]
  },
  {
   "cell_type": "code",
   "execution_count": 39,
   "id": "4cc73841-99a5-4379-983d-a2ed9fb79677",
   "metadata": {},
   "outputs": [
    {
     "data": {
      "text/plain": [
       "[<matplotlib.lines.Line2D at 0x7ff975113ac0>]"
      ]
     },
     "execution_count": 39,
     "metadata": {},
     "output_type": "execute_result"
    },
    {
     "data": {
      "image/png": "[encoded data removed]",
      "text/plain": [
       "<Figure size 432x288 with 1 Axes>"
      ]
     },
     "metadata": {
      "needs_background": "light"
     },
     "output_type": "display_data"
    }
   ],
   "source": [
    "plt.plot(x, y, 'ro')\n",
    "plt.plot(x_new, Lorentzian(x_new, *pars))"
   ]
  },
  {
   "cell_type": "code",
   "execution_count": null,
   "id": "0551d096-5c96-471a-ab4f-8b61b74b922b",
   "metadata": {},
   "outputs": [],
   "source": []
  }
 ],
 "metadata": {
  "kernelspec": {
   "display_name": "Python 3 (ipykernel)",
   "language": "python",
   "name": "python3"
  },
  "language_info": {
   "codemirror_mode": {
    "name": "ipython",
    "version": 3
   },
   "file_extension": ".py",
   "mimetype": "text/x-python",
   "name": "python",
   "nbconvert_exporter": "python",
   "pygments_lexer": "ipython3",
   "version": "3.9.0"
  }
 },
 "nbformat": 4,
 "nbformat_minor": 5
}
