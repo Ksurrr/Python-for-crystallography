{
 "cells": [
  {
   "cell_type": "markdown",
   "metadata": {},
   "source": [
    "# Задачи"
   ]
  },
  {
   "cell_type": "code",
   "execution_count": null,
   "metadata": {},
   "outputs": [],
   "source": []
  },
  {
   "cell_type": "markdown",
   "metadata": {},
   "source": [
    "## Задача 4\n",
    "\n",
    "Запишем группы данных из файла test.spec в отдельные файлы. Для этого откройте файл test.spec для чтения, и считывайте его построчно:\n",
    "\n",
    "- если строка начинается на '#S', создавайте файл 'scan13528.dat', где номер следует за '#S' в данной строке, и записывайте в файл текущую строку;\n",
    "\n",
    "- если строка наччинается на '#C Acquisition ended', закрываем файл для записи;\n",
    "\n",
    "- пустые строки пропускаем (соманда **continue** для перехода на следующий виток цикла);\n",
    "\n",
    "- остальные строки записываем в текущий открытый файл.\n",
    "\n",
    "Протестировав программу на test.spec, запустите её для файла teo2b2_energy_no-acoust.spec.\n",
    "\n",
    "Можно воспользоваться структурой типа:\n"
   ]
  },
  {
   "cell_type": "code",
   "execution_count": 2,
   "metadata": {},
   "outputs": [
    {
     "ename": "FileNotFoundError",
     "evalue": "[Errno 2] No such file or directory: 'test.spec'",
     "output_type": "error",
     "traceback": [
      "\u001b[0;31m---------------------------------------------------------------------------\u001b[0m",
      "\u001b[0;31mFileNotFoundError\u001b[0m                         Traceback (most recent call last)",
      "\u001b[0;32m<ipython-input-2-c91518e9ce92>\u001b[0m in \u001b[0;36m<module>\u001b[0;34m\u001b[0m\n\u001b[1;32m      3\u001b[0m \u001b[0;32mimport\u001b[0m \u001b[0mmatplotlib\u001b[0m\u001b[0;34m.\u001b[0m\u001b[0mpyplot\u001b[0m \u001b[0;32mas\u001b[0m \u001b[0mplt\u001b[0m\u001b[0;34m\u001b[0m\u001b[0;34m\u001b[0m\u001b[0m\n\u001b[1;32m      4\u001b[0m \u001b[0;34m\u001b[0m\u001b[0m\n\u001b[0;32m----> 5\u001b[0;31m \u001b[0;32mwith\u001b[0m \u001b[0mopen\u001b[0m\u001b[0;34m(\u001b[0m\u001b[0;34m'test.spec'\u001b[0m\u001b[0;34m,\u001b[0m \u001b[0;34m'r'\u001b[0m\u001b[0;34m,\u001b[0m \u001b[0mencoding\u001b[0m\u001b[0;34m=\u001b[0m\u001b[0;34m'utf-8'\u001b[0m\u001b[0;34m)\u001b[0m \u001b[0;32mas\u001b[0m \u001b[0mfile\u001b[0m\u001b[0;34m:\u001b[0m\u001b[0;34m\u001b[0m\u001b[0;34m\u001b[0m\u001b[0m\n\u001b[0m\u001b[1;32m      6\u001b[0m     \u001b[0;32mfor\u001b[0m \u001b[0mline\u001b[0m \u001b[0;32min\u001b[0m \u001b[0mfile\u001b[0m\u001b[0;34m:\u001b[0m\u001b[0;34m\u001b[0m\u001b[0;34m\u001b[0m\u001b[0m\n\u001b[1;32m      7\u001b[0m         \u001b[0;31m# В случае начала скана создаем файл и записываем строку\u001b[0m\u001b[0;34m\u001b[0m\u001b[0;34m\u001b[0m\u001b[0;34m\u001b[0m\u001b[0m\n",
      "\u001b[0;31mFileNotFoundError\u001b[0m: [Errno 2] No such file or directory: 'test.spec'"
     ]
    }
   ],
   "source": [
    "import numpy as np\n",
    "import pandas as pd\n",
    "import matplotlib.pyplot as plt\n",
    "\n",
    "with open('test.spec', 'r', encoding='utf-8') as file:\n",
    "    for line in file:\n",
    "        # В случае начала скана создаем файл и записываем строку\n",
    "        if line[0:2] == '#S':\n",
    "            filename = 'scan' + line[3:8] + '.txt'\n",
    "            f = open(filename, \"a\")\n",
    "            f.write(line)\n",
    "            \n",
    "        # В случае конца скана закрываем файл для записи    \n",
    "        elif line[0:20] == '#C Acquisition ended':\n",
    "            f.close()\n",
    "        \n",
    "        # Пустые строки пропускаем    \n",
    "        elif line == '\\n':\n",
    "            continue\n",
    "        \n",
    "        # Остальные строки записываем в файл\n",
    "        else:\n",
    "            f.write(line) "
   ]
  },
  {
   "cell_type": "code",
   "execution_count": 3,
   "metadata": {},
   "outputs": [],
   "source": [
    "import numpy as np\n",
    "import pandas as pd\n",
    "import matplotlib.pyplot as plt\n",
    "\n",
    "with open('teo2b2_energy_no-acoust.spec', 'r', encoding='utf-8') as file:\n",
    "    for line in file:\n",
    "        # В случае начала скана создаем файл и записываем строку\n",
    "        if line[0:2] == '#S':\n",
    "            filename = 'scan' + line[3:8] + '.txt'\n",
    "            f = open(filename, \"a\")\n",
    "            f.write(line)\n",
    "            \n",
    "        # В случае конца скана закрываем файл для записи    \n",
    "        elif line[0:20] == '#C Acquisition ended':\n",
    "            f.close()\n",
    "        \n",
    "        # Пустые строки пропускаем    \n",
    "        elif line == '\\n':\n",
    "            continue\n",
    "        \n",
    "        # Остальные строки записываем в файл\n",
    "        else:\n",
    "            f.write(line) "
   ]
  },
  {
   "cell_type": "code",
   "execution_count": null,
   "metadata": {},
   "outputs": [],
   "source": []
  },
  {
   "cell_type": "markdown",
   "metadata": {},
   "source": [
    "## Задача 5\n",
    "\n",
    "Напишите скрипт, который:\n",
    "\n",
    "1) последовательно считывает данные из файлов в диапазоне 15049-15309;\n",
    "\n",
    "2) вычисляет сумму для восьмого столбца, полученное значение записывает в список Intensity; \n",
    "\n",
    "3) из строки, начинающейся с \"#P10\" извлекает значение энергии для данного скана (выглядит как 4928.421875) и записывает в список Energy;\n",
    "\n",
    "4) строит график Intensity от Energy."
   ]
  },
  {
   "cell_type": "code",
   "execution_count": 1,
   "metadata": {},
   "outputs": [
    {
     "name": "stdout",
     "output_type": "stream",
     "text": [
      "[4868.79052734375, 4869.9150390625, 4871.0380859375, 4872.1630859375, 4872.72509765625, 4873.849609375, 4874.9736328125, 4876.09765625, 4877.22216796875, 4877.78466796875, 4878.9091796875, 4880.03271484375, 4881.15673828125, 4882.2822265625, 4882.8447265625, 4883.9697265625, 4885.09326171875, 4886.21826171875, 4886.7802734375, 4887.90576171875, 4889.03076171875, 4890.15576171875, 4890.716796875, 4891.84228515625, 4892.9677734375, 4894.0927734375, 4895.2177734375, 4895.779296875, 4896.90478515625, 4898.0302734375, 4899.1552734375, 4899.7177734375, 4900.84375, 4901.96728515625, 4903.0927734375, 4904.21826171875, 4904.78173828125, 4905.90625, 4907.0322265625, 4908.15673828125, 4908.72021484375, 4909.845703125, 4910.97119140625, 4912.09716796875, 4913.22216796875, 4913.78564453125, 4914.91064453125, 4916.03662109375, 4917.162109375, 4917.7255859375, 4918.85009765625, 4919.97705078125, 4921.10205078125, 4922.22705078125, 4922.79150390625, 4923.91650390625, 4925.04296875, 4926.16943359375, 4926.732421875, 4927.85791015625]\n"
     ]
    }
   ],
   "source": [
    "import numpy as np\n",
    "import pandas as pd\n",
    "import matplotlib.pyplot as plt\n",
    "import os.path\n",
    "\n",
    "# Задаем дипапазон номеров сканов, которые хотим построить\n",
    "scanrange = range(13535, 13595)  #15310\n",
    "\n",
    "# Задаем список столбцов данных\n",
    "s = 'Pt_No  omega  eh_c01  eh_t01  sl_mon_b_vol  sl_mon_t_vol  lmbd_countsroi1  lmbd_countsroi1_atten  lmbd_countsroi2  lmbd_countsroi2_atten  lmbd_countsroi3  lmbd_countsroi3_atten  dt'\n",
    "columns = s.split()\n",
    "\n",
    "Intensity = []\n",
    "Energy = []\n",
    "\n",
    "for i in scanrange:\n",
    "    filename = 'scans/scan' + str(i) + '.txt'\n",
    "    file_exists = os.path.exists(filename)\n",
    "    if file_exists:\n",
    "        df = pd.read_csv(filename, sep = ' ', skiprows = 28, names = columns)\n",
    "        Intensity.append(max(df['lmbd_countsroi1']))  \n",
    "        \n",
    "        with open(filename, 'r') as file:\n",
    "            content = file.readlines()\n",
    "            s = content[25]\n",
    "            list = s.split()\n",
    "            Energy.append(float(list[1]))\n",
    "print(Energy)"
   ]
  },
  {
   "cell_type": "code",
   "execution_count": 2,
   "metadata": {},
   "outputs": [
    {
     "data": {
      "text/plain": [
       "[<matplotlib.lines.Line2D at 0x7fe5a1927a90>]"
      ]
     },
     "execution_count": 2,
     "metadata": {},
     "output_type": "execute_result"
    },
    {
     "data": {
      "image/png": "[encoded data removed]",
      "text/plain": [
       "<Figure size 720x360 with 1 Axes>"
      ]
     },
     "metadata": {
      "needs_background": "light"
     },
     "output_type": "display_data"
    }
   ],
   "source": [
    "# Создаем координатные оси\n",
    "fig, ax1 = plt.subplots() \n",
    "\n",
    "fig.set_figheight(5)\n",
    "fig.set_figwidth(10)\n",
    "\n",
    "ax1.set_xlabel('Energy') \n",
    "ax1.set_ylabel('Intensity') \n",
    "\n",
    "ax1.plot(Energy, Intensity, 'o-', markersize = '3')\n"
   ]
  },
  {
   "cell_type": "code",
   "execution_count": 10,
   "metadata": {},
   "outputs": [],
   "source": [
    "df = pd.DataFrame(\n",
    "    {'Energy': Energy,\n",
    "     'Intensity': Intensity,\n",
    "    })\n",
    "df.to_csv('spectr.csv')"
   ]
  },
  {
   "cell_type": "markdown",
   "metadata": {},
   "source": [
    "## Аппроксимация КДО"
   ]
  },
  {
   "cell_type": "code",
   "execution_count": null,
   "metadata": {},
   "outputs": [],
   "source": []
  },
  {
   "cell_type": "code",
   "execution_count": 4,
   "metadata": {},
   "outputs": [
    {
     "name": "stdout",
     "output_type": "stream",
     "text": [
      "['Pt_No', 'omega', 'eh_c01', 'eh_t01', 'sl_mon_b_vol', 'sl_mon_t_vol', 'lmbd_countsroi1', 'lmbd_countsroi1_atten', 'lmbd_countsroi2', 'lmbd_countsroi2_atten', 'lmbd_countsroi3', 'lmbd_countsroi3_atten', 'dt']\n"
     ]
    },
    {
     "data": {
      "text/html": [
       "<div>\n",
       "<style scoped>\n",
       "    .dataframe tbody tr th:only-of-type {\n",
       "        vertical-align: middle;\n",
       "    }\n",
       "\n",
       "    .dataframe tbody tr th {\n",
       "        vertical-align: top;\n",
       "    }\n",
       "\n",
       "    .dataframe thead th {\n",
       "        text-align: right;\n",
       "    }\n",
       "</style>\n",
       "<table border=\"1\" class=\"dataframe\">\n",
       "  <thead>\n",
       "    <tr style=\"text-align: right;\">\n",
       "      <th></th>\n",
       "      <th>Pt_No</th>\n",
       "      <th>omega</th>\n",
       "      <th>eh_c01</th>\n",
       "      <th>eh_t01</th>\n",
       "      <th>sl_mon_b_vol</th>\n",
       "      <th>sl_mon_t_vol</th>\n",
       "      <th>lmbd_countsroi1</th>\n",
       "      <th>lmbd_countsroi1_atten</th>\n",
       "      <th>lmbd_countsroi2</th>\n",
       "      <th>lmbd_countsroi2_atten</th>\n",
       "      <th>lmbd_countsroi3</th>\n",
       "      <th>lmbd_countsroi3_atten</th>\n",
       "      <th>dt</th>\n",
       "    </tr>\n",
       "  </thead>\n",
       "  <tbody>\n",
       "    <tr>\n",
       "      <th>0</th>\n",
       "      <td>0</td>\n",
       "      <td>14.903406</td>\n",
       "      <td>7314.0</td>\n",
       "      <td>0.5</td>\n",
       "      <td>0.032109</td>\n",
       "      <td>0.031172</td>\n",
       "      <td>1474.0</td>\n",
       "      <td>1474.0</td>\n",
       "      <td>5742.0</td>\n",
       "      <td>5742.0</td>\n",
       "      <td>240.0</td>\n",
       "      <td>240.0</td>\n",
       "      <td>0.534496</td>\n",
       "    </tr>\n",
       "    <tr>\n",
       "      <th>1</th>\n",
       "      <td>1</td>\n",
       "      <td>14.904444</td>\n",
       "      <td>7310.0</td>\n",
       "      <td>0.5</td>\n",
       "      <td>0.034141</td>\n",
       "      <td>0.032266</td>\n",
       "      <td>1719.0</td>\n",
       "      <td>1719.0</td>\n",
       "      <td>6008.0</td>\n",
       "      <td>6008.0</td>\n",
       "      <td>207.0</td>\n",
       "      <td>207.0</td>\n",
       "      <td>1.129613</td>\n",
       "    </tr>\n",
       "    <tr>\n",
       "      <th>2</th>\n",
       "      <td>2</td>\n",
       "      <td>14.905534</td>\n",
       "      <td>7352.0</td>\n",
       "      <td>0.5</td>\n",
       "      <td>0.032266</td>\n",
       "      <td>0.033438</td>\n",
       "      <td>2151.0</td>\n",
       "      <td>2151.0</td>\n",
       "      <td>6719.0</td>\n",
       "      <td>6719.0</td>\n",
       "      <td>192.0</td>\n",
       "      <td>192.0</td>\n",
       "      <td>1.669109</td>\n",
       "    </tr>\n",
       "    <tr>\n",
       "      <th>3</th>\n",
       "      <td>3</td>\n",
       "      <td>14.906531</td>\n",
       "      <td>7155.0</td>\n",
       "      <td>0.5</td>\n",
       "      <td>0.034609</td>\n",
       "      <td>0.034453</td>\n",
       "      <td>2766.0</td>\n",
       "      <td>2766.0</td>\n",
       "      <td>7675.0</td>\n",
       "      <td>7675.0</td>\n",
       "      <td>207.0</td>\n",
       "      <td>207.0</td>\n",
       "      <td>2.244905</td>\n",
       "    </tr>\n",
       "  </tbody>\n",
       "</table>\n",
       "</div>"
      ],
      "text/plain": [
       "   Pt_No      omega  eh_c01  eh_t01  sl_mon_b_vol  sl_mon_t_vol  \\\n",
       "0      0  14.903406  7314.0     0.5      0.032109      0.031172   \n",
       "1      1  14.904444  7310.0     0.5      0.034141      0.032266   \n",
       "2      2  14.905534  7352.0     0.5      0.032266      0.033438   \n",
       "3      3  14.906531  7155.0     0.5      0.034609      0.034453   \n",
       "\n",
       "   lmbd_countsroi1  lmbd_countsroi1_atten  lmbd_countsroi2  \\\n",
       "0           1474.0                 1474.0           5742.0   \n",
       "1           1719.0                 1719.0           6008.0   \n",
       "2           2151.0                 2151.0           6719.0   \n",
       "3           2766.0                 2766.0           7675.0   \n",
       "\n",
       "   lmbd_countsroi2_atten  lmbd_countsroi3  lmbd_countsroi3_atten        dt  \n",
       "0                 5742.0            240.0                  240.0  0.534496  \n",
       "1                 6008.0            207.0                  207.0  1.129613  \n",
       "2                 6719.0            192.0                  192.0  1.669109  \n",
       "3                 7675.0            207.0                  207.0  2.244905  "
      ]
     },
     "execution_count": 4,
     "metadata": {},
     "output_type": "execute_result"
    }
   ],
   "source": [
    "import numpy as np\n",
    "import pandas as pd\n",
    "import matplotlib.pyplot as plt\n",
    "import os.path\n",
    "from scipy.optimize import curve_fit\n",
    "\n",
    "head = 'Pt_No  omega  eh_c01  eh_t01  sl_mon_b_vol  sl_mon_t_vol  lmbd_countsroi1  lmbd_countsroi1_atten \\\n",
    "lmbd_countsroi2  lmbd_countsroi2_atten  lmbd_countsroi3  lmbd_countsroi3_atten  dt'.split()\n",
    "print(head)\n",
    "\n",
    "data = pd.read_csv('scans/scan13555.txt', sep = ' ', skiprows = 28, names = head)\n",
    "data.head(4)"
   ]
  },
  {
   "cell_type": "code",
   "execution_count": 5,
   "metadata": {},
   "outputs": [
    {
     "data": {
      "text/plain": [
       "[<matplotlib.lines.Line2D at 0x7faef888d670>]"
      ]
     },
     "execution_count": 5,
     "metadata": {},
     "output_type": "execute_result"
    },
    {
     "data": {
      "image/png": "[encoded data removed]",
      "text/plain": [
       "<Figure size 432x288 with 1 Axes>"
      ]
     },
     "metadata": {
      "needs_background": "light"
     },
     "output_type": "display_data"
    }
   ],
   "source": [
    "theta = data['omega']\n",
    "Intensity = data['lmbd_countsroi1']\n",
    "\n",
    "plt.plot(theta, Intensity, 'ro')"
   ]
  },
  {
   "cell_type": "code",
   "execution_count": 18,
   "metadata": {},
   "outputs": [],
   "source": [
    "# Define the Gaussian function\n",
    "def Gauss(x, A, B):\n",
    "    y = A*np.exp(-1*B*x**2)\n",
    "    return y"
   ]
  },
  {
   "cell_type": "markdown",
   "metadata": {},
   "source": [
    "## КДО"
   ]
  },
  {
   "cell_type": "markdown",
   "metadata": {},
   "source": [
    "Из всего многообразия библиотеки **scipy**, для аппроксимации кривых дифракционного отражения мы будем пользоваться только функцией **curve_fit**, поэтому для краткости записи можем импортировать её одну."
   ]
  },
  {
   "cell_type": "code",
   "execution_count": 10,
   "metadata": {},
   "outputs": [],
   "source": [
    "import pandas as pd\n",
    "import numpy as np\n",
    "import matplotlib.pyplot as plt\n",
    "from scipy.optimize import curve_fit "
   ]
  },
  {
   "cell_type": "markdown",
   "metadata": {},
   "source": [
    "Загружаем данные из уже знакомого датасета:"
   ]
  },
  {
   "cell_type": "code",
   "execution_count": 11,
   "metadata": {},
   "outputs": [
    {
     "data": {
      "text/html": [
       "<div>\n",
       "<style scoped>\n",
       "    .dataframe tbody tr th:only-of-type {\n",
       "        vertical-align: middle;\n",
       "    }\n",
       "\n",
       "    .dataframe tbody tr th {\n",
       "        vertical-align: top;\n",
       "    }\n",
       "\n",
       "    .dataframe thead th {\n",
       "        text-align: right;\n",
       "    }\n",
       "</style>\n",
       "<table border=\"1\" class=\"dataframe\">\n",
       "  <thead>\n",
       "    <tr style=\"text-align: right;\">\n",
       "      <th></th>\n",
       "      <th>Pt_No</th>\n",
       "      <th>omega</th>\n",
       "      <th>eh_c01</th>\n",
       "      <th>eh_t01</th>\n",
       "      <th>sl_mon_b_vol</th>\n",
       "      <th>sl_mon_t_vol</th>\n",
       "      <th>lmbd_countsroi1</th>\n",
       "      <th>lmbd_countsroi1_atten</th>\n",
       "      <th>lmbd_countsroi2</th>\n",
       "      <th>lmbd_countsroi2_atten</th>\n",
       "      <th>lmbd_countsroi3</th>\n",
       "      <th>lmbd_countsroi3_atten</th>\n",
       "      <th>dt</th>\n",
       "    </tr>\n",
       "  </thead>\n",
       "  <tbody>\n",
       "    <tr>\n",
       "      <th>0</th>\n",
       "      <td>0</td>\n",
       "      <td>14.903406250000003</td>\n",
       "      <td>7314.0</td>\n",
       "      <td>0.5</td>\n",
       "      <td>0.032109375</td>\n",
       "      <td>0.031171875</td>\n",
       "      <td>1474.0</td>\n",
       "      <td>1474.0</td>\n",
       "      <td>5742.0</td>\n",
       "      <td>5742.0</td>\n",
       "      <td>240.0</td>\n",
       "      <td>240.0</td>\n",
       "      <td>0.5344958305358887</td>\n",
       "    </tr>\n",
       "    <tr>\n",
       "      <th>1</th>\n",
       "      <td>1</td>\n",
       "      <td>14.904443750000006</td>\n",
       "      <td>7310.0</td>\n",
       "      <td>0.5</td>\n",
       "      <td>0.034140625</td>\n",
       "      <td>0.032265625</td>\n",
       "      <td>1719.0</td>\n",
       "      <td>1719.0</td>\n",
       "      <td>6008.0</td>\n",
       "      <td>6008.0</td>\n",
       "      <td>207.0</td>\n",
       "      <td>207.0</td>\n",
       "      <td>1.129612922668457</td>\n",
       "    </tr>\n",
       "    <tr>\n",
       "      <th>2</th>\n",
       "      <td>2</td>\n",
       "      <td>14.905534375000002</td>\n",
       "      <td>7352.0</td>\n",
       "      <td>0.5</td>\n",
       "      <td>0.032265625</td>\n",
       "      <td>0.0334375</td>\n",
       "      <td>2151.0</td>\n",
       "      <td>2151.0</td>\n",
       "      <td>6719.0</td>\n",
       "      <td>6719.0</td>\n",
       "      <td>192.0</td>\n",
       "      <td>192.0</td>\n",
       "      <td>1.6691086292266846</td>\n",
       "    </tr>\n",
       "    <tr>\n",
       "      <th>3</th>\n",
       "      <td>3</td>\n",
       "      <td>14.90653125</td>\n",
       "      <td>7155.0</td>\n",
       "      <td>0.5</td>\n",
       "      <td>0.034609375</td>\n",
       "      <td>0.034453125</td>\n",
       "      <td>2766.0</td>\n",
       "      <td>2766.0</td>\n",
       "      <td>7675.0</td>\n",
       "      <td>7675.0</td>\n",
       "      <td>207.0</td>\n",
       "      <td>207.0</td>\n",
       "      <td>2.2449052333831787</td>\n",
       "    </tr>\n",
       "  </tbody>\n",
       "</table>\n",
       "</div>"
      ],
      "text/plain": [
       "  Pt_No               omega  eh_c01 eh_t01 sl_mon_b_vol sl_mon_t_vol  \\\n",
       "0     0  14.903406250000003  7314.0    0.5  0.032109375  0.031171875   \n",
       "1     1  14.904443750000006  7310.0    0.5  0.034140625  0.032265625   \n",
       "2     2  14.905534375000002  7352.0    0.5  0.032265625    0.0334375   \n",
       "3     3         14.90653125  7155.0    0.5  0.034609375  0.034453125   \n",
       "\n",
       "   lmbd_countsroi1 lmbd_countsroi1_atten  lmbd_countsroi2  \\\n",
       "0           1474.0                1474.0           5742.0   \n",
       "1           1719.0                1719.0           6008.0   \n",
       "2           2151.0                2151.0           6719.0   \n",
       "3           2766.0                2766.0           7675.0   \n",
       "\n",
       "  lmbd_countsroi2_atten  lmbd_countsroi3 lmbd_countsroi3_atten  \\\n",
       "0                5742.0            240.0                 240.0   \n",
       "1                6008.0            207.0                 207.0   \n",
       "2                6719.0            192.0                 192.0   \n",
       "3                7675.0            207.0                 207.0   \n",
       "\n",
       "                   dt  \n",
       "0  0.5344958305358887  \n",
       "1   1.129612922668457  \n",
       "2  1.6691086292266846  \n",
       "3  2.2449052333831787  "
      ]
     },
     "execution_count": 11,
     "metadata": {},
     "output_type": "execute_result"
    }
   ],
   "source": [
    "cols = 'Pt_No  omega  eh_c01  eh_t01  sl_mon_b_vol  sl_mon_t_vol \\\n",
    "lmbd_countsroi1  lmbd_countsroi1_atten  lmbd_countsroi2  lmbd_countsroi2_atten  \\\n",
    "lmbd_countsroi3  lmbd_countsroi3_atten  dt'.split()\n",
    "\n",
    "data = pd.read_csv('scan13555.txt', sep = ' ', skiprows = 1, names = cols)\n",
    "data.head(4)"
   ]
  },
  {
   "cell_type": "markdown",
   "metadata": {},
   "source": [
    "Перед аппроксимацией всегда стоит сперва посмотреть на что похожи наши данные, заодно преобразуем их в np.array для удобства рассчетов:"
   ]
  },
  {
   "cell_type": "code",
   "execution_count": 12,
   "metadata": {},
   "outputs": [
    {
     "name": "stdout",
     "output_type": "stream",
     "text": [
      "14.942890625000011\n"
     ]
    },
    {
     "data": {
      "text/plain": [
       "[<matplotlib.lines.Line2D at 0x7faef88a5df0>]"
      ]
     },
     "execution_count": 12,
     "metadata": {},
     "output_type": "execute_result"
    },
    {
     "data": {
      "image/png": "[encoded data removed]",
      "text/plain": [
       "<Figure size 432x288 with 1 Axes>"
      ]
     },
     "metadata": {
      "needs_background": "light"
     },
     "output_type": "display_data"
    }
   ],
   "source": [
    "x = np.array(data['omega'])\n",
    "y = np.array(data['lmbd_countsroi1'])\n",
    "print(x[-1])\n",
    "\n",
    "plt.plot(x, y, 'ro')"
   ]
  },
  {
   "cell_type": "markdown",
   "metadata": {},
   "source": [
    "### Распределение Лоренца\n",
    "\n",
    "Распределение Лоренца или Коши-Лоренца лучше подходит для аппроксимации кривых дифракционного отражения. Оно записывается как:\n",
    "\n",
    "$ f(x, x_0, \\gamma) = \\frac{1}{\\pi \\gamma} \\frac{\\gamma^2}{(x - x_0)^2 + \\gamma^2}$,\n",
    "\n",
    "- $x_0$ - центр кривой,\n",
    "\n",
    "- $\\gamma$ - полуширина кривой.\n",
    "\n",
    "<img src = '600px-Cauchy_pdf.svg.png' width = 300>"
   ]
  },
  {
   "cell_type": "code",
   "execution_count": 14,
   "metadata": {},
   "outputs": [
    {
     "name": "stdout",
     "output_type": "stream",
     "text": [
      "['14.903406250000003' '14.904443750000006' '14.905534375000002'\n",
      " '14.90653125' '14.907731250000005' '14.908940625000007'\n",
      " '14.910062500000002' '14.911162500000003' '14.912346875000004'\n",
      " '14.913546875000002' '14.914662500000006' '14.915765625000006'\n",
      " '14.916865625000007' '14.917962500000002' '14.919084375000011'\n",
      " '14.920125000000006' '14.921231250000005' '14.922231250000003'\n",
      " '14.923456250000008' '14.924850000000006' '14.926046875000004'\n",
      " '14.927253125' '14.928368750000004' '14.929468750000005'\n",
      " '14.930656250000006' '14.931765625000011' '14.932881250000008'\n",
      " '14.934075000000007' '14.935181250000007' '14.93636875'\n",
      " '14.937459375000003' '14.938662500000007' '14.939662500000004'\n",
      " '14.940768750000004' '14.941875000000003' '14.942890625000011' 'p23user'\n",
      " 'Sun' 'Acquisition' 'atten' 'gx' 'lmbd_filestartnum' 'lmbd_threadno'\n",
      " 'mono2pitch' 'ohsl1b' 'ohsl2b' 'phi' 'sl3h' 'sl4h' 'und_en' '1.0'\n",
      " '-0.8900000000000006' '0' '0' '0.06485081585081587' '19.95' '19.45'\n",
      " '-0.160000000000025' '3.552713678800501e-15' '-0.5645000000000024'\n",
      " '4889.03076171875' '13' 'Pt_No' '14.903406250000003' '14.904443750000006'\n",
      " '14.905534375000002' '14.90653125' '14.907731250000005'\n",
      " '14.908940625000007' '14.910062500000002' '14.911162500000003'\n",
      " '14.912346875000004' '14.913546875000002' '14.914662500000006'\n",
      " '14.915765625000006' '14.916865625000007' '14.917962500000002'\n",
      " '14.919084375000011' '14.920125000000006' '14.921231250000005'\n",
      " '14.922231250000003' '14.923456250000008' '14.924850000000006'\n",
      " '14.926046875000004' '14.927253125' '14.928368750000004'\n",
      " '14.929468750000005' '14.930656250000006' '14.931765625000011'\n",
      " '14.932881250000008' '14.934075000000007' '14.935181250000007'\n",
      " '14.93636875' '14.937459375000003' '14.938662500000007'\n",
      " '14.939662500000004' '14.940768750000004' '14.941875000000003'\n",
      " '14.942890625000011']\n",
      "[ 1.47400000e+03  1.71900000e+03  2.15100000e+03  2.76600000e+03\n",
      "  3.25600000e+03  4.19300000e+03  5.09800000e+03  6.68900000e+03\n",
      "  8.84000000e+03  1.22390000e+04  1.66830000e+04  2.41780000e+04\n",
      "  3.68610000e+04  5.93900000e+04  9.97780000e+04  1.51588000e+05\n",
      "  1.93539000e+05  1.78173000e+05  1.17851000e+05  6.63090000e+04\n",
      "  3.99250000e+04  2.78640000e+04  2.01420000e+04  1.54440000e+04\n",
      "  1.21470000e+04  9.65700000e+03  8.06100000e+03  6.92700000e+03\n",
      "  5.70000000e+03  4.88500000e+03  4.29500000e+03  3.70900000e+03\n",
      "  3.34900000e+03  2.95500000e+03  2.63400000e+03  2.37200000e+03\n",
      "             nan             nan  1.30000000e+01             nan\n",
      "             nan             nan             nan             nan\n",
      "             nan             nan             nan             nan\n",
      "             nan             nan  1.00000101e+00  2.40000000e+01\n",
      "  1.00000000e+03  0.00000000e+00  3.90607500e+00  2.29500000e+01\n",
      "  2.34500000e+01  3.86515000e-01 -1.77635684e-15 -4.32000000e-02\n",
      "             nan             nan             nan  1.47400000e+03\n",
      "  1.71900000e+03  2.15100000e+03  2.76600000e+03  3.25600000e+03\n",
      "  4.19300000e+03  5.09800000e+03  6.68900000e+03  8.84000000e+03\n",
      "  1.22390000e+04  1.66830000e+04  2.41780000e+04  3.68610000e+04\n",
      "  5.93900000e+04  9.97780000e+04  1.51588000e+05  1.93539000e+05\n",
      "  1.78173000e+05  1.17851000e+05  6.63090000e+04  3.99250000e+04\n",
      "  2.78640000e+04  2.01420000e+04  1.54440000e+04  1.21470000e+04\n",
      "  9.65700000e+03  8.06100000e+03  6.92700000e+03  5.70000000e+03\n",
      "  4.88500000e+03  4.29500000e+03  3.70900000e+03  3.34900000e+03\n",
      "  2.95500000e+03  2.63400000e+03  2.37200000e+03]\n"
     ]
    },
    {
     "ename": "TypeError",
     "evalue": "can't multiply sequence by non-int of type 'float'",
     "output_type": "error",
     "traceback": [
      "\u001b[0;31m---------------------------------------------------------------------------\u001b[0m",
      "\u001b[0;31mTypeError\u001b[0m                                 Traceback (most recent call last)",
      "\u001b[0;32m<ipython-input-14-f1274a027d3d>\u001b[0m in \u001b[0;36m<module>\u001b[0;34m\u001b[0m\n\u001b[1;32m      9\u001b[0m \u001b[0;31m# приблизительно оцениваем начальные параметры\u001b[0m\u001b[0;34m\u001b[0m\u001b[0;34m\u001b[0m\u001b[0;34m\u001b[0m\u001b[0m\n\u001b[1;32m     10\u001b[0m \u001b[0mamp\u001b[0m \u001b[0;34m=\u001b[0m \u001b[0mmax\u001b[0m\u001b[0;34m(\u001b[0m\u001b[0my\u001b[0m\u001b[0;34m)\u001b[0m\u001b[0;34m\u001b[0m\u001b[0;34m\u001b[0m\u001b[0m\n\u001b[0;32m---> 11\u001b[0;31m \u001b[0mcen\u001b[0m \u001b[0;34m=\u001b[0m \u001b[0msum\u001b[0m\u001b[0;34m(\u001b[0m\u001b[0mx\u001b[0m \u001b[0;34m*\u001b[0m \u001b[0my\u001b[0m\u001b[0;34m)\u001b[0m \u001b[0;34m/\u001b[0m \u001b[0msum\u001b[0m\u001b[0;34m(\u001b[0m\u001b[0my\u001b[0m\u001b[0;34m)\u001b[0m\u001b[0;34m\u001b[0m\u001b[0;34m\u001b[0m\u001b[0m\n\u001b[0m\u001b[1;32m     12\u001b[0m \u001b[0mmean\u001b[0m \u001b[0;34m=\u001b[0m \u001b[0msum\u001b[0m\u001b[0;34m(\u001b[0m\u001b[0mx\u001b[0m \u001b[0;34m*\u001b[0m \u001b[0my\u001b[0m\u001b[0;34m)\u001b[0m \u001b[0;34m/\u001b[0m \u001b[0msum\u001b[0m\u001b[0;34m(\u001b[0m\u001b[0my\u001b[0m\u001b[0;34m)\u001b[0m\u001b[0;34m\u001b[0m\u001b[0;34m\u001b[0m\u001b[0m\n\u001b[1;32m     13\u001b[0m \u001b[0mwid\u001b[0m \u001b[0;34m=\u001b[0m \u001b[0mnp\u001b[0m\u001b[0;34m.\u001b[0m\u001b[0msqrt\u001b[0m\u001b[0;34m(\u001b[0m\u001b[0msum\u001b[0m\u001b[0;34m(\u001b[0m\u001b[0my\u001b[0m \u001b[0;34m*\u001b[0m \u001b[0;34m(\u001b[0m\u001b[0mx\u001b[0m \u001b[0;34m-\u001b[0m \u001b[0mmean\u001b[0m\u001b[0;34m)\u001b[0m\u001b[0;34m**\u001b[0m\u001b[0;36m2\u001b[0m\u001b[0;34m)\u001b[0m \u001b[0;34m/\u001b[0m \u001b[0msum\u001b[0m\u001b[0;34m(\u001b[0m\u001b[0my\u001b[0m\u001b[0;34m)\u001b[0m\u001b[0;34m)\u001b[0m\u001b[0;34m\u001b[0m\u001b[0;34m\u001b[0m\u001b[0m\n",
      "\u001b[0;31mTypeError\u001b[0m: can't multiply sequence by non-int of type 'float'"
     ]
    }
   ],
   "source": [
    "def Lorentzian(x, amp, cen, wid):\n",
    "    return (amp*wid**2/((x-cen)**2+wid**2))\n",
    "\n",
    "x = np.array(data['omega'])\n",
    "y = np.array(data['lmbd_countsroi1'])\n",
    "print(x)\n",
    "print(y)\n",
    "\n",
    "# приблизительно оцениваем начальные параметры\n",
    "amp = max(y)\n",
    "cen = sum(x * y) / sum(y)\n",
    "mean = sum(x * y) / sum(y)\n",
    "wid = np.sqrt(sum(y * (x - mean)**2) / sum(y))\n",
    "\n",
    "pars, cov = curve_fit(f=Lorentzian, xdata=x, ydata=y, p0=[amp, cen, wid], bounds=(-np.inf, np.inf))\n",
    "pars"
   ]
  },
  {
   "cell_type": "code",
   "execution_count": 9,
   "metadata": {},
   "outputs": [
    {
     "data": {
      "text/plain": [
       "[<matplotlib.lines.Line2D at 0x7fabe8a71490>]"
      ]
     },
     "execution_count": 9,
     "metadata": {},
     "output_type": "execute_result"
    },
    {
     "data": {
      "image/png": "[encoded data removed]",
      "text/plain": [
       "<Figure size 432x288 with 1 Axes>"
      ]
     },
     "metadata": {
      "needs_background": "light"
     },
     "output_type": "display_data"
    }
   ],
   "source": [
    "# Создаем массив на котором будем вычислять аппроксимирующую функцию\n",
    "x_new = np.linspace(x[0], x[-1], 200)\n",
    "\n",
    "\n",
    "plt.plot(x, y, 'ro')\n",
    "plt.plot(x_new, Lorentzian(x_new, *pars))"
   ]
  },
  {
   "cell_type": "code",
   "execution_count": null,
   "metadata": {},
   "outputs": [],
   "source": []
  }
 ],
 "metadata": {
  "kernelspec": {
   "display_name": "Python 3 (ipykernel)",
   "language": "python",
   "name": "python3"
  },
  "language_info": {
   "codemirror_mode": {
    "name": "ipython",
    "version": 3
   },
   "file_extension": ".py",
   "mimetype": "text/x-python",
   "name": "python",
   "nbconvert_exporter": "python",
   "pygments_lexer": "ipython3",
   "version": "3.9.7"
  }
 },
 "nbformat": 4,
 "nbformat_minor": 4
}
