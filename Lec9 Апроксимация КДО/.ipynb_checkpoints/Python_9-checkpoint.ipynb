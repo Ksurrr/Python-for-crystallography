{
 "cells": [
  {
   "cell_type": "markdown",
   "metadata": {},
   "source": [
    "# Аппроксимация в Python\n",
    "\n",
    "## Содержание\n",
    "\n",
    "- [Полиномы](#Полиномы)\n",
    "- [Апроксимация полиномом](#Апроксимация-полиномом)\n",
    "    - [Задача 1](#Задача-1)\n",
    "- [Аппроксимация функцией](#Аппроксимация-функцией)\n",
    "- [Аппроксимация КДО](#Аппроксимация-КДО)\n",
    "    - [Аппроксимация КДО функцией Гаусса](#Аппроксимация-КДО-функцией-Гаусса)\n",
    "    - [Аппроксимация КДО функцией Лоренца](#Аппроксимация-КДО-функцией-Лоренца)\n",
    "    - [Задача 2](#Задача-2)\n",
    "\n",
    "\n",
    "Необходимые файлы:\n",
    "- scan13555.txt\n",
    "- b2eed6.gif\n",
    "- 600px-Cauchy_pdf.svg.png"
   ]
  },
  {
   "cell_type": "markdown",
   "metadata": {},
   "source": [
    "## Полиномы\n",
    "\n",
    "Полином задается вектором из его коэффициентов, начиная с коэффициента при старшей степени. Например для определения полинома\n",
    "\n",
    "$P = x^7 + 1.7 x^5 - 4x^3 + x^2 - 0.1x +4$"
   ]
  },
  {
   "cell_type": "code",
   "execution_count": null,
   "metadata": {},
   "outputs": [],
   "source": [
    "import numpy as np\n",
    "import matplotlib.pyplot as plt\n",
    "\n",
    "P = [1, 0, 1.7, 0, -4, 1, -0.1, 4]\n",
    "\n",
    "# Вычислим значение полинома в точке 1:\n",
    "np.polyval(P, 1)"
   ]
  },
  {
   "cell_type": "code",
   "execution_count": null,
   "metadata": {},
   "outputs": [],
   "source": [
    "# Вычислим значение полинома на диапазоне значений:\n",
    "\n",
    "x = np.linspace(-1.2, 1.2, 100)\n",
    "y = np.polyval(P, x)\n",
    "\n",
    "plt.plot(x, y)\n",
    "plt.xlabel('x')\n",
    "plt.ylabel('y')\n",
    "plt.title('$y(x) = x^7 + 1.7 x^5 - 4x^3 + x^2 - 0.1x +4$')\n",
    "plt.show()"
   ]
  },
  {
   "cell_type": "markdown",
   "metadata": {},
   "source": [
    "## Аппроксимация полиномом\n",
    "\n",
    "При аппроксимации табличные данные моделируют кривой, которая не обязана проходить через все узловые точки, а должна как бы сгладить все случайные помехи табличной функции. Один из самых популярных методов аппроксимации – это метод наименьших квадратов (МНК). В этом методе аппроксимирующую кривую проводят так, чтобы её отклонения от табличных данных по всем узловым точкам были минимальными."
   ]
  },
  {
   "cell_type": "markdown",
   "metadata": {},
   "source": [
    "Создадим модель датасета на основе синуса. Это будут данные, которые мы будем пробовать апроксимировать полиномами."
   ]
  },
  {
   "cell_type": "code",
   "execution_count": null,
   "metadata": {},
   "outputs": [],
   "source": [
    "import numpy as np\n",
    "import matplotlib.pyplot as plt\n",
    "\n",
    "# Моделируем экспериментальные данные синусом\n",
    "x = [ -np.pi, -1, 0, 2, 3, np.pi]\n",
    "y = np.sin(x)\n",
    "\n",
    "plt.plot(x, y, 'o')"
   ]
  },
  {
   "cell_type": "markdown",
   "metadata": {},
   "source": [
    "Чтобы найти коэффициенты апроксимирующего полинома, используем функцию **np.polifit**, которая принимает в качестве аргументов данные в виде векторов x и y, и степень полинома. Результатом работы функции является вектор-строка длиной n+1, содержащая коэффициенты полинома в порядке уменьшения степеней.  Степень полинома не может быть больше числа точек в датасете. \n",
    "\n",
    "Выполните аппроксимацию полиномами от первой степени до (n -1) степени."
   ]
  },
  {
   "cell_type": "code",
   "execution_count": null,
   "metadata": {},
   "outputs": [],
   "source": [
    "# Находим коэффициенты аппроксимирующего полинома\n",
    "P = np.polyfit(x, y, 1)\n",
    "\n",
    "# Записываем аппроксимирующую функцию\n",
    "f = np.poly1d(P)\n",
    "print(f)\n",
    "\n",
    "plt.plot(x, y, 'bo')\n",
    "\n",
    "# Вычисляем аппроксимирующую функцию на множестве значений\n",
    "x_new = np.linspace(-np.pi, np.pi, 100)\n",
    "plt.plot(x_new, f(x_new), 'r')"
   ]
  },
  {
   "cell_type": "markdown",
   "metadata": {},
   "source": [
    "## Задача 1\n",
    "\n",
    "Выполните аппроксимацию табличных данных: \n",
    "\n",
    "x = [0, 0.1 , 0.2, 0.3, 0.5];\n",
    "\n",
    "y = [3, 4.5, 1.7, 0.7, -1].\n",
    "\n",
    "• Применяя метод наименьших квадратов, многочленами 1-й, 2-й, 3-й и 4-й степени.\n",
    "\n",
    "• Постройте на одном графике экспериментальные точки и кривые всех рассчитанных апроксимирующих многочленов.\n",
    "\n",
    "• На графике подпишите оси и создайте легенду"
   ]
  },
  {
   "cell_type": "markdown",
   "metadata": {},
   "source": [
    "## Аппроксимация функцией\n",
    "\n",
    "Полезный блог:\n",
    "\n",
    "http://emilygraceripka.com/blog/14\n",
    "\n",
    "http://emilygraceripka.com/blog/16"
   ]
  },
  {
   "cell_type": "code",
   "execution_count": null,
   "metadata": {},
   "outputs": [],
   "source": [
    "Сначала импортируем соответствующие модули Python, которые будут использоваться:"
   ]
  },
  {
   "cell_type": "code",
   "execution_count": null,
   "metadata": {},
   "outputs": [],
   "source": [
    "import numpy as np\n",
    "import matplotlib.pyplot as plt\n",
    "from scipy.optimize import curve_fit"
   ]
  },
  {
   "cell_type": "markdown",
   "metadata": {},
   "source": [
    "Теперь рассмотрим набор x,y-данных. Эти данные имеют одну независимую переменную (наши значения x) и одну зависимую переменную (наши значения y). Мы преобразуем данные в массивы numpy, чтобы мы могли использовать функции numpy при оценке наших данных. Часто бывает очень полезно взглянуть на график данных, когда решается, какая функциональная форма подходит."
   ]
  },
  {
   "cell_type": "code",
   "execution_count": null,
   "metadata": {},
   "outputs": [],
   "source": [
    "#X = [19.362, 19.376, 19.38, 19.387, 19.389, 19.394, 19.395, 19.397, 19.406, 19.414, 19.422]\n",
    "#Y = [2267, 2371, 2419, 3618, 3860, 3023, 2873, 2575, 2415, 2325, 2274]\n",
    "\n",
    "X = [ -10.0, -9.0, -8.0, -7.0, -6.0, -5.0, -4.0, -3.0, -2.0, -1.0, 0.0, 1.0, 2.0, 3.0, 4.0, 5.0, 6.0, 7.0, 8.0, 9.0, 10.0]\n",
    "Y = [1.2, 4.2, 6.7, 8.3, 10.6, 11.7, 13.5, 14.5, 15.7, 16.1, 16.6, 16.0, 15.4, 14.4, 14.2, 12.7, 10.3, 8.6, 6.1, 3.9, 2.1]\n",
    "\n",
    "xdata = np.array(X)\n",
    "ydata = np.array(Y)\n",
    "\n",
    "plt.plot(xdata, ydata, 'o')"
   ]
  },
  {
   "cell_type": "markdown",
   "metadata": {},
   "source": [
    "Наша кривая хорошо описываются нормальным распределением или функцией Гаусса:\n",
    "\n",
    "$y = A e^{-Bx^2}$\n",
    "\n",
    "Наша цель — найти значения A и B, которые лучше всего соответствуют нашим данным. Во-первых, нам нужно написать функцию Python для функции Гаусса. Функция должна принимать в качестве входных данных независимую переменную (значения x) и все подходящие параметры."
   ]
  },
  {
   "cell_type": "code",
   "execution_count": null,
   "metadata": {},
   "outputs": [],
   "source": [
    "# Define the Gaussian function\n",
    "def Gauss(x, A, B):\n",
    "    y = A*np.exp(-1*B*x**2)\n",
    "    return y"
   ]
  },
  {
   "cell_type": "markdown",
   "metadata": {},
   "source": [
    "Мы будем использовать функцию **curve_fit** из модуля Python **scipy.optimize**, чтобы аппроксимировать наши данные. Он использует нелинейный метод наименьших квадратов. Больше информации о curve_fit в онлайн документации: https://docs.scipy.org/doc/scipy/reference/generated/scipy.optimize.curve_fit.html.\n",
    "\n",
    "Функция **curve_fit** принимает три обязательных параметра: \n",
    "\n",
    "- аппроксимирующая функция;\n",
    "\n",
    "- данные x и y.\n",
    "\n",
    "Необязательные параметры:\n",
    "\n",
    "- **p0** — массив стартовых параметров функции для фитирования;\n",
    "\n",
    "- **bounds** — ограничения на параметры для фитирования (-∞ to ∞).\n",
    "\n",
    "На выходе у **curve_fit**:\n",
    "\n",
    "- массив оптимальных значений параметров аппроксимирующей функции;\n",
    "\n",
    "- матрица предполагаемой ковариации параметров, из которой можно вычислить стандартную ошибку для параметров."
   ]
  },
  {
   "cell_type": "code",
   "execution_count": null,
   "metadata": {},
   "outputs": [],
   "source": [
    "parameters, covariance = curve_fit(Gauss, xdata, ydata)\n",
    "parameters"
   ]
  },
  {
   "cell_type": "markdown",
   "metadata": {},
   "source": [
    "Это предупреждение можно игнорировать. Подробное описание по ссылке: https://www.statology.org/runtimewarning-overflow-encountered-in-exp/\n",
    "\n",
    "Вычисленные оптимальные значения A и B теперь сохраняются спискe parameters."
   ]
  },
  {
   "cell_type": "code",
   "execution_count": null,
   "metadata": {},
   "outputs": [],
   "source": [
    "fit_A = parameters[0]\n",
    "fit_B = parameters[1]\n",
    "print(fit_A)\n",
    "print(fit_B)"
   ]
  },
  {
   "cell_type": "markdown",
   "metadata": {},
   "source": [
    "Теперь мы хотим увидеть, насколько хорошо вычисленная аппроксимирующая кривая соответствует нашим данным. Для этого мы вычислим значения y, используя нашу функцию с параметрами A и B, а затем построим график для сравнения этих рассчитанных значений с нашими данными."
   ]
  },
  {
   "cell_type": "code",
   "execution_count": null,
   "metadata": {},
   "outputs": [],
   "source": [
    "fit_y = Gauss(xdata, fit_A, fit_B)\n",
    "plt.plot(xdata, ydata, 'o', label='data')\n",
    "plt.plot(xdata, fit_y, '-', label='fit')\n",
    "plt.legend()"
   ]
  },
  {
   "cell_type": "markdown",
   "metadata": {},
   "source": [
    "Больше примеров аппроксимации с помощью curve_fit:\n",
    "    \n",
    "https://education.molssi.org/python-data-analysis/03-data-fitting/index.html \n",
    "    \n",
    "http://emilygraceripka.com/blog/14        "
   ]
  },
  {
   "cell_type": "markdown",
   "metadata": {},
   "source": [
    "## Аппроксимация КДО"
   ]
  },
  {
   "cell_type": "markdown",
   "metadata": {},
   "source": [
    "Из всего многообразия библиотеки **scipy**, для аппроксимации кривых дифракционного отражения мы будем пользоваться только функцией **curve_fit**, поэтому для краткости записи можем импортировать её одну."
   ]
  },
  {
   "cell_type": "code",
   "execution_count": null,
   "metadata": {},
   "outputs": [],
   "source": [
    "import pandas as pd\n",
    "import numpy as np\n",
    "import matplotlib.pyplot as plt\n",
    "from scipy.optimize import curve_fit "
   ]
  },
  {
   "cell_type": "markdown",
   "metadata": {},
   "source": [
    "Загружаем данные из уже знакомого датасета:"
   ]
  },
  {
   "cell_type": "code",
   "execution_count": null,
   "metadata": {},
   "outputs": [],
   "source": [
    "cols = 'Pt_No  omega  eh_c01  eh_t01  sl_mon_b_vol  sl_mon_t_vol \\\n",
    "lmbd_countsroi1  lmbd_countsroi1_atten  lmbd_countsroi2  lmbd_countsroi2_atten  \\\n",
    "lmbd_countsroi3  lmbd_countsroi3_atten  dt'.split()\n",
    "\n",
    "data = pd.read_csv('scan13555.txt', sep = ' ', skiprows = 28, names = cols)\n",
    "data.head(4)"
   ]
  },
  {
   "cell_type": "markdown",
   "metadata": {},
   "source": [
    "Перед аппроксимацией всегда стоит сперва посмотреть на что похожи наши данные, заодно преобразуем их в np.array для удобства рассчетов:"
   ]
  },
  {
   "cell_type": "code",
   "execution_count": null,
   "metadata": {},
   "outputs": [],
   "source": [
    "x = np.array(data['omega'])\n",
    "print(x)\n",
    "y = np.array(data['lmbd_countsroi1'])\n",
    "print(x[-1])\n",
    "\n",
    "plt.plot(x, y, 'ro')"
   ]
  },
  {
   "cell_type": "markdown",
   "metadata": {},
   "source": [
    "### Аппроксимация КДО функцией Гаусса"
   ]
  },
  {
   "cell_type": "code",
   "execution_count": null,
   "metadata": {},
   "outputs": [],
   "source": [
    "# Define the Gaussian function\n",
    "def Gauss(x, A, B):\n",
    "    y = A*np.exp(-1*B*x**2)\n",
    "    return y\n",
    "\n",
    "parameters, covariance = curve_fit(Gauss, x, y)\n",
    "\n",
    "fit_A = parameters[0]\n",
    "fit_B = parameters[1]\n",
    "\n",
    "fit_y = Gauss(x, fit_A, fit_B)\n",
    "plt.plot(x, y, 'o', label='data')\n",
    "plt.plot(x, fit_y, '-', label='fit')\n",
    "plt.legend()"
   ]
  },
  {
   "cell_type": "markdown",
   "metadata": {},
   "source": [
    "В нашем случае параметры по умолчанию не дают приемлимого результата, нужно аккуратней расписать вид нормального распределения и добавить в **curve_fit** необязательные аргументы.\n",
    "\n",
    "$f(x) = \\frac{1}{ \\sigma \\sqrt{2 \\pi}} e^{ \\frac{1}{2} (\\frac{x - \\mu}{\\sigma})^2} $\n",
    "\n",
    "- $\\frac{1}{ \\sigma \\sqrt{2 \\pi}}$ - амплитуда;\n",
    "\n",
    "- $\\sigma$ - стандартное отклонение;\n",
    "\n",
    "- $\\mu$ - среднее значение.\n",
    "\n",
    "<img src ='b2eed6.gif'>"
   ]
  },
  {
   "cell_type": "code",
   "execution_count": null,
   "metadata": {},
   "outputs": [],
   "source": [
    "# Функция для вычисления гауссианы по парметрам amp, mean, и sigma\n",
    "def gaussian(x, amp, mean, sigma):\n",
    "    return amp*np.exp(-np.power(x - mean, 2)/(2*np.power(sigma, 2)))\n",
    "\n",
    "# приближенная оценка amp, mean, standard deviation\n",
    "amp = max(y)\n",
    "mean = sum(x * y) / sum(y)\n",
    "sigma = np.sqrt(sum(y * (x - mean)**2) / sum(y))\n",
    "\n",
    "print('amp =', amp)\n",
    "print('mu =', mean)\n",
    "print('sigma =', sigma)\n"
   ]
  },
  {
   "cell_type": "markdown",
   "metadata": {},
   "source": [
    "### Функция curve_fit\n",
    "\n",
    "Для аппроксимации используем функцию **curve_fit**.\n",
    "\n",
    "Принимает аргументы:\n",
    "\n",
    "- **f** — аппроксимирующая функция;\n",
    "\n",
    "- **xdata** — вектор данных по х;\n",
    "\n",
    "- **ydata** — вектор данных по у;\n",
    "\n",
    "- **p0** — массив стартовых параметров для фитирования;\n",
    "\n",
    "- **bounds** — ограничения на параметры для фитирования (-∞ to ∞).\n",
    "\n",
    "Возвращает:\n",
    "\n",
    "- **pars** — массив оптимизированных параметров;\n",
    "\n",
    "- **cov** — матрица ковариаций, которую можно использовать для определения стандартных отклонений подгоночных параметров."
   ]
  },
  {
   "cell_type": "code",
   "execution_count": null,
   "metadata": {},
   "outputs": [],
   "source": [
    "# Аппроксимируем наши данные гауссианой\n",
    "pars, cov = curve_fit(f=gaussian, xdata=x, ydata=y, p0=[amp, mean, sigma], bounds=(-np.inf, np.inf))\n",
    "pars"
   ]
  },
  {
   "cell_type": "code",
   "execution_count": null,
   "metadata": {},
   "outputs": [],
   "source": [
    "# Создаем массив на котором будем вычислять аппроксимирующую функцию\n",
    "x_new = np.linspace(x[0], x[-1], 200)\n",
    "\n",
    "plt.plot(x, y, 'ro')\n",
    "plt.plot(x_new , gaussian(x_new, *pars))\n",
    "# Запись *pars распаковывает массив, записывая его элементы через запятую"
   ]
  },
  {
   "cell_type": "markdown",
   "metadata": {
    "tags": []
   },
   "source": [
    "### Аппроксимация КДО функцией Лоренца\n",
    "\n",
    "Распределение Лоренца или Коши-Лоренца лучше подходит для аппроксимации кривых дифракционного отражения. Оно записывается как:\n",
    "\n",
    "$ f(x, x_0, \\gamma) = \\frac{1}{\\pi \\gamma} \\frac{\\gamma^2}{(x - x_0)^2 + \\gamma^2}$,\n",
    "\n",
    "- $x_0$ - центр кривой,\n",
    "\n",
    "- $\\gamma$ - полуширина кривой.\n",
    "\n",
    "<img src = '600px-Cauchy_pdf.svg.png' width = 300>"
   ]
  },
  {
   "cell_type": "markdown",
   "metadata": {},
   "source": [
    "## Задача 2\n",
    "\n",
    "Аппроксимируйте кривую дифракционного отражения из scan13555.dat с помощью распределения Лоренца. Оценку амплитуды, положения центра кривой и полуширины кривой можно взять из нормального распределения для тех же данных."
   ]
  },
  {
   "cell_type": "code",
   "execution_count": null,
   "metadata": {},
   "outputs": [],
   "source": [
    "# Функция для вычисления Лоренца по параметрам amp, mean, и sigma\n",
    "def Lorentzian(x, amp, cen, wid):\n",
    "    return (amp*wid**2/((x-cen)**2+wid**2))"
   ]
  }
 ],
 "metadata": {
  "kernelspec": {
   "display_name": "Python 3 (ipykernel)",
   "language": "python",
   "name": "python3"
  },
  "language_info": {
   "codemirror_mode": {
    "name": "ipython",
    "version": 3
   },
   "file_extension": ".py",
   "mimetype": "text/x-python",
   "name": "python",
   "nbconvert_exporter": "python",
   "pygments_lexer": "ipython3",
   "version": "3.9.7"
  }
 },
 "nbformat": 4,
 "nbformat_minor": 4
}
