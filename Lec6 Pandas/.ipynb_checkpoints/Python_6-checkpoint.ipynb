{
 "cells": [
  {
   "cell_type": "markdown",
   "metadata": {},
   "source": [
    "# Библиотека Pandas\n",
    "\n",
    "## Содержание\n",
    "\n",
    "- [Основные объекты и понятия](##Основные-объекты-и-понятия)\n",
    "- [Series](#Series)\n",
    "    - [Индексы и выборка](#Индексы-и-выборка)\n",
    "    - [Добавление и удаление элементов](#Добавление-и-удаление-элементов)\n",
    "    - [Операции](#Операции)\n",
    "    - [Загрузка из файла и сохранение в файл](#Загрузка-из-файла-и-сохранение-в-файл)\n",
    "    - [Задача 1](#Задача-1)\n",
    "- [DataFrame](#DataFrame)\n",
    "    - [Параметры функции read csv](#Параметры-функции-read-csv)\n",
    "    - [Задача 2](#Задача-2)\n",
    "    - [Информация о DataFrame](#Информация-о-DataFrame)\n",
    "    - [Индексация и фильтация](#Индексация-и-фильтация)\n",
    "- [Задача 3. Элементарная ячейка альфа-железа](#Задача-3.-Элементарная-ячейка-альфа-железа)\n",
    "- [Задача 4. Атомный фактор рассеяния](#Задача-4.-Атомный-фактор-рассеяния)\n",
    "\n",
    "Необходимые файлы:\n",
    "\n",
    "- scan.csv\n",
    "\n",
    "- scan_14703.csv\n",
    "\n",
    "- Atomic_factors-6.1.1.4.xlsx\n",
    "\n",
    "- alpha-Fe.xyz\n",
    "\n",
    "    \n",
    "    \n"
   ]
  },
  {
   "cell_type": "markdown",
   "metadata": {},
   "source": [
    "# Основные объекты и понятия\n",
    "\n",
    "Основу **Pandas** составляют такие структуры данных как **Series** и **DataFrame**\n",
    "\n",
    "**Series** - одномерный массив, имеющий **специальные метки (индексы)** и способные хранить данные **любого** типа. Индексы мы можем задавать сами, и вместо 0, 1, 2, 3... могло быть Максим, Петя, Вася."
   ]
  },
  {
   "cell_type": "code",
   "execution_count": 2,
   "metadata": {
    "jupyter": {
     "source_hidden": true
    }
   },
   "outputs": [
    {
     "data": {
      "text/plain": [
       "0      2\n",
       "1    NaN\n",
       "2      7\n",
       "3    one\n",
       "4      0\n",
       "dtype: object"
      ]
     },
     "execution_count": 2,
     "metadata": {},
     "output_type": "execute_result"
    }
   ],
   "source": [
    "import matplotlib as plt\n",
    "import numpy as np\n",
    "import pandas as pd\n",
    "\n",
    "pd.Series([2, np.nan, 7, \"one\", 0])"
   ]
  },
  {
   "cell_type": "markdown",
   "metadata": {},
   "source": [
    "**DataFrame** - это **двумерный массив (матрица, таблица)**, имеющий **специальные метки (индексы)** и способный хранить в столбцах данные **разных** типов."
   ]
  },
  {
   "cell_type": "code",
   "execution_count": 2,
   "metadata": {
    "jupyter": {
     "source_hidden": true
    }
   },
   "outputs": [
    {
     "data": {
      "text/html": [
       "<div>\n",
       "<style scoped>\n",
       "    .dataframe tbody tr th:only-of-type {\n",
       "        vertical-align: middle;\n",
       "    }\n",
       "\n",
       "    .dataframe tbody tr th {\n",
       "        vertical-align: top;\n",
       "    }\n",
       "\n",
       "    .dataframe thead th {\n",
       "        text-align: right;\n",
       "    }\n",
       "</style>\n",
       "<table border=\"1\" class=\"dataframe\">\n",
       "  <thead>\n",
       "    <tr style=\"text-align: right;\">\n",
       "      <th></th>\n",
       "      <th>Name</th>\n",
       "      <th>Birth</th>\n",
       "      <th>City</th>\n",
       "      <th>Position</th>\n",
       "    </tr>\n",
       "  </thead>\n",
       "  <tbody>\n",
       "    <tr>\n",
       "      <th>0</th>\n",
       "      <td>Иванов А.А.</td>\n",
       "      <td>22.03.1980</td>\n",
       "      <td>Москва</td>\n",
       "      <td>NaN</td>\n",
       "    </tr>\n",
       "    <tr>\n",
       "      <th>1</th>\n",
       "      <td>Сорокин И.В.</td>\n",
       "      <td>07.08.1965</td>\n",
       "      <td>Волгоград</td>\n",
       "      <td>инженер</td>\n",
       "    </tr>\n",
       "    <tr>\n",
       "      <th>2</th>\n",
       "      <td>Белов М.М.</td>\n",
       "      <td>13.02.1980</td>\n",
       "      <td>Ростов</td>\n",
       "      <td>менеджер</td>\n",
       "    </tr>\n",
       "    <tr>\n",
       "      <th>3</th>\n",
       "      <td>Мельникова Д.С.</td>\n",
       "      <td>15.04.1985</td>\n",
       "      <td>Ростов</td>\n",
       "      <td>NaN</td>\n",
       "    </tr>\n",
       "    <tr>\n",
       "      <th>4</th>\n",
       "      <td>Рыбина Е.П.</td>\n",
       "      <td>19.11.1985</td>\n",
       "      <td>Москва</td>\n",
       "      <td>инженер</td>\n",
       "    </tr>\n",
       "    <tr>\n",
       "      <th>5</th>\n",
       "      <td>Костров С.О.</td>\n",
       "      <td>31.05.1985</td>\n",
       "      <td>Москва</td>\n",
       "      <td>стажер</td>\n",
       "    </tr>\n",
       "  </tbody>\n",
       "</table>\n",
       "</div>"
      ],
      "text/plain": [
       "              Name       Birth       City  Position\n",
       "0      Иванов А.А.  22.03.1980     Москва       NaN\n",
       "1     Сорокин И.В.  07.08.1965  Волгоград   инженер\n",
       "2       Белов М.М.  13.02.1980     Ростов  менеджер\n",
       "3  Мельникова Д.С.  15.04.1985     Ростов       NaN\n",
       "4      Рыбина Е.П.  19.11.1985     Москва   инженер\n",
       "5     Костров С.О.  31.05.1985     Москва    стажер"
      ]
     },
     "execution_count": 2,
     "metadata": {},
     "output_type": "execute_result"
    }
   ],
   "source": [
    "import matplotlib as plt\n",
    "import numpy as np\n",
    "import pandas as pd\n",
    "\n",
    "# создание DataFrame с помощью чтения данных из файла\n",
    "frame = pd.read_csv(\"data_sample_example.tsv\", header=0, sep=\"\\t\")\n",
    "frame"
   ]
  },
  {
   "cell_type": "code",
   "execution_count": 74,
   "metadata": {},
   "outputs": [],
   "source": [
    "import numpy as np\n",
    "import pandas as pd"
   ]
  },
  {
   "cell_type": "markdown",
   "metadata": {},
   "source": [
    "# Series\n",
    "\n",
    "Одномерный массив с метками. Можно создавать из обыного питоновского списка:"
   ]
  },
  {
   "cell_type": "code",
   "execution_count": 4,
   "metadata": {},
   "outputs": [
    {
     "data": {
      "text/plain": [
       "0        Pandas\n",
       "1    Matplotlib\n",
       "2        Pyplot\n",
       "dtype: object"
      ]
     },
     "execution_count": 4,
     "metadata": {},
     "output_type": "execute_result"
    }
   ],
   "source": [
    "data = [\"Pandas\", \"Matplotlib\", \"Pyplot\"]\n",
    "s = pd.Series(data)\n",
    "s"
   ]
  },
  {
   "cell_type": "markdown",
   "metadata": {},
   "source": [
    "Можно список сразу отправлять в конструктор Series:"
   ]
  },
  {
   "cell_type": "code",
   "execution_count": 5,
   "metadata": {},
   "outputs": [
    {
     "data": {
      "text/plain": [
       "0    2.0\n",
       "1    NaN\n",
       "2    7.0\n",
       "3   -3.0\n",
       "4    0.0\n",
       "dtype: float64"
      ]
     },
     "execution_count": 5,
     "metadata": {},
     "output_type": "execute_result"
    }
   ],
   "source": [
    "s = pd.Series([2, np.nan, 7, -3, 0])\n",
    "s"
   ]
  },
  {
   "cell_type": "markdown",
   "metadata": {},
   "source": [
    "Мы можем самостоятельно задать индексы с попощью параметра **index**:"
   ]
  },
  {
   "cell_type": "code",
   "execution_count": 6,
   "metadata": {},
   "outputs": [
    {
     "data": {
      "text/plain": [
       "a    2.0\n",
       "b    NaN\n",
       "c    7.0\n",
       "d   -3.0\n",
       "e    0.0\n",
       "dtype: float64"
      ]
     },
     "execution_count": 6,
     "metadata": {},
     "output_type": "execute_result"
    }
   ],
   "source": [
    "s = pd.Series([2, np.nan, 7, -3, 0], index=[\"a\", \"b\", \"c\", \"d\", \"e\"])\n",
    "s"
   ]
  },
  {
   "cell_type": "markdown",
   "metadata": {},
   "source": [
    "Если нужно вывести и посмотреть индексы используем метод **index**:"
   ]
  },
  {
   "cell_type": "code",
   "execution_count": 7,
   "metadata": {},
   "outputs": [
    {
     "data": {
      "text/plain": [
       "Index(['a', 'b', 'c', 'd', 'e'], dtype='object')"
      ]
     },
     "execution_count": 7,
     "metadata": {},
     "output_type": "execute_result"
    }
   ],
   "source": [
    "s.index"
   ]
  },
  {
   "cell_type": "markdown",
   "metadata": {},
   "source": [
    "Можно задавать series с помощью словарей, в таком случае в качестве индексов будут использованы ключи:"
   ]
  },
  {
   "cell_type": "code",
   "execution_count": 8,
   "metadata": {},
   "outputs": [
    {
     "data": {
      "text/plain": [
       "q    1\n",
       "p    2\n",
       "r    3\n",
       "dtype: int64"
      ]
     },
     "execution_count": 8,
     "metadata": {},
     "output_type": "execute_result"
    }
   ],
   "source": [
    "n = {\"q\": 1, \"p\": 2, \"r\": 3}\n",
    "pd.Series(n)"
   ]
  },
  {
   "cell_type": "markdown",
   "metadata": {},
   "source": [
    "Многие методы для Series повторяют методы для np.array:"
   ]
  },
  {
   "cell_type": "code",
   "execution_count": 9,
   "metadata": {},
   "outputs": [
    {
     "name": "stdout",
     "output_type": "stream",
     "text": [
      "float64\n",
      "(5,)\n",
      "1\n",
      "5\n"
     ]
    }
   ],
   "source": [
    "print(s.dtype)\n",
    "print(s.shape)\n",
    "print(s.ndim)\n",
    "print(s.size)"
   ]
  },
  {
   "cell_type": "markdown",
   "metadata": {},
   "source": [
    "## Индексы и выборка"
   ]
  },
  {
   "cell_type": "code",
   "execution_count": 75,
   "metadata": {},
   "outputs": [
    {
     "name": "stdout",
     "output_type": "stream",
     "text": [
      "a    2.0\n",
      "c    7.0\n",
      "d   -3.0\n",
      "e    0.0\n",
      "dtype: float64\n"
     ]
    }
   ],
   "source": [
    "print(s)"
   ]
  },
  {
   "cell_type": "code",
   "execution_count": 76,
   "metadata": {},
   "outputs": [
    {
     "name": "stdout",
     "output_type": "stream",
     "text": [
      "2.0\n"
     ]
    }
   ],
   "source": [
    "print(s[0])  # выводим первый элемент"
   ]
  },
  {
   "cell_type": "code",
   "execution_count": 77,
   "metadata": {},
   "outputs": [
    {
     "name": "stdout",
     "output_type": "stream",
     "text": [
      "c    7.0\n",
      "d   -3.0\n",
      "e    0.0\n",
      "dtype: float64\n"
     ]
    }
   ],
   "source": [
    "print(s[1:5])  # выводим элементы со второго по шестой не включая шестой"
   ]
  },
  {
   "cell_type": "code",
   "execution_count": 78,
   "metadata": {},
   "outputs": [
    {
     "name": "stdout",
     "output_type": "stream",
     "text": [
      "a    2.0\n",
      "c    7.0\n",
      "dtype: float64\n"
     ]
    }
   ],
   "source": [
    "print(s[s > 0])  # фильтрация, выводим все положительные элементы"
   ]
  },
  {
   "cell_type": "code",
   "execution_count": 79,
   "metadata": {},
   "outputs": [
    {
     "name": "stdout",
     "output_type": "stream",
     "text": [
      "a    2.0\n",
      "dtype: float64\n"
     ]
    }
   ],
   "source": [
    "print(s[(s > 0) & (s < 3)])  # используем для вывода элементов условные операторы"
   ]
  },
  {
   "cell_type": "code",
   "execution_count": 80,
   "metadata": {},
   "outputs": [
    {
     "name": "stdout",
     "output_type": "stream",
     "text": [
      "7.0\n"
     ]
    }
   ],
   "source": [
    "print(s[\"c\"])  # вывод элемента по метке"
   ]
  },
  {
   "cell_type": "code",
   "execution_count": 16,
   "metadata": {},
   "outputs": [
    {
     "name": "stdout",
     "output_type": "stream",
     "text": [
      "c    7.0\n",
      "e    0.0\n",
      "dtype: float64\n"
     ]
    }
   ],
   "source": [
    "print(s[[\"c\", \"e\"]])  # вывод по нескольким индексам"
   ]
  },
  {
   "cell_type": "code",
   "execution_count": 81,
   "metadata": {},
   "outputs": [
    {
     "name": "stdout",
     "output_type": "stream",
     "text": [
      "a    0.909297\n",
      "c    0.656987\n",
      "d   -0.141120\n",
      "e    0.000000\n",
      "dtype: float64\n"
     ]
    }
   ],
   "source": [
    "print(np.sin(s))  # можно вычислить функцию от Series"
   ]
  },
  {
   "cell_type": "markdown",
   "metadata": {},
   "source": [
    "## Добавление и удаление элементов\n",
    "\n",
    "Добавляем новый элемент, задавая для него индекс:"
   ]
  },
  {
   "cell_type": "code",
   "execution_count": 82,
   "metadata": {},
   "outputs": [
    {
     "data": {
      "text/plain": [
       "a          2.0\n",
       "c          7.0\n",
       "d         -3.0\n",
       "e          0.0\n",
       "kftt    1000.0\n",
       "dtype: float64"
      ]
     },
     "execution_count": 82,
     "metadata": {},
     "output_type": "execute_result"
    }
   ],
   "source": [
    "s[\"kftt\"] = 1000\n",
    "s"
   ]
  },
  {
   "cell_type": "markdown",
   "metadata": {},
   "source": [
    "При удалении можно задавать элемент по индексу или по номеру:"
   ]
  },
  {
   "cell_type": "code",
   "execution_count": 84,
   "metadata": {},
   "outputs": [
    {
     "data": {
      "text/plain": [
       "a    2.0\n",
       "d   -3.0\n",
       "e    0.0\n",
       "dtype: float64"
      ]
     },
     "execution_count": 84,
     "metadata": {},
     "output_type": "execute_result"
    }
   ],
   "source": [
    "s = s.drop(labels=[\"c\", \"kftt\"])\n",
    "s"
   ]
  },
  {
   "cell_type": "markdown",
   "metadata": {},
   "source": [
    "Присутствуют методы:"
   ]
  },
  {
   "cell_type": "code",
   "execution_count": 85,
   "metadata": {},
   "outputs": [
    {
     "name": "stdout",
     "output_type": "stream",
     "text": [
      "-1.0\n",
      "-0.3333333333333333\n",
      "2.0\n"
     ]
    }
   ],
   "source": [
    "print(s.sum())\n",
    "print(s.mean())\n",
    "print(s.max())"
   ]
  },
  {
   "cell_type": "markdown",
   "metadata": {},
   "source": [
    "## Операции"
   ]
  },
  {
   "cell_type": "code",
   "execution_count": 21,
   "metadata": {},
   "outputs": [
    {
     "data": {
      "text/plain": [
       "a     4.0\n",
       "c    14.0\n",
       "d    -6.0\n",
       "e     0.0\n",
       "dtype: float64"
      ]
     },
     "execution_count": 21,
     "metadata": {},
     "output_type": "execute_result"
    }
   ],
   "source": [
    "s + s"
   ]
  },
  {
   "cell_type": "code",
   "execution_count": 22,
   "metadata": {},
   "outputs": [
    {
     "data": {
      "text/plain": [
       "a     4.0\n",
       "c    49.0\n",
       "d     9.0\n",
       "e     0.0\n",
       "dtype: float64"
      ]
     },
     "execution_count": 22,
     "metadata": {},
     "output_type": "execute_result"
    }
   ],
   "source": [
    "s * s"
   ]
  },
  {
   "cell_type": "code",
   "execution_count": 23,
   "metadata": {},
   "outputs": [
    {
     "data": {
      "text/plain": [
       "a     4.0\n",
       "c    49.0\n",
       "d     9.0\n",
       "e     0.0\n",
       "dtype: float64"
      ]
     },
     "execution_count": 23,
     "metadata": {},
     "output_type": "execute_result"
    }
   ],
   "source": [
    "s ** 2"
   ]
  },
  {
   "cell_type": "code",
   "execution_count": 86,
   "metadata": {},
   "outputs": [
    {
     "data": {
      "text/plain": [
       "a    2\n",
       "d   -3\n",
       "e    0\n",
       "dtype: int64"
      ]
     },
     "execution_count": 86,
     "metadata": {},
     "output_type": "execute_result"
    }
   ],
   "source": [
    "s.astype(np.int)  # преобразует все элементы к заданному типу"
   ]
  },
  {
   "cell_type": "markdown",
   "metadata": {},
   "source": [
    "## Загрузка из файла и сохранение в файл"
   ]
  },
  {
   "cell_type": "code",
   "execution_count": 91,
   "metadata": {},
   "outputs": [
    {
     "data": {
      "text/html": [
       "<div>\n",
       "<style scoped>\n",
       "    .dataframe tbody tr th:only-of-type {\n",
       "        vertical-align: middle;\n",
       "    }\n",
       "\n",
       "    .dataframe tbody tr th {\n",
       "        vertical-align: top;\n",
       "    }\n",
       "\n",
       "    .dataframe thead th {\n",
       "        text-align: right;\n",
       "    }\n",
       "</style>\n",
       "<table border=\"1\" class=\"dataframe\">\n",
       "  <thead>\n",
       "    <tr style=\"text-align: right;\">\n",
       "      <th></th>\n",
       "      <th>Pt_No</th>\n",
       "      <th>omega</th>\n",
       "      <th>eh_c01</th>\n",
       "      <th>eh_t01</th>\n",
       "      <th>sl_mon_b_vol</th>\n",
       "      <th>sl_mon_t_vol</th>\n",
       "      <th>lmbd_countsroi1</th>\n",
       "      <th>lmbd_countsroi1_atten</th>\n",
       "      <th>lmbd_countsroi2</th>\n",
       "      <th>lmbd_countsroi2_atten</th>\n",
       "      <th>lmbd_countsroi3</th>\n",
       "      <th>lmbd_countsroi3_atten</th>\n",
       "      <th>dt</th>\n",
       "    </tr>\n",
       "  </thead>\n",
       "  <tbody>\n",
       "    <tr>\n",
       "      <th>0</th>\n",
       "      <td>0</td>\n",
       "      <td>45.461578</td>\n",
       "      <td>15219.0</td>\n",
       "      <td>1.2</td>\n",
       "      <td>0.035313</td>\n",
       "      <td>0.034375</td>\n",
       "      <td>9691.0</td>\n",
       "      <td>9691.0</td>\n",
       "      <td>33221.0</td>\n",
       "      <td>33221.0</td>\n",
       "      <td>80032.0</td>\n",
       "      <td>80032.0</td>\n",
       "      <td>1.225516</td>\n",
       "    </tr>\n",
       "  </tbody>\n",
       "</table>\n",
       "</div>"
      ],
      "text/plain": [
       "   Pt_No      omega   eh_c01   eh_t01   sl_mon_b_vol   sl_mon_t_vol  \\\n",
       "0      0  45.461578  15219.0      1.2       0.035313       0.034375   \n",
       "\n",
       "    lmbd_countsroi1   lmbd_countsroi1_atten   lmbd_countsroi2  \\\n",
       "0            9691.0                  9691.0           33221.0   \n",
       "\n",
       "    lmbd_countsroi2_atten   lmbd_countsroi3   lmbd_countsroi3_atten        dt  \n",
       "0                 33221.0           80032.0                 80032.0  1.225516  "
      ]
     },
     "execution_count": 91,
     "metadata": {},
     "output_type": "execute_result"
    }
   ],
   "source": [
    "ss = pd.read_csv(\"scan.csv\", sep=\",\", nrows=1)\n",
    "ss"
   ]
  },
  {
   "cell_type": "code",
   "execution_count": 88,
   "metadata": {},
   "outputs": [],
   "source": [
    "s.to_csv(\"s.csv\")"
   ]
  },
  {
   "cell_type": "markdown",
   "metadata": {},
   "source": [
    "Варианты загрузки и xlsx чтения файлов:"
   ]
  },
  {
   "cell_type": "code",
   "execution_count": 27,
   "metadata": {},
   "outputs": [],
   "source": [
    "# pd.read_excel('file.xlsx')\n",
    "# pd.to_excel('dir/myData.xlsx', sheet_name = 'Sheet1')\n",
    "\n",
    "# df = pd.read_excel('file.xlsx')"
   ]
  },
  {
   "cell_type": "markdown",
   "metadata": {},
   "source": [
    "## Задача 1\n",
    "\n",
    "Создайте Series из первой строки файла 'Atomic_factors-6.1.1.4.xlsx'."
   ]
  },
  {
   "cell_type": "markdown",
   "metadata": {},
   "source": [
    "# DataFrame\n",
    "Здесь работает все то же самое, что и для Series. Как можно создавать:"
   ]
  },
  {
   "cell_type": "code",
   "execution_count": 4,
   "metadata": {},
   "outputs": [
    {
     "data": {
      "text/html": [
       "<div>\n",
       "<style scoped>\n",
       "    .dataframe tbody tr th:only-of-type {\n",
       "        vertical-align: middle;\n",
       "    }\n",
       "\n",
       "    .dataframe tbody tr th {\n",
       "        vertical-align: top;\n",
       "    }\n",
       "\n",
       "    .dataframe thead th {\n",
       "        text-align: right;\n",
       "    }\n",
       "</style>\n",
       "<table border=\"1\" class=\"dataframe\">\n",
       "  <thead>\n",
       "    <tr style=\"text-align: right;\">\n",
       "      <th></th>\n",
       "      <th>0</th>\n",
       "      <th>1</th>\n",
       "      <th>2</th>\n",
       "    </tr>\n",
       "  </thead>\n",
       "  <tbody>\n",
       "    <tr>\n",
       "      <th>0</th>\n",
       "      <td>4</td>\n",
       "      <td>7</td>\n",
       "      <td>10</td>\n",
       "    </tr>\n",
       "    <tr>\n",
       "      <th>1</th>\n",
       "      <td>5</td>\n",
       "      <td>6</td>\n",
       "      <td>11</td>\n",
       "    </tr>\n",
       "    <tr>\n",
       "      <th>2</th>\n",
       "      <td>9</td>\n",
       "      <td>1</td>\n",
       "      <td>12</td>\n",
       "    </tr>\n",
       "  </tbody>\n",
       "</table>\n",
       "</div>"
      ],
      "text/plain": [
       "   0  1   2\n",
       "0  4  7  10\n",
       "1  5  6  11\n",
       "2  9  1  12"
      ]
     },
     "execution_count": 4,
     "metadata": {},
     "output_type": "execute_result"
    }
   ],
   "source": [
    "data = [[4, 7, 10], [5, 6, 11], [9, 1, 12]]\n",
    "df = pd.DataFrame(data)\n",
    "df"
   ]
  },
  {
   "cell_type": "code",
   "execution_count": 5,
   "metadata": {},
   "outputs": [
    {
     "data": {
      "text/html": [
       "<div>\n",
       "<style scoped>\n",
       "    .dataframe tbody tr th:only-of-type {\n",
       "        vertical-align: middle;\n",
       "    }\n",
       "\n",
       "    .dataframe tbody tr th {\n",
       "        vertical-align: top;\n",
       "    }\n",
       "\n",
       "    .dataframe thead th {\n",
       "        text-align: right;\n",
       "    }\n",
       "</style>\n",
       "<table border=\"1\" class=\"dataframe\">\n",
       "  <thead>\n",
       "    <tr style=\"text-align: right;\">\n",
       "      <th></th>\n",
       "      <th>x</th>\n",
       "      <th>y</th>\n",
       "      <th>z</th>\n",
       "    </tr>\n",
       "  </thead>\n",
       "  <tbody>\n",
       "    <tr>\n",
       "      <th>a</th>\n",
       "      <td>4</td>\n",
       "      <td>7</td>\n",
       "      <td>10</td>\n",
       "    </tr>\n",
       "    <tr>\n",
       "      <th>b</th>\n",
       "      <td>5</td>\n",
       "      <td>6</td>\n",
       "      <td>11</td>\n",
       "    </tr>\n",
       "    <tr>\n",
       "      <th>c</th>\n",
       "      <td>9</td>\n",
       "      <td>1</td>\n",
       "      <td>12</td>\n",
       "    </tr>\n",
       "  </tbody>\n",
       "</table>\n",
       "</div>"
      ],
      "text/plain": [
       "   x  y   z\n",
       "a  4  7  10\n",
       "b  5  6  11\n",
       "c  9  1  12"
      ]
     },
     "execution_count": 5,
     "metadata": {},
     "output_type": "execute_result"
    }
   ],
   "source": [
    "df = pd.DataFrame(data, index=[\"a\", \"b\", \"c\"], columns=[\"x\", \"y\", \"z\"])\n",
    "df"
   ]
  },
  {
   "cell_type": "markdown",
   "metadata": {
    "tags": []
   },
   "source": [
    "## Параметры функции read csv\n",
    "\n",
    "1) Имя файла\n",
    "\n",
    "2) **sep** - тот знак, который в нашем файле разделяет данные. Если у вас csv файл, то запятая ставится по умолчанию, и тогда этот параметр можно пропустить. Если вы работаете с текстовым файлом, загляните в него, возможно данные разделены пробелом ' ', табом '\\t' или несколькими пробелами '\\s+'.\n",
    "\n",
    "3) **header** - когда мы указываем значение **None** метками столбцов становятся цифры. Если не указывать header, столбцы обозначатся первой строкой из файла.\n",
    "\n",
    "4) **nrows** - число строк, которое мы хотим считать.\n",
    "\n",
    "5) **skiprows** - позволяет пропустить несколько первых строк при считывании данных.\n",
    "\n",
    "6) **names** - позволяет задавать названия столбцов."
   ]
  },
  {
   "cell_type": "code",
   "execution_count": 2,
   "metadata": {},
   "outputs": [
    {
     "data": {
      "text/html": [
       "<div>\n",
       "<style scoped>\n",
       "    .dataframe tbody tr th:only-of-type {\n",
       "        vertical-align: middle;\n",
       "    }\n",
       "\n",
       "    .dataframe tbody tr th {\n",
       "        vertical-align: top;\n",
       "    }\n",
       "\n",
       "    .dataframe thead th {\n",
       "        text-align: right;\n",
       "    }\n",
       "</style>\n",
       "<table border=\"1\" class=\"dataframe\">\n",
       "  <thead>\n",
       "    <tr style=\"text-align: right;\">\n",
       "      <th></th>\n",
       "      <th>Pt_No</th>\n",
       "      <th>omega</th>\n",
       "      <th>eh_c01</th>\n",
       "      <th>eh_t01</th>\n",
       "      <th>sl_mon_b_vol</th>\n",
       "      <th>sl_mon_t_vol</th>\n",
       "      <th>lmbd_countsroi1</th>\n",
       "      <th>lmbd_countsroi1_atten</th>\n",
       "      <th>lmbd_countsroi2</th>\n",
       "      <th>lmbd_countsroi2_atten</th>\n",
       "      <th>lmbd_countsroi3</th>\n",
       "      <th>lmbd_countsroi3_atten</th>\n",
       "      <th>dt</th>\n",
       "    </tr>\n",
       "  </thead>\n",
       "  <tbody>\n",
       "    <tr>\n",
       "      <th>0</th>\n",
       "      <td>0</td>\n",
       "      <td>45.461578</td>\n",
       "      <td>15219.0</td>\n",
       "      <td>1.2</td>\n",
       "      <td>0.035313</td>\n",
       "      <td>0.034375</td>\n",
       "      <td>9691.0</td>\n",
       "      <td>9691.0</td>\n",
       "      <td>33221.0</td>\n",
       "      <td>33221.0</td>\n",
       "      <td>80032.0</td>\n",
       "      <td>80032.0</td>\n",
       "      <td>1.225516</td>\n",
       "    </tr>\n",
       "    <tr>\n",
       "      <th>1</th>\n",
       "      <td>1</td>\n",
       "      <td>45.462575</td>\n",
       "      <td>14980.0</td>\n",
       "      <td>1.2</td>\n",
       "      <td>0.034844</td>\n",
       "      <td>0.036016</td>\n",
       "      <td>10638.0</td>\n",
       "      <td>10638.0</td>\n",
       "      <td>35458.0</td>\n",
       "      <td>35458.0</td>\n",
       "      <td>80609.0</td>\n",
       "      <td>80609.0</td>\n",
       "      <td>2.472386</td>\n",
       "    </tr>\n",
       "    <tr>\n",
       "      <th>2</th>\n",
       "      <td>2</td>\n",
       "      <td>45.463600</td>\n",
       "      <td>14786.0</td>\n",
       "      <td>1.2</td>\n",
       "      <td>0.036328</td>\n",
       "      <td>0.035859</td>\n",
       "      <td>11857.0</td>\n",
       "      <td>11857.0</td>\n",
       "      <td>38305.0</td>\n",
       "      <td>38305.0</td>\n",
       "      <td>83350.0</td>\n",
       "      <td>83350.0</td>\n",
       "      <td>3.755637</td>\n",
       "    </tr>\n",
       "    <tr>\n",
       "      <th>3</th>\n",
       "      <td>3</td>\n",
       "      <td>45.464666</td>\n",
       "      <td>15105.0</td>\n",
       "      <td>1.2</td>\n",
       "      <td>0.036172</td>\n",
       "      <td>0.033438</td>\n",
       "      <td>13279.0</td>\n",
       "      <td>13279.0</td>\n",
       "      <td>42011.0</td>\n",
       "      <td>42011.0</td>\n",
       "      <td>86896.0</td>\n",
       "      <td>86896.0</td>\n",
       "      <td>5.022243</td>\n",
       "    </tr>\n",
       "    <tr>\n",
       "      <th>4</th>\n",
       "      <td>4</td>\n",
       "      <td>45.465716</td>\n",
       "      <td>15160.0</td>\n",
       "      <td>1.2</td>\n",
       "      <td>0.035938</td>\n",
       "      <td>0.035547</td>\n",
       "      <td>14899.0</td>\n",
       "      <td>14899.0</td>\n",
       "      <td>45849.0</td>\n",
       "      <td>45849.0</td>\n",
       "      <td>91369.0</td>\n",
       "      <td>91369.0</td>\n",
       "      <td>6.262923</td>\n",
       "    </tr>\n",
       "    <tr>\n",
       "      <th>5</th>\n",
       "      <td>5</td>\n",
       "      <td>45.466766</td>\n",
       "      <td>15028.0</td>\n",
       "      <td>1.2</td>\n",
       "      <td>0.036797</td>\n",
       "      <td>0.035156</td>\n",
       "      <td>16791.0</td>\n",
       "      <td>16791.0</td>\n",
       "      <td>50097.0</td>\n",
       "      <td>50097.0</td>\n",
       "      <td>95254.0</td>\n",
       "      <td>95254.0</td>\n",
       "      <td>7.579078</td>\n",
       "    </tr>\n",
       "    <tr>\n",
       "      <th>6</th>\n",
       "      <td>6</td>\n",
       "      <td>45.467825</td>\n",
       "      <td>15201.0</td>\n",
       "      <td>1.2</td>\n",
       "      <td>0.035234</td>\n",
       "      <td>0.034844</td>\n",
       "      <td>19595.0</td>\n",
       "      <td>19595.0</td>\n",
       "      <td>56033.0</td>\n",
       "      <td>56033.0</td>\n",
       "      <td>101933.0</td>\n",
       "      <td>101933.0</td>\n",
       "      <td>8.890116</td>\n",
       "    </tr>\n",
       "    <tr>\n",
       "      <th>7</th>\n",
       "      <td>7</td>\n",
       "      <td>45.469003</td>\n",
       "      <td>15258.0</td>\n",
       "      <td>1.2</td>\n",
       "      <td>0.037500</td>\n",
       "      <td>0.035078</td>\n",
       "      <td>22932.0</td>\n",
       "      <td>22932.0</td>\n",
       "      <td>62189.0</td>\n",
       "      <td>62189.0</td>\n",
       "      <td>108047.0</td>\n",
       "      <td>108047.0</td>\n",
       "      <td>10.247387</td>\n",
       "    </tr>\n",
       "    <tr>\n",
       "      <th>8</th>\n",
       "      <td>8</td>\n",
       "      <td>45.470059</td>\n",
       "      <td>15248.0</td>\n",
       "      <td>1.2</td>\n",
       "      <td>0.036250</td>\n",
       "      <td>0.034844</td>\n",
       "      <td>27432.0</td>\n",
       "      <td>27432.0</td>\n",
       "      <td>69852.0</td>\n",
       "      <td>69852.0</td>\n",
       "      <td>115371.0</td>\n",
       "      <td>115371.0</td>\n",
       "      <td>11.562403</td>\n",
       "    </tr>\n",
       "    <tr>\n",
       "      <th>9</th>\n",
       "      <td>9</td>\n",
       "      <td>45.471112</td>\n",
       "      <td>15332.0</td>\n",
       "      <td>1.2</td>\n",
       "      <td>0.035859</td>\n",
       "      <td>0.034219</td>\n",
       "      <td>33297.0</td>\n",
       "      <td>33297.0</td>\n",
       "      <td>79459.0</td>\n",
       "      <td>79459.0</td>\n",
       "      <td>125325.0</td>\n",
       "      <td>125325.0</td>\n",
       "      <td>12.854642</td>\n",
       "    </tr>\n",
       "    <tr>\n",
       "      <th>10</th>\n",
       "      <td>10</td>\n",
       "      <td>45.472213</td>\n",
       "      <td>15365.0</td>\n",
       "      <td>1.2</td>\n",
       "      <td>0.035313</td>\n",
       "      <td>0.036172</td>\n",
       "      <td>42776.0</td>\n",
       "      <td>42776.0</td>\n",
       "      <td>92625.0</td>\n",
       "      <td>92625.0</td>\n",
       "      <td>138332.0</td>\n",
       "      <td>138332.0</td>\n",
       "      <td>14.172366</td>\n",
       "    </tr>\n",
       "    <tr>\n",
       "      <th>11</th>\n",
       "      <td>11</td>\n",
       "      <td>45.473309</td>\n",
       "      <td>15107.0</td>\n",
       "      <td>1.2</td>\n",
       "      <td>0.035078</td>\n",
       "      <td>0.034609</td>\n",
       "      <td>55008.0</td>\n",
       "      <td>55008.0</td>\n",
       "      <td>108029.0</td>\n",
       "      <td>108029.0</td>\n",
       "      <td>153693.0</td>\n",
       "      <td>153693.0</td>\n",
       "      <td>15.504079</td>\n",
       "    </tr>\n",
       "    <tr>\n",
       "      <th>12</th>\n",
       "      <td>12</td>\n",
       "      <td>45.474403</td>\n",
       "      <td>15228.0</td>\n",
       "      <td>1.2</td>\n",
       "      <td>0.035469</td>\n",
       "      <td>0.035547</td>\n",
       "      <td>71246.0</td>\n",
       "      <td>71246.0</td>\n",
       "      <td>128676.0</td>\n",
       "      <td>128676.0</td>\n",
       "      <td>174852.0</td>\n",
       "      <td>174852.0</td>\n",
       "      <td>16.806068</td>\n",
       "    </tr>\n",
       "    <tr>\n",
       "      <th>13</th>\n",
       "      <td>13</td>\n",
       "      <td>45.475516</td>\n",
       "      <td>15221.0</td>\n",
       "      <td>1.2</td>\n",
       "      <td>0.033203</td>\n",
       "      <td>0.034531</td>\n",
       "      <td>97890.0</td>\n",
       "      <td>97890.0</td>\n",
       "      <td>162806.0</td>\n",
       "      <td>162806.0</td>\n",
       "      <td>209405.0</td>\n",
       "      <td>209405.0</td>\n",
       "      <td>18.173689</td>\n",
       "    </tr>\n",
       "    <tr>\n",
       "      <th>14</th>\n",
       "      <td>14</td>\n",
       "      <td>45.476609</td>\n",
       "      <td>15243.0</td>\n",
       "      <td>1.2</td>\n",
       "      <td>0.037500</td>\n",
       "      <td>0.035000</td>\n",
       "      <td>139891.0</td>\n",
       "      <td>139891.0</td>\n",
       "      <td>216500.0</td>\n",
       "      <td>216500.0</td>\n",
       "      <td>262693.0</td>\n",
       "      <td>262693.0</td>\n",
       "      <td>19.527134</td>\n",
       "    </tr>\n",
       "    <tr>\n",
       "      <th>15</th>\n",
       "      <td>15</td>\n",
       "      <td>45.477747</td>\n",
       "      <td>15326.0</td>\n",
       "      <td>1.2</td>\n",
       "      <td>0.033984</td>\n",
       "      <td>0.035078</td>\n",
       "      <td>210174.0</td>\n",
       "      <td>210174.0</td>\n",
       "      <td>308256.0</td>\n",
       "      <td>308256.0</td>\n",
       "      <td>355140.0</td>\n",
       "      <td>355140.0</td>\n",
       "      <td>20.891913</td>\n",
       "    </tr>\n",
       "  </tbody>\n",
       "</table>\n",
       "</div>"
      ],
      "text/plain": [
       "    Pt_No      omega   eh_c01   eh_t01   sl_mon_b_vol   sl_mon_t_vol  \\\n",
       "0       0  45.461578  15219.0      1.2       0.035313       0.034375   \n",
       "1       1  45.462575  14980.0      1.2       0.034844       0.036016   \n",
       "2       2  45.463600  14786.0      1.2       0.036328       0.035859   \n",
       "3       3  45.464666  15105.0      1.2       0.036172       0.033438   \n",
       "4       4  45.465716  15160.0      1.2       0.035938       0.035547   \n",
       "5       5  45.466766  15028.0      1.2       0.036797       0.035156   \n",
       "6       6  45.467825  15201.0      1.2       0.035234       0.034844   \n",
       "7       7  45.469003  15258.0      1.2       0.037500       0.035078   \n",
       "8       8  45.470059  15248.0      1.2       0.036250       0.034844   \n",
       "9       9  45.471112  15332.0      1.2       0.035859       0.034219   \n",
       "10     10  45.472213  15365.0      1.2       0.035313       0.036172   \n",
       "11     11  45.473309  15107.0      1.2       0.035078       0.034609   \n",
       "12     12  45.474403  15228.0      1.2       0.035469       0.035547   \n",
       "13     13  45.475516  15221.0      1.2       0.033203       0.034531   \n",
       "14     14  45.476609  15243.0      1.2       0.037500       0.035000   \n",
       "15     15  45.477747  15326.0      1.2       0.033984       0.035078   \n",
       "\n",
       "     lmbd_countsroi1   lmbd_countsroi1_atten   lmbd_countsroi2  \\\n",
       "0             9691.0                  9691.0           33221.0   \n",
       "1            10638.0                 10638.0           35458.0   \n",
       "2            11857.0                 11857.0           38305.0   \n",
       "3            13279.0                 13279.0           42011.0   \n",
       "4            14899.0                 14899.0           45849.0   \n",
       "5            16791.0                 16791.0           50097.0   \n",
       "6            19595.0                 19595.0           56033.0   \n",
       "7            22932.0                 22932.0           62189.0   \n",
       "8            27432.0                 27432.0           69852.0   \n",
       "9            33297.0                 33297.0           79459.0   \n",
       "10           42776.0                 42776.0           92625.0   \n",
       "11           55008.0                 55008.0          108029.0   \n",
       "12           71246.0                 71246.0          128676.0   \n",
       "13           97890.0                 97890.0          162806.0   \n",
       "14          139891.0                139891.0          216500.0   \n",
       "15          210174.0                210174.0          308256.0   \n",
       "\n",
       "     lmbd_countsroi2_atten   lmbd_countsroi3   lmbd_countsroi3_atten  \\\n",
       "0                  33221.0           80032.0                 80032.0   \n",
       "1                  35458.0           80609.0                 80609.0   \n",
       "2                  38305.0           83350.0                 83350.0   \n",
       "3                  42011.0           86896.0                 86896.0   \n",
       "4                  45849.0           91369.0                 91369.0   \n",
       "5                  50097.0           95254.0                 95254.0   \n",
       "6                  56033.0          101933.0                101933.0   \n",
       "7                  62189.0          108047.0                108047.0   \n",
       "8                  69852.0          115371.0                115371.0   \n",
       "9                  79459.0          125325.0                125325.0   \n",
       "10                 92625.0          138332.0                138332.0   \n",
       "11                108029.0          153693.0                153693.0   \n",
       "12                128676.0          174852.0                174852.0   \n",
       "13                162806.0          209405.0                209405.0   \n",
       "14                216500.0          262693.0                262693.0   \n",
       "15                308256.0          355140.0                355140.0   \n",
       "\n",
       "           dt  \n",
       "0    1.225516  \n",
       "1    2.472386  \n",
       "2    3.755637  \n",
       "3    5.022243  \n",
       "4    6.262923  \n",
       "5    7.579078  \n",
       "6    8.890116  \n",
       "7   10.247387  \n",
       "8   11.562403  \n",
       "9   12.854642  \n",
       "10  14.172366  \n",
       "11  15.504079  \n",
       "12  16.806068  \n",
       "13  18.173689  \n",
       "14  19.527134  \n",
       "15  20.891913  "
      ]
     },
     "execution_count": 2,
     "metadata": {},
     "output_type": "execute_result"
    }
   ],
   "source": [
    "import numpy as np\n",
    "import pandas as pd\n",
    "\n",
    "df = pd.read_csv(\"scan.csv\", sep=\",\")\n",
    "df"
   ]
  },
  {
   "cell_type": "markdown",
   "metadata": {},
   "source": [
    "Удобная функция для быстрого просмотра первых строк таблицы:"
   ]
  },
  {
   "cell_type": "code",
   "execution_count": 93,
   "metadata": {},
   "outputs": [
    {
     "data": {
      "text/html": [
       "<div>\n",
       "<style scoped>\n",
       "    .dataframe tbody tr th:only-of-type {\n",
       "        vertical-align: middle;\n",
       "    }\n",
       "\n",
       "    .dataframe tbody tr th {\n",
       "        vertical-align: top;\n",
       "    }\n",
       "\n",
       "    .dataframe thead th {\n",
       "        text-align: right;\n",
       "    }\n",
       "</style>\n",
       "<table border=\"1\" class=\"dataframe\">\n",
       "  <thead>\n",
       "    <tr style=\"text-align: right;\">\n",
       "      <th></th>\n",
       "      <th>Pt_No</th>\n",
       "      <th>omega</th>\n",
       "      <th>eh_c01</th>\n",
       "      <th>eh_t01</th>\n",
       "      <th>sl_mon_b_vol</th>\n",
       "      <th>sl_mon_t_vol</th>\n",
       "      <th>lmbd_countsroi1</th>\n",
       "      <th>lmbd_countsroi1_atten</th>\n",
       "      <th>lmbd_countsroi2</th>\n",
       "      <th>lmbd_countsroi2_atten</th>\n",
       "      <th>lmbd_countsroi3</th>\n",
       "      <th>lmbd_countsroi3_atten</th>\n",
       "      <th>dt</th>\n",
       "    </tr>\n",
       "  </thead>\n",
       "  <tbody>\n",
       "    <tr>\n",
       "      <th>0</th>\n",
       "      <td>0</td>\n",
       "      <td>45.461578</td>\n",
       "      <td>15219.0</td>\n",
       "      <td>1.2</td>\n",
       "      <td>0.035313</td>\n",
       "      <td>0.034375</td>\n",
       "      <td>9691.0</td>\n",
       "      <td>9691.0</td>\n",
       "      <td>33221.0</td>\n",
       "      <td>33221.0</td>\n",
       "      <td>80032.0</td>\n",
       "      <td>80032.0</td>\n",
       "      <td>1.225516</td>\n",
       "    </tr>\n",
       "    <tr>\n",
       "      <th>1</th>\n",
       "      <td>1</td>\n",
       "      <td>45.462575</td>\n",
       "      <td>14980.0</td>\n",
       "      <td>1.2</td>\n",
       "      <td>0.034844</td>\n",
       "      <td>0.036016</td>\n",
       "      <td>10638.0</td>\n",
       "      <td>10638.0</td>\n",
       "      <td>35458.0</td>\n",
       "      <td>35458.0</td>\n",
       "      <td>80609.0</td>\n",
       "      <td>80609.0</td>\n",
       "      <td>2.472386</td>\n",
       "    </tr>\n",
       "  </tbody>\n",
       "</table>\n",
       "</div>"
      ],
      "text/plain": [
       "   Pt_No      omega   eh_c01   eh_t01   sl_mon_b_vol   sl_mon_t_vol  \\\n",
       "0      0  45.461578  15219.0      1.2       0.035313       0.034375   \n",
       "1      1  45.462575  14980.0      1.2       0.034844       0.036016   \n",
       "\n",
       "    lmbd_countsroi1   lmbd_countsroi1_atten   lmbd_countsroi2  \\\n",
       "0            9691.0                  9691.0           33221.0   \n",
       "1           10638.0                 10638.0           35458.0   \n",
       "\n",
       "    lmbd_countsroi2_atten   lmbd_countsroi3   lmbd_countsroi3_atten        dt  \n",
       "0                 33221.0           80032.0                 80032.0  1.225516  \n",
       "1                 35458.0           80609.0                 80609.0  2.472386  "
      ]
     },
     "execution_count": 93,
     "metadata": {},
     "output_type": "execute_result"
    }
   ],
   "source": [
    "df.head(2)"
   ]
  },
  {
   "cell_type": "markdown",
   "metadata": {},
   "source": [
    "Функция для быстрого просмотра пяти последних строк:"
   ]
  },
  {
   "cell_type": "code",
   "execution_count": 32,
   "metadata": {},
   "outputs": [
    {
     "data": {
      "text/html": [
       "<div>\n",
       "<style scoped>\n",
       "    .dataframe tbody tr th:only-of-type {\n",
       "        vertical-align: middle;\n",
       "    }\n",
       "\n",
       "    .dataframe tbody tr th {\n",
       "        vertical-align: top;\n",
       "    }\n",
       "\n",
       "    .dataframe thead th {\n",
       "        text-align: right;\n",
       "    }\n",
       "</style>\n",
       "<table border=\"1\" class=\"dataframe\">\n",
       "  <thead>\n",
       "    <tr style=\"text-align: right;\">\n",
       "      <th></th>\n",
       "      <th>Pt_No</th>\n",
       "      <th>omega</th>\n",
       "      <th>eh_c01</th>\n",
       "      <th>eh_t01</th>\n",
       "      <th>sl_mon_b_vol</th>\n",
       "      <th>sl_mon_t_vol</th>\n",
       "      <th>lmbd_countsroi1</th>\n",
       "      <th>lmbd_countsroi1_atten</th>\n",
       "      <th>lmbd_countsroi2</th>\n",
       "      <th>lmbd_countsroi2_atten</th>\n",
       "      <th>lmbd_countsroi3</th>\n",
       "      <th>lmbd_countsroi3_atten</th>\n",
       "      <th>dt</th>\n",
       "    </tr>\n",
       "  </thead>\n",
       "  <tbody>\n",
       "    <tr>\n",
       "      <th>13</th>\n",
       "      <td>13</td>\n",
       "      <td>45.475516</td>\n",
       "      <td>15221.0</td>\n",
       "      <td>1.2</td>\n",
       "      <td>0.033203</td>\n",
       "      <td>0.034531</td>\n",
       "      <td>97890.0</td>\n",
       "      <td>97890.0</td>\n",
       "      <td>162806.0</td>\n",
       "      <td>162806.0</td>\n",
       "      <td>209405.0</td>\n",
       "      <td>209405.0</td>\n",
       "      <td>18.173689</td>\n",
       "    </tr>\n",
       "    <tr>\n",
       "      <th>14</th>\n",
       "      <td>14</td>\n",
       "      <td>45.476609</td>\n",
       "      <td>15243.0</td>\n",
       "      <td>1.2</td>\n",
       "      <td>0.037500</td>\n",
       "      <td>0.035000</td>\n",
       "      <td>139891.0</td>\n",
       "      <td>139891.0</td>\n",
       "      <td>216500.0</td>\n",
       "      <td>216500.0</td>\n",
       "      <td>262693.0</td>\n",
       "      <td>262693.0</td>\n",
       "      <td>19.527134</td>\n",
       "    </tr>\n",
       "    <tr>\n",
       "      <th>15</th>\n",
       "      <td>15</td>\n",
       "      <td>45.477747</td>\n",
       "      <td>15326.0</td>\n",
       "      <td>1.2</td>\n",
       "      <td>0.033984</td>\n",
       "      <td>0.035078</td>\n",
       "      <td>210174.0</td>\n",
       "      <td>210174.0</td>\n",
       "      <td>308256.0</td>\n",
       "      <td>308256.0</td>\n",
       "      <td>355140.0</td>\n",
       "      <td>355140.0</td>\n",
       "      <td>20.891913</td>\n",
       "    </tr>\n",
       "  </tbody>\n",
       "</table>\n",
       "</div>"
      ],
      "text/plain": [
       "    Pt_No      omega   eh_c01   eh_t01   sl_mon_b_vol   sl_mon_t_vol  \\\n",
       "13     13  45.475516  15221.0      1.2       0.033203       0.034531   \n",
       "14     14  45.476609  15243.0      1.2       0.037500       0.035000   \n",
       "15     15  45.477747  15326.0      1.2       0.033984       0.035078   \n",
       "\n",
       "     lmbd_countsroi1   lmbd_countsroi1_atten   lmbd_countsroi2  \\\n",
       "13           97890.0                 97890.0          162806.0   \n",
       "14          139891.0                139891.0          216500.0   \n",
       "15          210174.0                210174.0          308256.0   \n",
       "\n",
       "     lmbd_countsroi2_atten   lmbd_countsroi3   lmbd_countsroi3_atten  \\\n",
       "13                162806.0          209405.0                209405.0   \n",
       "14                216500.0          262693.0                262693.0   \n",
       "15                308256.0          355140.0                355140.0   \n",
       "\n",
       "           dt  \n",
       "13  18.173689  \n",
       "14  19.527134  \n",
       "15  20.891913  "
      ]
     },
     "execution_count": 32,
     "metadata": {},
     "output_type": "execute_result"
    }
   ],
   "source": [
    "df.tail(3)"
   ]
  },
  {
   "cell_type": "markdown",
   "metadata": {},
   "source": [
    "Рассмотрим файл scan_14703.csv в котором данные начинаются с 28 строки, а шапка таблицы представлена в 27 строке."
   ]
  },
  {
   "cell_type": "code",
   "execution_count": 61,
   "metadata": {},
   "outputs": [
    {
     "data": {
      "text/html": [
       "<div>\n",
       "<style scoped>\n",
       "    .dataframe tbody tr th:only-of-type {\n",
       "        vertical-align: middle;\n",
       "    }\n",
       "\n",
       "    .dataframe tbody tr th {\n",
       "        vertical-align: top;\n",
       "    }\n",
       "\n",
       "    .dataframe thead th {\n",
       "        text-align: right;\n",
       "    }\n",
       "</style>\n",
       "<table border=\"1\" class=\"dataframe\">\n",
       "  <thead>\n",
       "    <tr style=\"text-align: right;\">\n",
       "      <th></th>\n",
       "      <th>Pt_No</th>\n",
       "      <th>omega</th>\n",
       "      <th>eh_c01</th>\n",
       "      <th>eh_t01</th>\n",
       "      <th>sl_mon_b_vol</th>\n",
       "      <th>sl_mon_t_vol</th>\n",
       "      <th>lmbd_countsroi1</th>\n",
       "      <th>lmbd_countsroi1_atten</th>\n",
       "      <th>lmbd_countsroi2</th>\n",
       "      <th>lmbd_countsroi2_atten</th>\n",
       "      <th>lmbd_countsroi3</th>\n",
       "      <th>lmbd_countsroi3_atten</th>\n",
       "      <th>dt</th>\n",
       "    </tr>\n",
       "  </thead>\n",
       "  <tbody>\n",
       "    <tr>\n",
       "      <th>0</th>\n",
       "      <td>0</td>\n",
       "      <td>14.820144</td>\n",
       "      <td>7599.0</td>\n",
       "      <td>0.5</td>\n",
       "      <td>0.038750</td>\n",
       "      <td>0.039688</td>\n",
       "      <td>794.0</td>\n",
       "      <td>794.0</td>\n",
       "      <td>3351.0</td>\n",
       "      <td>3351.0</td>\n",
       "      <td>43360.0</td>\n",
       "      <td>43360.0</td>\n",
       "      <td>0.531713</td>\n",
       "    </tr>\n",
       "    <tr>\n",
       "      <th>1</th>\n",
       "      <td>1</td>\n",
       "      <td>14.821078</td>\n",
       "      <td>7728.0</td>\n",
       "      <td>0.5</td>\n",
       "      <td>0.037422</td>\n",
       "      <td>0.039062</td>\n",
       "      <td>850.0</td>\n",
       "      <td>850.0</td>\n",
       "      <td>3398.0</td>\n",
       "      <td>3398.0</td>\n",
       "      <td>42265.0</td>\n",
       "      <td>42265.0</td>\n",
       "      <td>1.087277</td>\n",
       "    </tr>\n",
       "    <tr>\n",
       "      <th>2</th>\n",
       "      <td>2</td>\n",
       "      <td>14.822250</td>\n",
       "      <td>7862.0</td>\n",
       "      <td>0.5</td>\n",
       "      <td>0.040078</td>\n",
       "      <td>0.040781</td>\n",
       "      <td>948.0</td>\n",
       "      <td>948.0</td>\n",
       "      <td>3683.0</td>\n",
       "      <td>3683.0</td>\n",
       "      <td>42311.0</td>\n",
       "      <td>42311.0</td>\n",
       "      <td>1.667302</td>\n",
       "    </tr>\n",
       "    <tr>\n",
       "      <th>3</th>\n",
       "      <td>3</td>\n",
       "      <td>14.823350</td>\n",
       "      <td>7736.0</td>\n",
       "      <td>0.5</td>\n",
       "      <td>0.040469</td>\n",
       "      <td>0.039219</td>\n",
       "      <td>1004.0</td>\n",
       "      <td>1004.0</td>\n",
       "      <td>3729.0</td>\n",
       "      <td>3729.0</td>\n",
       "      <td>42567.0</td>\n",
       "      <td>42567.0</td>\n",
       "      <td>2.261172</td>\n",
       "    </tr>\n",
       "  </tbody>\n",
       "</table>\n",
       "</div>"
      ],
      "text/plain": [
       "   Pt_No      omega  eh_c01  eh_t01  sl_mon_b_vol  sl_mon_t_vol  \\\n",
       "0      0  14.820144  7599.0     0.5      0.038750      0.039688   \n",
       "1      1  14.821078  7728.0     0.5      0.037422      0.039062   \n",
       "2      2  14.822250  7862.0     0.5      0.040078      0.040781   \n",
       "3      3  14.823350  7736.0     0.5      0.040469      0.039219   \n",
       "\n",
       "   lmbd_countsroi1  lmbd_countsroi1_atten  lmbd_countsroi2  \\\n",
       "0            794.0                  794.0           3351.0   \n",
       "1            850.0                  850.0           3398.0   \n",
       "2            948.0                  948.0           3683.0   \n",
       "3           1004.0                 1004.0           3729.0   \n",
       "\n",
       "   lmbd_countsroi2_atten  lmbd_countsroi3  lmbd_countsroi3_atten        dt  \n",
       "0                 3351.0          43360.0                43360.0  0.531713  \n",
       "1                 3398.0          42265.0                42265.0  1.087277  \n",
       "2                 3683.0          42311.0                42311.0  1.667302  \n",
       "3                 3729.0          42567.0                42567.0  2.261172  "
      ]
     },
     "execution_count": 61,
     "metadata": {},
     "output_type": "execute_result"
    }
   ],
   "source": [
    "# Создаем список заголовков столбцов\n",
    "list = [\n",
    "    \"Pt_No\",\n",
    "    \"omega\",\n",
    "    \"eh_c01\",\n",
    "    \"eh_t01\",\n",
    "    \"sl_mon_b_vol\",\n",
    "    \"sl_mon_t_vol\",\n",
    "    \"lmbd_countsroi1\",\n",
    "    \"lmbd_countsroi1_atten\",\n",
    "    \"lmbd_countsroi2\",\n",
    "    \"lmbd_countsroi2_atten\",\n",
    "    \"lmbd_countsroi3\",\n",
    "    \"lmbd_countsroi3_atten\",\n",
    "    \"dt\",\n",
    "]\n",
    "\n",
    "# Загружаем данные, пропуская лишние строки и присоединяя заголовки из списка\n",
    "df = pd.read_csv(\"scan_14703.csv\", skiprows=28, names=list)\n",
    "df.head(4)"
   ]
  },
  {
   "cell_type": "markdown",
   "metadata": {},
   "source": [
    "Чтобы превратить столбец в индексы:"
   ]
  },
  {
   "cell_type": "code",
   "execution_count": 62,
   "metadata": {},
   "outputs": [
    {
     "data": {
      "text/html": [
       "<div>\n",
       "<style scoped>\n",
       "    .dataframe tbody tr th:only-of-type {\n",
       "        vertical-align: middle;\n",
       "    }\n",
       "\n",
       "    .dataframe tbody tr th {\n",
       "        vertical-align: top;\n",
       "    }\n",
       "\n",
       "    .dataframe thead th {\n",
       "        text-align: right;\n",
       "    }\n",
       "</style>\n",
       "<table border=\"1\" class=\"dataframe\">\n",
       "  <thead>\n",
       "    <tr style=\"text-align: right;\">\n",
       "      <th></th>\n",
       "      <th>omega</th>\n",
       "      <th>eh_c01</th>\n",
       "      <th>eh_t01</th>\n",
       "      <th>sl_mon_b_vol</th>\n",
       "      <th>sl_mon_t_vol</th>\n",
       "      <th>lmbd_countsroi1</th>\n",
       "      <th>lmbd_countsroi1_atten</th>\n",
       "      <th>lmbd_countsroi2</th>\n",
       "      <th>lmbd_countsroi2_atten</th>\n",
       "      <th>lmbd_countsroi3</th>\n",
       "      <th>lmbd_countsroi3_atten</th>\n",
       "      <th>dt</th>\n",
       "    </tr>\n",
       "    <tr>\n",
       "      <th>Pt_No</th>\n",
       "      <th></th>\n",
       "      <th></th>\n",
       "      <th></th>\n",
       "      <th></th>\n",
       "      <th></th>\n",
       "      <th></th>\n",
       "      <th></th>\n",
       "      <th></th>\n",
       "      <th></th>\n",
       "      <th></th>\n",
       "      <th></th>\n",
       "      <th></th>\n",
       "    </tr>\n",
       "  </thead>\n",
       "  <tbody>\n",
       "    <tr>\n",
       "      <th>0</th>\n",
       "      <td>14.820144</td>\n",
       "      <td>7599.0</td>\n",
       "      <td>0.5</td>\n",
       "      <td>0.038750</td>\n",
       "      <td>0.039688</td>\n",
       "      <td>794.0</td>\n",
       "      <td>794.0</td>\n",
       "      <td>3351.0</td>\n",
       "      <td>3351.0</td>\n",
       "      <td>43360.0</td>\n",
       "      <td>43360.0</td>\n",
       "      <td>0.531713</td>\n",
       "    </tr>\n",
       "    <tr>\n",
       "      <th>1</th>\n",
       "      <td>14.821078</td>\n",
       "      <td>7728.0</td>\n",
       "      <td>0.5</td>\n",
       "      <td>0.037422</td>\n",
       "      <td>0.039062</td>\n",
       "      <td>850.0</td>\n",
       "      <td>850.0</td>\n",
       "      <td>3398.0</td>\n",
       "      <td>3398.0</td>\n",
       "      <td>42265.0</td>\n",
       "      <td>42265.0</td>\n",
       "      <td>1.087277</td>\n",
       "    </tr>\n",
       "    <tr>\n",
       "      <th>2</th>\n",
       "      <td>14.822250</td>\n",
       "      <td>7862.0</td>\n",
       "      <td>0.5</td>\n",
       "      <td>0.040078</td>\n",
       "      <td>0.040781</td>\n",
       "      <td>948.0</td>\n",
       "      <td>948.0</td>\n",
       "      <td>3683.0</td>\n",
       "      <td>3683.0</td>\n",
       "      <td>42311.0</td>\n",
       "      <td>42311.0</td>\n",
       "      <td>1.667302</td>\n",
       "    </tr>\n",
       "    <tr>\n",
       "      <th>3</th>\n",
       "      <td>14.823350</td>\n",
       "      <td>7736.0</td>\n",
       "      <td>0.5</td>\n",
       "      <td>0.040469</td>\n",
       "      <td>0.039219</td>\n",
       "      <td>1004.0</td>\n",
       "      <td>1004.0</td>\n",
       "      <td>3729.0</td>\n",
       "      <td>3729.0</td>\n",
       "      <td>42567.0</td>\n",
       "      <td>42567.0</td>\n",
       "      <td>2.261172</td>\n",
       "    </tr>\n",
       "  </tbody>\n",
       "</table>\n",
       "</div>"
      ],
      "text/plain": [
       "           omega  eh_c01  eh_t01  sl_mon_b_vol  sl_mon_t_vol  lmbd_countsroi1  \\\n",
       "Pt_No                                                                           \n",
       "0      14.820144  7599.0     0.5      0.038750      0.039688            794.0   \n",
       "1      14.821078  7728.0     0.5      0.037422      0.039062            850.0   \n",
       "2      14.822250  7862.0     0.5      0.040078      0.040781            948.0   \n",
       "3      14.823350  7736.0     0.5      0.040469      0.039219           1004.0   \n",
       "\n",
       "       lmbd_countsroi1_atten  lmbd_countsroi2  lmbd_countsroi2_atten  \\\n",
       "Pt_No                                                                  \n",
       "0                      794.0           3351.0                 3351.0   \n",
       "1                      850.0           3398.0                 3398.0   \n",
       "2                      948.0           3683.0                 3683.0   \n",
       "3                     1004.0           3729.0                 3729.0   \n",
       "\n",
       "       lmbd_countsroi3  lmbd_countsroi3_atten        dt  \n",
       "Pt_No                                                    \n",
       "0              43360.0                43360.0  0.531713  \n",
       "1              42265.0                42265.0  1.087277  \n",
       "2              42311.0                42311.0  1.667302  \n",
       "3              42567.0                42567.0  2.261172  "
      ]
     },
     "execution_count": 62,
     "metadata": {},
     "output_type": "execute_result"
    }
   ],
   "source": [
    "df.set_index(\"Pt_No\", inplace=True)\n",
    "df.head(4)"
   ]
  },
  {
   "cell_type": "markdown",
   "metadata": {},
   "source": [
    "## Задача 2\n",
    "\n",
    "Загрузите данные из файла alpha-Fe.xyz, пропустив две первых строки. Используйте в качестве названий столбцов 'elenemt', 'x', 'y', 'z', а в качестве индексов строк первый столбец данных.\n",
    "\n",
    "Загрузите данные из файла Atomic_factors-6.1.1.4.xlsx, используя в качестве индексов строк первый столбец."
   ]
  },
  {
   "cell_type": "code",
   "execution_count": null,
   "metadata": {},
   "outputs": [],
   "source": []
  },
  {
   "cell_type": "code",
   "execution_count": null,
   "metadata": {},
   "outputs": [],
   "source": []
  },
  {
   "cell_type": "markdown",
   "metadata": {},
   "source": [
    "## Информация о DataFrame\n",
    "\n",
    "Информация о содержимом столбцов"
   ]
  },
  {
   "cell_type": "code",
   "execution_count": 94,
   "metadata": {},
   "outputs": [
    {
     "name": "stdout",
     "output_type": "stream",
     "text": [
      "<class 'pandas.core.frame.DataFrame'>\n",
      "RangeIndex: 16 entries, 0 to 15\n",
      "Data columns (total 13 columns):\n",
      " #   Column                  Non-Null Count  Dtype  \n",
      "---  ------                  --------------  -----  \n",
      " 0   Pt_No                   16 non-null     int64  \n",
      " 1    omega                  16 non-null     float64\n",
      " 2    eh_c01                 16 non-null     float64\n",
      " 3    eh_t01                 16 non-null     float64\n",
      " 4    sl_mon_b_vol           16 non-null     float64\n",
      " 5    sl_mon_t_vol           16 non-null     float64\n",
      " 6    lmbd_countsroi1        16 non-null     float64\n",
      " 7    lmbd_countsroi1_atten  16 non-null     float64\n",
      " 8    lmbd_countsroi2        16 non-null     float64\n",
      " 9    lmbd_countsroi2_atten  16 non-null     float64\n",
      " 10   lmbd_countsroi3        16 non-null     float64\n",
      " 11   lmbd_countsroi3_atten  16 non-null     float64\n",
      " 12   dt                     16 non-null     float64\n",
      "dtypes: float64(12), int64(1)\n",
      "memory usage: 1.8 KB\n"
     ]
    }
   ],
   "source": [
    "df.info()"
   ]
  },
  {
   "cell_type": "markdown",
   "metadata": {},
   "source": [
    "Статистика содержимого таблицы"
   ]
  },
  {
   "cell_type": "code",
   "execution_count": 72,
   "metadata": {},
   "outputs": [
    {
     "data": {
      "text/html": [
       "<div>\n",
       "<style scoped>\n",
       "    .dataframe tbody tr th:only-of-type {\n",
       "        vertical-align: middle;\n",
       "    }\n",
       "\n",
       "    .dataframe tbody tr th {\n",
       "        vertical-align: top;\n",
       "    }\n",
       "\n",
       "    .dataframe thead th {\n",
       "        text-align: right;\n",
       "    }\n",
       "</style>\n",
       "<table border=\"1\" class=\"dataframe\">\n",
       "  <thead>\n",
       "    <tr style=\"text-align: right;\">\n",
       "      <th></th>\n",
       "      <th>Pt_No</th>\n",
       "      <th>omega</th>\n",
       "      <th>eh_c01</th>\n",
       "      <th>eh_t01</th>\n",
       "      <th>sl_mon_b_vol</th>\n",
       "      <th>sl_mon_t_vol</th>\n",
       "      <th>lmbd_countsroi1</th>\n",
       "      <th>lmbd_countsroi1_atten</th>\n",
       "      <th>lmbd_countsroi2</th>\n",
       "      <th>lmbd_countsroi2_atten</th>\n",
       "      <th>lmbd_countsroi3</th>\n",
       "      <th>lmbd_countsroi3_atten</th>\n",
       "      <th>dt</th>\n",
       "    </tr>\n",
       "  </thead>\n",
       "  <tbody>\n",
       "    <tr>\n",
       "      <th>count</th>\n",
       "      <td>16.000000</td>\n",
       "      <td>16.000000</td>\n",
       "      <td>16.000000</td>\n",
       "      <td>1.600000e+01</td>\n",
       "      <td>16.000000</td>\n",
       "      <td>16.000000</td>\n",
       "      <td>16.000000</td>\n",
       "      <td>16.000000</td>\n",
       "      <td>16.00000</td>\n",
       "      <td>16.00000</td>\n",
       "      <td>16.000000</td>\n",
       "      <td>16.000000</td>\n",
       "      <td>16.000000</td>\n",
       "    </tr>\n",
       "    <tr>\n",
       "      <th>mean</th>\n",
       "      <td>7.500000</td>\n",
       "      <td>45.469544</td>\n",
       "      <td>15175.437500</td>\n",
       "      <td>1.200000e+00</td>\n",
       "      <td>0.035674</td>\n",
       "      <td>0.035020</td>\n",
       "      <td>49837.250000</td>\n",
       "      <td>49837.250000</td>\n",
       "      <td>95585.37500</td>\n",
       "      <td>95585.37500</td>\n",
       "      <td>141393.812500</td>\n",
       "      <td>141393.812500</td>\n",
       "      <td>10.934224</td>\n",
       "    </tr>\n",
       "    <tr>\n",
       "      <th>std</th>\n",
       "      <td>4.760952</td>\n",
       "      <td>0.005146</td>\n",
       "      <td>148.015751</td>\n",
       "      <td>2.293267e-16</td>\n",
       "      <td>0.001141</td>\n",
       "      <td>0.000713</td>\n",
       "      <td>56163.840913</td>\n",
       "      <td>56163.840913</td>\n",
       "      <td>76344.43719</td>\n",
       "      <td>76344.43719</td>\n",
       "      <td>76742.698545</td>\n",
       "      <td>76742.698545</td>\n",
       "      <td>6.247172</td>\n",
       "    </tr>\n",
       "    <tr>\n",
       "      <th>min</th>\n",
       "      <td>0.000000</td>\n",
       "      <td>45.461578</td>\n",
       "      <td>14786.000000</td>\n",
       "      <td>1.200000e+00</td>\n",
       "      <td>0.033203</td>\n",
       "      <td>0.033438</td>\n",
       "      <td>9691.000000</td>\n",
       "      <td>9691.000000</td>\n",
       "      <td>33221.00000</td>\n",
       "      <td>33221.00000</td>\n",
       "      <td>80032.000000</td>\n",
       "      <td>80032.000000</td>\n",
       "      <td>1.225516</td>\n",
       "    </tr>\n",
       "    <tr>\n",
       "      <th>25%</th>\n",
       "      <td>3.750000</td>\n",
       "      <td>45.465453</td>\n",
       "      <td>15106.500000</td>\n",
       "      <td>1.200000e+00</td>\n",
       "      <td>0.035195</td>\n",
       "      <td>0.034590</td>\n",
       "      <td>14494.000000</td>\n",
       "      <td>14494.000000</td>\n",
       "      <td>44889.50000</td>\n",
       "      <td>44889.50000</td>\n",
       "      <td>90250.750000</td>\n",
       "      <td>90250.750000</td>\n",
       "      <td>5.952753</td>\n",
       "    </tr>\n",
       "    <tr>\n",
       "      <th>50%</th>\n",
       "      <td>7.500000</td>\n",
       "      <td>45.469531</td>\n",
       "      <td>15220.000000</td>\n",
       "      <td>1.200000e+00</td>\n",
       "      <td>0.035664</td>\n",
       "      <td>0.035039</td>\n",
       "      <td>25182.000000</td>\n",
       "      <td>25182.000000</td>\n",
       "      <td>66020.50000</td>\n",
       "      <td>66020.50000</td>\n",
       "      <td>111709.000000</td>\n",
       "      <td>111709.000000</td>\n",
       "      <td>10.904895</td>\n",
       "    </tr>\n",
       "    <tr>\n",
       "      <th>75%</th>\n",
       "      <td>11.250000</td>\n",
       "      <td>45.473583</td>\n",
       "      <td>15250.500000</td>\n",
       "      <td>1.200000e+00</td>\n",
       "      <td>0.036270</td>\n",
       "      <td>0.035547</td>\n",
       "      <td>59067.500000</td>\n",
       "      <td>59067.500000</td>\n",
       "      <td>113190.75000</td>\n",
       "      <td>113190.75000</td>\n",
       "      <td>158982.750000</td>\n",
       "      <td>158982.750000</td>\n",
       "      <td>15.829577</td>\n",
       "    </tr>\n",
       "    <tr>\n",
       "      <th>max</th>\n",
       "      <td>15.000000</td>\n",
       "      <td>45.477747</td>\n",
       "      <td>15365.000000</td>\n",
       "      <td>1.200000e+00</td>\n",
       "      <td>0.037500</td>\n",
       "      <td>0.036172</td>\n",
       "      <td>210174.000000</td>\n",
       "      <td>210174.000000</td>\n",
       "      <td>308256.00000</td>\n",
       "      <td>308256.00000</td>\n",
       "      <td>355140.000000</td>\n",
       "      <td>355140.000000</td>\n",
       "      <td>20.891913</td>\n",
       "    </tr>\n",
       "  </tbody>\n",
       "</table>\n",
       "</div>"
      ],
      "text/plain": [
       "           Pt_No      omega        eh_c01        eh_t01   sl_mon_b_vol  \\\n",
       "count  16.000000  16.000000     16.000000  1.600000e+01      16.000000   \n",
       "mean    7.500000  45.469544  15175.437500  1.200000e+00       0.035674   \n",
       "std     4.760952   0.005146    148.015751  2.293267e-16       0.001141   \n",
       "min     0.000000  45.461578  14786.000000  1.200000e+00       0.033203   \n",
       "25%     3.750000  45.465453  15106.500000  1.200000e+00       0.035195   \n",
       "50%     7.500000  45.469531  15220.000000  1.200000e+00       0.035664   \n",
       "75%    11.250000  45.473583  15250.500000  1.200000e+00       0.036270   \n",
       "max    15.000000  45.477747  15365.000000  1.200000e+00       0.037500   \n",
       "\n",
       "        sl_mon_t_vol   lmbd_countsroi1   lmbd_countsroi1_atten  \\\n",
       "count      16.000000         16.000000               16.000000   \n",
       "mean        0.035020      49837.250000            49837.250000   \n",
       "std         0.000713      56163.840913            56163.840913   \n",
       "min         0.033438       9691.000000             9691.000000   \n",
       "25%         0.034590      14494.000000            14494.000000   \n",
       "50%         0.035039      25182.000000            25182.000000   \n",
       "75%         0.035547      59067.500000            59067.500000   \n",
       "max         0.036172     210174.000000           210174.000000   \n",
       "\n",
       "        lmbd_countsroi2   lmbd_countsroi2_atten   lmbd_countsroi3  \\\n",
       "count          16.00000                16.00000         16.000000   \n",
       "mean        95585.37500             95585.37500     141393.812500   \n",
       "std         76344.43719             76344.43719      76742.698545   \n",
       "min         33221.00000             33221.00000      80032.000000   \n",
       "25%         44889.50000             44889.50000      90250.750000   \n",
       "50%         66020.50000             66020.50000     111709.000000   \n",
       "75%        113190.75000            113190.75000     158982.750000   \n",
       "max        308256.00000            308256.00000     355140.000000   \n",
       "\n",
       "        lmbd_countsroi3_atten         dt  \n",
       "count               16.000000  16.000000  \n",
       "mean            141393.812500  10.934224  \n",
       "std              76742.698545   6.247172  \n",
       "min              80032.000000   1.225516  \n",
       "25%              90250.750000   5.952753  \n",
       "50%             111709.000000  10.904895  \n",
       "75%             158982.750000  15.829577  \n",
       "max             355140.000000  20.891913  "
      ]
     },
     "execution_count": 72,
     "metadata": {},
     "output_type": "execute_result"
    }
   ],
   "source": [
    "df.describe()"
   ]
  },
  {
   "cell_type": "markdown",
   "metadata": {},
   "source": [
    "Размеры таблицы"
   ]
  },
  {
   "cell_type": "code",
   "execution_count": 73,
   "metadata": {},
   "outputs": [
    {
     "name": "stdout",
     "output_type": "stream",
     "text": [
      "(16, 13)\n",
      "2\n",
      "208\n",
      "Index(['Pt_No', ' omega', ' eh_c01', ' eh_t01', ' sl_mon_b_vol',\n",
      "       ' sl_mon_t_vol', ' lmbd_countsroi1', ' lmbd_countsroi1_atten',\n",
      "       ' lmbd_countsroi2', ' lmbd_countsroi2_atten', ' lmbd_countsroi3',\n",
      "       ' lmbd_countsroi3_atten', ' dt'],\n",
      "      dtype='object')\n",
      "RangeIndex(start=0, stop=16, step=1)\n"
     ]
    }
   ],
   "source": [
    "print(df.shape)  # число строк и число столбцов\n",
    "print(df.ndim)  # число измерений\n",
    "print(df.size)  # число элементов\n",
    "print(df.columns)  # названия столбцов\n",
    "print(df.index)  # названия строк (индексы)"
   ]
  },
  {
   "cell_type": "markdown",
   "metadata": {},
   "source": [
    "## Индексация и фильтация"
   ]
  },
  {
   "cell_type": "code",
   "execution_count": 97,
   "metadata": {},
   "outputs": [
    {
     "data": {
      "text/html": [
       "<div>\n",
       "<style scoped>\n",
       "    .dataframe tbody tr th:only-of-type {\n",
       "        vertical-align: middle;\n",
       "    }\n",
       "\n",
       "    .dataframe tbody tr th {\n",
       "        vertical-align: top;\n",
       "    }\n",
       "\n",
       "    .dataframe thead th {\n",
       "        text-align: right;\n",
       "    }\n",
       "</style>\n",
       "<table border=\"1\" class=\"dataframe\">\n",
       "  <thead>\n",
       "    <tr style=\"text-align: right;\">\n",
       "      <th></th>\n",
       "      <th>country</th>\n",
       "      <th>population</th>\n",
       "      <th>square</th>\n",
       "    </tr>\n",
       "  </thead>\n",
       "  <tbody>\n",
       "    <tr>\n",
       "      <th>KZ</th>\n",
       "      <td>Kazakhstan</td>\n",
       "      <td>17.04</td>\n",
       "      <td>2724902</td>\n",
       "    </tr>\n",
       "    <tr>\n",
       "      <th>RU</th>\n",
       "      <td>Russia</td>\n",
       "      <td>143.50</td>\n",
       "      <td>17125191</td>\n",
       "    </tr>\n",
       "    <tr>\n",
       "      <th>LT</th>\n",
       "      <td>Litva</td>\n",
       "      <td>2.79</td>\n",
       "      <td>653000</td>\n",
       "    </tr>\n",
       "    <tr>\n",
       "      <th>BY</th>\n",
       "      <td>Belarus</td>\n",
       "      <td>9.50</td>\n",
       "      <td>9500</td>\n",
       "    </tr>\n",
       "    <tr>\n",
       "      <th>KZ</th>\n",
       "      <td>Kazakhstan</td>\n",
       "      <td>17.04</td>\n",
       "      <td>2724902</td>\n",
       "    </tr>\n",
       "  </tbody>\n",
       "</table>\n",
       "</div>"
      ],
      "text/plain": [
       "       country  population    square\n",
       "KZ  Kazakhstan       17.04   2724902\n",
       "RU      Russia      143.50  17125191\n",
       "LT       Litva        2.79    653000\n",
       "BY     Belarus        9.50      9500\n",
       "KZ  Kazakhstan       17.04   2724902"
      ]
     },
     "execution_count": 97,
     "metadata": {},
     "output_type": "execute_result"
    }
   ],
   "source": [
    "df = pd.DataFrame(\n",
    "    {\n",
    "        \"country\": [\"Kazakhstan\", \"Russia\", \"Litva\", \"Belarus\", \"Kazakhstan\"],\n",
    "        \"population\": [17.04, 143.50, 2.79, 9.5, 17.04],\n",
    "        \"square\": [2724902, 17125191, 653000, 9500, 2724902],\n",
    "    },\n",
    "    index=[\"KZ\", \"RU\", \"LT\", \"BY\", \"KZ\"],\n",
    ")\n",
    "df"
   ]
  },
  {
   "cell_type": "markdown",
   "metadata": {},
   "source": [
    "Получить значения только определенного столбца можно так:"
   ]
  },
  {
   "cell_type": "code",
   "execution_count": 98,
   "metadata": {},
   "outputs": [
    {
     "data": {
      "text/plain": [
       "KZ    Kazakhstan\n",
       "RU        Russia\n",
       "LT         Litva\n",
       "BY       Belarus\n",
       "KZ    Kazakhstan\n",
       "Name: country, dtype: object"
      ]
     },
     "execution_count": 98,
     "metadata": {},
     "output_type": "execute_result"
    }
   ],
   "source": [
    "df[\"country\"]"
   ]
  },
  {
   "cell_type": "markdown",
   "metadata": {},
   "source": [
    "Можно посмотреть значения сразу нескольких столбцов:"
   ]
  },
  {
   "cell_type": "code",
   "execution_count": 99,
   "metadata": {},
   "outputs": [
    {
     "data": {
      "text/html": [
       "<div>\n",
       "<style scoped>\n",
       "    .dataframe tbody tr th:only-of-type {\n",
       "        vertical-align: middle;\n",
       "    }\n",
       "\n",
       "    .dataframe tbody tr th {\n",
       "        vertical-align: top;\n",
       "    }\n",
       "\n",
       "    .dataframe thead th {\n",
       "        text-align: right;\n",
       "    }\n",
       "</style>\n",
       "<table border=\"1\" class=\"dataframe\">\n",
       "  <thead>\n",
       "    <tr style=\"text-align: right;\">\n",
       "      <th></th>\n",
       "      <th>country</th>\n",
       "      <th>square</th>\n",
       "    </tr>\n",
       "  </thead>\n",
       "  <tbody>\n",
       "    <tr>\n",
       "      <th>KZ</th>\n",
       "      <td>Kazakhstan</td>\n",
       "      <td>2724902</td>\n",
       "    </tr>\n",
       "    <tr>\n",
       "      <th>RU</th>\n",
       "      <td>Russia</td>\n",
       "      <td>17125191</td>\n",
       "    </tr>\n",
       "    <tr>\n",
       "      <th>LT</th>\n",
       "      <td>Litva</td>\n",
       "      <td>653000</td>\n",
       "    </tr>\n",
       "    <tr>\n",
       "      <th>BY</th>\n",
       "      <td>Belarus</td>\n",
       "      <td>9500</td>\n",
       "    </tr>\n",
       "    <tr>\n",
       "      <th>KZ</th>\n",
       "      <td>Kazakhstan</td>\n",
       "      <td>2724902</td>\n",
       "    </tr>\n",
       "  </tbody>\n",
       "</table>\n",
       "</div>"
      ],
      "text/plain": [
       "       country    square\n",
       "KZ  Kazakhstan   2724902\n",
       "RU      Russia  17125191\n",
       "LT       Litva    653000\n",
       "BY     Belarus      9500\n",
       "KZ  Kazakhstan   2724902"
      ]
     },
     "execution_count": 99,
     "metadata": {},
     "output_type": "execute_result"
    }
   ],
   "source": [
    "df[[\"country\", \"square\"]]"
   ]
  },
  {
   "cell_type": "markdown",
   "metadata": {},
   "source": [
    "Доступ к строкам по индксам возможен несколькими способами:\n",
    "\n",
    "- **.loc** - используется для доступа к значению по строковой метке (индексу);\n",
    "\n",
    "- **.iloc** - используется для доступа оп числовому значению (начиная от 0).\n",
    "\n",
    ".at и .iat аналогичны, но могут получать только одно значение за раз,\n",
    "\n",
    "ix - устарел."
   ]
  },
  {
   "cell_type": "code",
   "execution_count": 101,
   "metadata": {},
   "outputs": [
    {
     "data": {
      "text/html": [
       "<div>\n",
       "<style scoped>\n",
       "    .dataframe tbody tr th:only-of-type {\n",
       "        vertical-align: middle;\n",
       "    }\n",
       "\n",
       "    .dataframe tbody tr th {\n",
       "        vertical-align: top;\n",
       "    }\n",
       "\n",
       "    .dataframe thead th {\n",
       "        text-align: right;\n",
       "    }\n",
       "</style>\n",
       "<table border=\"1\" class=\"dataframe\">\n",
       "  <thead>\n",
       "    <tr style=\"text-align: right;\">\n",
       "      <th></th>\n",
       "      <th>country</th>\n",
       "      <th>population</th>\n",
       "      <th>square</th>\n",
       "    </tr>\n",
       "  </thead>\n",
       "  <tbody>\n",
       "    <tr>\n",
       "      <th>KZ</th>\n",
       "      <td>Kazakhstan</td>\n",
       "      <td>17.04</td>\n",
       "      <td>2724902</td>\n",
       "    </tr>\n",
       "    <tr>\n",
       "      <th>KZ</th>\n",
       "      <td>Kazakhstan</td>\n",
       "      <td>17.04</td>\n",
       "      <td>2724902</td>\n",
       "    </tr>\n",
       "  </tbody>\n",
       "</table>\n",
       "</div>"
      ],
      "text/plain": [
       "       country  population   square\n",
       "KZ  Kazakhstan       17.04  2724902\n",
       "KZ  Kazakhstan       17.04  2724902"
      ]
     },
     "execution_count": 101,
     "metadata": {},
     "output_type": "execute_result"
    }
   ],
   "source": [
    "df.loc[\"KZ\"]"
   ]
  },
  {
   "cell_type": "code",
   "execution_count": 41,
   "metadata": {},
   "outputs": [
    {
     "data": {
      "text/plain": [
       "country       Kazakhstan\n",
       "population         17.04\n",
       "square           2724902\n",
       "Name: KZ, dtype: object"
      ]
     },
     "execution_count": 41,
     "metadata": {},
     "output_type": "execute_result"
    }
   ],
   "source": [
    "df.iloc[0]"
   ]
  },
  {
   "cell_type": "code",
   "execution_count": 42,
   "metadata": {},
   "outputs": [
    {
     "data": {
      "text/html": [
       "<div>\n",
       "<style scoped>\n",
       "    .dataframe tbody tr th:only-of-type {\n",
       "        vertical-align: middle;\n",
       "    }\n",
       "\n",
       "    .dataframe tbody tr th {\n",
       "        vertical-align: top;\n",
       "    }\n",
       "\n",
       "    .dataframe thead th {\n",
       "        text-align: right;\n",
       "    }\n",
       "</style>\n",
       "<table border=\"1\" class=\"dataframe\">\n",
       "  <thead>\n",
       "    <tr style=\"text-align: right;\">\n",
       "      <th></th>\n",
       "      <th>country</th>\n",
       "      <th>population</th>\n",
       "      <th>square</th>\n",
       "    </tr>\n",
       "  </thead>\n",
       "  <tbody>\n",
       "    <tr>\n",
       "      <th>KZ</th>\n",
       "      <td>Kazakhstan</td>\n",
       "      <td>17.04</td>\n",
       "      <td>2724902</td>\n",
       "    </tr>\n",
       "    <tr>\n",
       "      <th>LT</th>\n",
       "      <td>Litva</td>\n",
       "      <td>2.79</td>\n",
       "      <td>653000</td>\n",
       "    </tr>\n",
       "  </tbody>\n",
       "</table>\n",
       "</div>"
      ],
      "text/plain": [
       "       country  population   square\n",
       "KZ  Kazakhstan       17.04  2724902\n",
       "LT       Litva        2.79   653000"
      ]
     },
     "execution_count": 42,
     "metadata": {},
     "output_type": "execute_result"
    }
   ],
   "source": [
    "df.iloc[[0, 2]]"
   ]
  },
  {
   "cell_type": "code",
   "execution_count": 102,
   "metadata": {},
   "outputs": [
    {
     "data": {
      "text/plain": [
       "KZ    2724902\n",
       "KZ    2724902\n",
       "Name: square, dtype: int64"
      ]
     },
     "execution_count": 102,
     "metadata": {},
     "output_type": "execute_result"
    }
   ],
   "source": [
    "df.loc[\"KZ\", \"square\"]  # указали строку и столбец нужного элемента"
   ]
  },
  {
   "cell_type": "code",
   "execution_count": 103,
   "metadata": {},
   "outputs": [
    {
     "data": {
      "text/plain": [
       "143.5"
      ]
     },
     "execution_count": 103,
     "metadata": {},
     "output_type": "execute_result"
    }
   ],
   "source": [
    "df.iloc[1, 1]  # указали строку и столбец нужного элемента"
   ]
  },
  {
   "cell_type": "code",
   "execution_count": 45,
   "metadata": {},
   "outputs": [
    {
     "data": {
      "text/plain": [
       "population       143.5\n",
       "square        17125191\n",
       "Name: RU, dtype: object"
      ]
     },
     "execution_count": 45,
     "metadata": {},
     "output_type": "execute_result"
    }
   ],
   "source": [
    "df.iloc[1, 1:3]  # 1 строка с 1 по 3 столбец"
   ]
  },
  {
   "cell_type": "code",
   "execution_count": 46,
   "metadata": {},
   "outputs": [
    {
     "data": {
      "text/html": [
       "<div>\n",
       "<style scoped>\n",
       "    .dataframe tbody tr th:only-of-type {\n",
       "        vertical-align: middle;\n",
       "    }\n",
       "\n",
       "    .dataframe tbody tr th {\n",
       "        vertical-align: top;\n",
       "    }\n",
       "\n",
       "    .dataframe thead th {\n",
       "        text-align: right;\n",
       "    }\n",
       "</style>\n",
       "<table border=\"1\" class=\"dataframe\">\n",
       "  <thead>\n",
       "    <tr style=\"text-align: right;\">\n",
       "      <th></th>\n",
       "      <th>population</th>\n",
       "      <th>square</th>\n",
       "    </tr>\n",
       "  </thead>\n",
       "  <tbody>\n",
       "    <tr>\n",
       "      <th>RU</th>\n",
       "      <td>143.50</td>\n",
       "      <td>17125191</td>\n",
       "    </tr>\n",
       "    <tr>\n",
       "      <th>LT</th>\n",
       "      <td>2.79</td>\n",
       "      <td>653000</td>\n",
       "    </tr>\n",
       "  </tbody>\n",
       "</table>\n",
       "</div>"
      ],
      "text/plain": [
       "    population    square\n",
       "RU      143.50  17125191\n",
       "LT        2.79    653000"
      ]
     },
     "execution_count": 46,
     "metadata": {},
     "output_type": "execute_result"
    }
   ],
   "source": [
    "df.iloc[1:3, 1:3]  # c 1 по 3 строку и с 1 по 3 столбец"
   ]
  },
  {
   "cell_type": "code",
   "execution_count": 47,
   "metadata": {},
   "outputs": [
    {
     "data": {
      "text/html": [
       "<div>\n",
       "<style scoped>\n",
       "    .dataframe tbody tr th:only-of-type {\n",
       "        vertical-align: middle;\n",
       "    }\n",
       "\n",
       "    .dataframe tbody tr th {\n",
       "        vertical-align: top;\n",
       "    }\n",
       "\n",
       "    .dataframe thead th {\n",
       "        text-align: right;\n",
       "    }\n",
       "</style>\n",
       "<table border=\"1\" class=\"dataframe\">\n",
       "  <thead>\n",
       "    <tr style=\"text-align: right;\">\n",
       "      <th></th>\n",
       "      <th>country</th>\n",
       "      <th>population</th>\n",
       "      <th>square</th>\n",
       "    </tr>\n",
       "  </thead>\n",
       "  <tbody>\n",
       "    <tr>\n",
       "      <th>RU</th>\n",
       "      <td>Russia</td>\n",
       "      <td>143.50</td>\n",
       "      <td>17125191</td>\n",
       "    </tr>\n",
       "    <tr>\n",
       "      <th>LT</th>\n",
       "      <td>Litva</td>\n",
       "      <td>2.79</td>\n",
       "      <td>653000</td>\n",
       "    </tr>\n",
       "    <tr>\n",
       "      <th>BY</th>\n",
       "      <td>Belarus</td>\n",
       "      <td>9.50</td>\n",
       "      <td>9500</td>\n",
       "    </tr>\n",
       "  </tbody>\n",
       "</table>\n",
       "</div>"
      ],
      "text/plain": [
       "    country  population    square\n",
       "RU   Russia      143.50  17125191\n",
       "LT    Litva        2.79    653000\n",
       "BY  Belarus        9.50      9500"
      ]
     },
     "execution_count": 47,
     "metadata": {},
     "output_type": "execute_result"
    }
   ],
   "source": [
    "df.loc[\"RU\":\"BY\", :]  # срезы работают и с метками"
   ]
  },
  {
   "cell_type": "markdown",
   "metadata": {},
   "source": [
    "## Задача 3. Элементарная ячейка альфа-железа\n",
    "\n",
    "Формат .xyz -- один из стандартных способов записи координат атомов, принятый в химии, биологии и кристаллографии. Здесь первая строка указывает на количество атомов, вторая содержит название соединения, дальше в каждой строке записано название атома и его координаты x, y и z через разделитель (пробел или tab).\n",
    "\n",
    "Напишите программу, которая считывает из файла  alpha-Fe.xyz координаты атомов и строит сферы с центрами в этих координатах. \n",
    "Для построения сфер воспользуйтесь функцией, созданной на предыдущем занятии."
   ]
  },
  {
   "cell_type": "code",
   "execution_count": 48,
   "metadata": {},
   "outputs": [],
   "source": [
    "import matplotlib.pyplot as plt\n",
    "import numpy as np\n",
    "import pandas as pd\n",
    "\n",
    "df = pd.read_csv(\"alpha-Fe.xyz\")"
   ]
  },
  {
   "cell_type": "code",
   "execution_count": 49,
   "metadata": {},
   "outputs": [
    {
     "data": {
      "image/png": "[encoded data removed]",
      "text/plain": [
       "<Figure size 432x288 with 1 Axes>"
      ]
     },
     "metadata": {
      "needs_background": "light"
     },
     "output_type": "display_data"
    }
   ],
   "source": [
    "fig = plt.figure()\n",
    "ax = fig.gca(projection=\"3d\")\n",
    "\n",
    "\n",
    "def sphere(x0, y0, z0, r, Color):\n",
    "    teta, fi = np.mgrid[0 : 2 * np.pi : 50j, 0 : np.pi : 50j]\n",
    "\n",
    "    x = x0 + r * np.cos(teta) * np.sin(fi)\n",
    "    y = y0 + r * np.sin(teta) * np.sin(fi)\n",
    "    z = z0 + r * np.cos(fi)\n",
    "\n",
    "    ax.plot_surface(x, y, z, color=Color)"
   ]
  },
  {
   "cell_type": "markdown",
   "metadata": {},
   "source": [
    "# Задача 4. Атомный фактор рассеяния\n",
    "\n",
    "В теории рассеяния рентгеновских лучей атомный формфактор $f(q)$ определяет, как излучение рассеивается электронным облаком атома. При этом амплитуда рассеяния увеличивается с атомным номером. Длина вектора рассеяния\n",
    "\\begin{equation}\\label{vector_q}\n",
    "q = 4 \\pi \\sin(\\theta)/ \\lambda,\n",
    "\\end{equation}\n",
    "    \n",
    "где $\\theta$ -- угол Брегга, $\\lambda$ -- длина волны падающего излучения. При $0  < q < 25 A^{-1} $ атомный фактор аппроксимируется выражением:\n",
    "\n",
    "\\begin{equation}\\label{atomic_factor}\n",
    "f(q) = \\sum_{i=1}^{4} a_i exp \\left( -b_i \\left( \\frac{q}{4 \\pi} \\right)^2  \\right) + c,\n",
    "\\end{equation}\n",
    "\n",
    "где значения $a_i$, $b_i$ и $c$ записаны в томе *C* интернациональных кристаллографических таблиц. \n",
    "\n",
    "Напишите функцию, которая принимает название элемента как в таблице Atomic\\_factors-6.1.1.4.xlsx и строит кривую  $f(q)$ в диапазоне  $0  \\leq q \\leq  5 A^{-1} $.\n",
    "\n",
    "Постройте на одном графике кривые для кислорода, железа, молибдена и плутония.\n",
    "\n",
    "<img src = 'atomic_factor.png'>"
   ]
  },
  {
   "cell_type": "code",
   "execution_count": 2,
   "metadata": {},
   "outputs": [
    {
     "data": {
      "text/html": [
       "<div>\n",
       "<style scoped>\n",
       "    .dataframe tbody tr th:only-of-type {\n",
       "        vertical-align: middle;\n",
       "    }\n",
       "\n",
       "    .dataframe tbody tr th {\n",
       "        vertical-align: top;\n",
       "    }\n",
       "\n",
       "    .dataframe thead th {\n",
       "        text-align: right;\n",
       "    }\n",
       "</style>\n",
       "<table border=\"1\" class=\"dataframe\">\n",
       "  <thead>\n",
       "    <tr style=\"text-align: right;\">\n",
       "      <th></th>\n",
       "      <th>Unnamed: 0</th>\n",
       "      <th>Unnamed: 1</th>\n",
       "      <th>a1</th>\n",
       "      <th>b1</th>\n",
       "      <th>a2</th>\n",
       "      <th>b2</th>\n",
       "      <th>a3</th>\n",
       "      <th>b3</th>\n",
       "      <th>a4</th>\n",
       "      <th>b4</th>\n",
       "      <th>c</th>\n",
       "      <th>Maximum error</th>\n",
       "      <th>sin в/Х (A -1)</th>\n",
       "      <th>Mean error</th>\n",
       "    </tr>\n",
       "  </thead>\n",
       "  <tbody>\n",
       "    <tr>\n",
       "      <th>0</th>\n",
       "      <td>H</td>\n",
       "      <td>SDS</td>\n",
       "      <td>0.493002</td>\n",
       "      <td>10.510900</td>\n",
       "      <td>0.322912</td>\n",
       "      <td>26.12570</td>\n",
       "      <td>0.140191</td>\n",
       "      <td>3.14236</td>\n",
       "      <td>0.040810</td>\n",
       "      <td>57.79970</td>\n",
       "      <td>0.003038</td>\n",
       "      <td>0.000</td>\n",
       "      <td>0.00</td>\n",
       "      <td>0.000</td>\n",
       "    </tr>\n",
       "    <tr>\n",
       "      <th>1</th>\n",
       "      <td>H</td>\n",
       "      <td>HF</td>\n",
       "      <td>0.489918</td>\n",
       "      <td>20.659300</td>\n",
       "      <td>0.262003</td>\n",
       "      <td>7.74039</td>\n",
       "      <td>0.196767</td>\n",
       "      <td>49.55190</td>\n",
       "      <td>0.049879</td>\n",
       "      <td>2.20159</td>\n",
       "      <td>0.001305</td>\n",
       "      <td>0.000</td>\n",
       "      <td>0.17</td>\n",
       "      <td>0.000</td>\n",
       "    </tr>\n",
       "    <tr>\n",
       "      <th>2</th>\n",
       "      <td>H1-</td>\n",
       "      <td>HF</td>\n",
       "      <td>0.897661</td>\n",
       "      <td>53.136800</td>\n",
       "      <td>0.565616</td>\n",
       "      <td>15.18700</td>\n",
       "      <td>0.415815</td>\n",
       "      <td>186.57600</td>\n",
       "      <td>0.116973</td>\n",
       "      <td>3.56709</td>\n",
       "      <td>0.002389</td>\n",
       "      <td>0.002</td>\n",
       "      <td>0.09</td>\n",
       "      <td>0.001</td>\n",
       "    </tr>\n",
       "    <tr>\n",
       "      <th>3</th>\n",
       "      <td>He</td>\n",
       "      <td>RHF</td>\n",
       "      <td>0.873400</td>\n",
       "      <td>9.103700</td>\n",
       "      <td>0.630900</td>\n",
       "      <td>3.35680</td>\n",
       "      <td>0.311200</td>\n",
       "      <td>22.92760</td>\n",
       "      <td>0.178000</td>\n",
       "      <td>0.98210</td>\n",
       "      <td>0.006400</td>\n",
       "      <td>0.001</td>\n",
       "      <td>1.01</td>\n",
       "      <td>0.000</td>\n",
       "    </tr>\n",
       "    <tr>\n",
       "      <th>4</th>\n",
       "      <td>Li</td>\n",
       "      <td>RHF</td>\n",
       "      <td>1.128200</td>\n",
       "      <td>3.954600</td>\n",
       "      <td>0.750800</td>\n",
       "      <td>1.05240</td>\n",
       "      <td>0.617500</td>\n",
       "      <td>85.39050</td>\n",
       "      <td>0.465300</td>\n",
       "      <td>168.26100</td>\n",
       "      <td>0.037700</td>\n",
       "      <td>0.005</td>\n",
       "      <td>2.00</td>\n",
       "      <td>0.001</td>\n",
       "    </tr>\n",
       "    <tr>\n",
       "      <th>...</th>\n",
       "      <td>...</td>\n",
       "      <td>...</td>\n",
       "      <td>...</td>\n",
       "      <td>...</td>\n",
       "      <td>...</td>\n",
       "      <td>...</td>\n",
       "      <td>...</td>\n",
       "      <td>...</td>\n",
       "      <td>...</td>\n",
       "      <td>...</td>\n",
       "      <td>...</td>\n",
       "      <td>...</td>\n",
       "      <td>...</td>\n",
       "      <td>...</td>\n",
       "    </tr>\n",
       "    <tr>\n",
       "      <th>207</th>\n",
       "      <td>Pu6+</td>\n",
       "      <td>*DS</td>\n",
       "      <td>35.173600</td>\n",
       "      <td>0.473204</td>\n",
       "      <td>22.718100</td>\n",
       "      <td>2.73848</td>\n",
       "      <td>14.763500</td>\n",
       "      <td>11.55300</td>\n",
       "      <td>2.286780</td>\n",
       "      <td>20.93030</td>\n",
       "      <td>13.058200</td>\n",
       "      <td>0.001</td>\n",
       "      <td>1.36</td>\n",
       "      <td>0.001</td>\n",
       "    </tr>\n",
       "    <tr>\n",
       "      <th>208</th>\n",
       "      <td>Am</td>\n",
       "      <td>*RHF</td>\n",
       "      <td>36.670600</td>\n",
       "      <td>0.483629</td>\n",
       "      <td>24.099200</td>\n",
       "      <td>3.20647</td>\n",
       "      <td>17.341500</td>\n",
       "      <td>14.31360</td>\n",
       "      <td>3.493310</td>\n",
       "      <td>102.27300</td>\n",
       "      <td>13.359200</td>\n",
       "      <td>0.040</td>\n",
       "      <td>0.07</td>\n",
       "      <td>0.013</td>\n",
       "    </tr>\n",
       "    <tr>\n",
       "      <th>209</th>\n",
       "      <td>Cm</td>\n",
       "      <td>*RHF</td>\n",
       "      <td>36.648800</td>\n",
       "      <td>0.465154</td>\n",
       "      <td>24.409600</td>\n",
       "      <td>3.08997</td>\n",
       "      <td>17.399000</td>\n",
       "      <td>13.43460</td>\n",
       "      <td>4.216650</td>\n",
       "      <td>88.48340</td>\n",
       "      <td>13.288700</td>\n",
       "      <td>0.041</td>\n",
       "      <td>0.07</td>\n",
       "      <td>0.013</td>\n",
       "    </tr>\n",
       "    <tr>\n",
       "      <th>210</th>\n",
       "      <td>Bk</td>\n",
       "      <td>*RHF</td>\n",
       "      <td>36.788100</td>\n",
       "      <td>0.451018</td>\n",
       "      <td>24.773600</td>\n",
       "      <td>3.04619</td>\n",
       "      <td>17.891900</td>\n",
       "      <td>12.89460</td>\n",
       "      <td>4.232840</td>\n",
       "      <td>86.00300</td>\n",
       "      <td>13.275400</td>\n",
       "      <td>0.042</td>\n",
       "      <td>0.07</td>\n",
       "      <td>0.014</td>\n",
       "    </tr>\n",
       "    <tr>\n",
       "      <th>211</th>\n",
       "      <td>Cf</td>\n",
       "      <td>*RHF</td>\n",
       "      <td>36.918500</td>\n",
       "      <td>0.437533</td>\n",
       "      <td>25.199500</td>\n",
       "      <td>3.00775</td>\n",
       "      <td>18.331700</td>\n",
       "      <td>12.40440</td>\n",
       "      <td>4.243910</td>\n",
       "      <td>83.78810</td>\n",
       "      <td>13.267400</td>\n",
       "      <td>0.043</td>\n",
       "      <td>0.07</td>\n",
       "      <td>0.014</td>\n",
       "    </tr>\n",
       "  </tbody>\n",
       "</table>\n",
       "<p>212 rows × 14 columns</p>\n",
       "</div>"
      ],
      "text/plain": [
       "    Unnamed: 0 Unnamed: 1         a1         b1         a2        b2  \\\n",
       "0            H        SDS   0.493002  10.510900   0.322912  26.12570   \n",
       "1            H         HF   0.489918  20.659300   0.262003   7.74039   \n",
       "2          H1-         HF   0.897661  53.136800   0.565616  15.18700   \n",
       "3           He        RHF   0.873400   9.103700   0.630900   3.35680   \n",
       "4           Li        RHF   1.128200   3.954600   0.750800   1.05240   \n",
       "..         ...        ...        ...        ...        ...       ...   \n",
       "207       Pu6+        *DS  35.173600   0.473204  22.718100   2.73848   \n",
       "208         Am       *RHF  36.670600   0.483629  24.099200   3.20647   \n",
       "209         Cm       *RHF  36.648800   0.465154  24.409600   3.08997   \n",
       "210         Bk       *RHF  36.788100   0.451018  24.773600   3.04619   \n",
       "211         Cf       *RHF  36.918500   0.437533  25.199500   3.00775   \n",
       "\n",
       "            a3         b3        a4         b4          c  Maximum error  \\\n",
       "0     0.140191    3.14236  0.040810   57.79970   0.003038          0.000   \n",
       "1     0.196767   49.55190  0.049879    2.20159   0.001305          0.000   \n",
       "2     0.415815  186.57600  0.116973    3.56709   0.002389          0.002   \n",
       "3     0.311200   22.92760  0.178000    0.98210   0.006400          0.001   \n",
       "4     0.617500   85.39050  0.465300  168.26100   0.037700          0.005   \n",
       "..         ...        ...       ...        ...        ...            ...   \n",
       "207  14.763500   11.55300  2.286780   20.93030  13.058200          0.001   \n",
       "208  17.341500   14.31360  3.493310  102.27300  13.359200          0.040   \n",
       "209  17.399000   13.43460  4.216650   88.48340  13.288700          0.041   \n",
       "210  17.891900   12.89460  4.232840   86.00300  13.275400          0.042   \n",
       "211  18.331700   12.40440  4.243910   83.78810  13.267400          0.043   \n",
       "\n",
       "     sin в/Х (A -1)  Mean error  \n",
       "0              0.00       0.000  \n",
       "1              0.17       0.000  \n",
       "2              0.09       0.001  \n",
       "3              1.01       0.000  \n",
       "4              2.00       0.001  \n",
       "..              ...         ...  \n",
       "207            1.36       0.001  \n",
       "208            0.07       0.013  \n",
       "209            0.07       0.013  \n",
       "210            0.07       0.014  \n",
       "211            0.07       0.014  \n",
       "\n",
       "[212 rows x 14 columns]"
      ]
     },
     "execution_count": 2,
     "metadata": {},
     "output_type": "execute_result"
    }
   ],
   "source": [
    "# Считываем данные из файла и задаем индексы по первому столбцу\n",
    "\n",
    "import matplotlib.pyplot as plt\n",
    "import numpy as np\n",
    "import pandas as pd\n",
    "\n",
    "data = pd.read_excel(\"Atomic_factors-6.1.1.4.xlsx\")\n",
    "data"
   ]
  },
  {
   "cell_type": "code",
   "execution_count": 3,
   "metadata": {},
   "outputs": [],
   "source": [
    "# Создаем функцию, которая расчитывает атомный фактор на векторе значений q\n",
    "\n",
    "q = np.linspace(0, 5, 100)\n",
    "\n",
    "def atomic_factor(atom):\n",
    "    pass"
   ]
  },
  {
   "cell_type": "code",
   "execution_count": null,
   "metadata": {},
   "outputs": [],
   "source": [
    "# Строим графики\n",
    "\n",
    "plt.plot(q, atomic_factor(\"O\"), label=\"O\")"
   ]
  }
 ],
 "metadata": {
  "kernelspec": {
   "display_name": "Python 3 (ipykernel)",
   "language": "python",
   "name": "python3"
  },
  "language_info": {
   "codemirror_mode": {
    "name": "ipython",
    "version": 3
   },
   "file_extension": ".py",
   "mimetype": "text/x-python",
   "name": "python",
   "nbconvert_exporter": "python",
   "pygments_lexer": "ipython3",
   "version": "3.9.12"
  }
 },
 "nbformat": 4,
 "nbformat_minor": 4
}
