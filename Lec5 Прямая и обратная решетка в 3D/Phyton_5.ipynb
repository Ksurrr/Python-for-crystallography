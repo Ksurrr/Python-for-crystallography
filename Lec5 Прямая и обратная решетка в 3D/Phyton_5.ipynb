{
 "cells": [
  {
   "cell_type": "markdown",
   "metadata": {},
   "source": [
    "# Занятие 5. Прямая и обратная решетка 3D\n"
   ]
  },
  {
   "cell_type": "markdown",
   "metadata": {},
   "source": [
    "## Содержание\n",
    "\n",
    "- [Разминка. Задача 1](#Разминка.-Задача-1)\n",
    "- [Функции](#Функции)\n",
    "   - [Функции с аргументами и без](#Функции-с-аргументами-и-без)\n",
    "   - [Функции с возвратом значения](#Функции-с-возвратом-значения)\n",
    "   - [Задача 2](#Задача-2)\n",
    "- [Трехмерная периодическая решетка](#Трехмерная-периодическая-решетка)\n",
    "   - [Задача 3](#Задача-3)\n",
    "   - [Задача 4](#Задача-4)\n",
    "   - [Задача 5](#Задача-5)"
   ]
  },
  {
   "cell_type": "markdown",
   "metadata": {},
   "source": [
    "# Разминка. Задача 1\n",
    "\n",
    "Постройте сферу с центром в точке $(x_0, y_0, z_0)$ с радиусом $r$, если\n",
    "\n",
    "$\n",
    "x = x_0 + r \\sin \\theta \\cos \\phi \\\\\n",
    "y = y_0 + r \\sin \\theta \\sin \\phi \\\\\n",
    "z = z_0 + r \\cos \\theta,\n",
    "$\n",
    "\n",
    "где $ 0 \\le \\theta \\le \\pi$, $0 \\le \\phi \\le 2\\pi$.\n"
   ]
  },
  {
   "cell_type": "markdown",
   "metadata": {},
   "source": [
    "# Функции\n",
    "\n",
    "## Функции с аргументами и без\n",
    "\n",
    "В предыдущих уроках мы использовали встроенные в Python функции, например print(), range(), и функции библиотек, такие как numpy.array() или plt.plot(). Пришло время начать писать свои собственные функции.\n",
    "\n",
    "Основной смысл создания функций - это преиспользование полезного кода. К тому же, использование функуий уменьшает вероятность ошибки.\n",
    "\n",
    "На третьем занятии мы писали программу, которая вычисляет значение выражения:\n",
    "    \n",
    "$ 1 + \\frac{1}{2} + \\frac{1}{3} + \\frac{1}{4} + ... + \\frac{1}{n}$,\n",
    "\n",
    "где значение $n$ задаётся в начале программы:"
   ]
  },
  {
   "cell_type": "code",
   "execution_count": null,
   "metadata": {},
   "outputs": [],
   "source": [
    "n = 3\n",
    "total = 0\n",
    "for i in range(1, n + 1):\n",
    "    total += 1 / i\n",
    "print(total)"
   ]
  },
  {
   "cell_type": "markdown",
   "metadata": {},
   "source": [
    "Если нам нужно решать такие задачи часто, удобно не повторять этот код раз за разом, а превратить его в функцию. Функции объявляются с помощью ключевого слова **def** (от слова define – определять). За ключевым словом **def** следуют название функции, круглые скобки **()** со списком аргументов, и двоеточие **:**"
   ]
  },
  {
   "cell_type": "code",
   "execution_count": 5,
   "metadata": {},
   "outputs": [],
   "source": [
    "def my_func(n):\n",
    "    total = 0\n",
    "    for i in range(1, n + 1):\n",
    "        total += 1 / i\n",
    "    print(total)"
   ]
  },
  {
   "cell_type": "markdown",
   "metadata": {},
   "source": [
    "Первая строка объявления функции называется **заголовком функции**.\n",
    "\n",
    "Со следующей строки идет блок кода – **тело функции**. Это набор инструкций, составляющих одно целое и выполняющихся каждый раз, когда вызывается функция.\n",
    "\n",
    "Обратите внимание, что каждая строка в теле функции выделена отступом в четыре пробела. \n",
    "\n",
    "Для выделения строк блока кода отступом программисты Python обычно используют четыре пробела, в соответствии со стандартом PEP 8.\n",
    "\n",
    "Когда функция создана, чтобы увидеть результат ее работы, надо вызвать ее по имени, указав аргументы в круглах скобках:"
   ]
  },
  {
   "cell_type": "code",
   "execution_count": 6,
   "metadata": {},
   "outputs": [
    {
     "name": "stdout",
     "output_type": "stream",
     "text": [
      "1.5\n"
     ]
    }
   ],
   "source": [
    "my_func(2)"
   ]
  },
  {
   "cell_type": "code",
   "execution_count": null,
   "metadata": {},
   "outputs": [],
   "source": [
    "my_func(20)"
   ]
  },
  {
   "cell_type": "markdown",
   "metadata": {},
   "source": [
    "Функция может не иметь аргументов:"
   ]
  },
  {
   "cell_type": "code",
   "execution_count": null,
   "metadata": {},
   "outputs": [],
   "source": [
    "def print_stars():\n",
    "    print(\"****\")\n",
    "\n",
    "\n",
    "print_stars()"
   ]
  },
  {
   "cell_type": "markdown",
   "metadata": {},
   "source": [
    "Или иметь несколько аргументов:"
   ]
  },
  {
   "cell_type": "code",
   "execution_count": 7,
   "metadata": {},
   "outputs": [
    {
     "name": "stdout",
     "output_type": "stream",
     "text": [
      "********\n",
      "********\n",
      "********\n",
      "********\n",
      "********\n",
      "********\n"
     ]
    }
   ],
   "source": [
    "def draw_box(height, width):  # функция принимает два параметра\n",
    "    for i in range(height):\n",
    "        print(\"*\" * width)\n",
    "\n",
    "\n",
    "draw_box(6, 8)"
   ]
  },
  {
   "cell_type": "markdown",
   "metadata": {},
   "source": [
    "## Функции с возвратом значения\n",
    "\n",
    "Когда функция с возвратом значения завершается, она возвращает значение в ту часть программы, которая ее вызвала. Возвращаемое из функции значение используется как любое другое: оно может быть присвоено переменной, выведено на экран, использовано в математическом выражении (если это число) и т. д."
   ]
  },
  {
   "cell_type": "code",
   "execution_count": 8,
   "metadata": {},
   "outputs": [
    {
     "data": {
      "text/plain": [
       "1.8333333333333333"
      ]
     },
     "execution_count": 8,
     "metadata": {},
     "output_type": "execute_result"
    }
   ],
   "source": [
    "def my_func(n):\n",
    "    total = 0\n",
    "    for i in range(1, n + 1):\n",
    "        total += 1 / i\n",
    "    return total\n",
    "\n",
    "\n",
    "x = my_func(3)\n",
    "x"
   ]
  },
  {
   "cell_type": "code",
   "execution_count": 9,
   "metadata": {},
   "outputs": [
    {
     "data": {
      "text/plain": [
       "7.5928571428571425"
      ]
     },
     "execution_count": 9,
     "metadata": {},
     "output_type": "execute_result"
    }
   ],
   "source": [
    "5 + my_func(7)"
   ]
  },
  {
   "cell_type": "markdown",
   "metadata": {},
   "source": [
    "## Задача 2\n",
    "\n",
    "Создайте функцию, которая строит сферу с заданным центром, радиусом и цветом. Пользуясь функцией постройте в пространстве две сферы разного цвета.\n",
    "\n",
    "<img src=\"sphere.png\"  width=400>"
   ]
  },
  {
   "cell_type": "markdown",
   "metadata": {},
   "source": [
    "# Трехмерная периодическая решетка\n",
    "\n",
    "Чтобы построить узлы кристаллической ячейки в декартовой системе координат, нам нужно, зная параметры ячейки, записать вектора $\\vec{a}, \\vec{b}, \\vec{c}$.\n",
    "\n",
    "Для удобства система координат ячейки располагается относительно декартовой системы координат следующим образом: ось $\\vec{a}$ совмещается с осью $\\vec{x}$, а ось $\\vec{b}$ помещается в плоскости осей $\\vec{x}, \\vec{y}$, при этом\n",
    "плоскость $xy$ системы координат совмещается с плоскостью $ab$ ячейки, а вектора $\\vec{c}$ и $\\vec{z}$ должны оказаться с одной стороны от плоскости $xy$. Таким образом, в случае прямоугольной ячейки направления осей $\\vec{a}$, $\\vec{b}$ и $\\vec{c}$ совпадают с направлениями осей $\\vec{x}$, $\\vec{y}$ и $\\vec{z}$.\n",
    "\n",
    "\n",
    "Базисные вектора кристаллической ячейки $(\\vec{a}, \\vec{b}, \\vec{c})$ в декартовой системе\n",
    "координат записываются по следующей формуле:\n",
    "\\begin{align}\n",
    "\t\\vec{a} &= \\begin{bmatrix} a; & 0; & 0; \\end{bmatrix} \\\\\n",
    "\t\\vec{b} &= \\begin{bmatrix} b \\cos\\gamma; & b \\sin\\gamma; & 0 \\end{bmatrix} \\\\\n",
    "\t\\vec{c} &= \\begin{bmatrix} c \\cos\\beta; & \\dfrac{c (\\cos\\alpha - \\cos\\beta \\cos\\gamma)}{\\sin\\gamma}; & cz \\end{bmatrix},\n",
    "\\end{align}\n",
    "где $cz = \\dfrac{c \\sqrt{1 - \\cos^2\\alpha - \\cos^2\\beta - \\cos^2\\gamma + 2 \\cos\\alpha \\cos\\beta \\cos\\gamma}}{\\sin\\gamma}$."
   ]
  },
  {
   "cell_type": "code",
   "execution_count": null,
   "metadata": {},
   "outputs": [],
   "source": [
    "import matplotlib.pyplot as plt\n",
    "import numpy as np\n",
    "\n",
    "## Запишем вектора прямой ячейки\n",
    "\n",
    "# Параметры ячейки\n",
    "a1 = 2\n",
    "b1 = 1.5\n",
    "c1 = 1.5\n",
    "alpha = np.pi / 3\n",
    "beta = np.pi / 4\n",
    "gamma = np.pi / 3\n",
    "\n",
    "# Вектора ячейки в декартовой системе координат\n",
    "A1 = np.array([a1, 0, 0])\n",
    "B1 = np.array([b1 * np.cos(alpha), b1 * np.sin(alpha), 0])\n",
    "\n",
    "cx1 = c1 * np.cos(beta)\n",
    "cy1 = c1 * (np.cos(alpha) - np.cos(beta) * np.cos(gamma)) / np.sin(gamma)\n",
    "cz1 = (\n",
    "    c1\n",
    "    * np.sqrt(\n",
    "        1\n",
    "        - np.cos(alpha) ** 2\n",
    "        - np.cos(beta) ** 2\n",
    "        - np.cos(gamma) ** 2\n",
    "        + 2 * np.cos(alpha) * np.cos(beta) * np.cos(gamma)\n",
    "    )\n",
    "    / np.sin(gamma)\n",
    ")\n",
    "C1 = np.array([cx1, cy1, cz1])\n",
    "\n",
    "print(\"A1 = \", A1)\n",
    "print(\"B1 = \", B1)\n",
    "print(\"C1 = \", C1)"
   ]
  },
  {
   "cell_type": "code",
   "execution_count": null,
   "metadata": {},
   "outputs": [],
   "source": [
    "## Создадим список номеров узлов в трехмерном пространстве\n",
    "\n",
    "n = 4  # число ячеек в направлениях x, y и z\n",
    "x, y, z = np.mgrid[0:n, 0:n, 0:n]\n",
    "print(\"x =\", x)\n",
    "# print('y =', y)\n",
    "# print('z =', z)"
   ]
  },
  {
   "cell_type": "code",
   "execution_count": null,
   "metadata": {},
   "outputs": [],
   "source": [
    "# Визуализируем получившуюся сетку\n",
    "\n",
    "fig = plt.figure()\n",
    "ax = fig.add_subplot(projection=\"3d\")\n",
    "ax.scatter3D(x, y, z, \"ro\")"
   ]
  },
  {
   "cell_type": "markdown",
   "metadata": {},
   "source": [
    "## Задача 3\n",
    "\n",
    "Напишите программу, которая строит произвольную периодическую решетку в трех измерениях.\n",
    "\n",
    "## Задача 4\n",
    "\n",
    "Напишите программу, которая строит произвольную периодическую решетку в трех измерениях и обратную к ней."
   ]
  },
  {
   "cell_type": "markdown",
   "metadata": {},
   "source": [
    "## Задача 5\n",
    "\n",
    "Постройте прямую и обратную решетки из прошлой задачи в виде сфер.\n",
    "\n",
    "<img src=\"real_reciprocal.png\"  width=800>"
   ]
  }
 ],
 "metadata": {
  "kernelspec": {
   "display_name": "Python 3 (ipykernel)",
   "language": "python",
   "name": "python3"
  },
  "language_info": {
   "codemirror_mode": {
    "name": "ipython",
    "version": 3
   },
   "file_extension": ".py",
   "mimetype": "text/x-python",
   "name": "python",
   "nbconvert_exporter": "python",
   "pygments_lexer": "ipython3",
   "version": "3.9.12"
  }
 },
 "nbformat": 4,
 "nbformat_minor": 4
}
