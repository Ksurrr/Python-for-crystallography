{
 "cells": [
  {
   "cell_type": "markdown",
   "metadata": {},
   "source": [
    "# Содержание\n",
    "\n",
    "- [Операции с матрицами и векторами](#Операции-с-матрицами-и-векторами)\n",
    "    - [Функции и методы](#Функции-и-методы)\n",
    "    - [Метод append](#Метод-append)\n",
    "    - [Обращение к столбцам матрицы](#Обращение-к-столбцам-матрицы)\n",
    "    - [numpy.reshape](#numpy.reshape)\n",
    "    - [hstack, vstack](#hstack,-vstack)\n",
    "- [Scatter - график разброса](#Scatter---график-разброса)\n",
    "    - [Scatter 2d](#Scatter-2d)\n",
    "    - [3D Scatterplot](#3D-Scatterplot)\n",
    "- [Построение прямой и обратной кристаллической решетки](#Построение-прямой-и-обратной-кристаллической-решетки)\n",
    "    - [Двумерная прямоугольная периодическая решетка](#Двумерная-прямоугольная-периодическая-решетка)\n",
    "        - [Задача 1](#Задача-1)\n",
    "    - [Произвольная двумерная решетка](#Произвольная-двумерная-решетка)\n",
    "    - [Построение прямой и обратной периодической решетки](#Построение-прямой-и-обратной-периодической-решетки)\n",
    "        - [Задача 2](#Задача-2)\n",
    "    - [Трехмерная периодическая решетка](#Трехмерная-периодическая-решетка)\n",
    "        - [Задача 3](#Задача-3)\n",
    "        - [Задача 4](#Задача-4)\n"
   ]
  },
  {
   "cell_type": "markdown",
   "metadata": {},
   "source": [
    "# Операции с матрицами и векторами\n",
    "\n",
    "## Функции и методы\n",
    "\n",
    "Все что есть вашей программе на python - это объекты: строки, числа, списки и даже функции -- это объекты. Если коротко, то **функция** это некий код который можно вызвать с какими-либо параметрами. Функции могут быть написаны как внутри вашей программы, так и быть встроенными в сам язык.\n",
    "\n",
    "А **методы** - это по сути своей такие же самые функции но только привязанные к объекту. Вызвать метод можно точно так же как и функцию с помощью скобок, а написать его имя при этом нужно через точку после объекта. Методы у разных типов объектов разные, ведь манипуляции, которые можно проворачивать со строками отличаются от манипуляций со списками или словарями.\n",
    "Названия у методов разных типов данных могут быть одинаковыми.\n",
    "\n",
    "## Метод append\n",
    "\n",
    "Для добавления нового элемента в конец списка используется метод **append()**."
   ]
  },
  {
   "cell_type": "code",
   "execution_count": 1,
   "metadata": {},
   "outputs": [
    {
     "name": "stdout",
     "output_type": "stream",
     "text": [
      "[1, 1, 2, 3, 5, 8, 13, 21, 34]\n"
     ]
    }
   ],
   "source": [
    "numbers = [1, 1, 2, 3, 5, 8, 13]  # создаем список\n",
    "\n",
    "numbers.append(21)  # добавляем число 21 в конец списка\n",
    "numbers.append(34)  # добавляем число 34 в конец списка\n",
    "\n",
    "print(numbers)"
   ]
  },
  {
   "cell_type": "markdown",
   "metadata": {},
   "source": [
    "Для добавления элемента в конец numpy array используем функцию **append**:"
   ]
  },
  {
   "cell_type": "code",
   "execution_count": 2,
   "metadata": {},
   "outputs": [
    {
     "data": {
      "text/plain": [
       "array([1, 2, 3, 4])"
      ]
     },
     "execution_count": 2,
     "metadata": {},
     "output_type": "execute_result"
    }
   ],
   "source": [
    "import numpy as np\n",
    "X = np.array([1, 2, 3])\n",
    "X_new = np.append(X, 4)\n",
    "X_new"
   ]
  },
  {
   "cell_type": "markdown",
   "metadata": {},
   "source": [
    "## Обращение к столбцам матрицы\n",
    "\n",
    "Создадим матрицу случайных чисел от 1 до 3 размером 3х3:"
   ]
  },
  {
   "cell_type": "code",
   "execution_count": 3,
   "metadata": {},
   "outputs": [
    {
     "data": {
      "text/plain": [
       "array([[3, 1, 2],\n",
       "       [3, 3, 2],\n",
       "       [1, 3, 1]])"
      ]
     },
     "execution_count": 3,
     "metadata": {},
     "output_type": "execute_result"
    }
   ],
   "source": [
    "M = np.random.randint(1, 4, (3, 3))\n",
    "M"
   ]
  },
  {
   "cell_type": "markdown",
   "metadata": {},
   "source": [
    "Выведем первый столбец матрицы M:"
   ]
  },
  {
   "cell_type": "code",
   "execution_count": 5,
   "metadata": {},
   "outputs": [
    {
     "data": {
      "text/plain": [
       "array([3, 3, 1])"
      ]
     },
     "execution_count": 5,
     "metadata": {},
     "output_type": "execute_result"
    }
   ],
   "source": [
    "M[:, 0]"
   ]
  },
  {
   "cell_type": "markdown",
   "metadata": {},
   "source": [
    "Выведем второй столбец:"
   ]
  },
  {
   "cell_type": "code",
   "execution_count": 6,
   "metadata": {},
   "outputs": [
    {
     "data": {
      "text/plain": [
       "array([1, 3, 3])"
      ]
     },
     "execution_count": 6,
     "metadata": {},
     "output_type": "execute_result"
    }
   ],
   "source": [
    "M[:, 1]"
   ]
  },
  {
   "cell_type": "markdown",
   "metadata": {},
   "source": [
    "Выведем предпоследний столбец:"
   ]
  },
  {
   "cell_type": "code",
   "execution_count": null,
   "metadata": {},
   "outputs": [],
   "source": [
    "M[:, -1]"
   ]
  },
  {
   "cell_type": "markdown",
   "metadata": {},
   "source": [
    "## numpy.reshape\n",
    "\n",
    "Функция **reshape()** изменяет форму массива без изменения его данных. В качестве аргументов принимает массив, который требуется изменить и размерность нового массива в виде кортежа чисел. Важно чтобы число элементов оставалось неизменным.\n",
    "\n",
    "Кортеж (tuple) - неизменяемая последовательность объектов. Во многом похож на список, но нельзя изменять в нем элементы на другие. Используется, например, для хранения информации о размерности матриц в numpy."
   ]
  },
  {
   "cell_type": "code",
   "execution_count": 7,
   "metadata": {},
   "outputs": [
    {
     "data": {
      "text/plain": [
       "array([[3],\n",
       "       [1],\n",
       "       [2],\n",
       "       [3],\n",
       "       [3],\n",
       "       [2],\n",
       "       [1],\n",
       "       [3],\n",
       "       [1]])"
      ]
     },
     "execution_count": 7,
     "metadata": {},
     "output_type": "execute_result"
    }
   ],
   "source": [
    "M1 = np.reshape(M, (9,1))\n",
    "M1"
   ]
  },
  {
   "cell_type": "markdown",
   "metadata": {},
   "source": [
    "## hstack, vstack\n",
    "\n",
    "Функция **hstack()** соединяет массивы по горизонтали. Одномерные массивы просто соединяются.\n",
    "\n",
    "Функция **vstack()** соединяет массивы по вертикали. Одномерные массивы соединяются построчно в двумерные массивы."
   ]
  },
  {
   "cell_type": "code",
   "execution_count": 8,
   "metadata": {},
   "outputs": [
    {
     "name": "stdout",
     "output_type": "stream",
     "text": [
      "A =  [ 1  2  3  4  5  6  7  8  9 10]\n",
      "B =  [11 12 13 14 15 16 17 18 19 20]\n"
     ]
    }
   ],
   "source": [
    "A = np.arange(1, 11)\n",
    "B = np.arange(11, 21)\n",
    "print('A = ', A)\n",
    "print('B = ', B)\n"
   ]
  },
  {
   "cell_type": "code",
   "execution_count": 9,
   "metadata": {},
   "outputs": [
    {
     "data": {
      "text/plain": [
       "array([ 1,  2,  3,  4,  5,  6,  7,  8,  9, 10, 11, 12, 13, 14, 15, 16, 17,\n",
       "       18, 19, 20])"
      ]
     },
     "execution_count": 9,
     "metadata": {},
     "output_type": "execute_result"
    }
   ],
   "source": [
    "np.hstack((A, B))"
   ]
  },
  {
   "cell_type": "code",
   "execution_count": 10,
   "metadata": {},
   "outputs": [
    {
     "data": {
      "text/plain": [
       "array([[ 1,  2,  3,  4,  5,  6,  7,  8,  9, 10],\n",
       "       [11, 12, 13, 14, 15, 16, 17, 18, 19, 20]])"
      ]
     },
     "execution_count": 10,
     "metadata": {},
     "output_type": "execute_result"
    }
   ],
   "source": [
    "np.vstack((A, B))"
   ]
  },
  {
   "cell_type": "markdown",
   "metadata": {},
   "source": [
    "# Scatter - график разброса\n",
    "\n",
    "Такой график позволяет визуализировать набор точек. Описание на русском языке: https://pyprog.pro/mpl/mpl_scatter.html\n",
    "\n",
    "## Scatter 2d"
   ]
  },
  {
   "cell_type": "code",
   "execution_count": 11,
   "metadata": {},
   "outputs": [],
   "source": [
    "import matplotlib.pyplot as plt\n",
    "import numpy as np"
   ]
  },
  {
   "cell_type": "code",
   "execution_count": 13,
   "metadata": {},
   "outputs": [
    {
     "name": "stdout",
     "output_type": "stream",
     "text": [
      "(50,)\n",
      "x =  [2.58524279 2.66663133 3.08109199 2.20897305 2.78140033 2.23680316\n",
      " 2.22287976 4.84935652 2.29439969 2.91395797 3.2879333  2.86861348\n",
      " 2.01725585 2.08120871 4.19943449 2.65862576 1.24139269 3.05111747\n",
      " 2.42807101 2.29943396 2.06489376 4.534486   4.97743404 2.56487367\n",
      " 2.8654481  2.79043526 2.23314985 3.03997044 3.61177797 2.73617469\n",
      " 3.51727975 3.68670636 4.10045586 2.90788844 2.58333099 2.78018206\n",
      " 2.98224439 1.80964794 1.91441259 1.92506435 3.01438565 2.91081979\n",
      " 2.3247635  4.58962542 2.55251157 2.47938178 2.30637332 4.2687288\n",
      " 4.40042357 2.37707138]\n"
     ]
    }
   ],
   "source": [
    "np.random.seed(31) # используется для инициализации случайных чисел c предсказуемым результатом\n",
    "\n",
    "mu = 3 # центр нормального распределения\n",
    "n = 50 # число генерируемых точек\n",
    "\n",
    "x = np.random.normal(mu, 1, size = n) #генерируем случайную выборку из n нормально распределенных чисел\n",
    "y = np.random.normal(mu, 1, size = n) #второй параметр - стандартное отклонение (или \"ширина\") распределения\n",
    "z = np.random.normal(mu, 1, size = n)\n",
    "\n",
    "print(np.shape(x))\n",
    "print('x = ', x)"
   ]
  },
  {
   "cell_type": "markdown",
   "metadata": {},
   "source": [
    "Строим сгенерированные значения, используя x и y как координаты на плоскости:"
   ]
  },
  {
   "cell_type": "code",
   "execution_count": 16,
   "metadata": {},
   "outputs": [
    {
     "data": {
      "text/plain": [
       "<matplotlib.collections.PathCollection at 0x7fbc70619250>"
      ]
     },
     "execution_count": 16,
     "metadata": {},
     "output_type": "execute_result"
    },
    {
     "data": {
      "image/png": "[encoded data removed]",
      "text/plain": [
       "<Figure size 576x432 with 1 Axes>"
      ]
     },
     "metadata": {
      "needs_background": "light"
     },
     "output_type": "display_data"
    }
   ],
   "source": [
    "plt.scatter(x, y)"
   ]
  },
  {
   "cell_type": "code",
   "execution_count": 15,
   "metadata": {},
   "outputs": [],
   "source": [
    "# задаем размер всех картинок\n",
    "plt.rcParams['figure.figsize'] = (8,6) "
   ]
  },
  {
   "cell_type": "markdown",
   "metadata": {},
   "source": [
    "## 3D Scatterplot"
   ]
  },
  {
   "cell_type": "code",
   "execution_count": 17,
   "metadata": {},
   "outputs": [
    {
     "name": "stdout",
     "output_type": "stream",
     "text": [
      "type ax is  <class 'matplotlib.axes._subplots.Axes3DSubplot'>\n"
     ]
    },
    {
     "data": {
      "text/plain": [
       "Text(0.5, 0, 'z')"
      ]
     },
     "execution_count": 17,
     "metadata": {},
     "output_type": "execute_result"
    },
    {
     "data": {
      "image/png": "[encoded data removed]",
      "text/plain": [
       "<Figure size 576x432 with 1 Axes>"
      ]
     },
     "metadata": {
      "needs_background": "light"
     },
     "output_type": "display_data"
    }
   ],
   "source": [
    "ax = plt.axes(projection = '3d') # создаем объект с осями\n",
    "print('type ax is ', type(ax)) # смотрим на тип объекта\n",
    "\n",
    "ax.scatter3D(x, y, z, s = 100) # строим точки с координатами x, y, z\n",
    "ax.set_xlabel('x')\n",
    "ax.set_ylabel('y')\n",
    "ax.set_zlabel('z')"
   ]
  },
  {
   "cell_type": "code",
   "execution_count": 24,
   "metadata": {},
   "outputs": [
    {
     "data": {
      "image/png": "[encoded data removed]",
      "text/plain": [
       "<Figure size 576x432 with 1 Axes>"
      ]
     },
     "metadata": {
      "needs_background": "light"
     },
     "output_type": "display_data"
    }
   ],
   "source": [
    "ax = plt.axes(projection = '3d')\n",
    "\n",
    "ax.scatter3D(x, y, z, s = 50) # s - задает размер точек\n",
    "ax.set_xlabel('x')\n",
    "ax.set_ylabel('y')\n",
    "ax.set_zlabel('z')\n",
    "\n",
    "ax.view_init(0, 0) # поворот графика вокруг осей x и y в градусах"
   ]
  },
  {
   "cell_type": "code",
   "execution_count": null,
   "metadata": {},
   "outputs": [],
   "source": [
    "ax = plt.axes(projection = '3d')\n",
    "print('type ax is ', type(ax))\n",
    "\n",
    "ax.scatter3D(x, y, z, s = 100)\n",
    "ax.set_xlabel('x')\n",
    "ax.set_ylabel('y')\n",
    "ax.set_zlabel('z')\n",
    "\n",
    "ax.view_init(45, 215) # поворот графика в градусах"
   ]
  },
  {
   "cell_type": "markdown",
   "metadata": {},
   "source": [
    "# Построение прямой и обратной кристаллической решетки\n",
    "\n",
    "## Двумерная прямоугольная периодическая решетка\n",
    "\n",
    "Построим самый простой случай: двумерную периодическую решетку, где стороны ячейки имеют длину 1 и угол при вершине 90 градусов."
   ]
  },
  {
   "cell_type": "code",
   "execution_count": 25,
   "metadata": {},
   "outputs": [
    {
     "name": "stdout",
     "output_type": "stream",
     "text": [
      "[[0 1 2 3 4]\n",
      " [0 1 2 3 4]\n",
      " [0 1 2 3 4]\n",
      " [0 1 2 3 4]\n",
      " [0 1 2 3 4]]\n",
      "[[0 0 0 0 0]\n",
      " [1 1 1 1 1]\n",
      " [2 2 2 2 2]\n",
      " [3 3 3 3 3]\n",
      " [4 4 4 4 4]]\n"
     ]
    }
   ],
   "source": [
    "import numpy as np\n",
    "import matplotlib.pyplot as plt\n",
    "\n",
    "n = 5 # число узлов\n",
    "x, y = np.meshgrid(range(0,n), range(0,n))\n",
    "\n",
    "print(x)\n",
    "print(y)"
   ]
  },
  {
   "cell_type": "code",
   "execution_count": 28,
   "metadata": {},
   "outputs": [
    {
     "data": {
      "text/plain": [
       "(-0.2, 4.2, -0.2, 4.2)"
      ]
     },
     "execution_count": 28,
     "metadata": {},
     "output_type": "execute_result"
    },
    {
     "data": {
      "image/png": "[encoded data removed]",
      "text/plain": [
       "<Figure size 576x432 with 1 Axes>"
      ]
     },
     "metadata": {
      "needs_background": "light"
     },
     "output_type": "display_data"
    }
   ],
   "source": [
    "plt.scatter(x, y)\n",
    "plt.axis('equal') #задаем равные единичные отрезки по осям"
   ]
  },
  {
   "cell_type": "markdown",
   "metadata": {},
   "source": [
    "## Задача 1\n",
    "\n",
    "Напишите программу, которая строит двумерную периодическую решетку с заданными параметрами ячейки a и b, и прямым углом при вершине."
   ]
  },
  {
   "cell_type": "code",
   "execution_count": null,
   "metadata": {},
   "outputs": [],
   "source": [
    "import numpy as np\n",
    "import matplotlib.pyplot as plt\n",
    "\n",
    "n = 5 # число узлов\n",
    "a = 2\n",
    "b = 3"
   ]
  },
  {
   "cell_type": "markdown",
   "metadata": {},
   "source": [
    "## Произвольная двумерная решетка"
   ]
  },
  {
   "cell_type": "code",
   "execution_count": 29,
   "metadata": {
    "tags": []
   },
   "outputs": [
    {
     "data": {
      "text/plain": [
       "Text(0.5, 1.0, 'Векторы элементарной ячейки')"
      ]
     },
     "execution_count": 29,
     "metadata": {},
     "output_type": "execute_result"
    },
    {
     "data": {
      "image/png": "[encoded data removed]",
      "text/plain": [
       "<Figure size 576x432 with 1 Axes>"
      ]
     },
     "metadata": {
      "needs_background": "light"
     },
     "output_type": "display_data"
    }
   ],
   "source": [
    "ax = plt.axes()\n",
    "\n",
    "ax.arrow(0.0, 0.0, 4.0, 0.0, head_width=0.5, head_length=0.7, fc='lightblue', ec='black')\n",
    "ax.arrow(0.0, 0.0, 1.0, 2.0, head_width=0.5, head_length=0.7, fc='lightblue', ec='black')\n",
    "\n",
    "plt.grid()\n",
    "\n",
    "\n",
    "plt.axis('equal')\n",
    "plt.title('Векторы элементарной ячейки',fontsize=10)"
   ]
  },
  {
   "cell_type": "code",
   "execution_count": 30,
   "metadata": {},
   "outputs": [
    {
     "name": "stdout",
     "output_type": "stream",
     "text": [
      "a1 =  [2 0]\n",
      "a2 =  [0.75       1.29903811]\n"
     ]
    }
   ],
   "source": [
    "# векторы элементарной ячейки в прямом пространстве:\n",
    "\n",
    "a1 = 2\n",
    "a2 = 1.5\n",
    "phi = np.pi / 3 # угол между векторами прямой решетки\n",
    "\n",
    "a1 = np.array([a1, 0])\n",
    "a2 = np.array([a2 * np.cos(phi), a2 * np.sin(phi)])\n",
    "\n",
    "print('a1 = ', a1)\n",
    "print('a2 = ', a2)"
   ]
  },
  {
   "cell_type": "markdown",
   "metadata": {},
   "source": [
    "<img src=\"image81.gif\"  width=200>\n",
    "\n",
    "Вектор, соединяющий любой из узлов ячейки с началом координат, выражается через линейную комбинацию векторов элементарной ячейки:\n",
    "\n",
    "$m \\mathbf{a_1} + q \\mathbf{a_2}$, \n",
    "\n",
    "где $m$ и $q$ - целые числа, порядковые номера ячеек от начала координат.\n",
    "\n",
    "Что в свою очередь равнозначно скалярному произведению векторов $[m, q]$ и $[\\mathbf{a_1}, \\mathbf{a_2}]$:\n",
    "\n",
    "$[m, q] \\cdot [\\mathbf{a_1}, \\mathbf{a_2}] = m \\mathbf{a_1} + q \\mathbf{a_2}$\n",
    "\n",
    "Теперь, чтобы получить список координат узлов двумерной решетки нам нужно перемножить список узлов прямоугольной единичной решетки на вектора элементарной ячейки."
   ]
  },
  {
   "cell_type": "code",
   "execution_count": 31,
   "metadata": {},
   "outputs": [
    {
     "name": "stdout",
     "output_type": "stream",
     "text": [
      "x_list =  [[0 1 2 3 0 1 2 3 0 1 2 3 0 1 2 3]]\n",
      "y_list =  [[0 0 0 0 1 1 1 1 2 2 2 2 3 3 3 3]]\n"
     ]
    }
   ],
   "source": [
    "# Записываем узлы в виде матрицы, как в предыдущей задаче:\n",
    "n = 4 # число узлов\n",
    "x, y = np.meshgrid(range(0,n), range(0,n))\n",
    "\n",
    "# Переписываем матрицы с координатами узлов в виде списка:\n",
    "x_list = np.reshape(x, (1, n**2))\n",
    "y_list = np.reshape(y, (1, n**2))\n",
    "\n",
    "print('x_list = ', x_list)\n",
    "print('y_list = ', y_list)"
   ]
  },
  {
   "cell_type": "code",
   "execution_count": 33,
   "metadata": {},
   "outputs": [
    {
     "name": "stdout",
     "output_type": "stream",
     "text": [
      "[[0 1 2 3 0 1 2 3 0 1 2 3 0 1 2 3]\n",
      " [0 0 0 0 1 1 1 1 2 2 2 2 3 3 3 3]]\n",
      "[[0 0]\n",
      " [1 0]\n",
      " [2 0]\n",
      " [3 0]\n",
      " [0 1]\n",
      " [1 1]\n",
      " [2 1]\n",
      " [3 1]\n",
      " [0 2]\n",
      " [1 2]\n",
      " [2 2]\n",
      " [3 2]\n",
      " [0 3]\n",
      " [1 3]\n",
      " [2 3]\n",
      " [3 3]]\n"
     ]
    }
   ],
   "source": [
    "# Объединяем списки\n",
    "List = np.vstack((x_list, y_list))\n",
    "print(List)\n",
    "\n",
    "# Для скалярного умножения нужно чтобы число столбцов совпадало \n",
    "List = List.transpose()\n",
    "print(List)"
   ]
  },
  {
   "cell_type": "code",
   "execution_count": 34,
   "metadata": {},
   "outputs": [
    {
     "data": {
      "text/plain": [
       "array([[0.        , 0.        ],\n",
       "       [2.        , 0.        ],\n",
       "       [4.        , 0.        ],\n",
       "       [6.        , 0.        ],\n",
       "       [0.75      , 1.29903811],\n",
       "       [2.75      , 1.29903811],\n",
       "       [4.75      , 1.29903811],\n",
       "       [6.75      , 1.29903811],\n",
       "       [1.5       , 2.59807621],\n",
       "       [3.5       , 2.59807621],\n",
       "       [5.5       , 2.59807621],\n",
       "       [7.5       , 2.59807621],\n",
       "       [2.25      , 3.89711432],\n",
       "       [4.25      , 3.89711432],\n",
       "       [6.25      , 3.89711432],\n",
       "       [8.25      , 3.89711432]])"
      ]
     },
     "execution_count": 34,
     "metadata": {},
     "output_type": "execute_result"
    }
   ],
   "source": [
    "# Перемножаем координаты векторов и координаты узлов\n",
    "\n",
    "Real_lattice = np.dot(List, np.vstack((a1, a2)))\n",
    "Real_lattice"
   ]
  },
  {
   "cell_type": "code",
   "execution_count": 36,
   "metadata": {},
   "outputs": [
    {
     "data": {
      "text/plain": [
       "<matplotlib.collections.PathCollection at 0x7fbca859c400>"
      ]
     },
     "execution_count": 36,
     "metadata": {},
     "output_type": "execute_result"
    },
    {
     "data": {
      "image/png": "[encoded data removed]",
      "text/plain": [
       "<Figure size 576x432 with 1 Axes>"
      ]
     },
     "metadata": {
      "needs_background": "light"
     },
     "output_type": "display_data"
    }
   ],
   "source": [
    "# строим решетку\n",
    "plt.scatter(Real_lattice[:,0], Real_lattice[:,1])"
   ]
  },
  {
   "cell_type": "markdown",
   "metadata": {},
   "source": [
    "## Построение прямой и обратной периодической решетки\n",
    "\n",
    "В двумерном пространстве связь между векторами прямой ($a_1, a_2$) и векторами обратной ($b_1, b_2$) решеток записывается как:\n",
    "\n",
    "$b_1 = 2\\pi \\frac{a_2 \\times n}{a_1 \\cdot (a_2 \\times n)}, b_2 = 2\\pi \\frac{n \\times a_1}{a_2 \\cdot (n \\times a_1)}$\n",
    "\n",
    "где $n$ = [0, 0, 1], единичный вектор в третьем измерении.\n",
    "\n",
    "## Задача 2\n",
    "\n",
    "Постройте узлы прямой и обратной решетки на одном графике"
   ]
  },
  {
   "cell_type": "code",
   "execution_count": null,
   "metadata": {},
   "outputs": [],
   "source": [
    "import matplotlib.pyplot as plt\n",
    "import numpy as np\n",
    "\n",
    "# Делаем заготовку для координат узлов\n",
    "\n",
    "n = 4 # число узлов по направлениям x и y\n",
    "# создаем сетку с нужным числом узлов\n",
    "x, y = np.mgrid[0:n, 0:n]\n",
    "\n",
    "# переписываем координаты узлов сетки в виде матрицы из двух столбцов\n",
    "X_list = np.reshape(x, (n**2,1))\n",
    "Y_list = np.reshape(y, (n**2,1))\n",
    "List = np.hstack((X_list, Y_list))\n",
    "\n",
    "# 2. Вычисляем параметры ячейки прямой и обратной решеток\n",
    "\n",
    "a1 = 2\n",
    "a2 = 1.5\n",
    "phi = np.pi / 3 # угол между векторами прямой решетки\n",
    "\n",
    "# векторы элементарной ячейки в прямом пространстве:\n",
    "a1 = np.array([a1, 0])\n",
    "a2 = np.array([a2 * np.cos(phi), a2 * np.sin(phi)])\n",
    "\n",
    "# Т.к. формула для векторов обратной решетки содержит вектороное произведение,\n",
    "# необходимо переписать вектора прямой решетки в трех измерениях\n",
    "a1_3d = np.append(a1, 0)\n",
    "a2_3d = np.append(a2, 0)\n",
    "\n",
    "# Вычислим вектора обратной решетки в трех измерениях\n",
    "#b1_3d = \n",
    "#b2_3d = \n",
    "\n",
    "# Проецируем вектора обратной решетки на плоскость\n",
    "#b1 = \n",
    "#b2 = \n",
    "\n",
    "# Перемножаем координаты векторов и координаты узлов\n",
    "#Real_lattice = \n",
    "#Reciprocal_lattice = \n",
    "\n",
    "# Строим график"
   ]
  },
  {
   "cell_type": "markdown",
   "metadata": {},
   "source": [
    "## Трехмерная периодическая решетка\n",
    "\n",
    "Чтобы построить узлы кристаллической ячейки в декартовой системе координат, нам нужно, зная параметры ячейки, записать вектора $\\vec{a}, \\vec{b}, \\vec{c}$.\n",
    "\n",
    "Для удобства система координат ячейки располагается относительно декартовой системы координат следующим образом: ось $\\vec{a}$ совмещается с осью $\\vec{x}$, а ось $\\vec{b}$ помещается в плоскости осей $\\vec{x}, \\vec{y}$, при этом\n",
    "плоскость $xy$ системы координат совмещается с плоскостью $ab$ ячейки, а вектора $\\vec{c}$ и $\\vec{z}$ должны оказаться с одной стороны от плоскости $xy$. Таким образом, в случае прямоугольной ячейки направления осей $\\vec{a}$, $\\vec{b}$ и $\\vec{c}$ совпадают с направлениями осей $\\vec{x}$, $\\vec{y}$ и $\\vec{z}$.\n",
    "\n",
    "\n",
    "Базисные вектора кристаллической ячейки $(\\vec{a}, \\vec{b}, \\vec{c})$ в декартовой системе\n",
    "координат записываются по следующей формуле:\n",
    "\\begin{align}\n",
    "\t\\vec{a} &= \\begin{bmatrix} a; & 0; & 0; \\end{bmatrix} \\\\\n",
    "\t\\vec{b} &= \\begin{bmatrix} b \\cos\\gamma; & b \\sin\\gamma; & 0 \\end{bmatrix} \\\\\n",
    "\t\\vec{c} &= \\begin{bmatrix} c \\cos\\beta; & \\dfrac{c (\\cos\\alpha - \\cos\\beta \\cos\\gamma)}{\\sin\\gamma}; & cz \\end{bmatrix},\n",
    "\\end{align}\n",
    "где $cz = \\dfrac{c \\sqrt{1 - \\cos^2\\alpha - \\cos^2\\beta - \\cos^2\\gamma + 2 \\cos\\alpha \\cos\\beta \\cos\\gamma}}{\\sin\\gamma}$."
   ]
  },
  {
   "cell_type": "code",
   "execution_count": 37,
   "metadata": {},
   "outputs": [
    {
     "name": "stdout",
     "output_type": "stream",
     "text": [
      "A1 =  [2 0 0]\n",
      "B1 =  [0.75       1.29903811 0.        ]\n",
      "C1 =  [1.06066017 0.25365297 1.02988357]\n"
     ]
    }
   ],
   "source": [
    "## Запишем вектора прямой ячейки\n",
    "\n",
    "# Параметры ячейки\n",
    "a1 = 2\n",
    "b1 = 1.5\n",
    "c1 = 1.5\n",
    "alpha = np.pi/3\n",
    "beta = np.pi/4\n",
    "gamma = np.pi/3\n",
    "\n",
    "# Вектора ячейки в декартовой системе координат\n",
    "A1 = np.array([a1, 0, 0])\n",
    "B1 = np.array([b1* np.cos(alpha), b1* np.sin(alpha), 0])\n",
    "\n",
    "cx1 = c1 * np.cos(beta)\n",
    "cy1 = c1 * (np.cos(alpha) - np.cos(beta) * np.cos(gamma)) / np.sin(gamma)\n",
    "cz1 = ( c1 * np.sqrt(1 - np.cos(alpha)**2 - np.cos(beta)**2 - np.cos(gamma)**2\n",
    "    + 2 * np.cos(alpha) * np.cos(beta) * np.cos(gamma)) / np.sin(gamma))\n",
    "C1 = np.array([cx1, cy1, cz1])\n",
    "\n",
    "print('A1 = ', A1)\n",
    "print('B1 = ', B1)\n",
    "print('C1 = ', C1)"
   ]
  },
  {
   "cell_type": "code",
   "execution_count": 40,
   "metadata": {},
   "outputs": [
    {
     "name": "stdout",
     "output_type": "stream",
     "text": [
      "x = [[[0 0 0 0]\n",
      "  [0 0 0 0]\n",
      "  [0 0 0 0]\n",
      "  [0 0 0 0]]\n",
      "\n",
      " [[1 1 1 1]\n",
      "  [1 1 1 1]\n",
      "  [1 1 1 1]\n",
      "  [1 1 1 1]]\n",
      "\n",
      " [[2 2 2 2]\n",
      "  [2 2 2 2]\n",
      "  [2 2 2 2]\n",
      "  [2 2 2 2]]\n",
      "\n",
      " [[3 3 3 3]\n",
      "  [3 3 3 3]\n",
      "  [3 3 3 3]\n",
      "  [3 3 3 3]]]\n"
     ]
    }
   ],
   "source": [
    "## Создадим список номеров узлов в трехмерном пространстве\n",
    "\n",
    "n = 4 #число ячеек в направлениях x, y и z\n",
    "x, y, z = np.mgrid[0:n, 0:n, 0:n]\n",
    "print('x =', x)\n",
    "#print('y =', y)\n",
    "#print('z =', z)"
   ]
  },
  {
   "cell_type": "code",
   "execution_count": 41,
   "metadata": {},
   "outputs": [
    {
     "data": {
      "text/plain": [
       "<mpl_toolkits.mplot3d.art3d.Path3DCollection at 0x7fbc99b39dc0>"
      ]
     },
     "execution_count": 41,
     "metadata": {},
     "output_type": "execute_result"
    },
    {
     "data": {
      "image/png": "[encoded data removed]",
      "text/plain": [
       "<Figure size 576x432 with 1 Axes>"
      ]
     },
     "metadata": {
      "needs_background": "light"
     },
     "output_type": "display_data"
    }
   ],
   "source": [
    "# Визуализируем получившуюся сетку\n",
    "\n",
    "fig = plt.figure()                       \n",
    "ax = fig.add_subplot(projection = '3d')  \n",
    "ax.scatter3D(x, y, z, 'ro')"
   ]
  },
  {
   "cell_type": "markdown",
   "metadata": {},
   "source": [
    "## Задача 3\n",
    "\n",
    "Напишите программу, которая строит произвольную периодическую решетку в трех измерениях.\n",
    "\n",
    "## Задача 4\n",
    "\n",
    "Напишите программу, которая строит произвольную периодическую решетку в трех измерениях и обратную к ней."
   ]
  },
  {
   "cell_type": "code",
   "execution_count": null,
   "metadata": {},
   "outputs": [],
   "source": []
  }
 ],
 "metadata": {
  "kernelspec": {
   "display_name": "Python 3 (ipykernel)",
   "language": "python",
   "name": "python3"
  },
  "language_info": {
   "codemirror_mode": {
    "name": "ipython",
    "version": 3
   },
   "file_extension": ".py",
   "mimetype": "text/x-python",
   "name": "python",
   "nbconvert_exporter": "python",
   "pygments_lexer": "ipython3",
   "version": "3.9.7"
  }
 },
 "nbformat": 4,
 "nbformat_minor": 4
}
